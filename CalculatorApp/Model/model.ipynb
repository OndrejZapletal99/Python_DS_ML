{
 "cells": [
  {
   "cell_type": "markdown",
   "id": "1ce3fd41",
   "metadata": {},
   "source": [
    "# 1. Functions, libraries and packages"
   ]
  },
  {
   "cell_type": "code",
   "execution_count": 213,
   "id": "a4c354be",
   "metadata": {},
   "outputs": [],
   "source": [
    "import pandas as pd\n",
    "import numpy as np\n",
    "import matplotlib.pyplot as plt\n",
    "import seaborn as sns\n",
    "import re"
   ]
  },
  {
   "cell_type": "code",
   "execution_count": 214,
   "id": "4364bc07",
   "metadata": {},
   "outputs": [],
   "source": [
    "def dataframe_info(df: pd.DataFrame):\n",
    "    \"\"\"\n",
    "    Generate a summary DataFrame containing metadata about the columns of the input DataFrame.\n",
    "\n",
    "    Args:\n",
    "        df (pd.DataFrame): The input DataFrame.\n",
    "\n",
    "    Returns:\n",
    "        pd.DataFrame: A summary DataFrame with the following columns:\n",
    "            - Column_name: Name of each column.\n",
    "            - Total records: Total number of records in each column.\n",
    "            - Missing Values: Number of missing (NaN) values in each column.\n",
    "            - Data type: Data type of each column.\n",
    "            - Unique values: Number of unique values in each column.\n",
    "    \"\"\"\n",
    "    df_summary = pd.DataFrame({\n",
    "        'Column_name': df.columns,\n",
    "        'Total records': [df[col].size for col in df.columns],\n",
    "        'Missing Values': [df[col].isna().sum() for col in df.columns],\n",
    "        'Data type': [df[col].dtype for col in df.columns],\n",
    "        'Unique values': [df[col].nunique() for col in df.columns]\n",
    "    })\n",
    "\n",
    "    return df_summary"
   ]
  },
  {
   "cell_type": "markdown",
   "id": "07ace1e6",
   "metadata": {},
   "source": [
    "# 2. Data import"
   ]
  },
  {
   "cell_type": "code",
   "execution_count": 215,
   "id": "5b1f8d8f",
   "metadata": {},
   "outputs": [],
   "source": [
    "df = pd.read_csv(r'..\\Data\\products.csv')"
   ]
  },
  {
   "cell_type": "code",
   "execution_count": 216,
   "id": "be6681dc",
   "metadata": {},
   "outputs": [
    {
     "data": {
      "text/html": [
       "<div>\n",
       "<style scoped>\n",
       "    .dataframe tbody tr th:only-of-type {\n",
       "        vertical-align: middle;\n",
       "    }\n",
       "\n",
       "    .dataframe tbody tr th {\n",
       "        vertical-align: top;\n",
       "    }\n",
       "\n",
       "    .dataframe thead th {\n",
       "        text-align: right;\n",
       "    }\n",
       "</style>\n",
       "<table border=\"1\" class=\"dataframe\">\n",
       "  <thead>\n",
       "    <tr style=\"text-align: right;\">\n",
       "      <th></th>\n",
       "      <th>Product_ID</th>\n",
       "      <th>Product_desc</th>\n",
       "      <th>Product_type</th>\n",
       "      <th>Product_category</th>\n",
       "      <th>Product_subcategory</th>\n",
       "      <th>Width</th>\n",
       "      <th>Height</th>\n",
       "      <th>Product_color</th>\n",
       "      <th>Product_handle</th>\n",
       "      <th>Product_hinge</th>\n",
       "      <th>Product_packing</th>\n",
       "      <th>Product_batch</th>\n",
       "      <th>Product_costs</th>\n",
       "    </tr>\n",
       "  </thead>\n",
       "  <tbody>\n",
       "    <tr>\n",
       "      <th>0</th>\n",
       "      <td>P0001</td>\n",
       "      <td>Frame_Industrial_Fire-rated_RAL7024_Aluminum (...</td>\n",
       "      <td>Frame</td>\n",
       "      <td>Industrial</td>\n",
       "      <td>Fire-rated</td>\n",
       "      <td>638.0</td>\n",
       "      <td>336.0</td>\n",
       "      <td>RAL7024</td>\n",
       "      <td>Aluminum (AL)</td>\n",
       "      <td>Left</td>\n",
       "      <td>Cardbox</td>\n",
       "      <td>56</td>\n",
       "      <td>173.67</td>\n",
       "    </tr>\n",
       "    <tr>\n",
       "      <th>1</th>\n",
       "      <td>P0002</td>\n",
       "      <td>Frame_Industrial_Soundproof_RAL7024_Steel (ST)...</td>\n",
       "      <td>Frame</td>\n",
       "      <td>Industrial</td>\n",
       "      <td>Soundproof</td>\n",
       "      <td>621.0</td>\n",
       "      <td>1195.0</td>\n",
       "      <td>RAL7024</td>\n",
       "      <td>Steel (ST)</td>\n",
       "      <td>Left</td>\n",
       "      <td>Wooden box</td>\n",
       "      <td>4</td>\n",
       "      <td>244.81</td>\n",
       "    </tr>\n",
       "    <tr>\n",
       "      <th>2</th>\n",
       "      <td>P0003</td>\n",
       "      <td>Frame_Residential_Exterior_RAL9005_Steel (ST)_...</td>\n",
       "      <td>Frame</td>\n",
       "      <td>Residential</td>\n",
       "      <td>Exterior</td>\n",
       "      <td>699.0</td>\n",
       "      <td>1143.0</td>\n",
       "      <td>RAL9005</td>\n",
       "      <td>Steel (ST)</td>\n",
       "      <td>Left</td>\n",
       "      <td>Cardbox</td>\n",
       "      <td>84</td>\n",
       "      <td>121.27</td>\n",
       "    </tr>\n",
       "    <tr>\n",
       "      <th>3</th>\n",
       "      <td>P0004</td>\n",
       "      <td>Door_Commercial_Retail_RAL9005_Aluminum (AL)_L...</td>\n",
       "      <td>Door</td>\n",
       "      <td>Commercial</td>\n",
       "      <td>Retail</td>\n",
       "      <td>614.0</td>\n",
       "      <td>1493.0</td>\n",
       "      <td>RAL9005</td>\n",
       "      <td>Aluminum (AL)</td>\n",
       "      <td>Left</td>\n",
       "      <td>Cardbox</td>\n",
       "      <td>22</td>\n",
       "      <td>216.81</td>\n",
       "    </tr>\n",
       "    <tr>\n",
       "      <th>4</th>\n",
       "      <td>P0005</td>\n",
       "      <td>Frame_Commercial_Warehouse_RAL7024_Aluminum (A...</td>\n",
       "      <td>Frame</td>\n",
       "      <td>Commercial</td>\n",
       "      <td>Warehouse</td>\n",
       "      <td>750.0</td>\n",
       "      <td>1275.0</td>\n",
       "      <td>RAL7024</td>\n",
       "      <td>Aluminum (AL)</td>\n",
       "      <td>Left</td>\n",
       "      <td>Cardbox</td>\n",
       "      <td>99</td>\n",
       "      <td>108.44</td>\n",
       "    </tr>\n",
       "  </tbody>\n",
       "</table>\n",
       "</div>"
      ],
      "text/plain": [
       "  Product_ID                                       Product_desc Product_type  \\\n",
       "0      P0001  Frame_Industrial_Fire-rated_RAL7024_Aluminum (...        Frame   \n",
       "1      P0002  Frame_Industrial_Soundproof_RAL7024_Steel (ST)...        Frame   \n",
       "2      P0003  Frame_Residential_Exterior_RAL9005_Steel (ST)_...        Frame   \n",
       "3      P0004  Door_Commercial_Retail_RAL9005_Aluminum (AL)_L...         Door   \n",
       "4      P0005  Frame_Commercial_Warehouse_RAL7024_Aluminum (A...        Frame   \n",
       "\n",
       "  Product_category Product_subcategory  Width  Height Product_color  \\\n",
       "0       Industrial          Fire-rated  638.0   336.0       RAL7024   \n",
       "1       Industrial          Soundproof  621.0  1195.0       RAL7024   \n",
       "2      Residential            Exterior  699.0  1143.0       RAL9005   \n",
       "3       Commercial              Retail  614.0  1493.0       RAL9005   \n",
       "4       Commercial           Warehouse  750.0  1275.0       RAL7024   \n",
       "\n",
       "  Product_handle Product_hinge Product_packing  Product_batch  Product_costs  \n",
       "0  Aluminum (AL)          Left         Cardbox             56         173.67  \n",
       "1     Steel (ST)          Left      Wooden box              4         244.81  \n",
       "2     Steel (ST)          Left         Cardbox             84         121.27  \n",
       "3  Aluminum (AL)          Left         Cardbox             22         216.81  \n",
       "4  Aluminum (AL)          Left         Cardbox             99         108.44  "
      ]
     },
     "execution_count": 216,
     "metadata": {},
     "output_type": "execute_result"
    }
   ],
   "source": [
    "df.head(5)"
   ]
  },
  {
   "cell_type": "markdown",
   "id": "69feed66",
   "metadata": {},
   "source": [
    "# 3.EDA"
   ]
  },
  {
   "cell_type": "markdown",
   "id": "78237e1f",
   "metadata": {},
   "source": [
    "## 3.1 NaN values"
   ]
  },
  {
   "cell_type": "code",
   "execution_count": 217,
   "id": "facfab9a",
   "metadata": {},
   "outputs": [
    {
     "data": {
      "text/html": [
       "<div>\n",
       "<style scoped>\n",
       "    .dataframe tbody tr th:only-of-type {\n",
       "        vertical-align: middle;\n",
       "    }\n",
       "\n",
       "    .dataframe tbody tr th {\n",
       "        vertical-align: top;\n",
       "    }\n",
       "\n",
       "    .dataframe thead th {\n",
       "        text-align: right;\n",
       "    }\n",
       "</style>\n",
       "<table border=\"1\" class=\"dataframe\">\n",
       "  <thead>\n",
       "    <tr style=\"text-align: right;\">\n",
       "      <th></th>\n",
       "      <th>Column_name</th>\n",
       "      <th>Total records</th>\n",
       "      <th>Missing Values</th>\n",
       "      <th>Data type</th>\n",
       "      <th>Unique values</th>\n",
       "    </tr>\n",
       "  </thead>\n",
       "  <tbody>\n",
       "    <tr>\n",
       "      <th>2</th>\n",
       "      <td>Product_type</td>\n",
       "      <td>300000</td>\n",
       "      <td>329</td>\n",
       "      <td>object</td>\n",
       "      <td>2</td>\n",
       "    </tr>\n",
       "    <tr>\n",
       "      <th>6</th>\n",
       "      <td>Height</td>\n",
       "      <td>300000</td>\n",
       "      <td>311</td>\n",
       "      <td>float64</td>\n",
       "      <td>1771</td>\n",
       "    </tr>\n",
       "    <tr>\n",
       "      <th>8</th>\n",
       "      <td>Product_handle</td>\n",
       "      <td>300000</td>\n",
       "      <td>307</td>\n",
       "      <td>object</td>\n",
       "      <td>3</td>\n",
       "    </tr>\n",
       "    <tr>\n",
       "      <th>3</th>\n",
       "      <td>Product_category</td>\n",
       "      <td>300000</td>\n",
       "      <td>302</td>\n",
       "      <td>object</td>\n",
       "      <td>5</td>\n",
       "    </tr>\n",
       "    <tr>\n",
       "      <th>5</th>\n",
       "      <td>Width</td>\n",
       "      <td>300000</td>\n",
       "      <td>300</td>\n",
       "      <td>float64</td>\n",
       "      <td>137</td>\n",
       "    </tr>\n",
       "    <tr>\n",
       "      <th>9</th>\n",
       "      <td>Product_hinge</td>\n",
       "      <td>300000</td>\n",
       "      <td>297</td>\n",
       "      <td>object</td>\n",
       "      <td>2</td>\n",
       "    </tr>\n",
       "    <tr>\n",
       "      <th>4</th>\n",
       "      <td>Product_subcategory</td>\n",
       "      <td>300000</td>\n",
       "      <td>290</td>\n",
       "      <td>object</td>\n",
       "      <td>15</td>\n",
       "    </tr>\n",
       "    <tr>\n",
       "      <th>7</th>\n",
       "      <td>Product_color</td>\n",
       "      <td>300000</td>\n",
       "      <td>288</td>\n",
       "      <td>object</td>\n",
       "      <td>3</td>\n",
       "    </tr>\n",
       "    <tr>\n",
       "      <th>10</th>\n",
       "      <td>Product_packing</td>\n",
       "      <td>300000</td>\n",
       "      <td>276</td>\n",
       "      <td>object</td>\n",
       "      <td>2</td>\n",
       "    </tr>\n",
       "    <tr>\n",
       "      <th>1</th>\n",
       "      <td>Product_desc</td>\n",
       "      <td>300000</td>\n",
       "      <td>0</td>\n",
       "      <td>object</td>\n",
       "      <td>299825</td>\n",
       "    </tr>\n",
       "    <tr>\n",
       "      <th>0</th>\n",
       "      <td>Product_ID</td>\n",
       "      <td>300000</td>\n",
       "      <td>0</td>\n",
       "      <td>object</td>\n",
       "      <td>300000</td>\n",
       "    </tr>\n",
       "    <tr>\n",
       "      <th>11</th>\n",
       "      <td>Product_batch</td>\n",
       "      <td>300000</td>\n",
       "      <td>0</td>\n",
       "      <td>int64</td>\n",
       "      <td>100</td>\n",
       "    </tr>\n",
       "    <tr>\n",
       "      <th>12</th>\n",
       "      <td>Product_costs</td>\n",
       "      <td>300000</td>\n",
       "      <td>0</td>\n",
       "      <td>float64</td>\n",
       "      <td>19688</td>\n",
       "    </tr>\n",
       "  </tbody>\n",
       "</table>\n",
       "</div>"
      ],
      "text/plain": [
       "            Column_name  Total records  Missing Values Data type  \\\n",
       "2          Product_type         300000             329    object   \n",
       "6                Height         300000             311   float64   \n",
       "8        Product_handle         300000             307    object   \n",
       "3      Product_category         300000             302    object   \n",
       "5                 Width         300000             300   float64   \n",
       "9         Product_hinge         300000             297    object   \n",
       "4   Product_subcategory         300000             290    object   \n",
       "7         Product_color         300000             288    object   \n",
       "10      Product_packing         300000             276    object   \n",
       "1          Product_desc         300000               0    object   \n",
       "0            Product_ID         300000               0    object   \n",
       "11        Product_batch         300000               0     int64   \n",
       "12        Product_costs         300000               0   float64   \n",
       "\n",
       "    Unique values  \n",
       "2               2  \n",
       "6            1771  \n",
       "8               3  \n",
       "3               5  \n",
       "5             137  \n",
       "9               2  \n",
       "4              15  \n",
       "7               3  \n",
       "10              2  \n",
       "1          299825  \n",
       "0          300000  \n",
       "11            100  \n",
       "12          19688  "
      ]
     },
     "execution_count": 217,
     "metadata": {},
     "output_type": "execute_result"
    }
   ],
   "source": [
    "dataframe_info(df).sort_values(by = 'Missing Values', ascending = False)"
   ]
  },
  {
   "cell_type": "markdown",
   "id": "657bcf04",
   "metadata": {},
   "source": [
    "### 3.1.2 String NaN values"
   ]
  },
  {
   "cell_type": "code",
   "execution_count": 218,
   "id": "9e88e653",
   "metadata": {},
   "outputs": [
    {
     "data": {
      "text/plain": [
       "['Product_ID',\n",
       " 'Product_desc',\n",
       " 'Product_type',\n",
       " 'Product_category',\n",
       " 'Product_subcategory',\n",
       " 'Product_color',\n",
       " 'Product_handle',\n",
       " 'Product_hinge',\n",
       " 'Product_packing']"
      ]
     },
     "execution_count": 218,
     "metadata": {},
     "output_type": "execute_result"
    }
   ],
   "source": [
    "list_object_cols = list(df.select_dtypes('object').columns)\n",
    "list_object_cols"
   ]
  },
  {
   "cell_type": "code",
   "execution_count": 219,
   "id": "5f9aa11b",
   "metadata": {},
   "outputs": [
    {
     "data": {
      "text/html": [
       "<div>\n",
       "<style scoped>\n",
       "    .dataframe tbody tr th:only-of-type {\n",
       "        vertical-align: middle;\n",
       "    }\n",
       "\n",
       "    .dataframe tbody tr th {\n",
       "        vertical-align: top;\n",
       "    }\n",
       "\n",
       "    .dataframe thead th {\n",
       "        text-align: right;\n",
       "    }\n",
       "</style>\n",
       "<table border=\"1\" class=\"dataframe\">\n",
       "  <thead>\n",
       "    <tr style=\"text-align: right;\">\n",
       "      <th></th>\n",
       "      <th>Product_ID</th>\n",
       "      <th>Product_desc</th>\n",
       "      <th>Product_type</th>\n",
       "      <th>Product_category</th>\n",
       "      <th>Product_subcategory</th>\n",
       "      <th>Width</th>\n",
       "      <th>Height</th>\n",
       "      <th>Product_color</th>\n",
       "      <th>Product_handle</th>\n",
       "      <th>Product_hinge</th>\n",
       "      <th>Product_packing</th>\n",
       "      <th>Product_batch</th>\n",
       "      <th>Product_costs</th>\n",
       "    </tr>\n",
       "  </thead>\n",
       "  <tbody>\n",
       "    <tr>\n",
       "      <th>7</th>\n",
       "      <td>P0008</td>\n",
       "      <td>Door_Design_Glass-panel_RAL9005_Steel (ST)_Lef...</td>\n",
       "      <td>Door</td>\n",
       "      <td>Design</td>\n",
       "      <td>Glass-panel</td>\n",
       "      <td>710.0</td>\n",
       "      <td>1689.0</td>\n",
       "      <td>RAL9005</td>\n",
       "      <td>NaN</td>\n",
       "      <td>Left</td>\n",
       "      <td>Wooden box</td>\n",
       "      <td>53</td>\n",
       "      <td>162.02</td>\n",
       "    </tr>\n",
       "    <tr>\n",
       "      <th>1763</th>\n",
       "      <td>P1764</td>\n",
       "      <td>Door_Design_Classic_RAL9005_Plastic (PL)_Left_...</td>\n",
       "      <td>Door</td>\n",
       "      <td>Design</td>\n",
       "      <td>Classic</td>\n",
       "      <td>733.0</td>\n",
       "      <td>1164.0</td>\n",
       "      <td>RAL9005</td>\n",
       "      <td>NaN</td>\n",
       "      <td>Left</td>\n",
       "      <td>Cardbox</td>\n",
       "      <td>50</td>\n",
       "      <td>181.76</td>\n",
       "    </tr>\n",
       "    <tr>\n",
       "      <th>2197</th>\n",
       "      <td>P2198</td>\n",
       "      <td>Frame_Industrial_Soundproof_RAL7035_Aluminum (...</td>\n",
       "      <td>Frame</td>\n",
       "      <td>Industrial</td>\n",
       "      <td>Soundproof</td>\n",
       "      <td>675.0</td>\n",
       "      <td>1319.0</td>\n",
       "      <td>RAL7035</td>\n",
       "      <td>NaN</td>\n",
       "      <td>Right</td>\n",
       "      <td>Cardbox</td>\n",
       "      <td>69</td>\n",
       "      <td>155.70</td>\n",
       "    </tr>\n",
       "    <tr>\n",
       "      <th>2489</th>\n",
       "      <td>P2490</td>\n",
       "      <td>Frame_Design_Glass-panel_RAL7024_Steel (ST)_Le...</td>\n",
       "      <td>Frame</td>\n",
       "      <td>Design</td>\n",
       "      <td>Glass-panel</td>\n",
       "      <td>749.0</td>\n",
       "      <td>579.0</td>\n",
       "      <td>RAL7024</td>\n",
       "      <td>NaN</td>\n",
       "      <td>Left</td>\n",
       "      <td>Wooden box</td>\n",
       "      <td>82</td>\n",
       "      <td>132.62</td>\n",
       "    </tr>\n",
       "    <tr>\n",
       "      <th>4014</th>\n",
       "      <td>P4015</td>\n",
       "      <td>Frame_Security_Access-controlled_RAL9005_Plast...</td>\n",
       "      <td>Frame</td>\n",
       "      <td>Security</td>\n",
       "      <td>Access-controlled</td>\n",
       "      <td>745.0</td>\n",
       "      <td>1608.0</td>\n",
       "      <td>RAL9005</td>\n",
       "      <td>NaN</td>\n",
       "      <td>Right</td>\n",
       "      <td>Cardbox</td>\n",
       "      <td>82</td>\n",
       "      <td>125.17</td>\n",
       "    </tr>\n",
       "    <tr>\n",
       "      <th>...</th>\n",
       "      <td>...</td>\n",
       "      <td>...</td>\n",
       "      <td>...</td>\n",
       "      <td>...</td>\n",
       "      <td>...</td>\n",
       "      <td>...</td>\n",
       "      <td>...</td>\n",
       "      <td>...</td>\n",
       "      <td>...</td>\n",
       "      <td>...</td>\n",
       "      <td>...</td>\n",
       "      <td>...</td>\n",
       "      <td>...</td>\n",
       "    </tr>\n",
       "    <tr>\n",
       "      <th>296887</th>\n",
       "      <td>P296888</td>\n",
       "      <td>Frame_Commercial_Warehouse_RAL9005_Plastic (PL...</td>\n",
       "      <td>Frame</td>\n",
       "      <td>Commercial</td>\n",
       "      <td>Warehouse</td>\n",
       "      <td>671.0</td>\n",
       "      <td>1582.0</td>\n",
       "      <td>RAL9005</td>\n",
       "      <td>NaN</td>\n",
       "      <td>Right</td>\n",
       "      <td>Cardbox</td>\n",
       "      <td>35</td>\n",
       "      <td>204.41</td>\n",
       "    </tr>\n",
       "    <tr>\n",
       "      <th>299113</th>\n",
       "      <td>P299114</td>\n",
       "      <td>Door_Residential_Interior_RAL9005_Steel (ST)_R...</td>\n",
       "      <td>Door</td>\n",
       "      <td>Residential</td>\n",
       "      <td>Interior</td>\n",
       "      <td>697.0</td>\n",
       "      <td>1648.0</td>\n",
       "      <td>RAL9005</td>\n",
       "      <td>NaN</td>\n",
       "      <td>Right</td>\n",
       "      <td>Wooden box</td>\n",
       "      <td>78</td>\n",
       "      <td>140.75</td>\n",
       "    </tr>\n",
       "    <tr>\n",
       "      <th>299486</th>\n",
       "      <td>P299487</td>\n",
       "      <td>Door_Residential_Interior_RAL7024_Plastic (PL)...</td>\n",
       "      <td>Door</td>\n",
       "      <td>Residential</td>\n",
       "      <td>Interior</td>\n",
       "      <td>670.0</td>\n",
       "      <td>344.0</td>\n",
       "      <td>RAL7024</td>\n",
       "      <td>NaN</td>\n",
       "      <td>Left</td>\n",
       "      <td>Wooden box</td>\n",
       "      <td>1</td>\n",
       "      <td>500.00</td>\n",
       "    </tr>\n",
       "    <tr>\n",
       "      <th>299698</th>\n",
       "      <td>P299699</td>\n",
       "      <td>Frame_Commercial_Office_RAL9005_Steel (ST)_Rig...</td>\n",
       "      <td>Frame</td>\n",
       "      <td>Commercial</td>\n",
       "      <td>Office</td>\n",
       "      <td>673.0</td>\n",
       "      <td>1719.0</td>\n",
       "      <td>RAL9005</td>\n",
       "      <td>NaN</td>\n",
       "      <td>Right</td>\n",
       "      <td>Cardbox</td>\n",
       "      <td>57</td>\n",
       "      <td>165.90</td>\n",
       "    </tr>\n",
       "    <tr>\n",
       "      <th>299702</th>\n",
       "      <td>P299703</td>\n",
       "      <td>Door_Design_Classic_RAL9005_Plastic (PL)_Left_...</td>\n",
       "      <td>Door</td>\n",
       "      <td>Design</td>\n",
       "      <td>Classic</td>\n",
       "      <td>638.0</td>\n",
       "      <td>338.0</td>\n",
       "      <td>RAL9005</td>\n",
       "      <td>NaN</td>\n",
       "      <td>Left</td>\n",
       "      <td>Wooden box</td>\n",
       "      <td>24</td>\n",
       "      <td>209.22</td>\n",
       "    </tr>\n",
       "  </tbody>\n",
       "</table>\n",
       "<p>307 rows × 13 columns</p>\n",
       "</div>"
      ],
      "text/plain": [
       "       Product_ID                                       Product_desc  \\\n",
       "7           P0008  Door_Design_Glass-panel_RAL9005_Steel (ST)_Lef...   \n",
       "1763        P1764  Door_Design_Classic_RAL9005_Plastic (PL)_Left_...   \n",
       "2197        P2198  Frame_Industrial_Soundproof_RAL7035_Aluminum (...   \n",
       "2489        P2490  Frame_Design_Glass-panel_RAL7024_Steel (ST)_Le...   \n",
       "4014        P4015  Frame_Security_Access-controlled_RAL9005_Plast...   \n",
       "...           ...                                                ...   \n",
       "296887    P296888  Frame_Commercial_Warehouse_RAL9005_Plastic (PL...   \n",
       "299113    P299114  Door_Residential_Interior_RAL9005_Steel (ST)_R...   \n",
       "299486    P299487  Door_Residential_Interior_RAL7024_Plastic (PL)...   \n",
       "299698    P299699  Frame_Commercial_Office_RAL9005_Steel (ST)_Rig...   \n",
       "299702    P299703  Door_Design_Classic_RAL9005_Plastic (PL)_Left_...   \n",
       "\n",
       "       Product_type Product_category Product_subcategory  Width  Height  \\\n",
       "7              Door           Design         Glass-panel  710.0  1689.0   \n",
       "1763           Door           Design             Classic  733.0  1164.0   \n",
       "2197          Frame       Industrial          Soundproof  675.0  1319.0   \n",
       "2489          Frame           Design         Glass-panel  749.0   579.0   \n",
       "4014          Frame         Security   Access-controlled  745.0  1608.0   \n",
       "...             ...              ...                 ...    ...     ...   \n",
       "296887        Frame       Commercial           Warehouse  671.0  1582.0   \n",
       "299113         Door      Residential            Interior  697.0  1648.0   \n",
       "299486         Door      Residential            Interior  670.0   344.0   \n",
       "299698        Frame       Commercial              Office  673.0  1719.0   \n",
       "299702         Door           Design             Classic  638.0   338.0   \n",
       "\n",
       "       Product_color Product_handle Product_hinge Product_packing  \\\n",
       "7            RAL9005            NaN          Left      Wooden box   \n",
       "1763         RAL9005            NaN          Left         Cardbox   \n",
       "2197         RAL7035            NaN         Right         Cardbox   \n",
       "2489         RAL7024            NaN          Left      Wooden box   \n",
       "4014         RAL9005            NaN         Right         Cardbox   \n",
       "...              ...            ...           ...             ...   \n",
       "296887       RAL9005            NaN         Right         Cardbox   \n",
       "299113       RAL9005            NaN         Right      Wooden box   \n",
       "299486       RAL7024            NaN          Left      Wooden box   \n",
       "299698       RAL9005            NaN         Right         Cardbox   \n",
       "299702       RAL9005            NaN          Left      Wooden box   \n",
       "\n",
       "        Product_batch  Product_costs  \n",
       "7                  53         162.02  \n",
       "1763               50         181.76  \n",
       "2197               69         155.70  \n",
       "2489               82         132.62  \n",
       "4014               82         125.17  \n",
       "...               ...            ...  \n",
       "296887             35         204.41  \n",
       "299113             78         140.75  \n",
       "299486              1         500.00  \n",
       "299698             57         165.90  \n",
       "299702             24         209.22  \n",
       "\n",
       "[307 rows x 13 columns]"
      ]
     },
     "execution_count": 219,
     "metadata": {},
     "output_type": "execute_result"
    }
   ],
   "source": [
    "df.loc[df.Product_handle.isna(),:]\n"
   ]
  },
  {
   "cell_type": "code",
   "execution_count": 220,
   "id": "bfa56466",
   "metadata": {},
   "outputs": [],
   "source": [
    "regex_mapping = {\n",
    "    'Product_type': r'^([^_]+)',  \n",
    "    'Product_category': r'^[^_]+_([^_]+)', \n",
    "    'Product_subcategory': r'^[^_]+_[^_]+_([^_]+)',  \n",
    "    'Product_color': r'^[^_]+_[^_]+_[^_]+_([^_]+)',  \n",
    "    'Product_handle': r'^[^_]+_[^_]+_[^_]+_[^_]+_([^_]+)',  \n",
    "    'Product_hinge': r'^[^_]+_[^_]+_[^_]+_[^_]+_[^_]+_([^_]+)', \n",
    "    'Product_packing': r'^[^_]+_[^_]+_[^_]+_[^_]+_[^_]+_[^_]+_[^_]+_(.+)$'  \n",
    "}"
   ]
  },
  {
   "cell_type": "code",
   "execution_count": 221,
   "id": "a2eead87",
   "metadata": {},
   "outputs": [],
   "source": [
    "for col, regex in regex_mapping.items():\n",
    "    if col in list_object_cols:\n",
    "        df[col] = df[col].fillna(df['Product_desc'].str.extract(regex)[0])"
   ]
  },
  {
   "cell_type": "code",
   "execution_count": 222,
   "id": "015d47c8",
   "metadata": {},
   "outputs": [
    {
     "data": {
      "text/html": [
       "<div>\n",
       "<style scoped>\n",
       "    .dataframe tbody tr th:only-of-type {\n",
       "        vertical-align: middle;\n",
       "    }\n",
       "\n",
       "    .dataframe tbody tr th {\n",
       "        vertical-align: top;\n",
       "    }\n",
       "\n",
       "    .dataframe thead th {\n",
       "        text-align: right;\n",
       "    }\n",
       "</style>\n",
       "<table border=\"1\" class=\"dataframe\">\n",
       "  <thead>\n",
       "    <tr style=\"text-align: right;\">\n",
       "      <th></th>\n",
       "      <th>Column_name</th>\n",
       "      <th>Total records</th>\n",
       "      <th>Missing Values</th>\n",
       "      <th>Data type</th>\n",
       "      <th>Unique values</th>\n",
       "    </tr>\n",
       "  </thead>\n",
       "  <tbody>\n",
       "    <tr>\n",
       "      <th>6</th>\n",
       "      <td>Height</td>\n",
       "      <td>300000</td>\n",
       "      <td>311</td>\n",
       "      <td>float64</td>\n",
       "      <td>1771</td>\n",
       "    </tr>\n",
       "    <tr>\n",
       "      <th>5</th>\n",
       "      <td>Width</td>\n",
       "      <td>300000</td>\n",
       "      <td>300</td>\n",
       "      <td>float64</td>\n",
       "      <td>137</td>\n",
       "    </tr>\n",
       "    <tr>\n",
       "      <th>2</th>\n",
       "      <td>Product_type</td>\n",
       "      <td>300000</td>\n",
       "      <td>0</td>\n",
       "      <td>object</td>\n",
       "      <td>2</td>\n",
       "    </tr>\n",
       "    <tr>\n",
       "      <th>1</th>\n",
       "      <td>Product_desc</td>\n",
       "      <td>300000</td>\n",
       "      <td>0</td>\n",
       "      <td>object</td>\n",
       "      <td>299825</td>\n",
       "    </tr>\n",
       "    <tr>\n",
       "      <th>0</th>\n",
       "      <td>Product_ID</td>\n",
       "      <td>300000</td>\n",
       "      <td>0</td>\n",
       "      <td>object</td>\n",
       "      <td>300000</td>\n",
       "    </tr>\n",
       "    <tr>\n",
       "      <th>4</th>\n",
       "      <td>Product_subcategory</td>\n",
       "      <td>300000</td>\n",
       "      <td>0</td>\n",
       "      <td>object</td>\n",
       "      <td>15</td>\n",
       "    </tr>\n",
       "    <tr>\n",
       "      <th>3</th>\n",
       "      <td>Product_category</td>\n",
       "      <td>300000</td>\n",
       "      <td>0</td>\n",
       "      <td>object</td>\n",
       "      <td>5</td>\n",
       "    </tr>\n",
       "    <tr>\n",
       "      <th>7</th>\n",
       "      <td>Product_color</td>\n",
       "      <td>300000</td>\n",
       "      <td>0</td>\n",
       "      <td>object</td>\n",
       "      <td>3</td>\n",
       "    </tr>\n",
       "    <tr>\n",
       "      <th>8</th>\n",
       "      <td>Product_handle</td>\n",
       "      <td>300000</td>\n",
       "      <td>0</td>\n",
       "      <td>object</td>\n",
       "      <td>3</td>\n",
       "    </tr>\n",
       "    <tr>\n",
       "      <th>9</th>\n",
       "      <td>Product_hinge</td>\n",
       "      <td>300000</td>\n",
       "      <td>0</td>\n",
       "      <td>object</td>\n",
       "      <td>2</td>\n",
       "    </tr>\n",
       "    <tr>\n",
       "      <th>10</th>\n",
       "      <td>Product_packing</td>\n",
       "      <td>300000</td>\n",
       "      <td>0</td>\n",
       "      <td>object</td>\n",
       "      <td>2</td>\n",
       "    </tr>\n",
       "    <tr>\n",
       "      <th>11</th>\n",
       "      <td>Product_batch</td>\n",
       "      <td>300000</td>\n",
       "      <td>0</td>\n",
       "      <td>int64</td>\n",
       "      <td>100</td>\n",
       "    </tr>\n",
       "    <tr>\n",
       "      <th>12</th>\n",
       "      <td>Product_costs</td>\n",
       "      <td>300000</td>\n",
       "      <td>0</td>\n",
       "      <td>float64</td>\n",
       "      <td>19688</td>\n",
       "    </tr>\n",
       "  </tbody>\n",
       "</table>\n",
       "</div>"
      ],
      "text/plain": [
       "            Column_name  Total records  Missing Values Data type  \\\n",
       "6                Height         300000             311   float64   \n",
       "5                 Width         300000             300   float64   \n",
       "2          Product_type         300000               0    object   \n",
       "1          Product_desc         300000               0    object   \n",
       "0            Product_ID         300000               0    object   \n",
       "4   Product_subcategory         300000               0    object   \n",
       "3      Product_category         300000               0    object   \n",
       "7         Product_color         300000               0    object   \n",
       "8        Product_handle         300000               0    object   \n",
       "9         Product_hinge         300000               0    object   \n",
       "10      Product_packing         300000               0    object   \n",
       "11        Product_batch         300000               0     int64   \n",
       "12        Product_costs         300000               0   float64   \n",
       "\n",
       "    Unique values  \n",
       "6            1771  \n",
       "5             137  \n",
       "2               2  \n",
       "1          299825  \n",
       "0          300000  \n",
       "4              15  \n",
       "3               5  \n",
       "7               3  \n",
       "8               3  \n",
       "9               2  \n",
       "10              2  \n",
       "11            100  \n",
       "12          19688  "
      ]
     },
     "execution_count": 222,
     "metadata": {},
     "output_type": "execute_result"
    }
   ],
   "source": [
    "dataframe_info(df).sort_values(by = 'Missing Values', ascending = False)"
   ]
  },
  {
   "cell_type": "code",
   "execution_count": 223,
   "id": "3cf7f98d",
   "metadata": {},
   "outputs": [
    {
     "data": {
      "text/plain": [
       "Product_handle\n",
       "Plastic (PL)     100322\n",
       "Aluminum (AL)    100026\n",
       "Steel (ST)        99652\n",
       "Name: count, dtype: int64"
      ]
     },
     "execution_count": 223,
     "metadata": {},
     "output_type": "execute_result"
    }
   ],
   "source": [
    "df.Product_handle.value_counts()"
   ]
  },
  {
   "cell_type": "code",
   "execution_count": 224,
   "id": "9b68f18c",
   "metadata": {},
   "outputs": [],
   "source": [
    "category_col = [\n",
    " 'Product_type',\n",
    " 'Product_category',\n",
    " 'Product_subcategory',\n",
    " 'Product_color',\n",
    " 'Product_handle',\n",
    " 'Product_hinge',\n",
    " 'Product_packing']\n",
    "\n",
    "for col in category_col:\n",
    "    df[col] = df[col].astype('category')"
   ]
  },
  {
   "cell_type": "markdown",
   "id": "0af79922",
   "metadata": {},
   "source": [
    "### 3.1.2 Numeric NaN values"
   ]
  },
  {
   "cell_type": "code",
   "execution_count": 225,
   "id": "1b971b43",
   "metadata": {},
   "outputs": [
    {
     "data": {
      "text/plain": [
       "Index(['Width', 'Height', 'Product_batch', 'Product_costs'], dtype='object')"
      ]
     },
     "execution_count": 225,
     "metadata": {},
     "output_type": "execute_result"
    }
   ],
   "source": [
    "df.select_dtypes('number').columns"
   ]
  },
  {
   "cell_type": "code",
   "execution_count": 226,
   "id": "81430960",
   "metadata": {},
   "outputs": [],
   "source": [
    "desc_nan_value_coles = ['Width', 'Height']\n",
    "                        "
   ]
  },
  {
   "cell_type": "code",
   "execution_count": 227,
   "id": "fb0e21a4",
   "metadata": {},
   "outputs": [],
   "source": [
    "dimensions_regex_mapping = {\n",
    "    'Width': r'_(\\d+)x\\d+_',   # Extrahuje číslo před 'x'\n",
    "    'Height': r'_\\d+x(\\d+)_'   # Extrahuje číslo za 'x'\n",
    "}"
   ]
  },
  {
   "cell_type": "code",
   "execution_count": 228,
   "id": "45348987",
   "metadata": {},
   "outputs": [],
   "source": [
    "for col, regex in dimensions_regex_mapping.items():\n",
    "    if col in desc_nan_value_coles:\n",
    "        df[col] = df[col].fillna(df['Product_desc'].str.extract(regex)[0])"
   ]
  },
  {
   "cell_type": "code",
   "execution_count": 229,
   "id": "0e05fd5c",
   "metadata": {},
   "outputs": [],
   "source": [
    "cols_to_float = ['Width', 'Height', 'Product_batch', 'Product_costs']\n",
    "\n",
    "for col in cols_to_float:\n",
    "    df[col] = df[col].astype('float')"
   ]
  },
  {
   "cell_type": "code",
   "execution_count": 230,
   "id": "975695b2",
   "metadata": {},
   "outputs": [
    {
     "data": {
      "text/html": [
       "<div>\n",
       "<style scoped>\n",
       "    .dataframe tbody tr th:only-of-type {\n",
       "        vertical-align: middle;\n",
       "    }\n",
       "\n",
       "    .dataframe tbody tr th {\n",
       "        vertical-align: top;\n",
       "    }\n",
       "\n",
       "    .dataframe thead th {\n",
       "        text-align: right;\n",
       "    }\n",
       "</style>\n",
       "<table border=\"1\" class=\"dataframe\">\n",
       "  <thead>\n",
       "    <tr style=\"text-align: right;\">\n",
       "      <th></th>\n",
       "      <th>Column_name</th>\n",
       "      <th>Total records</th>\n",
       "      <th>Missing Values</th>\n",
       "      <th>Data type</th>\n",
       "      <th>Unique values</th>\n",
       "    </tr>\n",
       "  </thead>\n",
       "  <tbody>\n",
       "    <tr>\n",
       "      <th>0</th>\n",
       "      <td>Product_ID</td>\n",
       "      <td>300000</td>\n",
       "      <td>0</td>\n",
       "      <td>object</td>\n",
       "      <td>300000</td>\n",
       "    </tr>\n",
       "    <tr>\n",
       "      <th>1</th>\n",
       "      <td>Product_desc</td>\n",
       "      <td>300000</td>\n",
       "      <td>0</td>\n",
       "      <td>object</td>\n",
       "      <td>299825</td>\n",
       "    </tr>\n",
       "    <tr>\n",
       "      <th>2</th>\n",
       "      <td>Product_type</td>\n",
       "      <td>300000</td>\n",
       "      <td>0</td>\n",
       "      <td>category</td>\n",
       "      <td>2</td>\n",
       "    </tr>\n",
       "    <tr>\n",
       "      <th>3</th>\n",
       "      <td>Product_category</td>\n",
       "      <td>300000</td>\n",
       "      <td>0</td>\n",
       "      <td>category</td>\n",
       "      <td>5</td>\n",
       "    </tr>\n",
       "    <tr>\n",
       "      <th>4</th>\n",
       "      <td>Product_subcategory</td>\n",
       "      <td>300000</td>\n",
       "      <td>0</td>\n",
       "      <td>category</td>\n",
       "      <td>15</td>\n",
       "    </tr>\n",
       "    <tr>\n",
       "      <th>5</th>\n",
       "      <td>Width</td>\n",
       "      <td>300000</td>\n",
       "      <td>0</td>\n",
       "      <td>float64</td>\n",
       "      <td>137</td>\n",
       "    </tr>\n",
       "    <tr>\n",
       "      <th>6</th>\n",
       "      <td>Height</td>\n",
       "      <td>300000</td>\n",
       "      <td>0</td>\n",
       "      <td>float64</td>\n",
       "      <td>1771</td>\n",
       "    </tr>\n",
       "    <tr>\n",
       "      <th>7</th>\n",
       "      <td>Product_color</td>\n",
       "      <td>300000</td>\n",
       "      <td>0</td>\n",
       "      <td>category</td>\n",
       "      <td>3</td>\n",
       "    </tr>\n",
       "    <tr>\n",
       "      <th>8</th>\n",
       "      <td>Product_handle</td>\n",
       "      <td>300000</td>\n",
       "      <td>0</td>\n",
       "      <td>category</td>\n",
       "      <td>3</td>\n",
       "    </tr>\n",
       "    <tr>\n",
       "      <th>9</th>\n",
       "      <td>Product_hinge</td>\n",
       "      <td>300000</td>\n",
       "      <td>0</td>\n",
       "      <td>category</td>\n",
       "      <td>2</td>\n",
       "    </tr>\n",
       "    <tr>\n",
       "      <th>10</th>\n",
       "      <td>Product_packing</td>\n",
       "      <td>300000</td>\n",
       "      <td>0</td>\n",
       "      <td>category</td>\n",
       "      <td>2</td>\n",
       "    </tr>\n",
       "    <tr>\n",
       "      <th>11</th>\n",
       "      <td>Product_batch</td>\n",
       "      <td>300000</td>\n",
       "      <td>0</td>\n",
       "      <td>float64</td>\n",
       "      <td>100</td>\n",
       "    </tr>\n",
       "    <tr>\n",
       "      <th>12</th>\n",
       "      <td>Product_costs</td>\n",
       "      <td>300000</td>\n",
       "      <td>0</td>\n",
       "      <td>float64</td>\n",
       "      <td>19688</td>\n",
       "    </tr>\n",
       "  </tbody>\n",
       "</table>\n",
       "</div>"
      ],
      "text/plain": [
       "            Column_name  Total records  Missing Values Data type  \\\n",
       "0            Product_ID         300000               0    object   \n",
       "1          Product_desc         300000               0    object   \n",
       "2          Product_type         300000               0  category   \n",
       "3      Product_category         300000               0  category   \n",
       "4   Product_subcategory         300000               0  category   \n",
       "5                 Width         300000               0   float64   \n",
       "6                Height         300000               0   float64   \n",
       "7         Product_color         300000               0  category   \n",
       "8        Product_handle         300000               0  category   \n",
       "9         Product_hinge         300000               0  category   \n",
       "10      Product_packing         300000               0  category   \n",
       "11        Product_batch         300000               0   float64   \n",
       "12        Product_costs         300000               0   float64   \n",
       "\n",
       "    Unique values  \n",
       "0          300000  \n",
       "1          299825  \n",
       "2               2  \n",
       "3               5  \n",
       "4              15  \n",
       "5             137  \n",
       "6            1771  \n",
       "7               3  \n",
       "8               3  \n",
       "9               2  \n",
       "10              2  \n",
       "11            100  \n",
       "12          19688  "
      ]
     },
     "execution_count": 230,
     "metadata": {},
     "output_type": "execute_result"
    }
   ],
   "source": [
    "dataframe_info(df)"
   ]
  },
  {
   "cell_type": "code",
   "execution_count": null,
   "id": "0f551c83",
   "metadata": {},
   "outputs": [],
   "source": []
  },
  {
   "cell_type": "markdown",
   "id": "6fd57ab1",
   "metadata": {},
   "source": [
    "## 3.2 Basic statistics"
   ]
  },
  {
   "cell_type": "code",
   "execution_count": 231,
   "id": "a4380098",
   "metadata": {},
   "outputs": [
    {
     "data": {
      "text/html": [
       "<div>\n",
       "<style scoped>\n",
       "    .dataframe tbody tr th:only-of-type {\n",
       "        vertical-align: middle;\n",
       "    }\n",
       "\n",
       "    .dataframe tbody tr th {\n",
       "        vertical-align: top;\n",
       "    }\n",
       "\n",
       "    .dataframe thead th {\n",
       "        text-align: right;\n",
       "    }\n",
       "</style>\n",
       "<table border=\"1\" class=\"dataframe\">\n",
       "  <thead>\n",
       "    <tr style=\"text-align: right;\">\n",
       "      <th></th>\n",
       "      <th>Width</th>\n",
       "      <th>Height</th>\n",
       "      <th>Product_batch</th>\n",
       "      <th>Product_costs</th>\n",
       "    </tr>\n",
       "  </thead>\n",
       "  <tbody>\n",
       "    <tr>\n",
       "      <th>count</th>\n",
       "      <td>300000.000000</td>\n",
       "      <td>300000.000000</td>\n",
       "      <td>300000.000000</td>\n",
       "      <td>300000.000000</td>\n",
       "    </tr>\n",
       "    <tr>\n",
       "      <th>mean</th>\n",
       "      <td>682.075287</td>\n",
       "      <td>1005.541970</td>\n",
       "      <td>50.521997</td>\n",
       "      <td>188.368322</td>\n",
       "    </tr>\n",
       "    <tr>\n",
       "      <th>std</th>\n",
       "      <td>39.631004</td>\n",
       "      <td>510.629604</td>\n",
       "      <td>28.866934</td>\n",
       "      <td>134.572824</td>\n",
       "    </tr>\n",
       "    <tr>\n",
       "      <th>min</th>\n",
       "      <td>614.000000</td>\n",
       "      <td>120.000000</td>\n",
       "      <td>1.000000</td>\n",
       "      <td>90.000000</td>\n",
       "    </tr>\n",
       "    <tr>\n",
       "      <th>25%</th>\n",
       "      <td>648.000000</td>\n",
       "      <td>564.000000</td>\n",
       "      <td>26.000000</td>\n",
       "      <td>137.150000</td>\n",
       "    </tr>\n",
       "    <tr>\n",
       "      <th>50%</th>\n",
       "      <td>682.000000</td>\n",
       "      <td>1006.000000</td>\n",
       "      <td>50.000000</td>\n",
       "      <td>175.070000</td>\n",
       "    </tr>\n",
       "    <tr>\n",
       "      <th>75%</th>\n",
       "      <td>716.000000</td>\n",
       "      <td>1447.000000</td>\n",
       "      <td>76.000000</td>\n",
       "      <td>212.850000</td>\n",
       "    </tr>\n",
       "    <tr>\n",
       "      <th>max</th>\n",
       "      <td>750.000000</td>\n",
       "      <td>1890.000000</td>\n",
       "      <td>100.000000</td>\n",
       "      <td>4929.140711</td>\n",
       "    </tr>\n",
       "  </tbody>\n",
       "</table>\n",
       "</div>"
      ],
      "text/plain": [
       "               Width         Height  Product_batch  Product_costs\n",
       "count  300000.000000  300000.000000  300000.000000  300000.000000\n",
       "mean      682.075287    1005.541970      50.521997     188.368322\n",
       "std        39.631004     510.629604      28.866934     134.572824\n",
       "min       614.000000     120.000000       1.000000      90.000000\n",
       "25%       648.000000     564.000000      26.000000     137.150000\n",
       "50%       682.000000    1006.000000      50.000000     175.070000\n",
       "75%       716.000000    1447.000000      76.000000     212.850000\n",
       "max       750.000000    1890.000000     100.000000    4929.140711"
      ]
     },
     "execution_count": 231,
     "metadata": {},
     "output_type": "execute_result"
    }
   ],
   "source": [
    "df.describe()"
   ]
  },
  {
   "cell_type": "code",
   "execution_count": 232,
   "id": "de334e45",
   "metadata": {},
   "outputs": [
    {
     "data": {
      "text/plain": [
       "<Axes: xlabel='Product_batch'>"
      ]
     },
     "execution_count": 232,
     "metadata": {},
     "output_type": "execute_result"
    },
    {
     "data": {
      "image/png": "[encoded data removed]",
      "text/plain": [
       "<Figure size 640x480 with 1 Axes>"
      ]
     },
     "metadata": {},
     "output_type": "display_data"
    }
   ],
   "source": [
    "sns.boxplot(\n",
    "    data = df,\n",
    "    x='Product_batch'\n",
    "            )"
   ]
  },
  {
   "cell_type": "code",
   "execution_count": 233,
   "id": "c310d782",
   "metadata": {},
   "outputs": [
    {
     "data": {
      "text/plain": [
       "<Axes: xlabel='Product_costs'>"
      ]
     },
     "execution_count": 233,
     "metadata": {},
     "output_type": "execute_result"
    },
    {
     "data": {
      "image/png": "[encoded data removed]",
      "text/plain": [
       "<Figure size 640x480 with 1 Axes>"
      ]
     },
     "metadata": {},
     "output_type": "display_data"
    }
   ],
   "source": [
    "sns.boxplot(\n",
    "    data = df,\n",
    "    x='Product_costs'\n",
    "            )"
   ]
  },
  {
   "cell_type": "code",
   "execution_count": 234,
   "id": "81a192f8",
   "metadata": {},
   "outputs": [
    {
     "data": {
      "text/plain": [
       "count    270003.000000\n",
       "mean        167.282958\n",
       "std          39.580050\n",
       "min          90.000000\n",
       "25%         133.310000\n",
       "50%         167.450000\n",
       "75%         201.410000\n",
       "max         235.620000\n",
       "Name: Product_costs, dtype: float64"
      ]
     },
     "execution_count": 234,
     "metadata": {},
     "output_type": "execute_result"
    }
   ],
   "source": [
    "df_q_09 = df.loc[df['Product_costs']<=df['Product_costs'].quantile(0.90),:]\n",
    "df_q_09['Product_costs'].describe()"
   ]
  },
  {
   "cell_type": "code",
   "execution_count": 235,
   "id": "075543db",
   "metadata": {},
   "outputs": [
    {
     "data": {
      "text/html": [
       "<div>\n",
       "<style scoped>\n",
       "    .dataframe tbody tr th:only-of-type {\n",
       "        vertical-align: middle;\n",
       "    }\n",
       "\n",
       "    .dataframe tbody tr th {\n",
       "        vertical-align: top;\n",
       "    }\n",
       "\n",
       "    .dataframe thead th {\n",
       "        text-align: right;\n",
       "    }\n",
       "</style>\n",
       "<table border=\"1\" class=\"dataframe\">\n",
       "  <thead>\n",
       "    <tr style=\"text-align: right;\">\n",
       "      <th></th>\n",
       "      <th>Product_ID</th>\n",
       "      <th>Product_desc</th>\n",
       "      <th>Product_type</th>\n",
       "      <th>Product_category</th>\n",
       "      <th>Product_subcategory</th>\n",
       "      <th>Width</th>\n",
       "      <th>Height</th>\n",
       "      <th>Product_color</th>\n",
       "      <th>Product_handle</th>\n",
       "      <th>Product_hinge</th>\n",
       "      <th>Product_packing</th>\n",
       "      <th>Product_batch</th>\n",
       "      <th>Product_costs</th>\n",
       "    </tr>\n",
       "  </thead>\n",
       "  <tbody>\n",
       "    <tr>\n",
       "      <th>1</th>\n",
       "      <td>P0002</td>\n",
       "      <td>Frame_Industrial_Soundproof_RAL7024_Steel (ST)...</td>\n",
       "      <td>Frame</td>\n",
       "      <td>Industrial</td>\n",
       "      <td>Soundproof</td>\n",
       "      <td>621.0</td>\n",
       "      <td>1195.0</td>\n",
       "      <td>RAL7024</td>\n",
       "      <td>Steel (ST)</td>\n",
       "      <td>Left</td>\n",
       "      <td>Wooden box</td>\n",
       "      <td>4.0</td>\n",
       "      <td>244.810000</td>\n",
       "    </tr>\n",
       "    <tr>\n",
       "      <th>36</th>\n",
       "      <td>P0037</td>\n",
       "      <td>Door_Security_Bulletproof_RAL7035_Plastic (PL)...</td>\n",
       "      <td>Door</td>\n",
       "      <td>Security</td>\n",
       "      <td>Bulletproof</td>\n",
       "      <td>693.0</td>\n",
       "      <td>1496.0</td>\n",
       "      <td>RAL7035</td>\n",
       "      <td>Plastic (PL)</td>\n",
       "      <td>Left</td>\n",
       "      <td>Cardbox</td>\n",
       "      <td>2.0</td>\n",
       "      <td>249.370000</td>\n",
       "    </tr>\n",
       "    <tr>\n",
       "      <th>41</th>\n",
       "      <td>P0042</td>\n",
       "      <td>Frame_Industrial_Soundproof_RAL7024_Steel (ST)...</td>\n",
       "      <td>Frame</td>\n",
       "      <td>Industrial</td>\n",
       "      <td>Soundproof</td>\n",
       "      <td>635.0</td>\n",
       "      <td>956.0</td>\n",
       "      <td>RAL7024</td>\n",
       "      <td>Steel (ST)</td>\n",
       "      <td>Right</td>\n",
       "      <td>Cardbox</td>\n",
       "      <td>2.0</td>\n",
       "      <td>256.840000</td>\n",
       "    </tr>\n",
       "    <tr>\n",
       "      <th>43</th>\n",
       "      <td>P0044</td>\n",
       "      <td>Door_Industrial_Soundproof_RAL7024_Steel (ST)_...</td>\n",
       "      <td>Door</td>\n",
       "      <td>Industrial</td>\n",
       "      <td>Soundproof</td>\n",
       "      <td>674.0</td>\n",
       "      <td>265.0</td>\n",
       "      <td>RAL7024</td>\n",
       "      <td>Steel (ST)</td>\n",
       "      <td>Left</td>\n",
       "      <td>Cardbox</td>\n",
       "      <td>13.0</td>\n",
       "      <td>239.160000</td>\n",
       "    </tr>\n",
       "    <tr>\n",
       "      <th>59</th>\n",
       "      <td>P0060</td>\n",
       "      <td>Frame_Design_Minimalist_RAL9005_Plastic (PL)_R...</td>\n",
       "      <td>Frame</td>\n",
       "      <td>Design</td>\n",
       "      <td>Minimalist</td>\n",
       "      <td>740.0</td>\n",
       "      <td>1192.0</td>\n",
       "      <td>RAL9005</td>\n",
       "      <td>Plastic (PL)</td>\n",
       "      <td>Right</td>\n",
       "      <td>Wooden box</td>\n",
       "      <td>1.0</td>\n",
       "      <td>500.000000</td>\n",
       "    </tr>\n",
       "    <tr>\n",
       "      <th>...</th>\n",
       "      <td>...</td>\n",
       "      <td>...</td>\n",
       "      <td>...</td>\n",
       "      <td>...</td>\n",
       "      <td>...</td>\n",
       "      <td>...</td>\n",
       "      <td>...</td>\n",
       "      <td>...</td>\n",
       "      <td>...</td>\n",
       "      <td>...</td>\n",
       "      <td>...</td>\n",
       "      <td>...</td>\n",
       "      <td>...</td>\n",
       "    </tr>\n",
       "    <tr>\n",
       "      <th>299948</th>\n",
       "      <td>P299949</td>\n",
       "      <td>Door_Security_Reinforced_RAL7035_Aluminum (AL)...</td>\n",
       "      <td>Door</td>\n",
       "      <td>Security</td>\n",
       "      <td>Reinforced</td>\n",
       "      <td>699.0</td>\n",
       "      <td>653.0</td>\n",
       "      <td>RAL7035</td>\n",
       "      <td>Aluminum (AL)</td>\n",
       "      <td>Left</td>\n",
       "      <td>Cardbox</td>\n",
       "      <td>1.0</td>\n",
       "      <td>500.000000</td>\n",
       "    </tr>\n",
       "    <tr>\n",
       "      <th>299953</th>\n",
       "      <td>P299954</td>\n",
       "      <td>Frame_Commercial_Warehouse_RAL7024_Plastic (PL...</td>\n",
       "      <td>Frame</td>\n",
       "      <td>Commercial</td>\n",
       "      <td>Warehouse</td>\n",
       "      <td>654.0</td>\n",
       "      <td>188.0</td>\n",
       "      <td>RAL7024</td>\n",
       "      <td>Plastic (PL)</td>\n",
       "      <td>Left</td>\n",
       "      <td>Cardbox</td>\n",
       "      <td>2.0</td>\n",
       "      <td>240.900000</td>\n",
       "    </tr>\n",
       "    <tr>\n",
       "      <th>299955</th>\n",
       "      <td>P299956</td>\n",
       "      <td>Frame_Design_Minimalist_RAL9005_Steel (ST)_Rig...</td>\n",
       "      <td>Frame</td>\n",
       "      <td>Design</td>\n",
       "      <td>Minimalist</td>\n",
       "      <td>702.0</td>\n",
       "      <td>826.0</td>\n",
       "      <td>RAL9005</td>\n",
       "      <td>Steel (ST)</td>\n",
       "      <td>Right</td>\n",
       "      <td>Wooden box</td>\n",
       "      <td>3.0</td>\n",
       "      <td>236.200000</td>\n",
       "    </tr>\n",
       "    <tr>\n",
       "      <th>299970</th>\n",
       "      <td>P299971</td>\n",
       "      <td>Frame_Industrial_Fire-rated_RAL7024_Plastic (P...</td>\n",
       "      <td>Frame</td>\n",
       "      <td>Industrial</td>\n",
       "      <td>Fire-rated</td>\n",
       "      <td>621.0</td>\n",
       "      <td>1311.0</td>\n",
       "      <td>RAL7024</td>\n",
       "      <td>Plastic (PL)</td>\n",
       "      <td>Right</td>\n",
       "      <td>Wooden box</td>\n",
       "      <td>63.0</td>\n",
       "      <td>1033.099206</td>\n",
       "    </tr>\n",
       "    <tr>\n",
       "      <th>299972</th>\n",
       "      <td>P299973</td>\n",
       "      <td>Door_Industrial_Soundproof_RAL7024_Steel (ST)_...</td>\n",
       "      <td>Door</td>\n",
       "      <td>Industrial</td>\n",
       "      <td>Soundproof</td>\n",
       "      <td>657.0</td>\n",
       "      <td>1073.0</td>\n",
       "      <td>RAL7024</td>\n",
       "      <td>Steel (ST)</td>\n",
       "      <td>Left</td>\n",
       "      <td>Cardbox</td>\n",
       "      <td>1.0</td>\n",
       "      <td>500.000000</td>\n",
       "    </tr>\n",
       "  </tbody>\n",
       "</table>\n",
       "<p>30016 rows × 13 columns</p>\n",
       "</div>"
      ],
      "text/plain": [
       "       Product_ID                                       Product_desc  \\\n",
       "1           P0002  Frame_Industrial_Soundproof_RAL7024_Steel (ST)...   \n",
       "36          P0037  Door_Security_Bulletproof_RAL7035_Plastic (PL)...   \n",
       "41          P0042  Frame_Industrial_Soundproof_RAL7024_Steel (ST)...   \n",
       "43          P0044  Door_Industrial_Soundproof_RAL7024_Steel (ST)_...   \n",
       "59          P0060  Frame_Design_Minimalist_RAL9005_Plastic (PL)_R...   \n",
       "...           ...                                                ...   \n",
       "299948    P299949  Door_Security_Reinforced_RAL7035_Aluminum (AL)...   \n",
       "299953    P299954  Frame_Commercial_Warehouse_RAL7024_Plastic (PL...   \n",
       "299955    P299956  Frame_Design_Minimalist_RAL9005_Steel (ST)_Rig...   \n",
       "299970    P299971  Frame_Industrial_Fire-rated_RAL7024_Plastic (P...   \n",
       "299972    P299973  Door_Industrial_Soundproof_RAL7024_Steel (ST)_...   \n",
       "\n",
       "       Product_type Product_category Product_subcategory  Width  Height  \\\n",
       "1             Frame       Industrial          Soundproof  621.0  1195.0   \n",
       "36             Door         Security         Bulletproof  693.0  1496.0   \n",
       "41            Frame       Industrial          Soundproof  635.0   956.0   \n",
       "43             Door       Industrial          Soundproof  674.0   265.0   \n",
       "59            Frame           Design          Minimalist  740.0  1192.0   \n",
       "...             ...              ...                 ...    ...     ...   \n",
       "299948         Door         Security          Reinforced  699.0   653.0   \n",
       "299953        Frame       Commercial           Warehouse  654.0   188.0   \n",
       "299955        Frame           Design          Minimalist  702.0   826.0   \n",
       "299970        Frame       Industrial          Fire-rated  621.0  1311.0   \n",
       "299972         Door       Industrial          Soundproof  657.0  1073.0   \n",
       "\n",
       "       Product_color Product_handle Product_hinge Product_packing  \\\n",
       "1            RAL7024     Steel (ST)          Left      Wooden box   \n",
       "36           RAL7035   Plastic (PL)          Left         Cardbox   \n",
       "41           RAL7024     Steel (ST)         Right         Cardbox   \n",
       "43           RAL7024     Steel (ST)          Left         Cardbox   \n",
       "59           RAL9005   Plastic (PL)         Right      Wooden box   \n",
       "...              ...            ...           ...             ...   \n",
       "299948       RAL7035  Aluminum (AL)          Left         Cardbox   \n",
       "299953       RAL7024   Plastic (PL)          Left         Cardbox   \n",
       "299955       RAL9005     Steel (ST)         Right      Wooden box   \n",
       "299970       RAL7024   Plastic (PL)         Right      Wooden box   \n",
       "299972       RAL7024     Steel (ST)          Left         Cardbox   \n",
       "\n",
       "        Product_batch  Product_costs  \n",
       "1                 4.0     244.810000  \n",
       "36                2.0     249.370000  \n",
       "41                2.0     256.840000  \n",
       "43               13.0     239.160000  \n",
       "59                1.0     500.000000  \n",
       "...               ...            ...  \n",
       "299948            1.0     500.000000  \n",
       "299953            2.0     240.900000  \n",
       "299955            3.0     236.200000  \n",
       "299970           63.0    1033.099206  \n",
       "299972            1.0     500.000000  \n",
       "\n",
       "[30016 rows x 13 columns]"
      ]
     },
     "execution_count": 235,
     "metadata": {},
     "output_type": "execute_result"
    }
   ],
   "source": [
    "df_outliers = df.loc[df['Product_costs']>=235.62,:]\n",
    "df_outliers"
   ]
  },
  {
   "cell_type": "code",
   "execution_count": 236,
   "id": "ca89e291",
   "metadata": {},
   "outputs": [
    {
     "data": {
      "image/png": "[encoded data removed]",
      "text/plain": [
       "<Figure size 800x600 with 2 Axes>"
      ]
     },
     "metadata": {},
     "output_type": "display_data"
    }
   ],
   "source": [
    "\n",
    "plt.figure(figsize=(8, 6))\n",
    "\n",
    "\n",
    "plt.hexbin(df_q_09['Product_batch'], df_q_09['Product_costs'], gridsize=15, cmap='Blues')\n",
    "\n",
    "\n",
    "plt.colorbar(label='ID')\n",
    "\n",
    "# Přidání názvů os\n",
    "plt.title('Hexplot Product_costs and Product_batch')\n",
    "plt.xlabel('Product_batch')\n",
    "plt.ylabel('Product_costs')\n",
    "\n",
    "# Zobrazení grafu\n",
    "plt.show()"
   ]
  },
  {
   "cell_type": "code",
   "execution_count": 237,
   "id": "cef8f348",
   "metadata": {},
   "outputs": [],
   "source": [
    "df = df_q_09"
   ]
  },
  {
   "cell_type": "markdown",
   "id": "1932070d",
   "metadata": {},
   "source": [
    "# 4. Preprocessing"
   ]
  },
  {
   "cell_type": "code",
   "execution_count": 238,
   "id": "1497ce7c",
   "metadata": {},
   "outputs": [
    {
     "data": {
      "text/html": [
       "<div>\n",
       "<style scoped>\n",
       "    .dataframe tbody tr th:only-of-type {\n",
       "        vertical-align: middle;\n",
       "    }\n",
       "\n",
       "    .dataframe tbody tr th {\n",
       "        vertical-align: top;\n",
       "    }\n",
       "\n",
       "    .dataframe thead th {\n",
       "        text-align: right;\n",
       "    }\n",
       "</style>\n",
       "<table border=\"1\" class=\"dataframe\">\n",
       "  <thead>\n",
       "    <tr style=\"text-align: right;\">\n",
       "      <th></th>\n",
       "      <th>Column_name</th>\n",
       "      <th>Total records</th>\n",
       "      <th>Missing Values</th>\n",
       "      <th>Data type</th>\n",
       "      <th>Unique values</th>\n",
       "    </tr>\n",
       "  </thead>\n",
       "  <tbody>\n",
       "    <tr>\n",
       "      <th>0</th>\n",
       "      <td>Product_ID</td>\n",
       "      <td>270003</td>\n",
       "      <td>0</td>\n",
       "      <td>object</td>\n",
       "      <td>270003</td>\n",
       "    </tr>\n",
       "    <tr>\n",
       "      <th>1</th>\n",
       "      <td>Product_desc</td>\n",
       "      <td>270003</td>\n",
       "      <td>0</td>\n",
       "      <td>object</td>\n",
       "      <td>269857</td>\n",
       "    </tr>\n",
       "    <tr>\n",
       "      <th>2</th>\n",
       "      <td>Product_type</td>\n",
       "      <td>270003</td>\n",
       "      <td>0</td>\n",
       "      <td>category</td>\n",
       "      <td>2</td>\n",
       "    </tr>\n",
       "    <tr>\n",
       "      <th>3</th>\n",
       "      <td>Product_category</td>\n",
       "      <td>270003</td>\n",
       "      <td>0</td>\n",
       "      <td>category</td>\n",
       "      <td>5</td>\n",
       "    </tr>\n",
       "    <tr>\n",
       "      <th>4</th>\n",
       "      <td>Product_subcategory</td>\n",
       "      <td>270003</td>\n",
       "      <td>0</td>\n",
       "      <td>category</td>\n",
       "      <td>15</td>\n",
       "    </tr>\n",
       "    <tr>\n",
       "      <th>5</th>\n",
       "      <td>Width</td>\n",
       "      <td>270003</td>\n",
       "      <td>0</td>\n",
       "      <td>float64</td>\n",
       "      <td>137</td>\n",
       "    </tr>\n",
       "    <tr>\n",
       "      <th>6</th>\n",
       "      <td>Height</td>\n",
       "      <td>270003</td>\n",
       "      <td>0</td>\n",
       "      <td>float64</td>\n",
       "      <td>1771</td>\n",
       "    </tr>\n",
       "    <tr>\n",
       "      <th>7</th>\n",
       "      <td>Product_color</td>\n",
       "      <td>270003</td>\n",
       "      <td>0</td>\n",
       "      <td>category</td>\n",
       "      <td>3</td>\n",
       "    </tr>\n",
       "    <tr>\n",
       "      <th>8</th>\n",
       "      <td>Product_handle</td>\n",
       "      <td>270003</td>\n",
       "      <td>0</td>\n",
       "      <td>category</td>\n",
       "      <td>3</td>\n",
       "    </tr>\n",
       "    <tr>\n",
       "      <th>9</th>\n",
       "      <td>Product_hinge</td>\n",
       "      <td>270003</td>\n",
       "      <td>0</td>\n",
       "      <td>category</td>\n",
       "      <td>2</td>\n",
       "    </tr>\n",
       "    <tr>\n",
       "      <th>10</th>\n",
       "      <td>Product_packing</td>\n",
       "      <td>270003</td>\n",
       "      <td>0</td>\n",
       "      <td>category</td>\n",
       "      <td>2</td>\n",
       "    </tr>\n",
       "    <tr>\n",
       "      <th>11</th>\n",
       "      <td>Product_batch</td>\n",
       "      <td>270003</td>\n",
       "      <td>0</td>\n",
       "      <td>float64</td>\n",
       "      <td>98</td>\n",
       "    </tr>\n",
       "    <tr>\n",
       "      <th>12</th>\n",
       "      <td>Product_costs</td>\n",
       "      <td>270003</td>\n",
       "      <td>0</td>\n",
       "      <td>float64</td>\n",
       "      <td>14525</td>\n",
       "    </tr>\n",
       "  </tbody>\n",
       "</table>\n",
       "</div>"
      ],
      "text/plain": [
       "            Column_name  Total records  Missing Values Data type  \\\n",
       "0            Product_ID         270003               0    object   \n",
       "1          Product_desc         270003               0    object   \n",
       "2          Product_type         270003               0  category   \n",
       "3      Product_category         270003               0  category   \n",
       "4   Product_subcategory         270003               0  category   \n",
       "5                 Width         270003               0   float64   \n",
       "6                Height         270003               0   float64   \n",
       "7         Product_color         270003               0  category   \n",
       "8        Product_handle         270003               0  category   \n",
       "9         Product_hinge         270003               0  category   \n",
       "10      Product_packing         270003               0  category   \n",
       "11        Product_batch         270003               0   float64   \n",
       "12        Product_costs         270003               0   float64   \n",
       "\n",
       "    Unique values  \n",
       "0          270003  \n",
       "1          269857  \n",
       "2               2  \n",
       "3               5  \n",
       "4              15  \n",
       "5             137  \n",
       "6            1771  \n",
       "7               3  \n",
       "8               3  \n",
       "9               2  \n",
       "10              2  \n",
       "11             98  \n",
       "12          14525  "
      ]
     },
     "execution_count": 238,
     "metadata": {},
     "output_type": "execute_result"
    }
   ],
   "source": [
    "dataframe_info(df)"
   ]
  },
  {
   "cell_type": "code",
   "execution_count": 239,
   "id": "fd8e3b72",
   "metadata": {},
   "outputs": [
    {
     "data": {
      "text/plain": [
       "['RAL7024', 'RAL9005', 'RAL7035']\n",
       "Categories (3, object): ['RAL7024', 'RAL7035', 'RAL9005']"
      ]
     },
     "execution_count": 239,
     "metadata": {},
     "output_type": "execute_result"
    }
   ],
   "source": [
    "df['Product_color'].unique()"
   ]
  },
  {
   "cell_type": "code",
   "execution_count": 240,
   "id": "627bf0d2",
   "metadata": {},
   "outputs": [
    {
     "data": {
      "text/plain": [
       "['Product_type',\n",
       " 'Product_category',\n",
       " 'Product_subcategory',\n",
       " 'Product_color',\n",
       " 'Product_handle',\n",
       " 'Product_hinge',\n",
       " 'Product_packing']"
      ]
     },
     "execution_count": 240,
     "metadata": {},
     "output_type": "execute_result"
    }
   ],
   "source": [
    "cols_one_hot_encode = list(df.select_dtypes('category').columns)\n",
    "cols_one_hot_encode"
   ]
  },
  {
   "cell_type": "code",
   "execution_count": 241,
   "id": "094f512e",
   "metadata": {},
   "outputs": [],
   "source": [
    "df = pd.get_dummies(df, columns=cols_one_hot_encode, dtype=int)"
   ]
  },
  {
   "cell_type": "code",
   "execution_count": 242,
   "id": "d45bb7f9",
   "metadata": {},
   "outputs": [],
   "source": [
    "df = df.drop(columns=['Product_ID','Product_desc'])"
   ]
  },
  {
   "cell_type": "code",
   "execution_count": 243,
   "id": "7e89e240",
   "metadata": {},
   "outputs": [
    {
     "data": {
      "text/html": [
       "<div>\n",
       "<style scoped>\n",
       "    .dataframe tbody tr th:only-of-type {\n",
       "        vertical-align: middle;\n",
       "    }\n",
       "\n",
       "    .dataframe tbody tr th {\n",
       "        vertical-align: top;\n",
       "    }\n",
       "\n",
       "    .dataframe thead th {\n",
       "        text-align: right;\n",
       "    }\n",
       "</style>\n",
       "<table border=\"1\" class=\"dataframe\">\n",
       "  <thead>\n",
       "    <tr style=\"text-align: right;\">\n",
       "      <th></th>\n",
       "      <th>Width</th>\n",
       "      <th>Height</th>\n",
       "      <th>Product_batch</th>\n",
       "      <th>Product_costs</th>\n",
       "      <th>Product_type_Door</th>\n",
       "      <th>Product_type_Frame</th>\n",
       "      <th>Product_category_Commercial</th>\n",
       "      <th>Product_category_Design</th>\n",
       "      <th>Product_category_Industrial</th>\n",
       "      <th>Product_category_Residential</th>\n",
       "      <th>...</th>\n",
       "      <th>Product_color_RAL7024</th>\n",
       "      <th>Product_color_RAL7035</th>\n",
       "      <th>Product_color_RAL9005</th>\n",
       "      <th>Product_handle_Aluminum (AL)</th>\n",
       "      <th>Product_handle_Plastic (PL)</th>\n",
       "      <th>Product_handle_Steel (ST)</th>\n",
       "      <th>Product_hinge_Left</th>\n",
       "      <th>Product_hinge_Right</th>\n",
       "      <th>Product_packing_Cardbox</th>\n",
       "      <th>Product_packing_Wooden box</th>\n",
       "    </tr>\n",
       "  </thead>\n",
       "  <tbody>\n",
       "    <tr>\n",
       "      <th>0</th>\n",
       "      <td>638.0</td>\n",
       "      <td>336.0</td>\n",
       "      <td>56.0</td>\n",
       "      <td>173.67</td>\n",
       "      <td>0</td>\n",
       "      <td>1</td>\n",
       "      <td>0</td>\n",
       "      <td>0</td>\n",
       "      <td>1</td>\n",
       "      <td>0</td>\n",
       "      <td>...</td>\n",
       "      <td>1</td>\n",
       "      <td>0</td>\n",
       "      <td>0</td>\n",
       "      <td>1</td>\n",
       "      <td>0</td>\n",
       "      <td>0</td>\n",
       "      <td>1</td>\n",
       "      <td>0</td>\n",
       "      <td>1</td>\n",
       "      <td>0</td>\n",
       "    </tr>\n",
       "    <tr>\n",
       "      <th>2</th>\n",
       "      <td>699.0</td>\n",
       "      <td>1143.0</td>\n",
       "      <td>84.0</td>\n",
       "      <td>121.27</td>\n",
       "      <td>0</td>\n",
       "      <td>1</td>\n",
       "      <td>0</td>\n",
       "      <td>0</td>\n",
       "      <td>0</td>\n",
       "      <td>1</td>\n",
       "      <td>...</td>\n",
       "      <td>0</td>\n",
       "      <td>0</td>\n",
       "      <td>1</td>\n",
       "      <td>0</td>\n",
       "      <td>0</td>\n",
       "      <td>1</td>\n",
       "      <td>1</td>\n",
       "      <td>0</td>\n",
       "      <td>1</td>\n",
       "      <td>0</td>\n",
       "    </tr>\n",
       "    <tr>\n",
       "      <th>3</th>\n",
       "      <td>614.0</td>\n",
       "      <td>1493.0</td>\n",
       "      <td>22.0</td>\n",
       "      <td>216.81</td>\n",
       "      <td>1</td>\n",
       "      <td>0</td>\n",
       "      <td>1</td>\n",
       "      <td>0</td>\n",
       "      <td>0</td>\n",
       "      <td>0</td>\n",
       "      <td>...</td>\n",
       "      <td>0</td>\n",
       "      <td>0</td>\n",
       "      <td>1</td>\n",
       "      <td>1</td>\n",
       "      <td>0</td>\n",
       "      <td>0</td>\n",
       "      <td>1</td>\n",
       "      <td>0</td>\n",
       "      <td>1</td>\n",
       "      <td>0</td>\n",
       "    </tr>\n",
       "    <tr>\n",
       "      <th>4</th>\n",
       "      <td>750.0</td>\n",
       "      <td>1275.0</td>\n",
       "      <td>99.0</td>\n",
       "      <td>108.44</td>\n",
       "      <td>0</td>\n",
       "      <td>1</td>\n",
       "      <td>1</td>\n",
       "      <td>0</td>\n",
       "      <td>0</td>\n",
       "      <td>0</td>\n",
       "      <td>...</td>\n",
       "      <td>1</td>\n",
       "      <td>0</td>\n",
       "      <td>0</td>\n",
       "      <td>1</td>\n",
       "      <td>0</td>\n",
       "      <td>0</td>\n",
       "      <td>1</td>\n",
       "      <td>0</td>\n",
       "      <td>1</td>\n",
       "      <td>0</td>\n",
       "    </tr>\n",
       "    <tr>\n",
       "      <th>5</th>\n",
       "      <td>620.0</td>\n",
       "      <td>523.0</td>\n",
       "      <td>36.0</td>\n",
       "      <td>194.53</td>\n",
       "      <td>1</td>\n",
       "      <td>0</td>\n",
       "      <td>0</td>\n",
       "      <td>1</td>\n",
       "      <td>0</td>\n",
       "      <td>0</td>\n",
       "      <td>...</td>\n",
       "      <td>0</td>\n",
       "      <td>1</td>\n",
       "      <td>0</td>\n",
       "      <td>0</td>\n",
       "      <td>0</td>\n",
       "      <td>1</td>\n",
       "      <td>0</td>\n",
       "      <td>1</td>\n",
       "      <td>1</td>\n",
       "      <td>0</td>\n",
       "    </tr>\n",
       "    <tr>\n",
       "      <th>...</th>\n",
       "      <td>...</td>\n",
       "      <td>...</td>\n",
       "      <td>...</td>\n",
       "      <td>...</td>\n",
       "      <td>...</td>\n",
       "      <td>...</td>\n",
       "      <td>...</td>\n",
       "      <td>...</td>\n",
       "      <td>...</td>\n",
       "      <td>...</td>\n",
       "      <td>...</td>\n",
       "      <td>...</td>\n",
       "      <td>...</td>\n",
       "      <td>...</td>\n",
       "      <td>...</td>\n",
       "      <td>...</td>\n",
       "      <td>...</td>\n",
       "      <td>...</td>\n",
       "      <td>...</td>\n",
       "      <td>...</td>\n",
       "      <td>...</td>\n",
       "    </tr>\n",
       "    <tr>\n",
       "      <th>299995</th>\n",
       "      <td>747.0</td>\n",
       "      <td>1177.0</td>\n",
       "      <td>50.0</td>\n",
       "      <td>171.20</td>\n",
       "      <td>0</td>\n",
       "      <td>1</td>\n",
       "      <td>0</td>\n",
       "      <td>1</td>\n",
       "      <td>0</td>\n",
       "      <td>0</td>\n",
       "      <td>...</td>\n",
       "      <td>0</td>\n",
       "      <td>0</td>\n",
       "      <td>1</td>\n",
       "      <td>1</td>\n",
       "      <td>0</td>\n",
       "      <td>0</td>\n",
       "      <td>1</td>\n",
       "      <td>0</td>\n",
       "      <td>1</td>\n",
       "      <td>0</td>\n",
       "    </tr>\n",
       "    <tr>\n",
       "      <th>299996</th>\n",
       "      <td>717.0</td>\n",
       "      <td>1515.0</td>\n",
       "      <td>76.0</td>\n",
       "      <td>128.36</td>\n",
       "      <td>1</td>\n",
       "      <td>0</td>\n",
       "      <td>1</td>\n",
       "      <td>0</td>\n",
       "      <td>0</td>\n",
       "      <td>0</td>\n",
       "      <td>...</td>\n",
       "      <td>0</td>\n",
       "      <td>1</td>\n",
       "      <td>0</td>\n",
       "      <td>0</td>\n",
       "      <td>0</td>\n",
       "      <td>1</td>\n",
       "      <td>0</td>\n",
       "      <td>1</td>\n",
       "      <td>1</td>\n",
       "      <td>0</td>\n",
       "    </tr>\n",
       "    <tr>\n",
       "      <th>299997</th>\n",
       "      <td>619.0</td>\n",
       "      <td>1114.0</td>\n",
       "      <td>32.0</td>\n",
       "      <td>207.19</td>\n",
       "      <td>0</td>\n",
       "      <td>1</td>\n",
       "      <td>0</td>\n",
       "      <td>1</td>\n",
       "      <td>0</td>\n",
       "      <td>0</td>\n",
       "      <td>...</td>\n",
       "      <td>0</td>\n",
       "      <td>1</td>\n",
       "      <td>0</td>\n",
       "      <td>0</td>\n",
       "      <td>0</td>\n",
       "      <td>1</td>\n",
       "      <td>0</td>\n",
       "      <td>1</td>\n",
       "      <td>1</td>\n",
       "      <td>0</td>\n",
       "    </tr>\n",
       "    <tr>\n",
       "      <th>299998</th>\n",
       "      <td>648.0</td>\n",
       "      <td>1149.0</td>\n",
       "      <td>37.0</td>\n",
       "      <td>188.61</td>\n",
       "      <td>0</td>\n",
       "      <td>1</td>\n",
       "      <td>1</td>\n",
       "      <td>0</td>\n",
       "      <td>0</td>\n",
       "      <td>0</td>\n",
       "      <td>...</td>\n",
       "      <td>1</td>\n",
       "      <td>0</td>\n",
       "      <td>0</td>\n",
       "      <td>0</td>\n",
       "      <td>1</td>\n",
       "      <td>0</td>\n",
       "      <td>0</td>\n",
       "      <td>1</td>\n",
       "      <td>1</td>\n",
       "      <td>0</td>\n",
       "    </tr>\n",
       "    <tr>\n",
       "      <th>299999</th>\n",
       "      <td>677.0</td>\n",
       "      <td>202.0</td>\n",
       "      <td>95.0</td>\n",
       "      <td>107.53</td>\n",
       "      <td>1</td>\n",
       "      <td>0</td>\n",
       "      <td>0</td>\n",
       "      <td>0</td>\n",
       "      <td>0</td>\n",
       "      <td>0</td>\n",
       "      <td>...</td>\n",
       "      <td>0</td>\n",
       "      <td>1</td>\n",
       "      <td>0</td>\n",
       "      <td>0</td>\n",
       "      <td>1</td>\n",
       "      <td>0</td>\n",
       "      <td>0</td>\n",
       "      <td>1</td>\n",
       "      <td>1</td>\n",
       "      <td>0</td>\n",
       "    </tr>\n",
       "  </tbody>\n",
       "</table>\n",
       "<p>270003 rows × 36 columns</p>\n",
       "</div>"
      ],
      "text/plain": [
       "        Width  Height  Product_batch  Product_costs  Product_type_Door  \\\n",
       "0       638.0   336.0           56.0         173.67                  0   \n",
       "2       699.0  1143.0           84.0         121.27                  0   \n",
       "3       614.0  1493.0           22.0         216.81                  1   \n",
       "4       750.0  1275.0           99.0         108.44                  0   \n",
       "5       620.0   523.0           36.0         194.53                  1   \n",
       "...       ...     ...            ...            ...                ...   \n",
       "299995  747.0  1177.0           50.0         171.20                  0   \n",
       "299996  717.0  1515.0           76.0         128.36                  1   \n",
       "299997  619.0  1114.0           32.0         207.19                  0   \n",
       "299998  648.0  1149.0           37.0         188.61                  0   \n",
       "299999  677.0   202.0           95.0         107.53                  1   \n",
       "\n",
       "        Product_type_Frame  Product_category_Commercial  \\\n",
       "0                        1                            0   \n",
       "2                        1                            0   \n",
       "3                        0                            1   \n",
       "4                        1                            1   \n",
       "5                        0                            0   \n",
       "...                    ...                          ...   \n",
       "299995                   1                            0   \n",
       "299996                   0                            1   \n",
       "299997                   1                            0   \n",
       "299998                   1                            1   \n",
       "299999                   0                            0   \n",
       "\n",
       "        Product_category_Design  Product_category_Industrial  \\\n",
       "0                             0                            1   \n",
       "2                             0                            0   \n",
       "3                             0                            0   \n",
       "4                             0                            0   \n",
       "5                             1                            0   \n",
       "...                         ...                          ...   \n",
       "299995                        1                            0   \n",
       "299996                        0                            0   \n",
       "299997                        1                            0   \n",
       "299998                        0                            0   \n",
       "299999                        0                            0   \n",
       "\n",
       "        Product_category_Residential  ...  Product_color_RAL7024  \\\n",
       "0                                  0  ...                      1   \n",
       "2                                  1  ...                      0   \n",
       "3                                  0  ...                      0   \n",
       "4                                  0  ...                      1   \n",
       "5                                  0  ...                      0   \n",
       "...                              ...  ...                    ...   \n",
       "299995                             0  ...                      0   \n",
       "299996                             0  ...                      0   \n",
       "299997                             0  ...                      0   \n",
       "299998                             0  ...                      1   \n",
       "299999                             0  ...                      0   \n",
       "\n",
       "        Product_color_RAL7035  Product_color_RAL9005  \\\n",
       "0                           0                      0   \n",
       "2                           0                      1   \n",
       "3                           0                      1   \n",
       "4                           0                      0   \n",
       "5                           1                      0   \n",
       "...                       ...                    ...   \n",
       "299995                      0                      1   \n",
       "299996                      1                      0   \n",
       "299997                      1                      0   \n",
       "299998                      0                      0   \n",
       "299999                      1                      0   \n",
       "\n",
       "        Product_handle_Aluminum (AL)  Product_handle_Plastic (PL)  \\\n",
       "0                                  1                            0   \n",
       "2                                  0                            0   \n",
       "3                                  1                            0   \n",
       "4                                  1                            0   \n",
       "5                                  0                            0   \n",
       "...                              ...                          ...   \n",
       "299995                             1                            0   \n",
       "299996                             0                            0   \n",
       "299997                             0                            0   \n",
       "299998                             0                            1   \n",
       "299999                             0                            1   \n",
       "\n",
       "        Product_handle_Steel (ST)  Product_hinge_Left  Product_hinge_Right  \\\n",
       "0                               0                   1                    0   \n",
       "2                               1                   1                    0   \n",
       "3                               0                   1                    0   \n",
       "4                               0                   1                    0   \n",
       "5                               1                   0                    1   \n",
       "...                           ...                 ...                  ...   \n",
       "299995                          0                   1                    0   \n",
       "299996                          1                   0                    1   \n",
       "299997                          1                   0                    1   \n",
       "299998                          0                   0                    1   \n",
       "299999                          0                   0                    1   \n",
       "\n",
       "        Product_packing_Cardbox  Product_packing_Wooden box  \n",
       "0                             1                           0  \n",
       "2                             1                           0  \n",
       "3                             1                           0  \n",
       "4                             1                           0  \n",
       "5                             1                           0  \n",
       "...                         ...                         ...  \n",
       "299995                        1                           0  \n",
       "299996                        1                           0  \n",
       "299997                        1                           0  \n",
       "299998                        1                           0  \n",
       "299999                        1                           0  \n",
       "\n",
       "[270003 rows x 36 columns]"
      ]
     },
     "execution_count": 243,
     "metadata": {},
     "output_type": "execute_result"
    }
   ],
   "source": [
    "df"
   ]
  },
  {
   "cell_type": "code",
   "execution_count": 244,
   "id": "8a3f2635",
   "metadata": {},
   "outputs": [
    {
     "data": {
      "text/plain": [
       "Index(['Width', 'Height', 'Product_batch', 'Product_costs',\n",
       "       'Product_type_Door', 'Product_type_Frame',\n",
       "       'Product_category_Commercial', 'Product_category_Design',\n",
       "       'Product_category_Industrial', 'Product_category_Residential',\n",
       "       'Product_category_Security', 'Product_subcategory_Access-controlled',\n",
       "       'Product_subcategory_Balcony', 'Product_subcategory_Bulletproof',\n",
       "       'Product_subcategory_Classic', 'Product_subcategory_Exterior',\n",
       "       'Product_subcategory_Fire-rated', 'Product_subcategory_Glass-panel',\n",
       "       'Product_subcategory_Interior', 'Product_subcategory_Minimalist',\n",
       "       'Product_subcategory_Office', 'Product_subcategory_Reinforced',\n",
       "       'Product_subcategory_Retail', 'Product_subcategory_Soundproof',\n",
       "       'Product_subcategory_Thermal-insulated',\n",
       "       'Product_subcategory_Warehouse', 'Product_color_RAL7024',\n",
       "       'Product_color_RAL7035', 'Product_color_RAL9005',\n",
       "       'Product_handle_Aluminum (AL)', 'Product_handle_Plastic (PL)',\n",
       "       'Product_handle_Steel (ST)', 'Product_hinge_Left',\n",
       "       'Product_hinge_Right', 'Product_packing_Cardbox',\n",
       "       'Product_packing_Wooden box'],\n",
       "      dtype='object')"
      ]
     },
     "execution_count": 244,
     "metadata": {},
     "output_type": "execute_result"
    }
   ],
   "source": [
    "df.columns"
   ]
  },
  {
   "cell_type": "markdown",
   "id": "0d39a36f",
   "metadata": {},
   "source": [
    "# 5. TrainTest Split"
   ]
  },
  {
   "cell_type": "code",
   "execution_count": 245,
   "id": "8fb257e7",
   "metadata": {},
   "outputs": [],
   "source": [
    "from sklearn.model_selection import train_test_split"
   ]
  },
  {
   "cell_type": "code",
   "execution_count": 246,
   "id": "7f5c199a",
   "metadata": {},
   "outputs": [],
   "source": [
    "X = df.drop(columns=['Product_costs'])\n",
    "y = df['Product_costs']"
   ]
  },
  {
   "cell_type": "code",
   "execution_count": 247,
   "id": "8c956d6f",
   "metadata": {},
   "outputs": [
    {
     "data": {
      "text/plain": [
       "Index(['Width', 'Height', 'Product_batch', 'Product_type_Door',\n",
       "       'Product_type_Frame', 'Product_category_Commercial',\n",
       "       'Product_category_Design', 'Product_category_Industrial',\n",
       "       'Product_category_Residential', 'Product_category_Security',\n",
       "       'Product_subcategory_Access-controlled', 'Product_subcategory_Balcony',\n",
       "       'Product_subcategory_Bulletproof', 'Product_subcategory_Classic',\n",
       "       'Product_subcategory_Exterior', 'Product_subcategory_Fire-rated',\n",
       "       'Product_subcategory_Glass-panel', 'Product_subcategory_Interior',\n",
       "       'Product_subcategory_Minimalist', 'Product_subcategory_Office',\n",
       "       'Product_subcategory_Reinforced', 'Product_subcategory_Retail',\n",
       "       'Product_subcategory_Soundproof',\n",
       "       'Product_subcategory_Thermal-insulated',\n",
       "       'Product_subcategory_Warehouse', 'Product_color_RAL7024',\n",
       "       'Product_color_RAL7035', 'Product_color_RAL9005',\n",
       "       'Product_handle_Aluminum (AL)', 'Product_handle_Plastic (PL)',\n",
       "       'Product_handle_Steel (ST)', 'Product_hinge_Left',\n",
       "       'Product_hinge_Right', 'Product_packing_Cardbox',\n",
       "       'Product_packing_Wooden box'],\n",
       "      dtype='object')"
      ]
     },
     "execution_count": 247,
     "metadata": {},
     "output_type": "execute_result"
    }
   ],
   "source": [
    "X.columns"
   ]
  },
  {
   "cell_type": "code",
   "execution_count": 248,
   "id": "5269aa52",
   "metadata": {},
   "outputs": [],
   "source": [
    "X_train, X_test, y_train, y_test = train_test_split(X, y, test_size=0.2, random_state=42)\n",
    "X_train, X_val, y_train, y_val = train_test_split(X_train, y_train, test_size=0.2, random_state=42)\n"
   ]
  },
  {
   "cell_type": "code",
   "execution_count": 249,
   "id": "37642e9b",
   "metadata": {},
   "outputs": [],
   "source": [
    "from scipy.stats import zscore"
   ]
  },
  {
   "cell_type": "code",
   "execution_count": 250,
   "id": "ad45f117",
   "metadata": {},
   "outputs": [],
   "source": [
    "z_scores = zscore(y_train)"
   ]
  },
  {
   "cell_type": "code",
   "execution_count": 251,
   "id": "dd49ee72",
   "metadata": {},
   "outputs": [],
   "source": [
    "mask = np.abs(z_scores) < 3\n"
   ]
  },
  {
   "cell_type": "code",
   "execution_count": 252,
   "id": "49027558",
   "metadata": {},
   "outputs": [],
   "source": [
    "X_train = X_train[mask]\n",
    "y_train = y_train[mask]"
   ]
  },
  {
   "cell_type": "markdown",
   "id": "b51507d8",
   "metadata": {},
   "source": [
    "# 6. Standardization"
   ]
  },
  {
   "cell_type": "code",
   "execution_count": 253,
   "id": "2841107f",
   "metadata": {},
   "outputs": [],
   "source": [
    "from sklearn.preprocessing import StandardScaler\n",
    "scaler = StandardScaler()\n",
    "\n",
    "X_train_standardized = pd.DataFrame(scaler.fit_transform(X_train))\n",
    "X_val_standardized = pd.DataFrame(scaler.transform(X_val))\n",
    "X_test_standardized = pd.DataFrame(scaler.transform(X_test))\n",
    "X_train_standardized.columns = X_train.columns\n",
    "X_val_standardized.columns = X_val.columns\n",
    "X_test_standardized.columns = X_test.columns"
   ]
  },
  {
   "cell_type": "markdown",
   "id": "a84e3e4a",
   "metadata": {},
   "source": [
    "# 7. Models"
   ]
  },
  {
   "cell_type": "code",
   "execution_count": 254,
   "id": "92004dcb",
   "metadata": {},
   "outputs": [],
   "source": [
    "from sklearn.metrics import mean_absolute_error, root_mean_squared_error"
   ]
  },
  {
   "cell_type": "markdown",
   "id": "eaa73a1b",
   "metadata": {},
   "source": [
    "## 7.1 Linear Regresion"
   ]
  },
  {
   "cell_type": "markdown",
   "id": "e20e9f76",
   "metadata": {},
   "source": [
    "### 7.1.1 Default linear model"
   ]
  },
  {
   "cell_type": "code",
   "execution_count": 255,
   "id": "7bfcb30f",
   "metadata": {},
   "outputs": [
    {
     "data": {
      "text/html": [
       "<style>#sk-container-id-3 {\n",
       "  /* Definition of color scheme common for light and dark mode */\n",
       "  --sklearn-color-text: #000;\n",
       "  --sklearn-color-text-muted: #666;\n",
       "  --sklearn-color-line: gray;\n",
       "  /* Definition of color scheme for unfitted estimators */\n",
       "  --sklearn-color-unfitted-level-0: #fff5e6;\n",
       "  --sklearn-color-unfitted-level-1: #f6e4d2;\n",
       "  --sklearn-color-unfitted-level-2: #ffe0b3;\n",
       "  --sklearn-color-unfitted-level-3: chocolate;\n",
       "  /* Definition of color scheme for fitted estimators */\n",
       "  --sklearn-color-fitted-level-0: #f0f8ff;\n",
       "  --sklearn-color-fitted-level-1: #d4ebff;\n",
       "  --sklearn-color-fitted-level-2: #b3dbfd;\n",
       "  --sklearn-color-fitted-level-3: cornflowerblue;\n",
       "\n",
       "  /* Specific color for light theme */\n",
       "  --sklearn-color-text-on-default-background: var(--sg-text-color, var(--theme-code-foreground, var(--jp-content-font-color1, black)));\n",
       "  --sklearn-color-background: var(--sg-background-color, var(--theme-background, var(--jp-layout-color0, white)));\n",
       "  --sklearn-color-border-box: var(--sg-text-color, var(--theme-code-foreground, var(--jp-content-font-color1, black)));\n",
       "  --sklearn-color-icon: #696969;\n",
       "\n",
       "  @media (prefers-color-scheme: dark) {\n",
       "    /* Redefinition of color scheme for dark theme */\n",
       "    --sklearn-color-text-on-default-background: var(--sg-text-color, var(--theme-code-foreground, var(--jp-content-font-color1, white)));\n",
       "    --sklearn-color-background: var(--sg-background-color, var(--theme-background, var(--jp-layout-color0, #111)));\n",
       "    --sklearn-color-border-box: var(--sg-text-color, var(--theme-code-foreground, var(--jp-content-font-color1, white)));\n",
       "    --sklearn-color-icon: #878787;\n",
       "  }\n",
       "}\n",
       "\n",
       "#sk-container-id-3 {\n",
       "  color: var(--sklearn-color-text);\n",
       "}\n",
       "\n",
       "#sk-container-id-3 pre {\n",
       "  padding: 0;\n",
       "}\n",
       "\n",
       "#sk-container-id-3 input.sk-hidden--visually {\n",
       "  border: 0;\n",
       "  clip: rect(1px 1px 1px 1px);\n",
       "  clip: rect(1px, 1px, 1px, 1px);\n",
       "  height: 1px;\n",
       "  margin: -1px;\n",
       "  overflow: hidden;\n",
       "  padding: 0;\n",
       "  position: absolute;\n",
       "  width: 1px;\n",
       "}\n",
       "\n",
       "#sk-container-id-3 div.sk-dashed-wrapped {\n",
       "  border: 1px dashed var(--sklearn-color-line);\n",
       "  margin: 0 0.4em 0.5em 0.4em;\n",
       "  box-sizing: border-box;\n",
       "  padding-bottom: 0.4em;\n",
       "  background-color: var(--sklearn-color-background);\n",
       "}\n",
       "\n",
       "#sk-container-id-3 div.sk-container {\n",
       "  /* jupyter's `normalize.less` sets `[hidden] { display: none; }`\n",
       "     but bootstrap.min.css set `[hidden] { display: none !important; }`\n",
       "     so we also need the `!important` here to be able to override the\n",
       "     default hidden behavior on the sphinx rendered scikit-learn.org.\n",
       "     See: https://github.com/scikit-learn/scikit-learn/issues/21755 */\n",
       "  display: inline-block !important;\n",
       "  position: relative;\n",
       "}\n",
       "\n",
       "#sk-container-id-3 div.sk-text-repr-fallback {\n",
       "  display: none;\n",
       "}\n",
       "\n",
       "div.sk-parallel-item,\n",
       "div.sk-serial,\n",
       "div.sk-item {\n",
       "  /* draw centered vertical line to link estimators */\n",
       "  background-image: linear-gradient(var(--sklearn-color-text-on-default-background), var(--sklearn-color-text-on-default-background));\n",
       "  background-size: 2px 100%;\n",
       "  background-repeat: no-repeat;\n",
       "  background-position: center center;\n",
       "}\n",
       "\n",
       "/* Parallel-specific style estimator block */\n",
       "\n",
       "#sk-container-id-3 div.sk-parallel-item::after {\n",
       "  content: \"\";\n",
       "  width: 100%;\n",
       "  border-bottom: 2px solid var(--sklearn-color-text-on-default-background);\n",
       "  flex-grow: 1;\n",
       "}\n",
       "\n",
       "#sk-container-id-3 div.sk-parallel {\n",
       "  display: flex;\n",
       "  align-items: stretch;\n",
       "  justify-content: center;\n",
       "  background-color: var(--sklearn-color-background);\n",
       "  position: relative;\n",
       "}\n",
       "\n",
       "#sk-container-id-3 div.sk-parallel-item {\n",
       "  display: flex;\n",
       "  flex-direction: column;\n",
       "}\n",
       "\n",
       "#sk-container-id-3 div.sk-parallel-item:first-child::after {\n",
       "  align-self: flex-end;\n",
       "  width: 50%;\n",
       "}\n",
       "\n",
       "#sk-container-id-3 div.sk-parallel-item:last-child::after {\n",
       "  align-self: flex-start;\n",
       "  width: 50%;\n",
       "}\n",
       "\n",
       "#sk-container-id-3 div.sk-parallel-item:only-child::after {\n",
       "  width: 0;\n",
       "}\n",
       "\n",
       "/* Serial-specific style estimator block */\n",
       "\n",
       "#sk-container-id-3 div.sk-serial {\n",
       "  display: flex;\n",
       "  flex-direction: column;\n",
       "  align-items: center;\n",
       "  background-color: var(--sklearn-color-background);\n",
       "  padding-right: 1em;\n",
       "  padding-left: 1em;\n",
       "}\n",
       "\n",
       "\n",
       "/* Toggleable style: style used for estimator/Pipeline/ColumnTransformer box that is\n",
       "clickable and can be expanded/collapsed.\n",
       "- Pipeline and ColumnTransformer use this feature and define the default style\n",
       "- Estimators will overwrite some part of the style using the `sk-estimator` class\n",
       "*/\n",
       "\n",
       "/* Pipeline and ColumnTransformer style (default) */\n",
       "\n",
       "#sk-container-id-3 div.sk-toggleable {\n",
       "  /* Default theme specific background. It is overwritten whether we have a\n",
       "  specific estimator or a Pipeline/ColumnTransformer */\n",
       "  background-color: var(--sklearn-color-background);\n",
       "}\n",
       "\n",
       "/* Toggleable label */\n",
       "#sk-container-id-3 label.sk-toggleable__label {\n",
       "  cursor: pointer;\n",
       "  display: flex;\n",
       "  width: 100%;\n",
       "  margin-bottom: 0;\n",
       "  padding: 0.5em;\n",
       "  box-sizing: border-box;\n",
       "  text-align: center;\n",
       "  align-items: start;\n",
       "  justify-content: space-between;\n",
       "  gap: 0.5em;\n",
       "}\n",
       "\n",
       "#sk-container-id-3 label.sk-toggleable__label .caption {\n",
       "  font-size: 0.6rem;\n",
       "  font-weight: lighter;\n",
       "  color: var(--sklearn-color-text-muted);\n",
       "}\n",
       "\n",
       "#sk-container-id-3 label.sk-toggleable__label-arrow:before {\n",
       "  /* Arrow on the left of the label */\n",
       "  content: \"▸\";\n",
       "  float: left;\n",
       "  margin-right: 0.25em;\n",
       "  color: var(--sklearn-color-icon);\n",
       "}\n",
       "\n",
       "#sk-container-id-3 label.sk-toggleable__label-arrow:hover:before {\n",
       "  color: var(--sklearn-color-text);\n",
       "}\n",
       "\n",
       "/* Toggleable content - dropdown */\n",
       "\n",
       "#sk-container-id-3 div.sk-toggleable__content {\n",
       "  max-height: 0;\n",
       "  max-width: 0;\n",
       "  overflow: hidden;\n",
       "  text-align: left;\n",
       "  /* unfitted */\n",
       "  background-color: var(--sklearn-color-unfitted-level-0);\n",
       "}\n",
       "\n",
       "#sk-container-id-3 div.sk-toggleable__content.fitted {\n",
       "  /* fitted */\n",
       "  background-color: var(--sklearn-color-fitted-level-0);\n",
       "}\n",
       "\n",
       "#sk-container-id-3 div.sk-toggleable__content pre {\n",
       "  margin: 0.2em;\n",
       "  border-radius: 0.25em;\n",
       "  color: var(--sklearn-color-text);\n",
       "  /* unfitted */\n",
       "  background-color: var(--sklearn-color-unfitted-level-0);\n",
       "}\n",
       "\n",
       "#sk-container-id-3 div.sk-toggleable__content.fitted pre {\n",
       "  /* unfitted */\n",
       "  background-color: var(--sklearn-color-fitted-level-0);\n",
       "}\n",
       "\n",
       "#sk-container-id-3 input.sk-toggleable__control:checked~div.sk-toggleable__content {\n",
       "  /* Expand drop-down */\n",
       "  max-height: 200px;\n",
       "  max-width: 100%;\n",
       "  overflow: auto;\n",
       "}\n",
       "\n",
       "#sk-container-id-3 input.sk-toggleable__control:checked~label.sk-toggleable__label-arrow:before {\n",
       "  content: \"▾\";\n",
       "}\n",
       "\n",
       "/* Pipeline/ColumnTransformer-specific style */\n",
       "\n",
       "#sk-container-id-3 div.sk-label input.sk-toggleable__control:checked~label.sk-toggleable__label {\n",
       "  color: var(--sklearn-color-text);\n",
       "  background-color: var(--sklearn-color-unfitted-level-2);\n",
       "}\n",
       "\n",
       "#sk-container-id-3 div.sk-label.fitted input.sk-toggleable__control:checked~label.sk-toggleable__label {\n",
       "  background-color: var(--sklearn-color-fitted-level-2);\n",
       "}\n",
       "\n",
       "/* Estimator-specific style */\n",
       "\n",
       "/* Colorize estimator box */\n",
       "#sk-container-id-3 div.sk-estimator input.sk-toggleable__control:checked~label.sk-toggleable__label {\n",
       "  /* unfitted */\n",
       "  background-color: var(--sklearn-color-unfitted-level-2);\n",
       "}\n",
       "\n",
       "#sk-container-id-3 div.sk-estimator.fitted input.sk-toggleable__control:checked~label.sk-toggleable__label {\n",
       "  /* fitted */\n",
       "  background-color: var(--sklearn-color-fitted-level-2);\n",
       "}\n",
       "\n",
       "#sk-container-id-3 div.sk-label label.sk-toggleable__label,\n",
       "#sk-container-id-3 div.sk-label label {\n",
       "  /* The background is the default theme color */\n",
       "  color: var(--sklearn-color-text-on-default-background);\n",
       "}\n",
       "\n",
       "/* On hover, darken the color of the background */\n",
       "#sk-container-id-3 div.sk-label:hover label.sk-toggleable__label {\n",
       "  color: var(--sklearn-color-text);\n",
       "  background-color: var(--sklearn-color-unfitted-level-2);\n",
       "}\n",
       "\n",
       "/* Label box, darken color on hover, fitted */\n",
       "#sk-container-id-3 div.sk-label.fitted:hover label.sk-toggleable__label.fitted {\n",
       "  color: var(--sklearn-color-text);\n",
       "  background-color: var(--sklearn-color-fitted-level-2);\n",
       "}\n",
       "\n",
       "/* Estimator label */\n",
       "\n",
       "#sk-container-id-3 div.sk-label label {\n",
       "  font-family: monospace;\n",
       "  font-weight: bold;\n",
       "  display: inline-block;\n",
       "  line-height: 1.2em;\n",
       "}\n",
       "\n",
       "#sk-container-id-3 div.sk-label-container {\n",
       "  text-align: center;\n",
       "}\n",
       "\n",
       "/* Estimator-specific */\n",
       "#sk-container-id-3 div.sk-estimator {\n",
       "  font-family: monospace;\n",
       "  border: 1px dotted var(--sklearn-color-border-box);\n",
       "  border-radius: 0.25em;\n",
       "  box-sizing: border-box;\n",
       "  margin-bottom: 0.5em;\n",
       "  /* unfitted */\n",
       "  background-color: var(--sklearn-color-unfitted-level-0);\n",
       "}\n",
       "\n",
       "#sk-container-id-3 div.sk-estimator.fitted {\n",
       "  /* fitted */\n",
       "  background-color: var(--sklearn-color-fitted-level-0);\n",
       "}\n",
       "\n",
       "/* on hover */\n",
       "#sk-container-id-3 div.sk-estimator:hover {\n",
       "  /* unfitted */\n",
       "  background-color: var(--sklearn-color-unfitted-level-2);\n",
       "}\n",
       "\n",
       "#sk-container-id-3 div.sk-estimator.fitted:hover {\n",
       "  /* fitted */\n",
       "  background-color: var(--sklearn-color-fitted-level-2);\n",
       "}\n",
       "\n",
       "/* Specification for estimator info (e.g. \"i\" and \"?\") */\n",
       "\n",
       "/* Common style for \"i\" and \"?\" */\n",
       "\n",
       ".sk-estimator-doc-link,\n",
       "a:link.sk-estimator-doc-link,\n",
       "a:visited.sk-estimator-doc-link {\n",
       "  float: right;\n",
       "  font-size: smaller;\n",
       "  line-height: 1em;\n",
       "  font-family: monospace;\n",
       "  background-color: var(--sklearn-color-background);\n",
       "  border-radius: 1em;\n",
       "  height: 1em;\n",
       "  width: 1em;\n",
       "  text-decoration: none !important;\n",
       "  margin-left: 0.5em;\n",
       "  text-align: center;\n",
       "  /* unfitted */\n",
       "  border: var(--sklearn-color-unfitted-level-1) 1pt solid;\n",
       "  color: var(--sklearn-color-unfitted-level-1);\n",
       "}\n",
       "\n",
       ".sk-estimator-doc-link.fitted,\n",
       "a:link.sk-estimator-doc-link.fitted,\n",
       "a:visited.sk-estimator-doc-link.fitted {\n",
       "  /* fitted */\n",
       "  border: var(--sklearn-color-fitted-level-1) 1pt solid;\n",
       "  color: var(--sklearn-color-fitted-level-1);\n",
       "}\n",
       "\n",
       "/* On hover */\n",
       "div.sk-estimator:hover .sk-estimator-doc-link:hover,\n",
       ".sk-estimator-doc-link:hover,\n",
       "div.sk-label-container:hover .sk-estimator-doc-link:hover,\n",
       ".sk-estimator-doc-link:hover {\n",
       "  /* unfitted */\n",
       "  background-color: var(--sklearn-color-unfitted-level-3);\n",
       "  color: var(--sklearn-color-background);\n",
       "  text-decoration: none;\n",
       "}\n",
       "\n",
       "div.sk-estimator.fitted:hover .sk-estimator-doc-link.fitted:hover,\n",
       ".sk-estimator-doc-link.fitted:hover,\n",
       "div.sk-label-container:hover .sk-estimator-doc-link.fitted:hover,\n",
       ".sk-estimator-doc-link.fitted:hover {\n",
       "  /* fitted */\n",
       "  background-color: var(--sklearn-color-fitted-level-3);\n",
       "  color: var(--sklearn-color-background);\n",
       "  text-decoration: none;\n",
       "}\n",
       "\n",
       "/* Span, style for the box shown on hovering the info icon */\n",
       ".sk-estimator-doc-link span {\n",
       "  display: none;\n",
       "  z-index: 9999;\n",
       "  position: relative;\n",
       "  font-weight: normal;\n",
       "  right: .2ex;\n",
       "  padding: .5ex;\n",
       "  margin: .5ex;\n",
       "  width: min-content;\n",
       "  min-width: 20ex;\n",
       "  max-width: 50ex;\n",
       "  color: var(--sklearn-color-text);\n",
       "  box-shadow: 2pt 2pt 4pt #999;\n",
       "  /* unfitted */\n",
       "  background: var(--sklearn-color-unfitted-level-0);\n",
       "  border: .5pt solid var(--sklearn-color-unfitted-level-3);\n",
       "}\n",
       "\n",
       ".sk-estimator-doc-link.fitted span {\n",
       "  /* fitted */\n",
       "  background: var(--sklearn-color-fitted-level-0);\n",
       "  border: var(--sklearn-color-fitted-level-3);\n",
       "}\n",
       "\n",
       ".sk-estimator-doc-link:hover span {\n",
       "  display: block;\n",
       "}\n",
       "\n",
       "/* \"?\"-specific style due to the `<a>` HTML tag */\n",
       "\n",
       "#sk-container-id-3 a.estimator_doc_link {\n",
       "  float: right;\n",
       "  font-size: 1rem;\n",
       "  line-height: 1em;\n",
       "  font-family: monospace;\n",
       "  background-color: var(--sklearn-color-background);\n",
       "  border-radius: 1rem;\n",
       "  height: 1rem;\n",
       "  width: 1rem;\n",
       "  text-decoration: none;\n",
       "  /* unfitted */\n",
       "  color: var(--sklearn-color-unfitted-level-1);\n",
       "  border: var(--sklearn-color-unfitted-level-1) 1pt solid;\n",
       "}\n",
       "\n",
       "#sk-container-id-3 a.estimator_doc_link.fitted {\n",
       "  /* fitted */\n",
       "  border: var(--sklearn-color-fitted-level-1) 1pt solid;\n",
       "  color: var(--sklearn-color-fitted-level-1);\n",
       "}\n",
       "\n",
       "/* On hover */\n",
       "#sk-container-id-3 a.estimator_doc_link:hover {\n",
       "  /* unfitted */\n",
       "  background-color: var(--sklearn-color-unfitted-level-3);\n",
       "  color: var(--sklearn-color-background);\n",
       "  text-decoration: none;\n",
       "}\n",
       "\n",
       "#sk-container-id-3 a.estimator_doc_link.fitted:hover {\n",
       "  /* fitted */\n",
       "  background-color: var(--sklearn-color-fitted-level-3);\n",
       "}\n",
       "</style><div id=\"sk-container-id-3\" class=\"sk-top-container\"><div class=\"sk-text-repr-fallback\"><pre>LinearRegression(n_jobs=-1)</pre><b>In a Jupyter environment, please rerun this cell to show the HTML representation or trust the notebook. <br />On GitHub, the HTML representation is unable to render, please try loading this page with nbviewer.org.</b></div><div class=\"sk-container\" hidden><div class=\"sk-item\"><div class=\"sk-estimator fitted sk-toggleable\"><input class=\"sk-toggleable__control sk-hidden--visually\" id=\"sk-estimator-id-3\" type=\"checkbox\" checked><label for=\"sk-estimator-id-3\" class=\"sk-toggleable__label fitted sk-toggleable__label-arrow\"><div><div>LinearRegression</div></div><div><a class=\"sk-estimator-doc-link fitted\" rel=\"noreferrer\" target=\"_blank\" href=\"https://scikit-learn.org/1.6/modules/generated/sklearn.linear_model.LinearRegression.html\">?<span>Documentation for LinearRegression</span></a><span class=\"sk-estimator-doc-link fitted\">i<span>Fitted</span></span></div></label><div class=\"sk-toggleable__content fitted\"><pre>LinearRegression(n_jobs=-1)</pre></div> </div></div></div></div>"
      ],
      "text/plain": [
       "LinearRegression(n_jobs=-1)"
      ]
     },
     "execution_count": 255,
     "metadata": {},
     "output_type": "execute_result"
    }
   ],
   "source": [
    "from sklearn.linear_model import LinearRegression\n",
    "\n",
    "linear_model = LinearRegression(n_jobs=-1)\n",
    "linear_model.fit(X_train_standardized, y_train)"
   ]
  },
  {
   "cell_type": "code",
   "execution_count": 256,
   "id": "c7f68bb6",
   "metadata": {},
   "outputs": [],
   "source": [
    "linear_model_prediction = linear_model.predict(X_val_standardized)"
   ]
  },
  {
   "cell_type": "code",
   "execution_count": 257,
   "id": "17e4c5d4",
   "metadata": {},
   "outputs": [
    {
     "name": "stdout",
     "output_type": "stream",
     "text": [
      "Linear Regression - Mean Absolute Error: 4.98\n",
      "Linear Regression - Root Mean Squared Error: 5.76\n"
     ]
    }
   ],
   "source": [
    "linear_model_mea = mean_absolute_error(y_val, linear_model_prediction)\n",
    "linear_model_rmse = root_mean_squared_error(y_val,linear_model_prediction)\n",
    "print(f\"Linear Regression - Mean Absolute Error: {linear_model_mea:.2f}\")\n",
    "print(f\"Linear Regression - Root Mean Squared Error: {linear_model_rmse:.2f}\")"
   ]
  },
  {
   "cell_type": "code",
   "execution_count": 258,
   "id": "44fdbe1b",
   "metadata": {},
   "outputs": [
    {
     "data": {
      "text/plain": [
       "count    43201.000000\n",
       "mean       167.278757\n",
       "std         39.536827\n",
       "min         90.000000\n",
       "25%        133.190000\n",
       "50%        167.310000\n",
       "75%        201.280000\n",
       "max        235.620000\n",
       "Name: Product_costs, dtype: float64"
      ]
     },
     "execution_count": 258,
     "metadata": {},
     "output_type": "execute_result"
    }
   ],
   "source": [
    "y_val.describe()"
   ]
  },
  {
   "cell_type": "markdown",
   "id": "1696abdd",
   "metadata": {},
   "source": [
    "### 7.1.2 Optuna linear model"
   ]
  },
  {
   "cell_type": "code",
   "execution_count": 259,
   "id": "77aa663b",
   "metadata": {},
   "outputs": [],
   "source": [
    "import optuna"
   ]
  },
  {
   "cell_type": "code",
   "execution_count": 260,
   "id": "3695a245",
   "metadata": {},
   "outputs": [],
   "source": [
    "def objective(trial):\n",
    "    parameters_linear = {\n",
    "        \"fit_intercept\": trial.suggest_categorical(\"fit_intercept\", [True, False]),\n",
    "        \"copy_X\": trial.suggest_categorical(\"copy_X\", [True, False])\n",
    "    }\n",
    "    model = LinearRegression(**parameters_linear, n_jobs=-1)\n",
    "\n",
    "    model.fit(X_train_standardized,y_train)\n",
    "    predictons = model.predict(X_val_standardized)\n",
    "\n",
    "    return root_mean_squared_error(y_val, predictons)\n"
   ]
  },
  {
   "cell_type": "code",
   "execution_count": 261,
   "id": "e5b76755",
   "metadata": {},
   "outputs": [
    {
     "name": "stderr",
     "output_type": "stream",
     "text": [
      "[I 2025-06-07 19:50:40,718] A new study created in memory with name: no-name-736896b2-e0c8-45d3-a603-5272fc97973f\n",
      "[I 2025-06-07 19:50:41,834] Trial 5 finished with value: 167.36920098702674 and parameters: {'fit_intercept': False, 'copy_X': False}. Best is trial 5 with value: 167.36920098702674.\n",
      "[I 2025-06-07 19:50:41,859] Trial 2 finished with value: 5.758486265690791 and parameters: {'fit_intercept': True, 'copy_X': False}. Best is trial 2 with value: 5.758486265690791.\n",
      "[I 2025-06-07 19:50:42,245] Trial 1 finished with value: 5.7584862656907925 and parameters: {'fit_intercept': True, 'copy_X': True}. Best is trial 2 with value: 5.758486265690791.\n",
      "[I 2025-06-07 19:50:42,432] Trial 3 finished with value: 5.758486265690791 and parameters: {'fit_intercept': True, 'copy_X': False}. Best is trial 2 with value: 5.758486265690791.\n",
      "[I 2025-06-07 19:50:42,433] Trial 0 finished with value: 5.7584862656907925 and parameters: {'fit_intercept': True, 'copy_X': True}. Best is trial 2 with value: 5.758486265690791.\n",
      "[I 2025-06-07 19:50:42,456] Trial 6 finished with value: 5.758486265690792 and parameters: {'fit_intercept': True, 'copy_X': True}. Best is trial 2 with value: 5.758486265690791.\n",
      "[I 2025-06-07 19:50:42,456] Trial 4 finished with value: 5.758486265690792 and parameters: {'fit_intercept': True, 'copy_X': True}. Best is trial 2 with value: 5.758486265690791.\n",
      "[I 2025-06-07 19:50:42,466] Trial 7 finished with value: 167.36920098702674 and parameters: {'fit_intercept': False, 'copy_X': True}. Best is trial 2 with value: 5.758486265690791.\n",
      "[I 2025-06-07 19:50:42,718] Trial 9 finished with value: 167.36920098702674 and parameters: {'fit_intercept': False, 'copy_X': False}. Best is trial 2 with value: 5.758486265690791.\n",
      "[I 2025-06-07 19:50:43,505] Trial 11 finished with value: 167.36920098702674 and parameters: {'fit_intercept': False, 'copy_X': False}. Best is trial 2 with value: 5.758486265690791.\n",
      "[I 2025-06-07 19:50:43,506] Trial 10 finished with value: 167.36920098702674 and parameters: {'fit_intercept': False, 'copy_X': False}. Best is trial 2 with value: 5.758486265690791.\n",
      "[I 2025-06-07 19:50:43,508] Trial 12 finished with value: 167.36920098702674 and parameters: {'fit_intercept': False, 'copy_X': True}. Best is trial 2 with value: 5.758486265690791.\n",
      "[I 2025-06-07 19:50:43,512] Trial 8 finished with value: 167.36920098702674 and parameters: {'fit_intercept': False, 'copy_X': True}. Best is trial 2 with value: 5.758486265690791.\n",
      "[I 2025-06-07 19:50:44,104] Trial 14 finished with value: 167.36920098702674 and parameters: {'fit_intercept': False, 'copy_X': True}. Best is trial 2 with value: 5.758486265690791.\n",
      "[I 2025-06-07 19:50:44,110] Trial 15 finished with value: 5.7584862656907925 and parameters: {'fit_intercept': True, 'copy_X': False}. Best is trial 2 with value: 5.758486265690791.\n",
      "[I 2025-06-07 19:50:44,305] Trial 13 finished with value: 167.36920098702674 and parameters: {'fit_intercept': False, 'copy_X': True}. Best is trial 2 with value: 5.758486265690791.\n",
      "[I 2025-06-07 19:50:44,318] Trial 16 finished with value: 5.7584862656907925 and parameters: {'fit_intercept': True, 'copy_X': False}. Best is trial 2 with value: 5.758486265690791.\n",
      "[I 2025-06-07 19:50:44,535] Trial 18 finished with value: 5.758486265690791 and parameters: {'fit_intercept': True, 'copy_X': False}. Best is trial 2 with value: 5.758486265690791.\n",
      "[I 2025-06-07 19:50:45,106] Trial 19 finished with value: 5.758486265690791 and parameters: {'fit_intercept': True, 'copy_X': False}. Best is trial 2 with value: 5.758486265690791.\n",
      "[I 2025-06-07 19:50:45,109] Trial 17 finished with value: 5.758486265690791 and parameters: {'fit_intercept': True, 'copy_X': False}. Best is trial 2 with value: 5.758486265690791.\n",
      "[I 2025-06-07 19:50:45,122] Trial 20 finished with value: 5.758486265690792 and parameters: {'fit_intercept': True, 'copy_X': False}. Best is trial 2 with value: 5.758486265690791.\n",
      "[I 2025-06-07 19:50:45,682] Trial 21 finished with value: 5.758486265690791 and parameters: {'fit_intercept': True, 'copy_X': False}. Best is trial 2 with value: 5.758486265690791.\n",
      "[I 2025-06-07 19:50:45,688] Trial 24 finished with value: 5.758486265690791 and parameters: {'fit_intercept': True, 'copy_X': False}. Best is trial 2 with value: 5.758486265690791.\n",
      "[I 2025-06-07 19:50:45,693] Trial 22 finished with value: 5.758486265690791 and parameters: {'fit_intercept': True, 'copy_X': False}. Best is trial 2 with value: 5.758486265690791.\n",
      "[I 2025-06-07 19:50:46,054] Trial 25 finished with value: 5.758486265690791 and parameters: {'fit_intercept': True, 'copy_X': False}. Best is trial 2 with value: 5.758486265690791.\n",
      "[I 2025-06-07 19:50:46,060] Trial 23 finished with value: 5.758486265690791 and parameters: {'fit_intercept': True, 'copy_X': False}. Best is trial 2 with value: 5.758486265690791.\n",
      "[I 2025-06-07 19:50:46,596] Trial 26 finished with value: 5.7584862656907925 and parameters: {'fit_intercept': True, 'copy_X': False}. Best is trial 2 with value: 5.758486265690791.\n",
      "[I 2025-06-07 19:50:46,601] Trial 28 finished with value: 5.7584862656907925 and parameters: {'fit_intercept': True, 'copy_X': False}. Best is trial 2 with value: 5.758486265690791.\n",
      "[I 2025-06-07 19:50:46,607] Trial 27 finished with value: 5.7584862656907925 and parameters: {'fit_intercept': True, 'copy_X': False}. Best is trial 2 with value: 5.758486265690791.\n",
      "[I 2025-06-07 19:50:46,811] Trial 29 finished with value: 5.758486265690792 and parameters: {'fit_intercept': True, 'copy_X': False}. Best is trial 2 with value: 5.758486265690791.\n",
      "[I 2025-06-07 19:50:47,334] Trial 33 finished with value: 5.758486265690792 and parameters: {'fit_intercept': True, 'copy_X': False}. Best is trial 2 with value: 5.758486265690791.\n",
      "[I 2025-06-07 19:50:47,336] Trial 30 finished with value: 5.758486265690792 and parameters: {'fit_intercept': True, 'copy_X': False}. Best is trial 2 with value: 5.758486265690791.\n",
      "[I 2025-06-07 19:50:47,350] Trial 32 finished with value: 5.758486265690792 and parameters: {'fit_intercept': True, 'copy_X': False}. Best is trial 2 with value: 5.758486265690791.\n",
      "[I 2025-06-07 19:50:47,856] Trial 31 finished with value: 5.7584862656907925 and parameters: {'fit_intercept': True, 'copy_X': False}. Best is trial 2 with value: 5.758486265690791.\n",
      "[I 2025-06-07 19:50:47,861] Trial 35 finished with value: 5.758486265690792 and parameters: {'fit_intercept': True, 'copy_X': False}. Best is trial 2 with value: 5.758486265690791.\n",
      "[I 2025-06-07 19:50:47,867] Trial 34 finished with value: 5.758486265690792 and parameters: {'fit_intercept': True, 'copy_X': False}. Best is trial 2 with value: 5.758486265690791.\n",
      "[I 2025-06-07 19:50:48,227] Trial 37 finished with value: 5.758486265690792 and parameters: {'fit_intercept': True, 'copy_X': False}. Best is trial 2 with value: 5.758486265690791.\n",
      "[I 2025-06-07 19:50:48,242] Trial 36 finished with value: 5.758486265690792 and parameters: {'fit_intercept': True, 'copy_X': False}. Best is trial 2 with value: 5.758486265690791.\n",
      "[I 2025-06-07 19:50:48,455] Trial 38 finished with value: 5.758486265690791 and parameters: {'fit_intercept': True, 'copy_X': False}. Best is trial 2 with value: 5.758486265690791.\n",
      "[I 2025-06-07 19:50:48,970] Trial 39 finished with value: 5.758486265690791 and parameters: {'fit_intercept': True, 'copy_X': False}. Best is trial 2 with value: 5.758486265690791.\n",
      "[I 2025-06-07 19:50:48,972] Trial 40 finished with value: 5.758486265690791 and parameters: {'fit_intercept': True, 'copy_X': False}. Best is trial 2 with value: 5.758486265690791.\n",
      "[I 2025-06-07 19:50:49,521] Trial 41 finished with value: 5.758486265690791 and parameters: {'fit_intercept': True, 'copy_X': False}. Best is trial 2 with value: 5.758486265690791.\n",
      "[I 2025-06-07 19:50:49,716] Trial 42 finished with value: 5.758486265690792 and parameters: {'fit_intercept': True, 'copy_X': False}. Best is trial 2 with value: 5.758486265690791.\n",
      "[I 2025-06-07 19:50:49,718] Trial 44 finished with value: 5.758486265690792 and parameters: {'fit_intercept': True, 'copy_X': False}. Best is trial 2 with value: 5.758486265690791.\n",
      "[I 2025-06-07 19:50:49,719] Trial 43 finished with value: 5.758486265690792 and parameters: {'fit_intercept': True, 'copy_X': False}. Best is trial 2 with value: 5.758486265690791.\n",
      "[I 2025-06-07 19:50:49,723] Trial 45 finished with value: 5.758486265690791 and parameters: {'fit_intercept': True, 'copy_X': True}. Best is trial 2 with value: 5.758486265690791.\n",
      "[I 2025-06-07 19:50:50,338] Trial 46 finished with value: 5.758486265690792 and parameters: {'fit_intercept': True, 'copy_X': True}. Best is trial 2 with value: 5.758486265690791.\n",
      "[I 2025-06-07 19:50:50,343] Trial 48 finished with value: 5.758486265690792 and parameters: {'fit_intercept': True, 'copy_X': False}. Best is trial 2 with value: 5.758486265690791.\n",
      "[I 2025-06-07 19:50:50,346] Trial 47 finished with value: 5.758486265690792 and parameters: {'fit_intercept': True, 'copy_X': False}. Best is trial 2 with value: 5.758486265690791.\n",
      "[I 2025-06-07 19:50:50,524] Trial 49 finished with value: 167.36920098702674 and parameters: {'fit_intercept': False, 'copy_X': True}. Best is trial 2 with value: 5.758486265690791.\n"
     ]
    }
   ],
   "source": [
    "study_linear = optuna.create_study(direction='minimize')\n",
    "study_linear.optimize(objective,n_trials=50,n_jobs=-1)"
   ]
  },
  {
   "cell_type": "code",
   "execution_count": 262,
   "id": "045041ea",
   "metadata": {},
   "outputs": [
    {
     "data": {
      "text/plain": [
       "({'fit_intercept': True, 'copy_X': False}, 5.758486265690791)"
      ]
     },
     "execution_count": 262,
     "metadata": {},
     "output_type": "execute_result"
    }
   ],
   "source": [
    "optuna_linear_best_params  = study_linear.best_params\n",
    "optuna_linear_best_value = study_linear.best_value\n",
    "optuna_linear_best_params, optuna_linear_best_value"
   ]
  },
  {
   "cell_type": "code",
   "execution_count": 263,
   "id": "406f40b8",
   "metadata": {},
   "outputs": [],
   "source": [
    "study_linear_data = study_linear.trials_dataframe()"
   ]
  },
  {
   "cell_type": "markdown",
   "id": "c54bf930",
   "metadata": {},
   "source": [
    "## 7.2 Random Forest"
   ]
  },
  {
   "cell_type": "code",
   "execution_count": 264,
   "id": "ffc12846",
   "metadata": {},
   "outputs": [],
   "source": [
    "from sklearn.ensemble import RandomForestRegressor"
   ]
  },
  {
   "cell_type": "markdown",
   "id": "97435f77",
   "metadata": {},
   "source": [
    "### 7.2.1 Default Random forest regressor"
   ]
  },
  {
   "cell_type": "code",
   "execution_count": 265,
   "id": "72c8df1f",
   "metadata": {},
   "outputs": [
    {
     "name": "stdout",
     "output_type": "stream",
     "text": [
      "Random_model - Mean Absolute Error: 5.02\n",
      "Random_model- Root Mean Squared Error: 5.90\n"
     ]
    }
   ],
   "source": [
    "random_model = RandomForestRegressor(n_jobs=-1, random_state=42)\n",
    "random_model.fit(X_train, y_train)\n",
    "random_model_prediction = random_model.predict(X_val)\n",
    "\n",
    "\n",
    "random_model_mea = mean_absolute_error(y_val, random_model_prediction)\n",
    "random_model_rmse = root_mean_squared_error(y_val,random_model_prediction)\n",
    "print(f\"Random_model - Mean Absolute Error: {random_model_mea:.2f}\")\n",
    "print(f\"Random_model- Root Mean Squared Error: {random_model_rmse:.2f}\")"
   ]
  },
  {
   "cell_type": "code",
   "execution_count": 266,
   "id": "c95a8e8b",
   "metadata": {},
   "outputs": [
    {
     "data": {
      "image/png": "[encoded data removed]",
      "text/plain": [
       "<Figure size 1500x600 with 1 Axes>"
      ]
     },
     "metadata": {},
     "output_type": "display_data"
    }
   ],
   "source": [
    "importances = random_model.feature_importances_\n",
    "df_importances = pd.DataFrame(\n",
    "    {'Feature': X_test.columns,\n",
    "     'Importances': importances}\n",
    ")\n",
    "df_importances = df_importances.sort_values( by = 'Importances', ascending= False)\n",
    "\n",
    "plt.figure(figsize=(15,6))\n",
    "plt.bar(df_importances['Feature'], df_importances['Importances'])\n",
    "plt.xticks(rotation=90)\n",
    "plt.title('Feature Importances')\n",
    "plt.bar_label(plt.gca().containers[0], fmt='%.2f')\n",
    "plt.show()"
   ]
  },
  {
   "cell_type": "code",
   "execution_count": 267,
   "id": "ac9f82ff",
   "metadata": {},
   "outputs": [
    {
     "data": {
      "text/plain": [
       "[<matplotlib.lines.Line2D at 0x184f1a3dbd0>]"
      ]
     },
     "execution_count": 267,
     "metadata": {},
     "output_type": "execute_result"
    },
    {
     "data": {
      "image/png": "[encoded data removed]",
      "text/plain": [
       "<Figure size 640x480 with 1 Axes>"
      ]
     },
     "metadata": {},
     "output_type": "display_data"
    }
   ],
   "source": [
    "plt.scatter(random_model_prediction, y_val)\n",
    "plt.plot(np.linspace(random_model_prediction.min(), random_model_prediction.max()),np.linspace(y_val.min(), y_val.max()), color='red', linestyle='--')"
   ]
  },
  {
   "cell_type": "markdown",
   "id": "aeb22ee9",
   "metadata": {},
   "source": [
    "### 7.2.2 Optuna Random Forest"
   ]
  },
  {
   "cell_type": "code",
   "execution_count": 268,
   "id": "4b860c81",
   "metadata": {},
   "outputs": [],
   "source": [
    "def objective(trial):\n",
    "    parameters_random = {\n",
    "    \"n_estimators\": trial.suggest_int(\"n_estimators\", 100, 501, step=50),\n",
    "    \"max_depth\": trial.suggest_int(\"max_depth\", 3, 20),\n",
    "    \"min_samples_split\": trial.suggest_int(\"min_samples_split\", 2, 20),\n",
    "    \"min_samples_leaf\": trial.suggest_int(\"min_samples_leaf\", 1, 20),\n",
    "    \"max_features\": trial.suggest_categorical(\"max_features\", [None, \"sqrt\", \"log2\"]),\n",
    "    \"bootstrap\": trial.suggest_categorical(\"bootstrap\", [True, False])\n",
    "    }\n",
    "    model = RandomForestRegressor(**parameters_random, n_jobs=-1, random_state=42)\n",
    "\n",
    "    model.fit(X_train, y_train)\n",
    "    predictions = model.predict(X_val)\n",
    "\n",
    "    return root_mean_squared_error(y_val, predictions)"
   ]
  },
  {
   "cell_type": "code",
   "execution_count": 269,
   "id": "6b23c90c",
   "metadata": {},
   "outputs": [],
   "source": [
    "#study_random = optuna.create_study(direction = 'minimize')\n",
    "#study_random.optimize(objective, n_trials=50, n_jobs=-1)"
   ]
  },
  {
   "cell_type": "code",
   "execution_count": 270,
   "id": "bd0be400",
   "metadata": {},
   "outputs": [],
   "source": [
    "#optuna_random_best_params  = study_random.best_params\n",
    "#optuna_random_best_value = study_random.best_value\n",
    "#optuna_random_best_params, optuna_random_best_value"
   ]
  },
  {
   "cell_type": "code",
   "execution_count": 271,
   "id": "037534b4",
   "metadata": {},
   "outputs": [],
   "source": [
    "optuna_random_best_params = {'n_estimators': 350,\n",
    "  'max_depth': 7,\n",
    "  'min_samples_split': 13,\n",
    "  'min_samples_leaf': 10,\n",
    "  'max_features': None,\n",
    "  'bootstrap': True}\n",
    "\n",
    "# saved parameters for RandomForestRegressor, because of computational time"
   ]
  },
  {
   "cell_type": "markdown",
   "id": "a393c8f8",
   "metadata": {},
   "source": [
    "## 7.3 LightGMB"
   ]
  },
  {
   "cell_type": "code",
   "execution_count": 272,
   "id": "9a5e8239",
   "metadata": {},
   "outputs": [],
   "source": [
    "from lightgbm import LGBMRegressor"
   ]
  },
  {
   "cell_type": "markdown",
   "id": "97f9a70a",
   "metadata": {},
   "source": [
    "### 7.3.1 LightGMB Default"
   ]
  },
  {
   "cell_type": "code",
   "execution_count": 273,
   "id": "442eaede",
   "metadata": {},
   "outputs": [
    {
     "name": "stdout",
     "output_type": "stream",
     "text": [
      "[LightGBM] [Warning] Found whitespace in feature_names, replace with underlines\n",
      "[LightGBM] [Info] Auto-choosing col-wise multi-threading, the overhead of testing was 0.006912 seconds.\n",
      "You can set `force_col_wise=true` to remove the overhead.\n",
      "[LightGBM] [Info] Total Bins 556\n",
      "[LightGBM] [Info] Number of data points in the train set: 172801, number of used features: 35\n",
      "[LightGBM] [Info] Start training from score 167.314326\n",
      "ligh_model - Mean Absolute Error: 4.89\n",
      "ligh_model- Root Mean Squared Error: 5.68\n"
     ]
    }
   ],
   "source": [
    "ligh_model = LGBMRegressor(n_jobs=-1, random_state=42)\n",
    "ligh_model.fit(X_train, y_train)\n",
    "ligh_model_prediction = ligh_model.predict(X_val)\n",
    "\n",
    "\n",
    "ligh_model_mea = mean_absolute_error(y_val, ligh_model_prediction)\n",
    "ligh_model_rmse = root_mean_squared_error(y_val,ligh_model_prediction)\n",
    "print(f\"ligh_model - Mean Absolute Error: {ligh_model_mea:.2f}\")\n",
    "print(f\"ligh_model- Root Mean Squared Error: {ligh_model_rmse:.2f}\")"
   ]
  },
  {
   "cell_type": "markdown",
   "id": "c4142060",
   "metadata": {},
   "source": [
    "### 7.3.2 LightGBM Optuna"
   ]
  },
  {
   "cell_type": "code",
   "execution_count": 274,
   "id": "82f334dc",
   "metadata": {},
   "outputs": [],
   "source": [
    "def objective(trial):\n",
    "\n",
    "    gbm_parameters = {\n",
    "        'n_estimators': trial.suggest_int('n_estimators', 50, 401),\n",
    "        'max_depth': trial.suggest_int('max_depth', 2, 15),\n",
    "        'learning_rate': trial.suggest_float('learning_rate', 0.01, 0.3),\n",
    "        'num_leaves': trial.suggest_int('num_leaves', 5, 181),\n",
    "        'subsample': trial.suggest_float('subsample', 0.6, 1.0),\n",
    "    }\n",
    "\n",
    "    model_gbm = LGBMRegressor(**gbm_parameters, random_state=42, n_jobs=-1)\n",
    "\n",
    "    model_gbm.fit(X_train, y_train)\n",
    "    predictions = model_gbm.predict(X_val)\n",
    "\n",
    "    return root_mean_squared_error(y_val, predictions)"
   ]
  },
  {
   "cell_type": "code",
   "execution_count": 275,
   "id": "6cba17df",
   "metadata": {},
   "outputs": [
    {
     "name": "stderr",
     "output_type": "stream",
     "text": [
      "[I 2025-06-07 19:51:32,716] A new study created in memory with name: no-name-bdd2611a-151f-4e92-92e0-b17ec9d0339f\n",
      "[I 2025-06-07 19:51:36,841] Trial 3 finished with value: 5.68506508326112 and parameters: {'n_estimators': 351, 'max_depth': 3, 'learning_rate': 0.12798723327866482, 'num_leaves': 50, 'subsample': 0.8980108879437902}. Best is trial 3 with value: 5.68506508326112.\n",
      "[I 2025-06-07 19:51:36,990] Trial 4 finished with value: 5.6991366078140535 and parameters: {'n_estimators': 254, 'max_depth': 11, 'learning_rate': 0.2890972331092938, 'num_leaves': 12, 'subsample': 0.8689267757622683}. Best is trial 3 with value: 5.68506508326112.\n",
      "[I 2025-06-07 19:51:38,847] Trial 0 finished with value: 5.696604022836157 and parameters: {'n_estimators': 74, 'max_depth': 13, 'learning_rate': 0.1990678745765071, 'num_leaves': 70, 'subsample': 0.8129700315532135}. Best is trial 3 with value: 5.68506508326112.\n",
      "[I 2025-06-07 19:51:39,223] Trial 8 finished with value: 5.680990928820001 and parameters: {'n_estimators': 157, 'max_depth': 12, 'learning_rate': 0.10990227765134575, 'num_leaves': 10, 'subsample': 0.9299481269878793}. Best is trial 8 with value: 5.680990928820001.\n",
      "[I 2025-06-07 19:51:40,694] Trial 1 finished with value: 5.7078928812566465 and parameters: {'n_estimators': 350, 'max_depth': 9, 'learning_rate': 0.2085647734653658, 'num_leaves': 19, 'subsample': 0.8429992799203913}. Best is trial 8 with value: 5.680990928820001.\n",
      "[I 2025-06-07 19:51:42,795] Trial 11 finished with value: 5.680228185702468 and parameters: {'n_estimators': 275, 'max_depth': 12, 'learning_rate': 0.05818631421029453, 'num_leaves': 8, 'subsample': 0.6574476991635511}. Best is trial 11 with value: 5.680228185702468.\n",
      "[I 2025-06-07 19:51:43,883] Trial 12 finished with value: 5.682285030586667 and parameters: {'n_estimators': 399, 'max_depth': 2, 'learning_rate': 0.29339795657363166, 'num_leaves': 59, 'subsample': 0.9445722722650961}. Best is trial 11 with value: 5.680228185702468.\n",
      "[I 2025-06-07 19:51:48,903] Trial 7 finished with value: 5.782066184616593 and parameters: {'n_estimators': 395, 'max_depth': 6, 'learning_rate': 0.2451059579067023, 'num_leaves': 87, 'subsample': 0.6783806968599797}. Best is trial 11 with value: 5.680228185702468.\n",
      "[I 2025-06-07 19:51:50,029] Trial 13 finished with value: 5.737690130669049 and parameters: {'n_estimators': 158, 'max_depth': 7, 'learning_rate': 0.23385230255220837, 'num_leaves': 86, 'subsample': 0.6489137390998363}. Best is trial 11 with value: 5.680228185702468.\n",
      "[I 2025-06-07 19:51:51,579] Trial 10 finished with value: 5.696928153312559 and parameters: {'n_estimators': 286, 'max_depth': 7, 'learning_rate': 0.06860373974268588, 'num_leaves': 59, 'subsample': 0.7815142911363335}. Best is trial 11 with value: 5.680228185702468.\n",
      "[I 2025-06-07 19:51:52,708] Trial 14 finished with value: 5.745474343755571 and parameters: {'n_estimators': 196, 'max_depth': 8, 'learning_rate': 0.24732174339415822, 'num_leaves': 66, 'subsample': 0.7687340299090126}. Best is trial 11 with value: 5.680228185702468.\n",
      "[I 2025-06-07 19:51:53,880] Trial 6 finished with value: 5.719282641611134 and parameters: {'n_estimators': 169, 'max_depth': 12, 'learning_rate': 0.11252118473942845, 'num_leaves': 152, 'subsample': 0.8689829746294304}. Best is trial 11 with value: 5.680228185702468.\n",
      "[I 2025-06-07 19:51:54,331] Trial 15 finished with value: 5.6847382242817055 and parameters: {'n_estimators': 273, 'max_depth': 4, 'learning_rate': 0.08256470408442423, 'num_leaves': 117, 'subsample': 0.7839705628337081}. Best is trial 11 with value: 5.680228185702468.\n",
      "[I 2025-06-07 19:51:55,608] Trial 2 finished with value: 5.843847541050754 and parameters: {'n_estimators': 274, 'max_depth': 9, 'learning_rate': 0.272486252398384, 'num_leaves': 107, 'subsample': 0.6386594290408809}. Best is trial 11 with value: 5.680228185702468.\n",
      "[I 2025-06-07 19:51:56,556] Trial 16 finished with value: 5.700174816472235 and parameters: {'n_estimators': 335, 'max_depth': 11, 'learning_rate': 0.19572353480687507, 'num_leaves': 13, 'subsample': 0.9715642600978696}. Best is trial 11 with value: 5.680228185702468.\n",
      "[I 2025-06-07 19:51:59,089] Trial 20 finished with value: 7.290561061507202 and parameters: {'n_estimators': 101, 'max_depth': 15, 'learning_rate': 0.021059905940807033, 'num_leaves': 29, 'subsample': 0.978144972347836}. Best is trial 11 with value: 5.680228185702468.\n",
      "[I 2025-06-07 19:52:00,241] Trial 21 finished with value: 9.791007281291016 and parameters: {'n_estimators': 106, 'max_depth': 15, 'learning_rate': 0.014912885275740903, 'num_leaves': 28, 'subsample': 0.9710131387460006}. Best is trial 11 with value: 5.680228185702468.\n",
      "[I 2025-06-07 19:52:01,790] Trial 22 finished with value: 13.516070165660686 and parameters: {'n_estimators': 112, 'max_depth': 14, 'learning_rate': 0.010312047047931198, 'num_leaves': 34, 'subsample': 0.7193739282702606}. Best is trial 11 with value: 5.680228185702468.\n",
      "[I 2025-06-07 19:52:04,101] Trial 5 finished with value: 5.825989158798206 and parameters: {'n_estimators': 342, 'max_depth': 14, 'learning_rate': 0.22706197825473068, 'num_leaves': 105, 'subsample': 0.9540003295935678}. Best is trial 11 with value: 5.680228185702468.\n",
      "[I 2025-06-07 19:52:05,311] Trial 23 finished with value: 6.526793482632447 and parameters: {'n_estimators': 131, 'max_depth': 15, 'learning_rate': 0.01890672675470232, 'num_leaves': 37, 'subsample': 0.7202062936076123}. Best is trial 11 with value: 5.680228185702468.\n",
      "[I 2025-06-07 19:52:07,682] Trial 27 finished with value: 5.679093335226401 and parameters: {'n_estimators': 226, 'max_depth': 10, 'learning_rate': 0.05571654815331678, 'num_leaves': 5, 'subsample': 0.606026054461124}. Best is trial 27 with value: 5.679093335226401.\n",
      "[I 2025-06-07 19:52:10,020] Trial 19 finished with value: 8.475021798608035 and parameters: {'n_estimators': 102, 'max_depth': 15, 'learning_rate': 0.01776414215944353, 'num_leaves': 134, 'subsample': 0.7000770601623995}. Best is trial 27 with value: 5.679093335226401.\n",
      "[I 2025-06-07 19:52:10,847] Trial 28 finished with value: 5.6794455883391395 and parameters: {'n_estimators': 212, 'max_depth': 11, 'learning_rate': 0.05897798898873958, 'num_leaves': 5, 'subsample': 0.620087282383088}. Best is trial 27 with value: 5.679093335226401.\n",
      "[I 2025-06-07 19:52:12,887] Trial 29 finished with value: 5.679657899785674 and parameters: {'n_estimators': 221, 'max_depth': 11, 'learning_rate': 0.059395090920699584, 'num_leaves': 6, 'subsample': 0.6056238911966252}. Best is trial 27 with value: 5.679093335226401.\n",
      "[I 2025-06-07 19:52:15,690] Trial 18 finished with value: 9.242510845208193 and parameters: {'n_estimators': 144, 'max_depth': 15, 'learning_rate': 0.01160148274820983, 'num_leaves': 132, 'subsample': 0.9859220643546848}. Best is trial 27 with value: 5.679093335226401.\n",
      "[I 2025-06-07 19:52:19,217] Trial 30 finished with value: 5.683301122411402 and parameters: {'n_estimators': 228, 'max_depth': 10, 'learning_rate': 0.05011285630949221, 'num_leaves': 40, 'subsample': 0.608335179449294}. Best is trial 27 with value: 5.679093335226401.\n",
      "[I 2025-06-07 19:52:20,620] Trial 17 finished with value: 6.228117348529724 and parameters: {'n_estimators': 196, 'max_depth': 15, 'learning_rate': 0.0138504956605437, 'num_leaves': 133, 'subsample': 0.7244894746413251}. Best is trial 27 with value: 5.679093335226401.\n",
      "[I 2025-06-07 19:52:22,822] Trial 34 finished with value: 5.687879959323454 and parameters: {'n_estimators': 221, 'max_depth': 10, 'learning_rate': 0.15818213328353972, 'num_leaves': 5, 'subsample': 0.604868423217646}. Best is trial 27 with value: 5.679093335226401.\n",
      "[I 2025-06-07 19:52:24,502] Trial 9 finished with value: 5.876594112114816 and parameters: {'n_estimators': 361, 'max_depth': 13, 'learning_rate': 0.2106420936651406, 'num_leaves': 160, 'subsample': 0.9081090816824879}. Best is trial 27 with value: 5.679093335226401.\n",
      "[I 2025-06-07 19:52:25,366] Trial 32 finished with value: 5.68221067143043 and parameters: {'n_estimators': 216, 'max_depth': 10, 'learning_rate': 0.05025965121218333, 'num_leaves': 45, 'subsample': 0.6116003782209495}. Best is trial 27 with value: 5.679093335226401.\n",
      "[I 2025-06-07 19:52:28,806] Trial 24 finished with value: 5.705809327603253 and parameters: {'n_estimators': 224, 'max_depth': 13, 'learning_rate': 0.059315934584777213, 'num_leaves': 159, 'subsample': 0.7161399619050313}. Best is trial 27 with value: 5.679093335226401.\n",
      "[I 2025-06-07 19:52:36,056] Trial 35 finished with value: 5.686986264636963 and parameters: {'n_estimators': 237, 'max_depth': 10, 'learning_rate': 0.09472929184732173, 'num_leaves': 24, 'subsample': 0.6253536453939466}. Best is trial 27 with value: 5.679093335226401.\n",
      "[I 2025-06-07 19:52:43,706] Trial 25 finished with value: 5.7107884379771425 and parameters: {'n_estimators': 221, 'max_depth': 11, 'learning_rate': 0.06299688176921343, 'num_leaves': 170, 'subsample': 0.7243577727360566}. Best is trial 27 with value: 5.679093335226401.\n",
      "[I 2025-06-07 19:52:44,079] Trial 37 finished with value: 5.685646664559208 and parameters: {'n_estimators': 190, 'max_depth': 11, 'learning_rate': 0.09104438803688075, 'num_leaves': 26, 'subsample': 0.6367038974372304}. Best is trial 27 with value: 5.679093335226401.\n",
      "[I 2025-06-07 19:52:47,359] Trial 36 finished with value: 5.688460889599749 and parameters: {'n_estimators': 309, 'max_depth': 10, 'learning_rate': 0.08819851192686348, 'num_leaves': 23, 'subsample': 0.6270865519220332}. Best is trial 27 with value: 5.679093335226401.\n",
      "[I 2025-06-07 19:52:49,473] Trial 26 finished with value: 5.7763182369715915 and parameters: {'n_estimators': 221, 'max_depth': 11, 'learning_rate': 0.15233271427442036, 'num_leaves': 181, 'subsample': 0.7200676989519145}. Best is trial 27 with value: 5.679093335226401.\n",
      "[I 2025-06-07 19:52:51,786] Trial 42 finished with value: 5.687830796771548 and parameters: {'n_estimators': 252, 'max_depth': 9, 'learning_rate': 0.1396765063558173, 'num_leaves': 5, 'subsample': 0.6698022245975576}. Best is trial 27 with value: 5.679093335226401.\n",
      "[I 2025-06-07 19:52:54,385] Trial 39 finished with value: 5.680801940833158 and parameters: {'n_estimators': 306, 'max_depth': 12, 'learning_rate': 0.039003162395751495, 'num_leaves': 18, 'subsample': 0.6613678367679612}. Best is trial 27 with value: 5.679093335226401.\n",
      "[I 2025-06-07 19:52:56,209] Trial 38 finished with value: 5.688101443412177 and parameters: {'n_estimators': 302, 'max_depth': 11, 'learning_rate': 0.08957954813473783, 'num_leaves': 23, 'subsample': 0.6522543232546425}. Best is trial 27 with value: 5.679093335226401.\n",
      "[I 2025-06-07 19:52:58,068] Trial 41 finished with value: 5.681161183460797 and parameters: {'n_estimators': 305, 'max_depth': 9, 'learning_rate': 0.04041528333498857, 'num_leaves': 19, 'subsample': 0.6652108012432951}. Best is trial 27 with value: 5.679093335226401.\n",
      "[I 2025-06-07 19:52:59,242] Trial 43 finished with value: 5.680036891116004 and parameters: {'n_estimators': 252, 'max_depth': 9, 'learning_rate': 0.038564508715487826, 'num_leaves': 15, 'subsample': 0.6624991117376273}. Best is trial 27 with value: 5.679093335226401.\n",
      "[I 2025-06-07 19:53:00,396] Trial 40 finished with value: 5.68112526499108 and parameters: {'n_estimators': 314, 'max_depth': 12, 'learning_rate': 0.03864869410171577, 'num_leaves': 21, 'subsample': 0.6626639267076503}. Best is trial 27 with value: 5.679093335226401.\n",
      "[I 2025-06-07 19:53:03,995] Trial 44 finished with value: 5.679996411574436 and parameters: {'n_estimators': 299, 'max_depth': 12, 'learning_rate': 0.03551133272258131, 'num_leaves': 16, 'subsample': 0.6605685586848556}. Best is trial 27 with value: 5.679093335226401.\n",
      "[I 2025-06-07 19:53:04,387] Trial 45 finished with value: 5.6858313108855265 and parameters: {'n_estimators': 257, 'max_depth': 9, 'learning_rate': 0.11348345201627598, 'num_leaves': 16, 'subsample': 0.6864791342006481}. Best is trial 27 with value: 5.679093335226401.\n",
      "[I 2025-06-07 19:53:04,889] Trial 49 finished with value: 5.680556292588266 and parameters: {'n_estimators': 260, 'max_depth': 8, 'learning_rate': 0.07016054437000405, 'num_leaves': 6, 'subsample': 0.7516690921140605}. Best is trial 27 with value: 5.679093335226401.\n",
      "[I 2025-06-07 19:53:06,145] Trial 31 finished with value: 5.705352520893219 and parameters: {'n_estimators': 218, 'max_depth': 10, 'learning_rate': 0.050150895209729734, 'num_leaves': 180, 'subsample': 0.6037235223230716}. Best is trial 27 with value: 5.679093335226401.\n",
      "[I 2025-06-07 19:53:06,596] Trial 48 finished with value: 5.6797764722612545 and parameters: {'n_estimators': 255, 'max_depth': 8, 'learning_rate': 0.035101963592744714, 'num_leaves': 13, 'subsample': 0.6003364764865311}. Best is trial 27 with value: 5.679093335226401.\n",
      "[I 2025-06-07 19:53:08,165] Trial 33 finished with value: 5.7741709027736885 and parameters: {'n_estimators': 203, 'max_depth': 10, 'learning_rate': 0.153803293881054, 'num_leaves': 180, 'subsample': 0.6082504979345762}. Best is trial 27 with value: 5.679093335226401.\n",
      "[I 2025-06-07 19:53:09,038] Trial 47 finished with value: 5.701771608386876 and parameters: {'n_estimators': 249, 'max_depth': 8, 'learning_rate': 0.11639439275774066, 'num_leaves': 48, 'subsample': 0.6904893212901091}. Best is trial 27 with value: 5.679093335226401.\n",
      "[I 2025-06-07 19:53:10,087] Trial 46 finished with value: 5.682298394653977 and parameters: {'n_estimators': 259, 'max_depth': 13, 'learning_rate': 0.03279382743969601, 'num_leaves': 52, 'subsample': 0.6953339735566701}. Best is trial 27 with value: 5.679093335226401.\n"
     ]
    }
   ],
   "source": [
    "study_gbm= optuna.create_study(direction = 'minimize')\n",
    "study_gbm.optimize(objective, n_trials=50, n_jobs=-1)"
   ]
  },
  {
   "cell_type": "code",
   "execution_count": 276,
   "id": "243477c6",
   "metadata": {},
   "outputs": [
    {
     "data": {
      "text/plain": [
       "({'n_estimators': 226,\n",
       "  'max_depth': 10,\n",
       "  'learning_rate': 0.05571654815331678,\n",
       "  'num_leaves': 5,\n",
       "  'subsample': 0.606026054461124},\n",
       " 5.679093335226401)"
      ]
     },
     "execution_count": 276,
     "metadata": {},
     "output_type": "execute_result"
    }
   ],
   "source": [
    "gbm_best_params = study_gbm.best_params\n",
    "gbm_best_value = study_gbm.best_value\n",
    "\n",
    "gbm_best_params,gbm_best_value"
   ]
  },
  {
   "cell_type": "code",
   "execution_count": 277,
   "id": "034cae6b",
   "metadata": {},
   "outputs": [
    {
     "data": {
      "application/vnd.plotly.v1+json": {
       "config": {
        "plotlyServerURL": "https://plot.ly"
       },
       "data": [
        {
         "mode": "markers",
         "name": "Objective Value",
         "type": "scatter",
         "x": [
          0,
          1,
          2,
          3,
          4,
          5,
          6,
          7,
          8,
          9,
          10,
          11,
          12,
          13,
          14,
          15,
          16,
          17,
          18,
          19,
          20,
          21,
          22,
          23,
          24,
          25,
          26,
          27,
          28,
          29,
          30,
          31,
          32,
          33,
          34,
          35,
          36,
          37,
          38,
          39,
          40,
          41,
          42,
          43,
          44,
          45,
          46,
          47,
          48,
          49
         ],
         "y": [
          5.696604022836157,
          5.7078928812566465,
          5.843847541050754,
          5.68506508326112,
          5.6991366078140535,
          5.825989158798206,
          5.719282641611134,
          5.782066184616593,
          5.680990928820001,
          5.876594112114816,
          5.696928153312559,
          5.680228185702468,
          5.682285030586667,
          5.737690130669049,
          5.745474343755571,
          5.6847382242817055,
          5.700174816472235,
          6.228117348529724,
          9.242510845208193,
          8.475021798608035,
          7.290561061507202,
          9.791007281291016,
          13.516070165660686,
          6.526793482632447,
          5.705809327603253,
          5.7107884379771425,
          5.7763182369715915,
          5.679093335226401,
          5.6794455883391395,
          5.679657899785674,
          5.683301122411402,
          5.705352520893219,
          5.68221067143043,
          5.7741709027736885,
          5.687879959323454,
          5.686986264636963,
          5.688460889599749,
          5.685646664559208,
          5.688101443412177,
          5.680801940833158,
          5.68112526499108,
          5.681161183460797,
          5.687830796771548,
          5.680036891116004,
          5.679996411574436,
          5.6858313108855265,
          5.682298394653977,
          5.701771608386876,
          5.6797764722612545,
          5.680556292588266
         ]
        },
        {
         "mode": "lines",
         "name": "Best Value",
         "type": "scatter",
         "x": [
          0,
          1,
          2,
          3,
          4,
          5,
          6,
          7,
          8,
          9,
          10,
          11,
          12,
          13,
          14,
          15,
          16,
          17,
          18,
          19,
          20,
          21,
          22,
          23,
          24,
          25,
          26,
          27,
          28,
          29,
          30,
          31,
          32,
          33,
          34,
          35,
          36,
          37,
          38,
          39,
          40,
          41,
          42,
          43,
          44,
          45,
          46,
          47,
          48,
          49
         ],
         "y": [
          5.696604022836157,
          5.696604022836157,
          5.696604022836157,
          5.68506508326112,
          5.68506508326112,
          5.68506508326112,
          5.68506508326112,
          5.68506508326112,
          5.680990928820001,
          5.680990928820001,
          5.680990928820001,
          5.680228185702468,
          5.680228185702468,
          5.680228185702468,
          5.680228185702468,
          5.680228185702468,
          5.680228185702468,
          5.680228185702468,
          5.680228185702468,
          5.680228185702468,
          5.680228185702468,
          5.680228185702468,
          5.680228185702468,
          5.680228185702468,
          5.680228185702468,
          5.680228185702468,
          5.680228185702468,
          5.679093335226401,
          5.679093335226401,
          5.679093335226401,
          5.679093335226401,
          5.679093335226401,
          5.679093335226401,
          5.679093335226401,
          5.679093335226401,
          5.679093335226401,
          5.679093335226401,
          5.679093335226401,
          5.679093335226401,
          5.679093335226401,
          5.679093335226401,
          5.679093335226401,
          5.679093335226401,
          5.679093335226401,
          5.679093335226401,
          5.679093335226401,
          5.679093335226401,
          5.679093335226401,
          5.679093335226401,
          5.679093335226401
         ]
        },
        {
         "marker": {
          "color": "#cccccc"
         },
         "mode": "markers",
         "name": "Infeasible Trial",
         "showlegend": false,
         "type": "scatter",
         "x": [],
         "y": []
        }
       ],
       "layout": {
        "template": {
         "data": {
          "bar": [
           {
            "error_x": {
             "color": "#2a3f5f"
            },
            "error_y": {
             "color": "#2a3f5f"
            },
            "marker": {
             "line": {
              "color": "#E5ECF6",
              "width": 0.5
             },
             "pattern": {
              "fillmode": "overlay",
              "size": 10,
              "solidity": 0.2
             }
            },
            "type": "bar"
           }
          ],
          "barpolar": [
           {
            "marker": {
             "line": {
              "color": "#E5ECF6",
              "width": 0.5
             },
             "pattern": {
              "fillmode": "overlay",
              "size": 10,
              "solidity": 0.2
             }
            },
            "type": "barpolar"
           }
          ],
          "carpet": [
           {
            "aaxis": {
             "endlinecolor": "#2a3f5f",
             "gridcolor": "white",
             "linecolor": "white",
             "minorgridcolor": "white",
             "startlinecolor": "#2a3f5f"
            },
            "baxis": {
             "endlinecolor": "#2a3f5f",
             "gridcolor": "white",
             "linecolor": "white",
             "minorgridcolor": "white",
             "startlinecolor": "#2a3f5f"
            },
            "type": "carpet"
           }
          ],
          "choropleth": [
           {
            "colorbar": {
             "outlinewidth": 0,
             "ticks": ""
            },
            "type": "choropleth"
           }
          ],
          "contour": [
           {
            "colorbar": {
             "outlinewidth": 0,
             "ticks": ""
            },
            "colorscale": [
             [
              0,
              "#0d0887"
             ],
             [
              0.1111111111111111,
              "#46039f"
             ],
             [
              0.2222222222222222,
              "#7201a8"
             ],
             [
              0.3333333333333333,
              "#9c179e"
             ],
             [
              0.4444444444444444,
              "#bd3786"
             ],
             [
              0.5555555555555556,
              "#d8576b"
             ],
             [
              0.6666666666666666,
              "#ed7953"
             ],
             [
              0.7777777777777778,
              "#fb9f3a"
             ],
             [
              0.8888888888888888,
              "#fdca26"
             ],
             [
              1,
              "#f0f921"
             ]
            ],
            "type": "contour"
           }
          ],
          "contourcarpet": [
           {
            "colorbar": {
             "outlinewidth": 0,
             "ticks": ""
            },
            "type": "contourcarpet"
           }
          ],
          "heatmap": [
           {
            "colorbar": {
             "outlinewidth": 0,
             "ticks": ""
            },
            "colorscale": [
             [
              0,
              "#0d0887"
             ],
             [
              0.1111111111111111,
              "#46039f"
             ],
             [
              0.2222222222222222,
              "#7201a8"
             ],
             [
              0.3333333333333333,
              "#9c179e"
             ],
             [
              0.4444444444444444,
              "#bd3786"
             ],
             [
              0.5555555555555556,
              "#d8576b"
             ],
             [
              0.6666666666666666,
              "#ed7953"
             ],
             [
              0.7777777777777778,
              "#fb9f3a"
             ],
             [
              0.8888888888888888,
              "#fdca26"
             ],
             [
              1,
              "#f0f921"
             ]
            ],
            "type": "heatmap"
           }
          ],
          "histogram": [
           {
            "marker": {
             "pattern": {
              "fillmode": "overlay",
              "size": 10,
              "solidity": 0.2
             }
            },
            "type": "histogram"
           }
          ],
          "histogram2d": [
           {
            "colorbar": {
             "outlinewidth": 0,
             "ticks": ""
            },
            "colorscale": [
             [
              0,
              "#0d0887"
             ],
             [
              0.1111111111111111,
              "#46039f"
             ],
             [
              0.2222222222222222,
              "#7201a8"
             ],
             [
              0.3333333333333333,
              "#9c179e"
             ],
             [
              0.4444444444444444,
              "#bd3786"
             ],
             [
              0.5555555555555556,
              "#d8576b"
             ],
             [
              0.6666666666666666,
              "#ed7953"
             ],
             [
              0.7777777777777778,
              "#fb9f3a"
             ],
             [
              0.8888888888888888,
              "#fdca26"
             ],
             [
              1,
              "#f0f921"
             ]
            ],
            "type": "histogram2d"
           }
          ],
          "histogram2dcontour": [
           {
            "colorbar": {
             "outlinewidth": 0,
             "ticks": ""
            },
            "colorscale": [
             [
              0,
              "#0d0887"
             ],
             [
              0.1111111111111111,
              "#46039f"
             ],
             [
              0.2222222222222222,
              "#7201a8"
             ],
             [
              0.3333333333333333,
              "#9c179e"
             ],
             [
              0.4444444444444444,
              "#bd3786"
             ],
             [
              0.5555555555555556,
              "#d8576b"
             ],
             [
              0.6666666666666666,
              "#ed7953"
             ],
             [
              0.7777777777777778,
              "#fb9f3a"
             ],
             [
              0.8888888888888888,
              "#fdca26"
             ],
             [
              1,
              "#f0f921"
             ]
            ],
            "type": "histogram2dcontour"
           }
          ],
          "mesh3d": [
           {
            "colorbar": {
             "outlinewidth": 0,
             "ticks": ""
            },
            "type": "mesh3d"
           }
          ],
          "parcoords": [
           {
            "line": {
             "colorbar": {
              "outlinewidth": 0,
              "ticks": ""
             }
            },
            "type": "parcoords"
           }
          ],
          "pie": [
           {
            "automargin": true,
            "type": "pie"
           }
          ],
          "scatter": [
           {
            "fillpattern": {
             "fillmode": "overlay",
             "size": 10,
             "solidity": 0.2
            },
            "type": "scatter"
           }
          ],
          "scatter3d": [
           {
            "line": {
             "colorbar": {
              "outlinewidth": 0,
              "ticks": ""
             }
            },
            "marker": {
             "colorbar": {
              "outlinewidth": 0,
              "ticks": ""
             }
            },
            "type": "scatter3d"
           }
          ],
          "scattercarpet": [
           {
            "marker": {
             "colorbar": {
              "outlinewidth": 0,
              "ticks": ""
             }
            },
            "type": "scattercarpet"
           }
          ],
          "scattergeo": [
           {
            "marker": {
             "colorbar": {
              "outlinewidth": 0,
              "ticks": ""
             }
            },
            "type": "scattergeo"
           }
          ],
          "scattergl": [
           {
            "marker": {
             "colorbar": {
              "outlinewidth": 0,
              "ticks": ""
             }
            },
            "type": "scattergl"
           }
          ],
          "scattermap": [
           {
            "marker": {
             "colorbar": {
              "outlinewidth": 0,
              "ticks": ""
             }
            },
            "type": "scattermap"
           }
          ],
          "scattermapbox": [
           {
            "marker": {
             "colorbar": {
              "outlinewidth": 0,
              "ticks": ""
             }
            },
            "type": "scattermapbox"
           }
          ],
          "scatterpolar": [
           {
            "marker": {
             "colorbar": {
              "outlinewidth": 0,
              "ticks": ""
             }
            },
            "type": "scatterpolar"
           }
          ],
          "scatterpolargl": [
           {
            "marker": {
             "colorbar": {
              "outlinewidth": 0,
              "ticks": ""
             }
            },
            "type": "scatterpolargl"
           }
          ],
          "scatterternary": [
           {
            "marker": {
             "colorbar": {
              "outlinewidth": 0,
              "ticks": ""
             }
            },
            "type": "scatterternary"
           }
          ],
          "surface": [
           {
            "colorbar": {
             "outlinewidth": 0,
             "ticks": ""
            },
            "colorscale": [
             [
              0,
              "#0d0887"
             ],
             [
              0.1111111111111111,
              "#46039f"
             ],
             [
              0.2222222222222222,
              "#7201a8"
             ],
             [
              0.3333333333333333,
              "#9c179e"
             ],
             [
              0.4444444444444444,
              "#bd3786"
             ],
             [
              0.5555555555555556,
              "#d8576b"
             ],
             [
              0.6666666666666666,
              "#ed7953"
             ],
             [
              0.7777777777777778,
              "#fb9f3a"
             ],
             [
              0.8888888888888888,
              "#fdca26"
             ],
             [
              1,
              "#f0f921"
             ]
            ],
            "type": "surface"
           }
          ],
          "table": [
           {
            "cells": {
             "fill": {
              "color": "#EBF0F8"
             },
             "line": {
              "color": "white"
             }
            },
            "header": {
             "fill": {
              "color": "#C8D4E3"
             },
             "line": {
              "color": "white"
             }
            },
            "type": "table"
           }
          ]
         },
         "layout": {
          "annotationdefaults": {
           "arrowcolor": "#2a3f5f",
           "arrowhead": 0,
           "arrowwidth": 1
          },
          "autotypenumbers": "strict",
          "coloraxis": {
           "colorbar": {
            "outlinewidth": 0,
            "ticks": ""
           }
          },
          "colorscale": {
           "diverging": [
            [
             0,
             "#8e0152"
            ],
            [
             0.1,
             "#c51b7d"
            ],
            [
             0.2,
             "#de77ae"
            ],
            [
             0.3,
             "#f1b6da"
            ],
            [
             0.4,
             "#fde0ef"
            ],
            [
             0.5,
             "#f7f7f7"
            ],
            [
             0.6,
             "#e6f5d0"
            ],
            [
             0.7,
             "#b8e186"
            ],
            [
             0.8,
             "#7fbc41"
            ],
            [
             0.9,
             "#4d9221"
            ],
            [
             1,
             "#276419"
            ]
           ],
           "sequential": [
            [
             0,
             "#0d0887"
            ],
            [
             0.1111111111111111,
             "#46039f"
            ],
            [
             0.2222222222222222,
             "#7201a8"
            ],
            [
             0.3333333333333333,
             "#9c179e"
            ],
            [
             0.4444444444444444,
             "#bd3786"
            ],
            [
             0.5555555555555556,
             "#d8576b"
            ],
            [
             0.6666666666666666,
             "#ed7953"
            ],
            [
             0.7777777777777778,
             "#fb9f3a"
            ],
            [
             0.8888888888888888,
             "#fdca26"
            ],
            [
             1,
             "#f0f921"
            ]
           ],
           "sequentialminus": [
            [
             0,
             "#0d0887"
            ],
            [
             0.1111111111111111,
             "#46039f"
            ],
            [
             0.2222222222222222,
             "#7201a8"
            ],
            [
             0.3333333333333333,
             "#9c179e"
            ],
            [
             0.4444444444444444,
             "#bd3786"
            ],
            [
             0.5555555555555556,
             "#d8576b"
            ],
            [
             0.6666666666666666,
             "#ed7953"
            ],
            [
             0.7777777777777778,
             "#fb9f3a"
            ],
            [
             0.8888888888888888,
             "#fdca26"
            ],
            [
             1,
             "#f0f921"
            ]
           ]
          },
          "colorway": [
           "#636efa",
           "#EF553B",
           "#00cc96",
           "#ab63fa",
           "#FFA15A",
           "#19d3f3",
           "#FF6692",
           "#B6E880",
           "#FF97FF",
           "#FECB52"
          ],
          "font": {
           "color": "#2a3f5f"
          },
          "geo": {
           "bgcolor": "white",
           "lakecolor": "white",
           "landcolor": "#E5ECF6",
           "showlakes": true,
           "showland": true,
           "subunitcolor": "white"
          },
          "hoverlabel": {
           "align": "left"
          },
          "hovermode": "closest",
          "mapbox": {
           "style": "light"
          },
          "paper_bgcolor": "white",
          "plot_bgcolor": "#E5ECF6",
          "polar": {
           "angularaxis": {
            "gridcolor": "white",
            "linecolor": "white",
            "ticks": ""
           },
           "bgcolor": "#E5ECF6",
           "radialaxis": {
            "gridcolor": "white",
            "linecolor": "white",
            "ticks": ""
           }
          },
          "scene": {
           "xaxis": {
            "backgroundcolor": "#E5ECF6",
            "gridcolor": "white",
            "gridwidth": 2,
            "linecolor": "white",
            "showbackground": true,
            "ticks": "",
            "zerolinecolor": "white"
           },
           "yaxis": {
            "backgroundcolor": "#E5ECF6",
            "gridcolor": "white",
            "gridwidth": 2,
            "linecolor": "white",
            "showbackground": true,
            "ticks": "",
            "zerolinecolor": "white"
           },
           "zaxis": {
            "backgroundcolor": "#E5ECF6",
            "gridcolor": "white",
            "gridwidth": 2,
            "linecolor": "white",
            "showbackground": true,
            "ticks": "",
            "zerolinecolor": "white"
           }
          },
          "shapedefaults": {
           "line": {
            "color": "#2a3f5f"
           }
          },
          "ternary": {
           "aaxis": {
            "gridcolor": "white",
            "linecolor": "white",
            "ticks": ""
           },
           "baxis": {
            "gridcolor": "white",
            "linecolor": "white",
            "ticks": ""
           },
           "bgcolor": "#E5ECF6",
           "caxis": {
            "gridcolor": "white",
            "linecolor": "white",
            "ticks": ""
           }
          },
          "title": {
           "x": 0.05
          },
          "xaxis": {
           "automargin": true,
           "gridcolor": "white",
           "linecolor": "white",
           "ticks": "",
           "title": {
            "standoff": 15
           },
           "zerolinecolor": "white",
           "zerolinewidth": 2
          },
          "yaxis": {
           "automargin": true,
           "gridcolor": "white",
           "linecolor": "white",
           "ticks": "",
           "title": {
            "standoff": 15
           },
           "zerolinecolor": "white",
           "zerolinewidth": 2
          }
         }
        },
        "title": {
         "text": "Optimization History Plot"
        },
        "xaxis": {
         "title": {
          "text": "Trial"
         }
        },
        "yaxis": {
         "title": {
          "text": "Objective Value"
         }
        }
       }
      }
     },
     "metadata": {},
     "output_type": "display_data"
    }
   ],
   "source": [
    "optuna.visualization.plot_optimization_history(study_gbm)"
   ]
  },
  {
   "cell_type": "code",
   "execution_count": 278,
   "id": "fb09a4d7",
   "metadata": {},
   "outputs": [
    {
     "data": {
      "application/vnd.plotly.v1+json": {
       "config": {
        "plotlyServerURL": "https://plot.ly"
       },
       "data": [
        {
         "dimensions": [
          {
           "label": "Objective Value",
           "range": [
            5.679093335226401,
            13.516070165660686
           ],
           "values": [
            5.696604022836157,
            5.7078928812566465,
            5.843847541050754,
            5.68506508326112,
            5.6991366078140535,
            5.825989158798206,
            5.719282641611134,
            5.782066184616593,
            5.680990928820001,
            5.876594112114816,
            5.696928153312559,
            5.680228185702468,
            5.682285030586667,
            5.737690130669049,
            5.745474343755571,
            5.6847382242817055,
            5.700174816472235,
            6.228117348529724,
            9.242510845208193,
            8.475021798608035,
            7.290561061507202,
            9.791007281291016,
            13.516070165660686,
            6.526793482632447,
            5.705809327603253,
            5.7107884379771425,
            5.7763182369715915,
            5.679093335226401,
            5.6794455883391395,
            5.679657899785674,
            5.683301122411402,
            5.705352520893219,
            5.68221067143043,
            5.7741709027736885,
            5.687879959323454,
            5.686986264636963,
            5.688460889599749,
            5.685646664559208,
            5.688101443412177,
            5.680801940833158,
            5.68112526499108,
            5.681161183460797,
            5.687830796771548,
            5.680036891116004,
            5.679996411574436,
            5.6858313108855265,
            5.682298394653977,
            5.701771608386876,
            5.6797764722612545,
            5.680556292588266
           ]
          },
          {
           "label": "learning_rate",
           "range": [
            0.010312047047931198,
            0.29339795657363166
           ],
           "values": [
            0.1990678745765071,
            0.2085647734653658,
            0.272486252398384,
            0.12798723327866482,
            0.2890972331092938,
            0.22706197825473068,
            0.11252118473942845,
            0.2451059579067023,
            0.10990227765134575,
            0.2106420936651406,
            0.06860373974268588,
            0.05818631421029453,
            0.29339795657363166,
            0.23385230255220837,
            0.24732174339415822,
            0.08256470408442423,
            0.19572353480687507,
            0.0138504956605437,
            0.01160148274820983,
            0.01776414215944353,
            0.021059905940807033,
            0.014912885275740903,
            0.010312047047931198,
            0.01890672675470232,
            0.059315934584777213,
            0.06299688176921343,
            0.15233271427442036,
            0.05571654815331678,
            0.05897798898873958,
            0.059395090920699584,
            0.05011285630949221,
            0.050150895209729734,
            0.05025965121218333,
            0.153803293881054,
            0.15818213328353972,
            0.09472929184732173,
            0.08819851192686348,
            0.09104438803688075,
            0.08957954813473783,
            0.039003162395751495,
            0.03864869410171577,
            0.04041528333498857,
            0.1396765063558173,
            0.038564508715487826,
            0.03551133272258131,
            0.11348345201627598,
            0.03279382743969601,
            0.11639439275774066,
            0.035101963592744714,
            0.07016054437000405
           ]
          },
          {
           "label": "max_depth",
           "range": [
            2,
            15
           ],
           "values": [
            13,
            9,
            9,
            3,
            11,
            14,
            12,
            6,
            12,
            13,
            7,
            12,
            2,
            7,
            8,
            4,
            11,
            15,
            15,
            15,
            15,
            15,
            14,
            15,
            13,
            11,
            11,
            10,
            11,
            11,
            10,
            10,
            10,
            10,
            10,
            10,
            10,
            11,
            11,
            12,
            12,
            9,
            9,
            9,
            12,
            9,
            13,
            8,
            8,
            8
           ]
          },
          {
           "label": "n_estimators",
           "range": [
            74,
            399
           ],
           "values": [
            74,
            350,
            274,
            351,
            254,
            342,
            169,
            395,
            157,
            361,
            286,
            275,
            399,
            158,
            196,
            273,
            335,
            196,
            144,
            102,
            101,
            106,
            112,
            131,
            224,
            221,
            221,
            226,
            212,
            221,
            228,
            218,
            216,
            203,
            221,
            237,
            309,
            190,
            302,
            306,
            314,
            305,
            252,
            252,
            299,
            257,
            259,
            249,
            255,
            260
           ]
          },
          {
           "label": "num_leaves",
           "range": [
            5,
            181
           ],
           "values": [
            70,
            19,
            107,
            50,
            12,
            105,
            152,
            87,
            10,
            160,
            59,
            8,
            59,
            86,
            66,
            117,
            13,
            133,
            132,
            134,
            29,
            28,
            34,
            37,
            159,
            170,
            181,
            5,
            5,
            6,
            40,
            180,
            45,
            180,
            5,
            24,
            23,
            26,
            23,
            18,
            21,
            19,
            5,
            15,
            16,
            16,
            52,
            48,
            13,
            6
           ]
          },
          {
           "label": "subsample",
           "range": [
            0.6003364764865311,
            0.9859220643546848
           ],
           "values": [
            0.8129700315532135,
            0.8429992799203913,
            0.6386594290408809,
            0.8980108879437902,
            0.8689267757622683,
            0.9540003295935678,
            0.8689829746294304,
            0.6783806968599797,
            0.9299481269878793,
            0.9081090816824879,
            0.7815142911363335,
            0.6574476991635511,
            0.9445722722650961,
            0.6489137390998363,
            0.7687340299090126,
            0.7839705628337081,
            0.9715642600978696,
            0.7244894746413251,
            0.9859220643546848,
            0.7000770601623995,
            0.978144972347836,
            0.9710131387460006,
            0.7193739282702606,
            0.7202062936076123,
            0.7161399619050313,
            0.7243577727360566,
            0.7200676989519145,
            0.606026054461124,
            0.620087282383088,
            0.6056238911966252,
            0.608335179449294,
            0.6037235223230716,
            0.6116003782209495,
            0.6082504979345762,
            0.604868423217646,
            0.6253536453939466,
            0.6270865519220332,
            0.6367038974372304,
            0.6522543232546425,
            0.6613678367679612,
            0.6626639267076503,
            0.6652108012432951,
            0.6698022245975576,
            0.6624991117376273,
            0.6605685586848556,
            0.6864791342006481,
            0.6953339735566701,
            0.6904893212901091,
            0.6003364764865311,
            0.7516690921140605
           ]
          }
         ],
         "labelangle": 30,
         "labelside": "bottom",
         "line": {
          "color": [
           5.696604022836157,
           5.7078928812566465,
           5.843847541050754,
           5.68506508326112,
           5.6991366078140535,
           5.825989158798206,
           5.719282641611134,
           5.782066184616593,
           5.680990928820001,
           5.876594112114816,
           5.696928153312559,
           5.680228185702468,
           5.682285030586667,
           5.737690130669049,
           5.745474343755571,
           5.6847382242817055,
           5.700174816472235,
           6.228117348529724,
           9.242510845208193,
           8.475021798608035,
           7.290561061507202,
           9.791007281291016,
           13.516070165660686,
           6.526793482632447,
           5.705809327603253,
           5.7107884379771425,
           5.7763182369715915,
           5.679093335226401,
           5.6794455883391395,
           5.679657899785674,
           5.683301122411402,
           5.705352520893219,
           5.68221067143043,
           5.7741709027736885,
           5.687879959323454,
           5.686986264636963,
           5.688460889599749,
           5.685646664559208,
           5.688101443412177,
           5.680801940833158,
           5.68112526499108,
           5.681161183460797,
           5.687830796771548,
           5.680036891116004,
           5.679996411574436,
           5.6858313108855265,
           5.682298394653977,
           5.701771608386876,
           5.6797764722612545,
           5.680556292588266
          ],
          "colorbar": {
           "title": {
            "text": "Objective Value"
           }
          },
          "colorscale": [
           [
            0,
            "rgb(247,251,255)"
           ],
           [
            0.125,
            "rgb(222,235,247)"
           ],
           [
            0.25,
            "rgb(198,219,239)"
           ],
           [
            0.375,
            "rgb(158,202,225)"
           ],
           [
            0.5,
            "rgb(107,174,214)"
           ],
           [
            0.625,
            "rgb(66,146,198)"
           ],
           [
            0.75,
            "rgb(33,113,181)"
           ],
           [
            0.875,
            "rgb(8,81,156)"
           ],
           [
            1,
            "rgb(8,48,107)"
           ]
          ],
          "reversescale": true,
          "showscale": true
         },
         "type": "parcoords"
        }
       ],
       "layout": {
        "template": {
         "data": {
          "bar": [
           {
            "error_x": {
             "color": "#2a3f5f"
            },
            "error_y": {
             "color": "#2a3f5f"
            },
            "marker": {
             "line": {
              "color": "#E5ECF6",
              "width": 0.5
             },
             "pattern": {
              "fillmode": "overlay",
              "size": 10,
              "solidity": 0.2
             }
            },
            "type": "bar"
           }
          ],
          "barpolar": [
           {
            "marker": {
             "line": {
              "color": "#E5ECF6",
              "width": 0.5
             },
             "pattern": {
              "fillmode": "overlay",
              "size": 10,
              "solidity": 0.2
             }
            },
            "type": "barpolar"
           }
          ],
          "carpet": [
           {
            "aaxis": {
             "endlinecolor": "#2a3f5f",
             "gridcolor": "white",
             "linecolor": "white",
             "minorgridcolor": "white",
             "startlinecolor": "#2a3f5f"
            },
            "baxis": {
             "endlinecolor": "#2a3f5f",
             "gridcolor": "white",
             "linecolor": "white",
             "minorgridcolor": "white",
             "startlinecolor": "#2a3f5f"
            },
            "type": "carpet"
           }
          ],
          "choropleth": [
           {
            "colorbar": {
             "outlinewidth": 0,
             "ticks": ""
            },
            "type": "choropleth"
           }
          ],
          "contour": [
           {
            "colorbar": {
             "outlinewidth": 0,
             "ticks": ""
            },
            "colorscale": [
             [
              0,
              "#0d0887"
             ],
             [
              0.1111111111111111,
              "#46039f"
             ],
             [
              0.2222222222222222,
              "#7201a8"
             ],
             [
              0.3333333333333333,
              "#9c179e"
             ],
             [
              0.4444444444444444,
              "#bd3786"
             ],
             [
              0.5555555555555556,
              "#d8576b"
             ],
             [
              0.6666666666666666,
              "#ed7953"
             ],
             [
              0.7777777777777778,
              "#fb9f3a"
             ],
             [
              0.8888888888888888,
              "#fdca26"
             ],
             [
              1,
              "#f0f921"
             ]
            ],
            "type": "contour"
           }
          ],
          "contourcarpet": [
           {
            "colorbar": {
             "outlinewidth": 0,
             "ticks": ""
            },
            "type": "contourcarpet"
           }
          ],
          "heatmap": [
           {
            "colorbar": {
             "outlinewidth": 0,
             "ticks": ""
            },
            "colorscale": [
             [
              0,
              "#0d0887"
             ],
             [
              0.1111111111111111,
              "#46039f"
             ],
             [
              0.2222222222222222,
              "#7201a8"
             ],
             [
              0.3333333333333333,
              "#9c179e"
             ],
             [
              0.4444444444444444,
              "#bd3786"
             ],
             [
              0.5555555555555556,
              "#d8576b"
             ],
             [
              0.6666666666666666,
              "#ed7953"
             ],
             [
              0.7777777777777778,
              "#fb9f3a"
             ],
             [
              0.8888888888888888,
              "#fdca26"
             ],
             [
              1,
              "#f0f921"
             ]
            ],
            "type": "heatmap"
           }
          ],
          "histogram": [
           {
            "marker": {
             "pattern": {
              "fillmode": "overlay",
              "size": 10,
              "solidity": 0.2
             }
            },
            "type": "histogram"
           }
          ],
          "histogram2d": [
           {
            "colorbar": {
             "outlinewidth": 0,
             "ticks": ""
            },
            "colorscale": [
             [
              0,
              "#0d0887"
             ],
             [
              0.1111111111111111,
              "#46039f"
             ],
             [
              0.2222222222222222,
              "#7201a8"
             ],
             [
              0.3333333333333333,
              "#9c179e"
             ],
             [
              0.4444444444444444,
              "#bd3786"
             ],
             [
              0.5555555555555556,
              "#d8576b"
             ],
             [
              0.6666666666666666,
              "#ed7953"
             ],
             [
              0.7777777777777778,
              "#fb9f3a"
             ],
             [
              0.8888888888888888,
              "#fdca26"
             ],
             [
              1,
              "#f0f921"
             ]
            ],
            "type": "histogram2d"
           }
          ],
          "histogram2dcontour": [
           {
            "colorbar": {
             "outlinewidth": 0,
             "ticks": ""
            },
            "colorscale": [
             [
              0,
              "#0d0887"
             ],
             [
              0.1111111111111111,
              "#46039f"
             ],
             [
              0.2222222222222222,
              "#7201a8"
             ],
             [
              0.3333333333333333,
              "#9c179e"
             ],
             [
              0.4444444444444444,
              "#bd3786"
             ],
             [
              0.5555555555555556,
              "#d8576b"
             ],
             [
              0.6666666666666666,
              "#ed7953"
             ],
             [
              0.7777777777777778,
              "#fb9f3a"
             ],
             [
              0.8888888888888888,
              "#fdca26"
             ],
             [
              1,
              "#f0f921"
             ]
            ],
            "type": "histogram2dcontour"
           }
          ],
          "mesh3d": [
           {
            "colorbar": {
             "outlinewidth": 0,
             "ticks": ""
            },
            "type": "mesh3d"
           }
          ],
          "parcoords": [
           {
            "line": {
             "colorbar": {
              "outlinewidth": 0,
              "ticks": ""
             }
            },
            "type": "parcoords"
           }
          ],
          "pie": [
           {
            "automargin": true,
            "type": "pie"
           }
          ],
          "scatter": [
           {
            "fillpattern": {
             "fillmode": "overlay",
             "size": 10,
             "solidity": 0.2
            },
            "type": "scatter"
           }
          ],
          "scatter3d": [
           {
            "line": {
             "colorbar": {
              "outlinewidth": 0,
              "ticks": ""
             }
            },
            "marker": {
             "colorbar": {
              "outlinewidth": 0,
              "ticks": ""
             }
            },
            "type": "scatter3d"
           }
          ],
          "scattercarpet": [
           {
            "marker": {
             "colorbar": {
              "outlinewidth": 0,
              "ticks": ""
             }
            },
            "type": "scattercarpet"
           }
          ],
          "scattergeo": [
           {
            "marker": {
             "colorbar": {
              "outlinewidth": 0,
              "ticks": ""
             }
            },
            "type": "scattergeo"
           }
          ],
          "scattergl": [
           {
            "marker": {
             "colorbar": {
              "outlinewidth": 0,
              "ticks": ""
             }
            },
            "type": "scattergl"
           }
          ],
          "scattermap": [
           {
            "marker": {
             "colorbar": {
              "outlinewidth": 0,
              "ticks": ""
             }
            },
            "type": "scattermap"
           }
          ],
          "scattermapbox": [
           {
            "marker": {
             "colorbar": {
              "outlinewidth": 0,
              "ticks": ""
             }
            },
            "type": "scattermapbox"
           }
          ],
          "scatterpolar": [
           {
            "marker": {
             "colorbar": {
              "outlinewidth": 0,
              "ticks": ""
             }
            },
            "type": "scatterpolar"
           }
          ],
          "scatterpolargl": [
           {
            "marker": {
             "colorbar": {
              "outlinewidth": 0,
              "ticks": ""
             }
            },
            "type": "scatterpolargl"
           }
          ],
          "scatterternary": [
           {
            "marker": {
             "colorbar": {
              "outlinewidth": 0,
              "ticks": ""
             }
            },
            "type": "scatterternary"
           }
          ],
          "surface": [
           {
            "colorbar": {
             "outlinewidth": 0,
             "ticks": ""
            },
            "colorscale": [
             [
              0,
              "#0d0887"
             ],
             [
              0.1111111111111111,
              "#46039f"
             ],
             [
              0.2222222222222222,
              "#7201a8"
             ],
             [
              0.3333333333333333,
              "#9c179e"
             ],
             [
              0.4444444444444444,
              "#bd3786"
             ],
             [
              0.5555555555555556,
              "#d8576b"
             ],
             [
              0.6666666666666666,
              "#ed7953"
             ],
             [
              0.7777777777777778,
              "#fb9f3a"
             ],
             [
              0.8888888888888888,
              "#fdca26"
             ],
             [
              1,
              "#f0f921"
             ]
            ],
            "type": "surface"
           }
          ],
          "table": [
           {
            "cells": {
             "fill": {
              "color": "#EBF0F8"
             },
             "line": {
              "color": "white"
             }
            },
            "header": {
             "fill": {
              "color": "#C8D4E3"
             },
             "line": {
              "color": "white"
             }
            },
            "type": "table"
           }
          ]
         },
         "layout": {
          "annotationdefaults": {
           "arrowcolor": "#2a3f5f",
           "arrowhead": 0,
           "arrowwidth": 1
          },
          "autotypenumbers": "strict",
          "coloraxis": {
           "colorbar": {
            "outlinewidth": 0,
            "ticks": ""
           }
          },
          "colorscale": {
           "diverging": [
            [
             0,
             "#8e0152"
            ],
            [
             0.1,
             "#c51b7d"
            ],
            [
             0.2,
             "#de77ae"
            ],
            [
             0.3,
             "#f1b6da"
            ],
            [
             0.4,
             "#fde0ef"
            ],
            [
             0.5,
             "#f7f7f7"
            ],
            [
             0.6,
             "#e6f5d0"
            ],
            [
             0.7,
             "#b8e186"
            ],
            [
             0.8,
             "#7fbc41"
            ],
            [
             0.9,
             "#4d9221"
            ],
            [
             1,
             "#276419"
            ]
           ],
           "sequential": [
            [
             0,
             "#0d0887"
            ],
            [
             0.1111111111111111,
             "#46039f"
            ],
            [
             0.2222222222222222,
             "#7201a8"
            ],
            [
             0.3333333333333333,
             "#9c179e"
            ],
            [
             0.4444444444444444,
             "#bd3786"
            ],
            [
             0.5555555555555556,
             "#d8576b"
            ],
            [
             0.6666666666666666,
             "#ed7953"
            ],
            [
             0.7777777777777778,
             "#fb9f3a"
            ],
            [
             0.8888888888888888,
             "#fdca26"
            ],
            [
             1,
             "#f0f921"
            ]
           ],
           "sequentialminus": [
            [
             0,
             "#0d0887"
            ],
            [
             0.1111111111111111,
             "#46039f"
            ],
            [
             0.2222222222222222,
             "#7201a8"
            ],
            [
             0.3333333333333333,
             "#9c179e"
            ],
            [
             0.4444444444444444,
             "#bd3786"
            ],
            [
             0.5555555555555556,
             "#d8576b"
            ],
            [
             0.6666666666666666,
             "#ed7953"
            ],
            [
             0.7777777777777778,
             "#fb9f3a"
            ],
            [
             0.8888888888888888,
             "#fdca26"
            ],
            [
             1,
             "#f0f921"
            ]
           ]
          },
          "colorway": [
           "#636efa",
           "#EF553B",
           "#00cc96",
           "#ab63fa",
           "#FFA15A",
           "#19d3f3",
           "#FF6692",
           "#B6E880",
           "#FF97FF",
           "#FECB52"
          ],
          "font": {
           "color": "#2a3f5f"
          },
          "geo": {
           "bgcolor": "white",
           "lakecolor": "white",
           "landcolor": "#E5ECF6",
           "showlakes": true,
           "showland": true,
           "subunitcolor": "white"
          },
          "hoverlabel": {
           "align": "left"
          },
          "hovermode": "closest",
          "mapbox": {
           "style": "light"
          },
          "paper_bgcolor": "white",
          "plot_bgcolor": "#E5ECF6",
          "polar": {
           "angularaxis": {
            "gridcolor": "white",
            "linecolor": "white",
            "ticks": ""
           },
           "bgcolor": "#E5ECF6",
           "radialaxis": {
            "gridcolor": "white",
            "linecolor": "white",
            "ticks": ""
           }
          },
          "scene": {
           "xaxis": {
            "backgroundcolor": "#E5ECF6",
            "gridcolor": "white",
            "gridwidth": 2,
            "linecolor": "white",
            "showbackground": true,
            "ticks": "",
            "zerolinecolor": "white"
           },
           "yaxis": {
            "backgroundcolor": "#E5ECF6",
            "gridcolor": "white",
            "gridwidth": 2,
            "linecolor": "white",
            "showbackground": true,
            "ticks": "",
            "zerolinecolor": "white"
           },
           "zaxis": {
            "backgroundcolor": "#E5ECF6",
            "gridcolor": "white",
            "gridwidth": 2,
            "linecolor": "white",
            "showbackground": true,
            "ticks": "",
            "zerolinecolor": "white"
           }
          },
          "shapedefaults": {
           "line": {
            "color": "#2a3f5f"
           }
          },
          "ternary": {
           "aaxis": {
            "gridcolor": "white",
            "linecolor": "white",
            "ticks": ""
           },
           "baxis": {
            "gridcolor": "white",
            "linecolor": "white",
            "ticks": ""
           },
           "bgcolor": "#E5ECF6",
           "caxis": {
            "gridcolor": "white",
            "linecolor": "white",
            "ticks": ""
           }
          },
          "title": {
           "x": 0.05
          },
          "xaxis": {
           "automargin": true,
           "gridcolor": "white",
           "linecolor": "white",
           "ticks": "",
           "title": {
            "standoff": 15
           },
           "zerolinecolor": "white",
           "zerolinewidth": 2
          },
          "yaxis": {
           "automargin": true,
           "gridcolor": "white",
           "linecolor": "white",
           "ticks": "",
           "title": {
            "standoff": 15
           },
           "zerolinecolor": "white",
           "zerolinewidth": 2
          }
         }
        },
        "title": {
         "text": "Parallel Coordinate Plot"
        }
       }
      }
     },
     "metadata": {},
     "output_type": "display_data"
    }
   ],
   "source": [
    "optuna.visualization.plot_parallel_coordinate(study_gbm)"
   ]
  },
  {
   "cell_type": "markdown",
   "id": "c71a94bc",
   "metadata": {},
   "source": [
    "## 7.4 Models evaluations"
   ]
  },
  {
   "cell_type": "code",
   "execution_count": 279,
   "id": "cc529b63",
   "metadata": {},
   "outputs": [],
   "source": [
    "X = pd.concat([X_train,X_val]) \n",
    "y = pd.concat([y_train,y_val])"
   ]
  },
  {
   "cell_type": "code",
   "execution_count": 280,
   "id": "96ecab6f",
   "metadata": {},
   "outputs": [],
   "source": [
    "linear_model = LinearRegression(**optuna_linear_best_params,n_jobs=-1)\n",
    "random_model = RandomForestRegressor(**optuna_random_best_params,n_jobs=-1,random_state=42)\n",
    "gbm_model = LGBMRegressor(**gbm_best_params,n_jobs=-1,random_state=42)"
   ]
  },
  {
   "cell_type": "code",
   "execution_count": 281,
   "id": "43bc004e",
   "metadata": {},
   "outputs": [
    {
     "name": "stdout",
     "output_type": "stream",
     "text": [
      "[LightGBM] [Warning] Found whitespace in feature_names, replace with underlines\n",
      "[LightGBM] [Info] Auto-choosing row-wise multi-threading, the overhead of testing was 0.006266 seconds.\n",
      "You can set `force_row_wise=true` to remove the overhead.\n",
      "And if memory is not enough, you can set `force_col_wise=true`.\n",
      "[LightGBM] [Info] Total Bins 556\n",
      "[LightGBM] [Info] Number of data points in the train set: 216002, number of used features: 35\n",
      "[LightGBM] [Info] Start training from score 167.307212\n"
     ]
    },
    {
     "data": {
      "text/html": [
       "<style>#sk-container-id-4 {\n",
       "  /* Definition of color scheme common for light and dark mode */\n",
       "  --sklearn-color-text: #000;\n",
       "  --sklearn-color-text-muted: #666;\n",
       "  --sklearn-color-line: gray;\n",
       "  /* Definition of color scheme for unfitted estimators */\n",
       "  --sklearn-color-unfitted-level-0: #fff5e6;\n",
       "  --sklearn-color-unfitted-level-1: #f6e4d2;\n",
       "  --sklearn-color-unfitted-level-2: #ffe0b3;\n",
       "  --sklearn-color-unfitted-level-3: chocolate;\n",
       "  /* Definition of color scheme for fitted estimators */\n",
       "  --sklearn-color-fitted-level-0: #f0f8ff;\n",
       "  --sklearn-color-fitted-level-1: #d4ebff;\n",
       "  --sklearn-color-fitted-level-2: #b3dbfd;\n",
       "  --sklearn-color-fitted-level-3: cornflowerblue;\n",
       "\n",
       "  /* Specific color for light theme */\n",
       "  --sklearn-color-text-on-default-background: var(--sg-text-color, var(--theme-code-foreground, var(--jp-content-font-color1, black)));\n",
       "  --sklearn-color-background: var(--sg-background-color, var(--theme-background, var(--jp-layout-color0, white)));\n",
       "  --sklearn-color-border-box: var(--sg-text-color, var(--theme-code-foreground, var(--jp-content-font-color1, black)));\n",
       "  --sklearn-color-icon: #696969;\n",
       "\n",
       "  @media (prefers-color-scheme: dark) {\n",
       "    /* Redefinition of color scheme for dark theme */\n",
       "    --sklearn-color-text-on-default-background: var(--sg-text-color, var(--theme-code-foreground, var(--jp-content-font-color1, white)));\n",
       "    --sklearn-color-background: var(--sg-background-color, var(--theme-background, var(--jp-layout-color0, #111)));\n",
       "    --sklearn-color-border-box: var(--sg-text-color, var(--theme-code-foreground, var(--jp-content-font-color1, white)));\n",
       "    --sklearn-color-icon: #878787;\n",
       "  }\n",
       "}\n",
       "\n",
       "#sk-container-id-4 {\n",
       "  color: var(--sklearn-color-text);\n",
       "}\n",
       "\n",
       "#sk-container-id-4 pre {\n",
       "  padding: 0;\n",
       "}\n",
       "\n",
       "#sk-container-id-4 input.sk-hidden--visually {\n",
       "  border: 0;\n",
       "  clip: rect(1px 1px 1px 1px);\n",
       "  clip: rect(1px, 1px, 1px, 1px);\n",
       "  height: 1px;\n",
       "  margin: -1px;\n",
       "  overflow: hidden;\n",
       "  padding: 0;\n",
       "  position: absolute;\n",
       "  width: 1px;\n",
       "}\n",
       "\n",
       "#sk-container-id-4 div.sk-dashed-wrapped {\n",
       "  border: 1px dashed var(--sklearn-color-line);\n",
       "  margin: 0 0.4em 0.5em 0.4em;\n",
       "  box-sizing: border-box;\n",
       "  padding-bottom: 0.4em;\n",
       "  background-color: var(--sklearn-color-background);\n",
       "}\n",
       "\n",
       "#sk-container-id-4 div.sk-container {\n",
       "  /* jupyter's `normalize.less` sets `[hidden] { display: none; }`\n",
       "     but bootstrap.min.css set `[hidden] { display: none !important; }`\n",
       "     so we also need the `!important` here to be able to override the\n",
       "     default hidden behavior on the sphinx rendered scikit-learn.org.\n",
       "     See: https://github.com/scikit-learn/scikit-learn/issues/21755 */\n",
       "  display: inline-block !important;\n",
       "  position: relative;\n",
       "}\n",
       "\n",
       "#sk-container-id-4 div.sk-text-repr-fallback {\n",
       "  display: none;\n",
       "}\n",
       "\n",
       "div.sk-parallel-item,\n",
       "div.sk-serial,\n",
       "div.sk-item {\n",
       "  /* draw centered vertical line to link estimators */\n",
       "  background-image: linear-gradient(var(--sklearn-color-text-on-default-background), var(--sklearn-color-text-on-default-background));\n",
       "  background-size: 2px 100%;\n",
       "  background-repeat: no-repeat;\n",
       "  background-position: center center;\n",
       "}\n",
       "\n",
       "/* Parallel-specific style estimator block */\n",
       "\n",
       "#sk-container-id-4 div.sk-parallel-item::after {\n",
       "  content: \"\";\n",
       "  width: 100%;\n",
       "  border-bottom: 2px solid var(--sklearn-color-text-on-default-background);\n",
       "  flex-grow: 1;\n",
       "}\n",
       "\n",
       "#sk-container-id-4 div.sk-parallel {\n",
       "  display: flex;\n",
       "  align-items: stretch;\n",
       "  justify-content: center;\n",
       "  background-color: var(--sklearn-color-background);\n",
       "  position: relative;\n",
       "}\n",
       "\n",
       "#sk-container-id-4 div.sk-parallel-item {\n",
       "  display: flex;\n",
       "  flex-direction: column;\n",
       "}\n",
       "\n",
       "#sk-container-id-4 div.sk-parallel-item:first-child::after {\n",
       "  align-self: flex-end;\n",
       "  width: 50%;\n",
       "}\n",
       "\n",
       "#sk-container-id-4 div.sk-parallel-item:last-child::after {\n",
       "  align-self: flex-start;\n",
       "  width: 50%;\n",
       "}\n",
       "\n",
       "#sk-container-id-4 div.sk-parallel-item:only-child::after {\n",
       "  width: 0;\n",
       "}\n",
       "\n",
       "/* Serial-specific style estimator block */\n",
       "\n",
       "#sk-container-id-4 div.sk-serial {\n",
       "  display: flex;\n",
       "  flex-direction: column;\n",
       "  align-items: center;\n",
       "  background-color: var(--sklearn-color-background);\n",
       "  padding-right: 1em;\n",
       "  padding-left: 1em;\n",
       "}\n",
       "\n",
       "\n",
       "/* Toggleable style: style used for estimator/Pipeline/ColumnTransformer box that is\n",
       "clickable and can be expanded/collapsed.\n",
       "- Pipeline and ColumnTransformer use this feature and define the default style\n",
       "- Estimators will overwrite some part of the style using the `sk-estimator` class\n",
       "*/\n",
       "\n",
       "/* Pipeline and ColumnTransformer style (default) */\n",
       "\n",
       "#sk-container-id-4 div.sk-toggleable {\n",
       "  /* Default theme specific background. It is overwritten whether we have a\n",
       "  specific estimator or a Pipeline/ColumnTransformer */\n",
       "  background-color: var(--sklearn-color-background);\n",
       "}\n",
       "\n",
       "/* Toggleable label */\n",
       "#sk-container-id-4 label.sk-toggleable__label {\n",
       "  cursor: pointer;\n",
       "  display: flex;\n",
       "  width: 100%;\n",
       "  margin-bottom: 0;\n",
       "  padding: 0.5em;\n",
       "  box-sizing: border-box;\n",
       "  text-align: center;\n",
       "  align-items: start;\n",
       "  justify-content: space-between;\n",
       "  gap: 0.5em;\n",
       "}\n",
       "\n",
       "#sk-container-id-4 label.sk-toggleable__label .caption {\n",
       "  font-size: 0.6rem;\n",
       "  font-weight: lighter;\n",
       "  color: var(--sklearn-color-text-muted);\n",
       "}\n",
       "\n",
       "#sk-container-id-4 label.sk-toggleable__label-arrow:before {\n",
       "  /* Arrow on the left of the label */\n",
       "  content: \"▸\";\n",
       "  float: left;\n",
       "  margin-right: 0.25em;\n",
       "  color: var(--sklearn-color-icon);\n",
       "}\n",
       "\n",
       "#sk-container-id-4 label.sk-toggleable__label-arrow:hover:before {\n",
       "  color: var(--sklearn-color-text);\n",
       "}\n",
       "\n",
       "/* Toggleable content - dropdown */\n",
       "\n",
       "#sk-container-id-4 div.sk-toggleable__content {\n",
       "  max-height: 0;\n",
       "  max-width: 0;\n",
       "  overflow: hidden;\n",
       "  text-align: left;\n",
       "  /* unfitted */\n",
       "  background-color: var(--sklearn-color-unfitted-level-0);\n",
       "}\n",
       "\n",
       "#sk-container-id-4 div.sk-toggleable__content.fitted {\n",
       "  /* fitted */\n",
       "  background-color: var(--sklearn-color-fitted-level-0);\n",
       "}\n",
       "\n",
       "#sk-container-id-4 div.sk-toggleable__content pre {\n",
       "  margin: 0.2em;\n",
       "  border-radius: 0.25em;\n",
       "  color: var(--sklearn-color-text);\n",
       "  /* unfitted */\n",
       "  background-color: var(--sklearn-color-unfitted-level-0);\n",
       "}\n",
       "\n",
       "#sk-container-id-4 div.sk-toggleable__content.fitted pre {\n",
       "  /* unfitted */\n",
       "  background-color: var(--sklearn-color-fitted-level-0);\n",
       "}\n",
       "\n",
       "#sk-container-id-4 input.sk-toggleable__control:checked~div.sk-toggleable__content {\n",
       "  /* Expand drop-down */\n",
       "  max-height: 200px;\n",
       "  max-width: 100%;\n",
       "  overflow: auto;\n",
       "}\n",
       "\n",
       "#sk-container-id-4 input.sk-toggleable__control:checked~label.sk-toggleable__label-arrow:before {\n",
       "  content: \"▾\";\n",
       "}\n",
       "\n",
       "/* Pipeline/ColumnTransformer-specific style */\n",
       "\n",
       "#sk-container-id-4 div.sk-label input.sk-toggleable__control:checked~label.sk-toggleable__label {\n",
       "  color: var(--sklearn-color-text);\n",
       "  background-color: var(--sklearn-color-unfitted-level-2);\n",
       "}\n",
       "\n",
       "#sk-container-id-4 div.sk-label.fitted input.sk-toggleable__control:checked~label.sk-toggleable__label {\n",
       "  background-color: var(--sklearn-color-fitted-level-2);\n",
       "}\n",
       "\n",
       "/* Estimator-specific style */\n",
       "\n",
       "/* Colorize estimator box */\n",
       "#sk-container-id-4 div.sk-estimator input.sk-toggleable__control:checked~label.sk-toggleable__label {\n",
       "  /* unfitted */\n",
       "  background-color: var(--sklearn-color-unfitted-level-2);\n",
       "}\n",
       "\n",
       "#sk-container-id-4 div.sk-estimator.fitted input.sk-toggleable__control:checked~label.sk-toggleable__label {\n",
       "  /* fitted */\n",
       "  background-color: var(--sklearn-color-fitted-level-2);\n",
       "}\n",
       "\n",
       "#sk-container-id-4 div.sk-label label.sk-toggleable__label,\n",
       "#sk-container-id-4 div.sk-label label {\n",
       "  /* The background is the default theme color */\n",
       "  color: var(--sklearn-color-text-on-default-background);\n",
       "}\n",
       "\n",
       "/* On hover, darken the color of the background */\n",
       "#sk-container-id-4 div.sk-label:hover label.sk-toggleable__label {\n",
       "  color: var(--sklearn-color-text);\n",
       "  background-color: var(--sklearn-color-unfitted-level-2);\n",
       "}\n",
       "\n",
       "/* Label box, darken color on hover, fitted */\n",
       "#sk-container-id-4 div.sk-label.fitted:hover label.sk-toggleable__label.fitted {\n",
       "  color: var(--sklearn-color-text);\n",
       "  background-color: var(--sklearn-color-fitted-level-2);\n",
       "}\n",
       "\n",
       "/* Estimator label */\n",
       "\n",
       "#sk-container-id-4 div.sk-label label {\n",
       "  font-family: monospace;\n",
       "  font-weight: bold;\n",
       "  display: inline-block;\n",
       "  line-height: 1.2em;\n",
       "}\n",
       "\n",
       "#sk-container-id-4 div.sk-label-container {\n",
       "  text-align: center;\n",
       "}\n",
       "\n",
       "/* Estimator-specific */\n",
       "#sk-container-id-4 div.sk-estimator {\n",
       "  font-family: monospace;\n",
       "  border: 1px dotted var(--sklearn-color-border-box);\n",
       "  border-radius: 0.25em;\n",
       "  box-sizing: border-box;\n",
       "  margin-bottom: 0.5em;\n",
       "  /* unfitted */\n",
       "  background-color: var(--sklearn-color-unfitted-level-0);\n",
       "}\n",
       "\n",
       "#sk-container-id-4 div.sk-estimator.fitted {\n",
       "  /* fitted */\n",
       "  background-color: var(--sklearn-color-fitted-level-0);\n",
       "}\n",
       "\n",
       "/* on hover */\n",
       "#sk-container-id-4 div.sk-estimator:hover {\n",
       "  /* unfitted */\n",
       "  background-color: var(--sklearn-color-unfitted-level-2);\n",
       "}\n",
       "\n",
       "#sk-container-id-4 div.sk-estimator.fitted:hover {\n",
       "  /* fitted */\n",
       "  background-color: var(--sklearn-color-fitted-level-2);\n",
       "}\n",
       "\n",
       "/* Specification for estimator info (e.g. \"i\" and \"?\") */\n",
       "\n",
       "/* Common style for \"i\" and \"?\" */\n",
       "\n",
       ".sk-estimator-doc-link,\n",
       "a:link.sk-estimator-doc-link,\n",
       "a:visited.sk-estimator-doc-link {\n",
       "  float: right;\n",
       "  font-size: smaller;\n",
       "  line-height: 1em;\n",
       "  font-family: monospace;\n",
       "  background-color: var(--sklearn-color-background);\n",
       "  border-radius: 1em;\n",
       "  height: 1em;\n",
       "  width: 1em;\n",
       "  text-decoration: none !important;\n",
       "  margin-left: 0.5em;\n",
       "  text-align: center;\n",
       "  /* unfitted */\n",
       "  border: var(--sklearn-color-unfitted-level-1) 1pt solid;\n",
       "  color: var(--sklearn-color-unfitted-level-1);\n",
       "}\n",
       "\n",
       ".sk-estimator-doc-link.fitted,\n",
       "a:link.sk-estimator-doc-link.fitted,\n",
       "a:visited.sk-estimator-doc-link.fitted {\n",
       "  /* fitted */\n",
       "  border: var(--sklearn-color-fitted-level-1) 1pt solid;\n",
       "  color: var(--sklearn-color-fitted-level-1);\n",
       "}\n",
       "\n",
       "/* On hover */\n",
       "div.sk-estimator:hover .sk-estimator-doc-link:hover,\n",
       ".sk-estimator-doc-link:hover,\n",
       "div.sk-label-container:hover .sk-estimator-doc-link:hover,\n",
       ".sk-estimator-doc-link:hover {\n",
       "  /* unfitted */\n",
       "  background-color: var(--sklearn-color-unfitted-level-3);\n",
       "  color: var(--sklearn-color-background);\n",
       "  text-decoration: none;\n",
       "}\n",
       "\n",
       "div.sk-estimator.fitted:hover .sk-estimator-doc-link.fitted:hover,\n",
       ".sk-estimator-doc-link.fitted:hover,\n",
       "div.sk-label-container:hover .sk-estimator-doc-link.fitted:hover,\n",
       ".sk-estimator-doc-link.fitted:hover {\n",
       "  /* fitted */\n",
       "  background-color: var(--sklearn-color-fitted-level-3);\n",
       "  color: var(--sklearn-color-background);\n",
       "  text-decoration: none;\n",
       "}\n",
       "\n",
       "/* Span, style for the box shown on hovering the info icon */\n",
       ".sk-estimator-doc-link span {\n",
       "  display: none;\n",
       "  z-index: 9999;\n",
       "  position: relative;\n",
       "  font-weight: normal;\n",
       "  right: .2ex;\n",
       "  padding: .5ex;\n",
       "  margin: .5ex;\n",
       "  width: min-content;\n",
       "  min-width: 20ex;\n",
       "  max-width: 50ex;\n",
       "  color: var(--sklearn-color-text);\n",
       "  box-shadow: 2pt 2pt 4pt #999;\n",
       "  /* unfitted */\n",
       "  background: var(--sklearn-color-unfitted-level-0);\n",
       "  border: .5pt solid var(--sklearn-color-unfitted-level-3);\n",
       "}\n",
       "\n",
       ".sk-estimator-doc-link.fitted span {\n",
       "  /* fitted */\n",
       "  background: var(--sklearn-color-fitted-level-0);\n",
       "  border: var(--sklearn-color-fitted-level-3);\n",
       "}\n",
       "\n",
       ".sk-estimator-doc-link:hover span {\n",
       "  display: block;\n",
       "}\n",
       "\n",
       "/* \"?\"-specific style due to the `<a>` HTML tag */\n",
       "\n",
       "#sk-container-id-4 a.estimator_doc_link {\n",
       "  float: right;\n",
       "  font-size: 1rem;\n",
       "  line-height: 1em;\n",
       "  font-family: monospace;\n",
       "  background-color: var(--sklearn-color-background);\n",
       "  border-radius: 1rem;\n",
       "  height: 1rem;\n",
       "  width: 1rem;\n",
       "  text-decoration: none;\n",
       "  /* unfitted */\n",
       "  color: var(--sklearn-color-unfitted-level-1);\n",
       "  border: var(--sklearn-color-unfitted-level-1) 1pt solid;\n",
       "}\n",
       "\n",
       "#sk-container-id-4 a.estimator_doc_link.fitted {\n",
       "  /* fitted */\n",
       "  border: var(--sklearn-color-fitted-level-1) 1pt solid;\n",
       "  color: var(--sklearn-color-fitted-level-1);\n",
       "}\n",
       "\n",
       "/* On hover */\n",
       "#sk-container-id-4 a.estimator_doc_link:hover {\n",
       "  /* unfitted */\n",
       "  background-color: var(--sklearn-color-unfitted-level-3);\n",
       "  color: var(--sklearn-color-background);\n",
       "  text-decoration: none;\n",
       "}\n",
       "\n",
       "#sk-container-id-4 a.estimator_doc_link.fitted:hover {\n",
       "  /* fitted */\n",
       "  background-color: var(--sklearn-color-fitted-level-3);\n",
       "}\n",
       "</style><div id=\"sk-container-id-4\" class=\"sk-top-container\"><div class=\"sk-text-repr-fallback\"><pre>LGBMRegressor(learning_rate=0.05571654815331678, max_depth=10, n_estimators=226,\n",
       "              n_jobs=-1, num_leaves=5, random_state=42,\n",
       "              subsample=0.606026054461124)</pre><b>In a Jupyter environment, please rerun this cell to show the HTML representation or trust the notebook. <br />On GitHub, the HTML representation is unable to render, please try loading this page with nbviewer.org.</b></div><div class=\"sk-container\" hidden><div class=\"sk-item\"><div class=\"sk-estimator fitted sk-toggleable\"><input class=\"sk-toggleable__control sk-hidden--visually\" id=\"sk-estimator-id-4\" type=\"checkbox\" checked><label for=\"sk-estimator-id-4\" class=\"sk-toggleable__label fitted sk-toggleable__label-arrow\"><div><div>LGBMRegressor</div></div><div><span class=\"sk-estimator-doc-link fitted\">i<span>Fitted</span></span></div></label><div class=\"sk-toggleable__content fitted\"><pre>LGBMRegressor(learning_rate=0.05571654815331678, max_depth=10, n_estimators=226,\n",
       "              n_jobs=-1, num_leaves=5, random_state=42,\n",
       "              subsample=0.606026054461124)</pre></div> </div></div></div></div>"
      ],
      "text/plain": [
       "LGBMRegressor(learning_rate=0.05571654815331678, max_depth=10, n_estimators=226,\n",
       "              n_jobs=-1, num_leaves=5, random_state=42,\n",
       "              subsample=0.606026054461124)"
      ]
     },
     "execution_count": 281,
     "metadata": {},
     "output_type": "execute_result"
    }
   ],
   "source": [
    "linear_model.fit(X,y)\n",
    "random_model.fit(X,y)\n",
    "gbm_model.fit(X,y)"
   ]
  },
  {
   "cell_type": "code",
   "execution_count": 282,
   "id": "c3aed747",
   "metadata": {},
   "outputs": [],
   "source": [
    "y_final_preds_linear = linear_model.predict(X_test)\n",
    "y_final_preds_random = random_model.predict(X_test)\n",
    "y_final_preds_gbm = gbm_model.predict(X_test)"
   ]
  },
  {
   "cell_type": "code",
   "execution_count": 283,
   "id": "3752f3b2",
   "metadata": {},
   "outputs": [],
   "source": [
    "rmse_linear = root_mean_squared_error(y_test,y_final_preds_linear)\n",
    "rmse_random = root_mean_squared_error(y_test,y_final_preds_random)\n",
    "rmse_gbm = root_mean_squared_error(y_test,y_final_preds_gbm)"
   ]
  },
  {
   "cell_type": "code",
   "execution_count": 284,
   "id": "4170dad2",
   "metadata": {},
   "outputs": [
    {
     "name": "stdout",
     "output_type": "stream",
     "text": [
      "Final linear RMSE:  5.740244\n",
      "Final Random RMSE:  5.664198\n",
      "Final gbm RMSE:  5.661953\n"
     ]
    }
   ],
   "source": [
    "print(f'Final linear RMSE: {rmse_linear: 2f}')\n",
    "print(f'Final Random RMSE: {rmse_random: 2f}')\n",
    "print(f'Final gbm RMSE: {rmse_gbm: 2f}')"
   ]
  },
  {
   "cell_type": "markdown",
   "id": "2e06677a",
   "metadata": {},
   "source": [
    "# 8. Model and Pipeline"
   ]
  },
  {
   "cell_type": "code",
   "execution_count": 285,
   "id": "fde8e65e",
   "metadata": {},
   "outputs": [],
   "source": [
    "from sklearn.pipeline import Pipeline\n",
    "import joblib\n",
    "from sklearn.impute import SimpleImputer\n",
    "from sklearn.preprocessing import StandardScaler, OneHotEncoder\n",
    "from sklearn.compose import ColumnTransformer"
   ]
  },
  {
   "cell_type": "code",
   "execution_count": 286,
   "id": "7ea48386",
   "metadata": {},
   "outputs": [
    {
     "data": {
      "text/plain": [
       "['final_model_gbm.joblib']"
      ]
     },
     "execution_count": 286,
     "metadata": {},
     "output_type": "execute_result"
    }
   ],
   "source": [
    "final_model = gbm_model\n",
    "joblib.dump(final_model,'final_model_gbm.joblib')"
   ]
  },
  {
   "cell_type": "code",
   "execution_count": null,
   "id": "aa45efa6",
   "metadata": {},
   "outputs": [],
   "source": []
  }
 ],
 "metadata": {
  "kernelspec": {
   "display_name": "Python 3",
   "language": "python",
   "name": "python3"
  },
  "language_info": {
   "codemirror_mode": {
    "name": "ipython",
    "version": 3
   },
   "file_extension": ".py",
   "mimetype": "text/x-python",
   "name": "python",
   "nbconvert_exporter": "python",
   "pygments_lexer": "ipython3",
   "version": "3.13.2"
  }
 },
 "nbformat": 4,
 "nbformat_minor": 5
}
