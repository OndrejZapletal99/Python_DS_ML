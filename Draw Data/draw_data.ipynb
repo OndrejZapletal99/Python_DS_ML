{
 "cells": [
  {
   "cell_type": "code",
   "execution_count": 2,
   "id": "9f32c877",
   "metadata": {},
   "outputs": [
    {
     "name": "stdout",
     "output_type": "stream",
     "text": [
      "Defaulting to user installation because normal site-packages is not writeable\n",
      "Collecting drawdata\n",
      "  Downloading drawdata-0.3.8-py3-none-any.whl.metadata (4.2 kB)\n",
      "Collecting anywidget>=0.9.2 (from drawdata)\n",
      "  Downloading anywidget-0.9.18-py3-none-any.whl.metadata (8.9 kB)\n",
      "Collecting ipywidgets>=7.6.0 (from anywidget>=0.9.2->drawdata)\n",
      "  Downloading ipywidgets-8.1.7-py3-none-any.whl.metadata (2.4 kB)\n",
      "Collecting psygnal>=0.8.1 (from anywidget>=0.9.2->drawdata)\n",
      "  Downloading psygnal-0.13.0-cp313-cp313-win_amd64.whl.metadata (6.0 kB)\n",
      "Requirement already satisfied: typing-extensions>=4.2.0 in c:\\users\\ondra\\appdata\\roaming\\python\\python313\\site-packages (from anywidget>=0.9.2->drawdata) (4.12.2)\n",
      "Requirement already satisfied: comm>=0.1.3 in c:\\users\\ondra\\appdata\\roaming\\python\\python313\\site-packages (from ipywidgets>=7.6.0->anywidget>=0.9.2->drawdata) (0.2.2)\n",
      "Requirement already satisfied: ipython>=6.1.0 in c:\\users\\ondra\\appdata\\roaming\\python\\python313\\site-packages (from ipywidgets>=7.6.0->anywidget>=0.9.2->drawdata) (9.0.2)\n",
      "Requirement already satisfied: traitlets>=4.3.1 in c:\\users\\ondra\\appdata\\roaming\\python\\python313\\site-packages (from ipywidgets>=7.6.0->anywidget>=0.9.2->drawdata) (5.14.3)\n",
      "Collecting widgetsnbextension~=4.0.14 (from ipywidgets>=7.6.0->anywidget>=0.9.2->drawdata)\n",
      "  Downloading widgetsnbextension-4.0.14-py3-none-any.whl.metadata (1.6 kB)\n",
      "Collecting jupyterlab_widgets~=3.0.15 (from ipywidgets>=7.6.0->anywidget>=0.9.2->drawdata)\n",
      "  Downloading jupyterlab_widgets-3.0.15-py3-none-any.whl.metadata (20 kB)\n",
      "Requirement already satisfied: colorama in c:\\users\\ondra\\appdata\\roaming\\python\\python313\\site-packages (from ipython>=6.1.0->ipywidgets>=7.6.0->anywidget>=0.9.2->drawdata) (0.4.6)\n",
      "Requirement already satisfied: decorator in c:\\users\\ondra\\appdata\\roaming\\python\\python313\\site-packages (from ipython>=6.1.0->ipywidgets>=7.6.0->anywidget>=0.9.2->drawdata) (5.2.1)\n",
      "Requirement already satisfied: ipython-pygments-lexers in c:\\users\\ondra\\appdata\\roaming\\python\\python313\\site-packages (from ipython>=6.1.0->ipywidgets>=7.6.0->anywidget>=0.9.2->drawdata) (1.1.1)\n",
      "Requirement already satisfied: jedi>=0.16 in c:\\users\\ondra\\appdata\\roaming\\python\\python313\\site-packages (from ipython>=6.1.0->ipywidgets>=7.6.0->anywidget>=0.9.2->drawdata) (0.19.2)\n",
      "Requirement already satisfied: matplotlib-inline in c:\\users\\ondra\\appdata\\roaming\\python\\python313\\site-packages (from ipython>=6.1.0->ipywidgets>=7.6.0->anywidget>=0.9.2->drawdata) (0.1.7)\n",
      "Requirement already satisfied: prompt_toolkit<3.1.0,>=3.0.41 in c:\\users\\ondra\\appdata\\roaming\\python\\python313\\site-packages (from ipython>=6.1.0->ipywidgets>=7.6.0->anywidget>=0.9.2->drawdata) (3.0.50)\n",
      "Requirement already satisfied: pygments>=2.4.0 in c:\\users\\ondra\\appdata\\roaming\\python\\python313\\site-packages (from ipython>=6.1.0->ipywidgets>=7.6.0->anywidget>=0.9.2->drawdata) (2.19.1)\n",
      "Requirement already satisfied: stack_data in c:\\users\\ondra\\appdata\\roaming\\python\\python313\\site-packages (from ipython>=6.1.0->ipywidgets>=7.6.0->anywidget>=0.9.2->drawdata) (0.6.3)\n",
      "Requirement already satisfied: wcwidth in c:\\users\\ondra\\appdata\\roaming\\python\\python313\\site-packages (from prompt_toolkit<3.1.0,>=3.0.41->ipython>=6.1.0->ipywidgets>=7.6.0->anywidget>=0.9.2->drawdata) (0.2.13)\n",
      "Requirement already satisfied: parso<0.9.0,>=0.8.4 in c:\\users\\ondra\\appdata\\roaming\\python\\python313\\site-packages (from jedi>=0.16->ipython>=6.1.0->ipywidgets>=7.6.0->anywidget>=0.9.2->drawdata) (0.8.4)\n",
      "Requirement already satisfied: executing>=1.2.0 in c:\\users\\ondra\\appdata\\roaming\\python\\python313\\site-packages (from stack_data->ipython>=6.1.0->ipywidgets>=7.6.0->anywidget>=0.9.2->drawdata) (2.2.0)\n",
      "Requirement already satisfied: asttokens>=2.1.0 in c:\\users\\ondra\\appdata\\roaming\\python\\python313\\site-packages (from stack_data->ipython>=6.1.0->ipywidgets>=7.6.0->anywidget>=0.9.2->drawdata) (3.0.0)\n",
      "Requirement already satisfied: pure-eval in c:\\users\\ondra\\appdata\\roaming\\python\\python313\\site-packages (from stack_data->ipython>=6.1.0->ipywidgets>=7.6.0->anywidget>=0.9.2->drawdata) (0.2.3)\n",
      "Downloading drawdata-0.3.8-py3-none-any.whl (239 kB)\n",
      "Downloading anywidget-0.9.18-py3-none-any.whl (220 kB)\n",
      "Downloading ipywidgets-8.1.7-py3-none-any.whl (139 kB)\n",
      "Downloading jupyterlab_widgets-3.0.15-py3-none-any.whl (216 kB)\n",
      "Downloading widgetsnbextension-4.0.14-py3-none-any.whl (2.2 MB)\n",
      "   ---------------------------------------- 0.0/2.2 MB ? eta -:--:--\n",
      "   ------------------- -------------------- 1.0/2.2 MB 5.8 MB/s eta 0:00:01\n",
      "   ------------------- -------------------- 1.0/2.2 MB 5.8 MB/s eta 0:00:01\n",
      "   ------------------- -------------------- 1.0/2.2 MB 5.8 MB/s eta 0:00:01\n",
      "   ----------------------- ---------------- 1.3/2.2 MB 1.4 MB/s eta 0:00:01\n",
      "   --------------------------------- ------ 1.8/2.2 MB 1.6 MB/s eta 0:00:01\n",
      "   ---------------------------------------- 2.2/2.2 MB 1.8 MB/s eta 0:00:00\n",
      "Downloading psygnal-0.13.0-cp313-cp313-win_amd64.whl (416 kB)\n",
      "Installing collected packages: widgetsnbextension, psygnal, jupyterlab_widgets, ipywidgets, anywidget, drawdata\n",
      "\n",
      "   ------ --------------------------------- 1/6 [psygnal]\n",
      "   ------ --------------------------------- 1/6 [psygnal]\n",
      "   ------ --------------------------------- 1/6 [psygnal]\n",
      "   ------ --------------------------------- 1/6 [psygnal]\n",
      "   ------------- -------------------------- 2/6 [jupyterlab_widgets]\n",
      "   -------------------- ------------------- 3/6 [ipywidgets]\n",
      "   -------------------- ------------------- 3/6 [ipywidgets]\n",
      "   -------------------- ------------------- 3/6 [ipywidgets]\n",
      "   -------------------- ------------------- 3/6 [ipywidgets]\n",
      "   -------------------- ------------------- 3/6 [ipywidgets]\n",
      "   -------------------- ------------------- 3/6 [ipywidgets]\n",
      "   -------------------- ------------------- 3/6 [ipywidgets]\n",
      "   -------------------- ------------------- 3/6 [ipywidgets]\n",
      "   -------------------- ------------------- 3/6 [ipywidgets]\n",
      "   -------------------- ------------------- 3/6 [ipywidgets]\n",
      "   -------------------- ------------------- 3/6 [ipywidgets]\n",
      "   -------------------- ------------------- 3/6 [ipywidgets]\n",
      "   -------------------------- ------------- 4/6 [anywidget]\n",
      "   --------------------------------- ------ 5/6 [drawdata]\n",
      "   ---------------------------------------- 6/6 [drawdata]\n",
      "\n",
      "Successfully installed anywidget-0.9.18 drawdata-0.3.8 ipywidgets-8.1.7 jupyterlab_widgets-3.0.15 psygnal-0.13.0 widgetsnbextension-4.0.14\n"
     ]
    },
    {
     "name": "stderr",
     "output_type": "stream",
     "text": [
      "\n",
      "[notice] A new release of pip is available: 25.1 -> 25.1.1\n",
      "[notice] To update, run: python.exe -m pip install --upgrade pip\n"
     ]
    }
   ],
   "source": [
    "!pip3 install drawdata"
   ]
  },
  {
   "cell_type": "code",
   "execution_count": null,
   "id": "df2aabb7",
   "metadata": {},
   "outputs": [],
   "source": [
    "import pandas as pd\n",
    "import numpy as np\n",
    "from drawdata import ScatterWidget\n",
    "#https://github.com/koaning/drawdata"
   ]
  },
  {
   "cell_type": "code",
   "execution_count": null,
   "metadata": {},
   "outputs": [],
   "source": []
  },
  {
   "cell_type": "code",
   "execution_count": null,
   "metadata": {},
   "outputs": [],
   "source": []
  },
  {
   "cell_type": "code",
   "execution_count": null,
   "id": "017ddeea",
   "metadata": {},
   "outputs": [],
   "source": []
  }
 ],
 "metadata": {
  "kernelspec": {
   "display_name": "Python 3",
   "language": "python",
   "name": "python3"
  },
  "language_info": {
   "codemirror_mode": {
    "name": "ipython",
    "version": 3
   },
   "file_extension": ".py",
   "mimetype": "text/x-python",
   "name": "python",
   "nbconvert_exporter": "python",
   "pygments_lexer": "ipython3",
   "version": "3.13.2"
  }
 },
 "nbformat": 4,
 "nbformat_minor": 5
}
