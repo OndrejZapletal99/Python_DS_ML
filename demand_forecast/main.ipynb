{
 "cells": [
  {
   "cell_type": "markdown",
   "id": "662a55f7",
   "metadata": {},
   "source": [
    "# 1. Functions, libraries and packages"
   ]
  },
  {
   "cell_type": "code",
   "execution_count": 4,
   "id": "44cb7a5a",
   "metadata": {},
   "outputs": [],
   "source": [
    "import pandas as pd\n",
    "import numpy as np\n",
    "import matplotlib.pyplot as plt\n",
    "import seaborn as sns\n",
    "\n",
    "import kaggle"
   ]
  },
  {
   "cell_type": "code",
   "execution_count": 5,
   "id": "88e07e61",
   "metadata": {},
   "outputs": [],
   "source": [
    "def dataframe_info(df: pd.DataFrame):\n",
    "    \"\"\"\n",
    "    Generate a summary DataFrame containing metadata about the columns of the input DataFrame.\n",
    "\n",
    "    Args:\n",
    "        df (pd.DataFrame): The input DataFrame.\n",
    "\n",
    "    Returns:\n",
    "        pd.DataFrame: A summary DataFrame with the following columns:\n",
    "            - Column_name: Name of each column.\n",
    "            - Total records: Total number of records in each column.\n",
    "            - Missing Values: Number of missing (NaN) values in each column.\n",
    "            - Data type: Data type of each column.\n",
    "            - Unique values: Number of unique values in each column.\n",
    "    \"\"\"\n",
    "    df_summary = pd.DataFrame({\n",
    "        'Column_name': df.columns,\n",
    "        'Total records': [df[col].size for col in df.columns],\n",
    "        'Missing Values': [df[col].isna().sum() for col in df.columns],\n",
    "        'Data type': [df[col].dtype for col in df.columns],\n",
    "        'Unique values': [df[col].nunique() for col in df.columns]\n",
    "    })\n",
    "\n",
    "    return df_summary"
   ]
  },
  {
   "cell_type": "markdown",
   "id": "9b4adf1f",
   "metadata": {},
   "source": [
    "# 2. Data import"
   ]
  },
  {
   "cell_type": "code",
   "execution_count": 6,
   "id": "594163fb",
   "metadata": {},
   "outputs": [
    {
     "name": "stdout",
     "output_type": "stream",
     "text": [
      "Dataset URL: https://www.kaggle.com/datasets/aswathrao/demand-forecasting\n"
     ]
    }
   ],
   "source": [
    "kaggle.api.authenticate()\n",
    "kaggle.api.dataset_download_files('aswathrao/demand-forecasting', path = './data', unzip = True)"
   ]
  },
  {
   "cell_type": "code",
   "execution_count": 7,
   "id": "0c5f503a",
   "metadata": {},
   "outputs": [],
   "source": [
    "df = pd.read_csv(r'data/train_0irEZ2H.csv')"
   ]
  },
  {
   "cell_type": "code",
   "execution_count": 8,
   "id": "4939fbaa",
   "metadata": {},
   "outputs": [
    {
     "data": {
      "text/html": [
       "<div>\n",
       "<style scoped>\n",
       "    .dataframe tbody tr th:only-of-type {\n",
       "        vertical-align: middle;\n",
       "    }\n",
       "\n",
       "    .dataframe tbody tr th {\n",
       "        vertical-align: top;\n",
       "    }\n",
       "\n",
       "    .dataframe thead th {\n",
       "        text-align: right;\n",
       "    }\n",
       "</style>\n",
       "<table border=\"1\" class=\"dataframe\">\n",
       "  <thead>\n",
       "    <tr style=\"text-align: right;\">\n",
       "      <th></th>\n",
       "      <th>record_ID</th>\n",
       "      <th>week</th>\n",
       "      <th>store_id</th>\n",
       "      <th>sku_id</th>\n",
       "      <th>total_price</th>\n",
       "      <th>base_price</th>\n",
       "      <th>is_featured_sku</th>\n",
       "      <th>is_display_sku</th>\n",
       "      <th>units_sold</th>\n",
       "    </tr>\n",
       "  </thead>\n",
       "  <tbody>\n",
       "    <tr>\n",
       "      <th>0</th>\n",
       "      <td>1</td>\n",
       "      <td>17/01/11</td>\n",
       "      <td>8091</td>\n",
       "      <td>216418</td>\n",
       "      <td>99.0375</td>\n",
       "      <td>111.8625</td>\n",
       "      <td>0</td>\n",
       "      <td>0</td>\n",
       "      <td>20</td>\n",
       "    </tr>\n",
       "    <tr>\n",
       "      <th>1</th>\n",
       "      <td>2</td>\n",
       "      <td>17/01/11</td>\n",
       "      <td>8091</td>\n",
       "      <td>216419</td>\n",
       "      <td>99.0375</td>\n",
       "      <td>99.0375</td>\n",
       "      <td>0</td>\n",
       "      <td>0</td>\n",
       "      <td>28</td>\n",
       "    </tr>\n",
       "    <tr>\n",
       "      <th>2</th>\n",
       "      <td>3</td>\n",
       "      <td>17/01/11</td>\n",
       "      <td>8091</td>\n",
       "      <td>216425</td>\n",
       "      <td>133.9500</td>\n",
       "      <td>133.9500</td>\n",
       "      <td>0</td>\n",
       "      <td>0</td>\n",
       "      <td>19</td>\n",
       "    </tr>\n",
       "    <tr>\n",
       "      <th>3</th>\n",
       "      <td>4</td>\n",
       "      <td>17/01/11</td>\n",
       "      <td>8091</td>\n",
       "      <td>216233</td>\n",
       "      <td>133.9500</td>\n",
       "      <td>133.9500</td>\n",
       "      <td>0</td>\n",
       "      <td>0</td>\n",
       "      <td>44</td>\n",
       "    </tr>\n",
       "    <tr>\n",
       "      <th>4</th>\n",
       "      <td>5</td>\n",
       "      <td>17/01/11</td>\n",
       "      <td>8091</td>\n",
       "      <td>217390</td>\n",
       "      <td>141.0750</td>\n",
       "      <td>141.0750</td>\n",
       "      <td>0</td>\n",
       "      <td>0</td>\n",
       "      <td>52</td>\n",
       "    </tr>\n",
       "  </tbody>\n",
       "</table>\n",
       "</div>"
      ],
      "text/plain": [
       "   record_ID      week  store_id  sku_id  total_price  base_price  \\\n",
       "0          1  17/01/11      8091  216418      99.0375    111.8625   \n",
       "1          2  17/01/11      8091  216419      99.0375     99.0375   \n",
       "2          3  17/01/11      8091  216425     133.9500    133.9500   \n",
       "3          4  17/01/11      8091  216233     133.9500    133.9500   \n",
       "4          5  17/01/11      8091  217390     141.0750    141.0750   \n",
       "\n",
       "   is_featured_sku  is_display_sku  units_sold  \n",
       "0                0               0          20  \n",
       "1                0               0          28  \n",
       "2                0               0          19  \n",
       "3                0               0          44  \n",
       "4                0               0          52  "
      ]
     },
     "execution_count": 8,
     "metadata": {},
     "output_type": "execute_result"
    }
   ],
   "source": [
    "df.head()"
   ]
  },
  {
   "cell_type": "markdown",
   "id": "c99e6e84",
   "metadata": {},
   "source": [
    "# 3. EDA"
   ]
  },
  {
   "cell_type": "code",
   "execution_count": 9,
   "id": "c346a796",
   "metadata": {},
   "outputs": [
    {
     "data": {
      "text/html": [
       "<div>\n",
       "<style scoped>\n",
       "    .dataframe tbody tr th:only-of-type {\n",
       "        vertical-align: middle;\n",
       "    }\n",
       "\n",
       "    .dataframe tbody tr th {\n",
       "        vertical-align: top;\n",
       "    }\n",
       "\n",
       "    .dataframe thead th {\n",
       "        text-align: right;\n",
       "    }\n",
       "</style>\n",
       "<table border=\"1\" class=\"dataframe\">\n",
       "  <thead>\n",
       "    <tr style=\"text-align: right;\">\n",
       "      <th></th>\n",
       "      <th>Column_name</th>\n",
       "      <th>Total records</th>\n",
       "      <th>Missing Values</th>\n",
       "      <th>Data type</th>\n",
       "      <th>Unique values</th>\n",
       "    </tr>\n",
       "  </thead>\n",
       "  <tbody>\n",
       "    <tr>\n",
       "      <th>0</th>\n",
       "      <td>record_ID</td>\n",
       "      <td>150150</td>\n",
       "      <td>0</td>\n",
       "      <td>int64</td>\n",
       "      <td>150150</td>\n",
       "    </tr>\n",
       "    <tr>\n",
       "      <th>1</th>\n",
       "      <td>week</td>\n",
       "      <td>150150</td>\n",
       "      <td>0</td>\n",
       "      <td>object</td>\n",
       "      <td>130</td>\n",
       "    </tr>\n",
       "    <tr>\n",
       "      <th>2</th>\n",
       "      <td>store_id</td>\n",
       "      <td>150150</td>\n",
       "      <td>0</td>\n",
       "      <td>int64</td>\n",
       "      <td>76</td>\n",
       "    </tr>\n",
       "    <tr>\n",
       "      <th>3</th>\n",
       "      <td>sku_id</td>\n",
       "      <td>150150</td>\n",
       "      <td>0</td>\n",
       "      <td>int64</td>\n",
       "      <td>28</td>\n",
       "    </tr>\n",
       "    <tr>\n",
       "      <th>4</th>\n",
       "      <td>total_price</td>\n",
       "      <td>150150</td>\n",
       "      <td>1</td>\n",
       "      <td>float64</td>\n",
       "      <td>646</td>\n",
       "    </tr>\n",
       "    <tr>\n",
       "      <th>5</th>\n",
       "      <td>base_price</td>\n",
       "      <td>150150</td>\n",
       "      <td>0</td>\n",
       "      <td>float64</td>\n",
       "      <td>572</td>\n",
       "    </tr>\n",
       "    <tr>\n",
       "      <th>6</th>\n",
       "      <td>is_featured_sku</td>\n",
       "      <td>150150</td>\n",
       "      <td>0</td>\n",
       "      <td>int64</td>\n",
       "      <td>2</td>\n",
       "    </tr>\n",
       "    <tr>\n",
       "      <th>7</th>\n",
       "      <td>is_display_sku</td>\n",
       "      <td>150150</td>\n",
       "      <td>0</td>\n",
       "      <td>int64</td>\n",
       "      <td>2</td>\n",
       "    </tr>\n",
       "    <tr>\n",
       "      <th>8</th>\n",
       "      <td>units_sold</td>\n",
       "      <td>150150</td>\n",
       "      <td>0</td>\n",
       "      <td>int64</td>\n",
       "      <td>708</td>\n",
       "    </tr>\n",
       "  </tbody>\n",
       "</table>\n",
       "</div>"
      ],
      "text/plain": [
       "       Column_name  Total records  Missing Values Data type  Unique values\n",
       "0        record_ID         150150               0     int64         150150\n",
       "1             week         150150               0    object            130\n",
       "2         store_id         150150               0     int64             76\n",
       "3           sku_id         150150               0     int64             28\n",
       "4      total_price         150150               1   float64            646\n",
       "5       base_price         150150               0   float64            572\n",
       "6  is_featured_sku         150150               0     int64              2\n",
       "7   is_display_sku         150150               0     int64              2\n",
       "8       units_sold         150150               0     int64            708"
      ]
     },
     "execution_count": 9,
     "metadata": {},
     "output_type": "execute_result"
    }
   ],
   "source": [
    "dataframe_info(df)"
   ]
  },
  {
   "cell_type": "code",
   "execution_count": 10,
   "id": "3f630ffc",
   "metadata": {},
   "outputs": [
    {
     "data": {
      "text/html": [
       "<div>\n",
       "<style scoped>\n",
       "    .dataframe tbody tr th:only-of-type {\n",
       "        vertical-align: middle;\n",
       "    }\n",
       "\n",
       "    .dataframe tbody tr th {\n",
       "        vertical-align: top;\n",
       "    }\n",
       "\n",
       "    .dataframe thead th {\n",
       "        text-align: right;\n",
       "    }\n",
       "</style>\n",
       "<table border=\"1\" class=\"dataframe\">\n",
       "  <thead>\n",
       "    <tr style=\"text-align: right;\">\n",
       "      <th></th>\n",
       "      <th>record_ID</th>\n",
       "      <th>week</th>\n",
       "      <th>store_id</th>\n",
       "      <th>sku_id</th>\n",
       "      <th>total_price</th>\n",
       "      <th>base_price</th>\n",
       "      <th>is_featured_sku</th>\n",
       "      <th>is_display_sku</th>\n",
       "      <th>units_sold</th>\n",
       "    </tr>\n",
       "  </thead>\n",
       "  <tbody>\n",
       "    <tr>\n",
       "      <th>136949</th>\n",
       "      <td>193915</td>\n",
       "      <td>23/04/13</td>\n",
       "      <td>9436</td>\n",
       "      <td>245338</td>\n",
       "      <td>NaN</td>\n",
       "      <td>469.5375</td>\n",
       "      <td>0</td>\n",
       "      <td>0</td>\n",
       "      <td>1</td>\n",
       "    </tr>\n",
       "  </tbody>\n",
       "</table>\n",
       "</div>"
      ],
      "text/plain": [
       "        record_ID      week  store_id  sku_id  total_price  base_price  \\\n",
       "136949     193915  23/04/13      9436  245338          NaN    469.5375   \n",
       "\n",
       "        is_featured_sku  is_display_sku  units_sold  \n",
       "136949                0               0           1  "
      ]
     },
     "execution_count": 10,
     "metadata": {},
     "output_type": "execute_result"
    }
   ],
   "source": [
    "df.loc[df.isna().any(axis = 1),:]"
   ]
  },
  {
   "cell_type": "code",
   "execution_count": 11,
   "id": "bbf7220f",
   "metadata": {},
   "outputs": [
    {
     "data": {
      "text/plain": [
       "sku_id\n",
       "216233    127.5375\n",
       "216418     88.3500\n",
       "216419     88.3500\n",
       "216425    128.2500\n",
       "217217    232.2750\n",
       "217390    141.7875\n",
       "217777    232.9875\n",
       "219009    198.7875\n",
       "219029    312.7875\n",
       "219844    234.4125\n",
       "222087    200.2125\n",
       "222765    227.2875\n",
       "223153    212.3250\n",
       "223245    207.3375\n",
       "245338    469.5375\n",
       "245387    469.5375\n",
       "300021    101.8875\n",
       "300291    110.4375\n",
       "320485    205.9125\n",
       "327492    111.1500\n",
       "378934    205.9125\n",
       "398721    469.5375\n",
       "545621    355.5375\n",
       "546789    205.9125\n",
       "547934    177.4125\n",
       "600934    462.4125\n",
       "673209    355.5375\n",
       "679023    205.9125\n",
       "Name: total_price, dtype: float64"
      ]
     },
     "execution_count": 11,
     "metadata": {},
     "output_type": "execute_result"
    }
   ],
   "source": [
    "median_map = df.groupby('sku_id')['total_price'].median()\n",
    "median_map"
   ]
  },
  {
   "cell_type": "code",
   "execution_count": 12,
   "id": "85d57631",
   "metadata": {},
   "outputs": [],
   "source": [
    "df['total_price'] = df.apply(\n",
    "    lambda row: median_map[row['sku_id']] if pd.isna(row['total_price']) else row['total_price'], axis=1\n",
    ")"
   ]
  },
  {
   "cell_type": "code",
   "execution_count": 13,
   "id": "0167a315",
   "metadata": {},
   "outputs": [],
   "source": [
    "df[['day', 'month','year']] = df['week'].str.split('/',expand= True).astype(int)\n",
    "df = df.drop(columns=['week'])"
   ]
  },
  {
   "cell_type": "code",
   "execution_count": 14,
   "id": "c6a1e272",
   "metadata": {},
   "outputs": [
    {
     "data": {
      "text/html": [
       "<div>\n",
       "<style scoped>\n",
       "    .dataframe tbody tr th:only-of-type {\n",
       "        vertical-align: middle;\n",
       "    }\n",
       "\n",
       "    .dataframe tbody tr th {\n",
       "        vertical-align: top;\n",
       "    }\n",
       "\n",
       "    .dataframe thead th {\n",
       "        text-align: right;\n",
       "    }\n",
       "</style>\n",
       "<table border=\"1\" class=\"dataframe\">\n",
       "  <thead>\n",
       "    <tr style=\"text-align: right;\">\n",
       "      <th></th>\n",
       "      <th>record_ID</th>\n",
       "      <th>store_id</th>\n",
       "      <th>sku_id</th>\n",
       "      <th>total_price</th>\n",
       "      <th>base_price</th>\n",
       "      <th>is_featured_sku</th>\n",
       "      <th>is_display_sku</th>\n",
       "      <th>units_sold</th>\n",
       "      <th>day</th>\n",
       "      <th>month</th>\n",
       "      <th>year</th>\n",
       "    </tr>\n",
       "  </thead>\n",
       "  <tbody>\n",
       "    <tr>\n",
       "      <th>0</th>\n",
       "      <td>1</td>\n",
       "      <td>8091</td>\n",
       "      <td>216418</td>\n",
       "      <td>99.0375</td>\n",
       "      <td>111.8625</td>\n",
       "      <td>0</td>\n",
       "      <td>0</td>\n",
       "      <td>20</td>\n",
       "      <td>17</td>\n",
       "      <td>1</td>\n",
       "      <td>11</td>\n",
       "    </tr>\n",
       "    <tr>\n",
       "      <th>1</th>\n",
       "      <td>2</td>\n",
       "      <td>8091</td>\n",
       "      <td>216419</td>\n",
       "      <td>99.0375</td>\n",
       "      <td>99.0375</td>\n",
       "      <td>0</td>\n",
       "      <td>0</td>\n",
       "      <td>28</td>\n",
       "      <td>17</td>\n",
       "      <td>1</td>\n",
       "      <td>11</td>\n",
       "    </tr>\n",
       "    <tr>\n",
       "      <th>2</th>\n",
       "      <td>3</td>\n",
       "      <td>8091</td>\n",
       "      <td>216425</td>\n",
       "      <td>133.9500</td>\n",
       "      <td>133.9500</td>\n",
       "      <td>0</td>\n",
       "      <td>0</td>\n",
       "      <td>19</td>\n",
       "      <td>17</td>\n",
       "      <td>1</td>\n",
       "      <td>11</td>\n",
       "    </tr>\n",
       "    <tr>\n",
       "      <th>3</th>\n",
       "      <td>4</td>\n",
       "      <td>8091</td>\n",
       "      <td>216233</td>\n",
       "      <td>133.9500</td>\n",
       "      <td>133.9500</td>\n",
       "      <td>0</td>\n",
       "      <td>0</td>\n",
       "      <td>44</td>\n",
       "      <td>17</td>\n",
       "      <td>1</td>\n",
       "      <td>11</td>\n",
       "    </tr>\n",
       "    <tr>\n",
       "      <th>4</th>\n",
       "      <td>5</td>\n",
       "      <td>8091</td>\n",
       "      <td>217390</td>\n",
       "      <td>141.0750</td>\n",
       "      <td>141.0750</td>\n",
       "      <td>0</td>\n",
       "      <td>0</td>\n",
       "      <td>52</td>\n",
       "      <td>17</td>\n",
       "      <td>1</td>\n",
       "      <td>11</td>\n",
       "    </tr>\n",
       "  </tbody>\n",
       "</table>\n",
       "</div>"
      ],
      "text/plain": [
       "   record_ID  store_id  sku_id  total_price  base_price  is_featured_sku  \\\n",
       "0          1      8091  216418      99.0375    111.8625                0   \n",
       "1          2      8091  216419      99.0375     99.0375                0   \n",
       "2          3      8091  216425     133.9500    133.9500                0   \n",
       "3          4      8091  216233     133.9500    133.9500                0   \n",
       "4          5      8091  217390     141.0750    141.0750                0   \n",
       "\n",
       "   is_display_sku  units_sold  day  month  year  \n",
       "0               0          20   17      1    11  \n",
       "1               0          28   17      1    11  \n",
       "2               0          19   17      1    11  \n",
       "3               0          44   17      1    11  \n",
       "4               0          52   17      1    11  "
      ]
     },
     "execution_count": 14,
     "metadata": {},
     "output_type": "execute_result"
    }
   ],
   "source": [
    "df.head(5)"
   ]
  },
  {
   "cell_type": "markdown",
   "id": "75993aeb",
   "metadata": {},
   "source": [
    "# 4. Train Model"
   ]
  },
  {
   "cell_type": "code",
   "execution_count": 15,
   "id": "68b017bf",
   "metadata": {},
   "outputs": [],
   "source": [
    "from sklearn.model_selection import train_test_split\n",
    "from sklearn.ensemble import RandomForestRegressor\n",
    "from sklearn.metrics import root_mean_squared_error"
   ]
  },
  {
   "cell_type": "code",
   "execution_count": 16,
   "id": "cf593414",
   "metadata": {},
   "outputs": [],
   "source": [
    "X,y = df.drop(columns=['units_sold']), df['units_sold']"
   ]
  },
  {
   "cell_type": "code",
   "execution_count": 17,
   "id": "c278531f",
   "metadata": {},
   "outputs": [],
   "source": [
    "X_train,X_test,y_train,y_test = train_test_split(X,y,test_size=0.2,random_state=42)\n",
    "X_train, X_val, y_train, y_val = train_test_split(X_train, y_train, test_size=0.2, random_state=42)"
   ]
  },
  {
   "cell_type": "code",
   "execution_count": 18,
   "id": "f6643862",
   "metadata": {},
   "outputs": [],
   "source": [
    "model = RandomForestRegressor(n_jobs = -1)"
   ]
  },
  {
   "cell_type": "code",
   "execution_count": 19,
   "id": "b0def87b",
   "metadata": {},
   "outputs": [
    {
     "data": {
      "text/html": [
       "<style>#sk-container-id-1 {\n",
       "  /* Definition of color scheme common for light and dark mode */\n",
       "  --sklearn-color-text: #000;\n",
       "  --sklearn-color-text-muted: #666;\n",
       "  --sklearn-color-line: gray;\n",
       "  /* Definition of color scheme for unfitted estimators */\n",
       "  --sklearn-color-unfitted-level-0: #fff5e6;\n",
       "  --sklearn-color-unfitted-level-1: #f6e4d2;\n",
       "  --sklearn-color-unfitted-level-2: #ffe0b3;\n",
       "  --sklearn-color-unfitted-level-3: chocolate;\n",
       "  /* Definition of color scheme for fitted estimators */\n",
       "  --sklearn-color-fitted-level-0: #f0f8ff;\n",
       "  --sklearn-color-fitted-level-1: #d4ebff;\n",
       "  --sklearn-color-fitted-level-2: #b3dbfd;\n",
       "  --sklearn-color-fitted-level-3: cornflowerblue;\n",
       "\n",
       "  /* Specific color for light theme */\n",
       "  --sklearn-color-text-on-default-background: var(--sg-text-color, var(--theme-code-foreground, var(--jp-content-font-color1, black)));\n",
       "  --sklearn-color-background: var(--sg-background-color, var(--theme-background, var(--jp-layout-color0, white)));\n",
       "  --sklearn-color-border-box: var(--sg-text-color, var(--theme-code-foreground, var(--jp-content-font-color1, black)));\n",
       "  --sklearn-color-icon: #696969;\n",
       "\n",
       "  @media (prefers-color-scheme: dark) {\n",
       "    /* Redefinition of color scheme for dark theme */\n",
       "    --sklearn-color-text-on-default-background: var(--sg-text-color, var(--theme-code-foreground, var(--jp-content-font-color1, white)));\n",
       "    --sklearn-color-background: var(--sg-background-color, var(--theme-background, var(--jp-layout-color0, #111)));\n",
       "    --sklearn-color-border-box: var(--sg-text-color, var(--theme-code-foreground, var(--jp-content-font-color1, white)));\n",
       "    --sklearn-color-icon: #878787;\n",
       "  }\n",
       "}\n",
       "\n",
       "#sk-container-id-1 {\n",
       "  color: var(--sklearn-color-text);\n",
       "}\n",
       "\n",
       "#sk-container-id-1 pre {\n",
       "  padding: 0;\n",
       "}\n",
       "\n",
       "#sk-container-id-1 input.sk-hidden--visually {\n",
       "  border: 0;\n",
       "  clip: rect(1px 1px 1px 1px);\n",
       "  clip: rect(1px, 1px, 1px, 1px);\n",
       "  height: 1px;\n",
       "  margin: -1px;\n",
       "  overflow: hidden;\n",
       "  padding: 0;\n",
       "  position: absolute;\n",
       "  width: 1px;\n",
       "}\n",
       "\n",
       "#sk-container-id-1 div.sk-dashed-wrapped {\n",
       "  border: 1px dashed var(--sklearn-color-line);\n",
       "  margin: 0 0.4em 0.5em 0.4em;\n",
       "  box-sizing: border-box;\n",
       "  padding-bottom: 0.4em;\n",
       "  background-color: var(--sklearn-color-background);\n",
       "}\n",
       "\n",
       "#sk-container-id-1 div.sk-container {\n",
       "  /* jupyter's `normalize.less` sets `[hidden] { display: none; }`\n",
       "     but bootstrap.min.css set `[hidden] { display: none !important; }`\n",
       "     so we also need the `!important` here to be able to override the\n",
       "     default hidden behavior on the sphinx rendered scikit-learn.org.\n",
       "     See: https://github.com/scikit-learn/scikit-learn/issues/21755 */\n",
       "  display: inline-block !important;\n",
       "  position: relative;\n",
       "}\n",
       "\n",
       "#sk-container-id-1 div.sk-text-repr-fallback {\n",
       "  display: none;\n",
       "}\n",
       "\n",
       "div.sk-parallel-item,\n",
       "div.sk-serial,\n",
       "div.sk-item {\n",
       "  /* draw centered vertical line to link estimators */\n",
       "  background-image: linear-gradient(var(--sklearn-color-text-on-default-background), var(--sklearn-color-text-on-default-background));\n",
       "  background-size: 2px 100%;\n",
       "  background-repeat: no-repeat;\n",
       "  background-position: center center;\n",
       "}\n",
       "\n",
       "/* Parallel-specific style estimator block */\n",
       "\n",
       "#sk-container-id-1 div.sk-parallel-item::after {\n",
       "  content: \"\";\n",
       "  width: 100%;\n",
       "  border-bottom: 2px solid var(--sklearn-color-text-on-default-background);\n",
       "  flex-grow: 1;\n",
       "}\n",
       "\n",
       "#sk-container-id-1 div.sk-parallel {\n",
       "  display: flex;\n",
       "  align-items: stretch;\n",
       "  justify-content: center;\n",
       "  background-color: var(--sklearn-color-background);\n",
       "  position: relative;\n",
       "}\n",
       "\n",
       "#sk-container-id-1 div.sk-parallel-item {\n",
       "  display: flex;\n",
       "  flex-direction: column;\n",
       "}\n",
       "\n",
       "#sk-container-id-1 div.sk-parallel-item:first-child::after {\n",
       "  align-self: flex-end;\n",
       "  width: 50%;\n",
       "}\n",
       "\n",
       "#sk-container-id-1 div.sk-parallel-item:last-child::after {\n",
       "  align-self: flex-start;\n",
       "  width: 50%;\n",
       "}\n",
       "\n",
       "#sk-container-id-1 div.sk-parallel-item:only-child::after {\n",
       "  width: 0;\n",
       "}\n",
       "\n",
       "/* Serial-specific style estimator block */\n",
       "\n",
       "#sk-container-id-1 div.sk-serial {\n",
       "  display: flex;\n",
       "  flex-direction: column;\n",
       "  align-items: center;\n",
       "  background-color: var(--sklearn-color-background);\n",
       "  padding-right: 1em;\n",
       "  padding-left: 1em;\n",
       "}\n",
       "\n",
       "\n",
       "/* Toggleable style: style used for estimator/Pipeline/ColumnTransformer box that is\n",
       "clickable and can be expanded/collapsed.\n",
       "- Pipeline and ColumnTransformer use this feature and define the default style\n",
       "- Estimators will overwrite some part of the style using the `sk-estimator` class\n",
       "*/\n",
       "\n",
       "/* Pipeline and ColumnTransformer style (default) */\n",
       "\n",
       "#sk-container-id-1 div.sk-toggleable {\n",
       "  /* Default theme specific background. It is overwritten whether we have a\n",
       "  specific estimator or a Pipeline/ColumnTransformer */\n",
       "  background-color: var(--sklearn-color-background);\n",
       "}\n",
       "\n",
       "/* Toggleable label */\n",
       "#sk-container-id-1 label.sk-toggleable__label {\n",
       "  cursor: pointer;\n",
       "  display: flex;\n",
       "  width: 100%;\n",
       "  margin-bottom: 0;\n",
       "  padding: 0.5em;\n",
       "  box-sizing: border-box;\n",
       "  text-align: center;\n",
       "  align-items: start;\n",
       "  justify-content: space-between;\n",
       "  gap: 0.5em;\n",
       "}\n",
       "\n",
       "#sk-container-id-1 label.sk-toggleable__label .caption {\n",
       "  font-size: 0.6rem;\n",
       "  font-weight: lighter;\n",
       "  color: var(--sklearn-color-text-muted);\n",
       "}\n",
       "\n",
       "#sk-container-id-1 label.sk-toggleable__label-arrow:before {\n",
       "  /* Arrow on the left of the label */\n",
       "  content: \"▸\";\n",
       "  float: left;\n",
       "  margin-right: 0.25em;\n",
       "  color: var(--sklearn-color-icon);\n",
       "}\n",
       "\n",
       "#sk-container-id-1 label.sk-toggleable__label-arrow:hover:before {\n",
       "  color: var(--sklearn-color-text);\n",
       "}\n",
       "\n",
       "/* Toggleable content - dropdown */\n",
       "\n",
       "#sk-container-id-1 div.sk-toggleable__content {\n",
       "  max-height: 0;\n",
       "  max-width: 0;\n",
       "  overflow: hidden;\n",
       "  text-align: left;\n",
       "  /* unfitted */\n",
       "  background-color: var(--sklearn-color-unfitted-level-0);\n",
       "}\n",
       "\n",
       "#sk-container-id-1 div.sk-toggleable__content.fitted {\n",
       "  /* fitted */\n",
       "  background-color: var(--sklearn-color-fitted-level-0);\n",
       "}\n",
       "\n",
       "#sk-container-id-1 div.sk-toggleable__content pre {\n",
       "  margin: 0.2em;\n",
       "  border-radius: 0.25em;\n",
       "  color: var(--sklearn-color-text);\n",
       "  /* unfitted */\n",
       "  background-color: var(--sklearn-color-unfitted-level-0);\n",
       "}\n",
       "\n",
       "#sk-container-id-1 div.sk-toggleable__content.fitted pre {\n",
       "  /* unfitted */\n",
       "  background-color: var(--sklearn-color-fitted-level-0);\n",
       "}\n",
       "\n",
       "#sk-container-id-1 input.sk-toggleable__control:checked~div.sk-toggleable__content {\n",
       "  /* Expand drop-down */\n",
       "  max-height: 200px;\n",
       "  max-width: 100%;\n",
       "  overflow: auto;\n",
       "}\n",
       "\n",
       "#sk-container-id-1 input.sk-toggleable__control:checked~label.sk-toggleable__label-arrow:before {\n",
       "  content: \"▾\";\n",
       "}\n",
       "\n",
       "/* Pipeline/ColumnTransformer-specific style */\n",
       "\n",
       "#sk-container-id-1 div.sk-label input.sk-toggleable__control:checked~label.sk-toggleable__label {\n",
       "  color: var(--sklearn-color-text);\n",
       "  background-color: var(--sklearn-color-unfitted-level-2);\n",
       "}\n",
       "\n",
       "#sk-container-id-1 div.sk-label.fitted input.sk-toggleable__control:checked~label.sk-toggleable__label {\n",
       "  background-color: var(--sklearn-color-fitted-level-2);\n",
       "}\n",
       "\n",
       "/* Estimator-specific style */\n",
       "\n",
       "/* Colorize estimator box */\n",
       "#sk-container-id-1 div.sk-estimator input.sk-toggleable__control:checked~label.sk-toggleable__label {\n",
       "  /* unfitted */\n",
       "  background-color: var(--sklearn-color-unfitted-level-2);\n",
       "}\n",
       "\n",
       "#sk-container-id-1 div.sk-estimator.fitted input.sk-toggleable__control:checked~label.sk-toggleable__label {\n",
       "  /* fitted */\n",
       "  background-color: var(--sklearn-color-fitted-level-2);\n",
       "}\n",
       "\n",
       "#sk-container-id-1 div.sk-label label.sk-toggleable__label,\n",
       "#sk-container-id-1 div.sk-label label {\n",
       "  /* The background is the default theme color */\n",
       "  color: var(--sklearn-color-text-on-default-background);\n",
       "}\n",
       "\n",
       "/* On hover, darken the color of the background */\n",
       "#sk-container-id-1 div.sk-label:hover label.sk-toggleable__label {\n",
       "  color: var(--sklearn-color-text);\n",
       "  background-color: var(--sklearn-color-unfitted-level-2);\n",
       "}\n",
       "\n",
       "/* Label box, darken color on hover, fitted */\n",
       "#sk-container-id-1 div.sk-label.fitted:hover label.sk-toggleable__label.fitted {\n",
       "  color: var(--sklearn-color-text);\n",
       "  background-color: var(--sklearn-color-fitted-level-2);\n",
       "}\n",
       "\n",
       "/* Estimator label */\n",
       "\n",
       "#sk-container-id-1 div.sk-label label {\n",
       "  font-family: monospace;\n",
       "  font-weight: bold;\n",
       "  display: inline-block;\n",
       "  line-height: 1.2em;\n",
       "}\n",
       "\n",
       "#sk-container-id-1 div.sk-label-container {\n",
       "  text-align: center;\n",
       "}\n",
       "\n",
       "/* Estimator-specific */\n",
       "#sk-container-id-1 div.sk-estimator {\n",
       "  font-family: monospace;\n",
       "  border: 1px dotted var(--sklearn-color-border-box);\n",
       "  border-radius: 0.25em;\n",
       "  box-sizing: border-box;\n",
       "  margin-bottom: 0.5em;\n",
       "  /* unfitted */\n",
       "  background-color: var(--sklearn-color-unfitted-level-0);\n",
       "}\n",
       "\n",
       "#sk-container-id-1 div.sk-estimator.fitted {\n",
       "  /* fitted */\n",
       "  background-color: var(--sklearn-color-fitted-level-0);\n",
       "}\n",
       "\n",
       "/* on hover */\n",
       "#sk-container-id-1 div.sk-estimator:hover {\n",
       "  /* unfitted */\n",
       "  background-color: var(--sklearn-color-unfitted-level-2);\n",
       "}\n",
       "\n",
       "#sk-container-id-1 div.sk-estimator.fitted:hover {\n",
       "  /* fitted */\n",
       "  background-color: var(--sklearn-color-fitted-level-2);\n",
       "}\n",
       "\n",
       "/* Specification for estimator info (e.g. \"i\" and \"?\") */\n",
       "\n",
       "/* Common style for \"i\" and \"?\" */\n",
       "\n",
       ".sk-estimator-doc-link,\n",
       "a:link.sk-estimator-doc-link,\n",
       "a:visited.sk-estimator-doc-link {\n",
       "  float: right;\n",
       "  font-size: smaller;\n",
       "  line-height: 1em;\n",
       "  font-family: monospace;\n",
       "  background-color: var(--sklearn-color-background);\n",
       "  border-radius: 1em;\n",
       "  height: 1em;\n",
       "  width: 1em;\n",
       "  text-decoration: none !important;\n",
       "  margin-left: 0.5em;\n",
       "  text-align: center;\n",
       "  /* unfitted */\n",
       "  border: var(--sklearn-color-unfitted-level-1) 1pt solid;\n",
       "  color: var(--sklearn-color-unfitted-level-1);\n",
       "}\n",
       "\n",
       ".sk-estimator-doc-link.fitted,\n",
       "a:link.sk-estimator-doc-link.fitted,\n",
       "a:visited.sk-estimator-doc-link.fitted {\n",
       "  /* fitted */\n",
       "  border: var(--sklearn-color-fitted-level-1) 1pt solid;\n",
       "  color: var(--sklearn-color-fitted-level-1);\n",
       "}\n",
       "\n",
       "/* On hover */\n",
       "div.sk-estimator:hover .sk-estimator-doc-link:hover,\n",
       ".sk-estimator-doc-link:hover,\n",
       "div.sk-label-container:hover .sk-estimator-doc-link:hover,\n",
       ".sk-estimator-doc-link:hover {\n",
       "  /* unfitted */\n",
       "  background-color: var(--sklearn-color-unfitted-level-3);\n",
       "  color: var(--sklearn-color-background);\n",
       "  text-decoration: none;\n",
       "}\n",
       "\n",
       "div.sk-estimator.fitted:hover .sk-estimator-doc-link.fitted:hover,\n",
       ".sk-estimator-doc-link.fitted:hover,\n",
       "div.sk-label-container:hover .sk-estimator-doc-link.fitted:hover,\n",
       ".sk-estimator-doc-link.fitted:hover {\n",
       "  /* fitted */\n",
       "  background-color: var(--sklearn-color-fitted-level-3);\n",
       "  color: var(--sklearn-color-background);\n",
       "  text-decoration: none;\n",
       "}\n",
       "\n",
       "/* Span, style for the box shown on hovering the info icon */\n",
       ".sk-estimator-doc-link span {\n",
       "  display: none;\n",
       "  z-index: 9999;\n",
       "  position: relative;\n",
       "  font-weight: normal;\n",
       "  right: .2ex;\n",
       "  padding: .5ex;\n",
       "  margin: .5ex;\n",
       "  width: min-content;\n",
       "  min-width: 20ex;\n",
       "  max-width: 50ex;\n",
       "  color: var(--sklearn-color-text);\n",
       "  box-shadow: 2pt 2pt 4pt #999;\n",
       "  /* unfitted */\n",
       "  background: var(--sklearn-color-unfitted-level-0);\n",
       "  border: .5pt solid var(--sklearn-color-unfitted-level-3);\n",
       "}\n",
       "\n",
       ".sk-estimator-doc-link.fitted span {\n",
       "  /* fitted */\n",
       "  background: var(--sklearn-color-fitted-level-0);\n",
       "  border: var(--sklearn-color-fitted-level-3);\n",
       "}\n",
       "\n",
       ".sk-estimator-doc-link:hover span {\n",
       "  display: block;\n",
       "}\n",
       "\n",
       "/* \"?\"-specific style due to the `<a>` HTML tag */\n",
       "\n",
       "#sk-container-id-1 a.estimator_doc_link {\n",
       "  float: right;\n",
       "  font-size: 1rem;\n",
       "  line-height: 1em;\n",
       "  font-family: monospace;\n",
       "  background-color: var(--sklearn-color-background);\n",
       "  border-radius: 1rem;\n",
       "  height: 1rem;\n",
       "  width: 1rem;\n",
       "  text-decoration: none;\n",
       "  /* unfitted */\n",
       "  color: var(--sklearn-color-unfitted-level-1);\n",
       "  border: var(--sklearn-color-unfitted-level-1) 1pt solid;\n",
       "}\n",
       "\n",
       "#sk-container-id-1 a.estimator_doc_link.fitted {\n",
       "  /* fitted */\n",
       "  border: var(--sklearn-color-fitted-level-1) 1pt solid;\n",
       "  color: var(--sklearn-color-fitted-level-1);\n",
       "}\n",
       "\n",
       "/* On hover */\n",
       "#sk-container-id-1 a.estimator_doc_link:hover {\n",
       "  /* unfitted */\n",
       "  background-color: var(--sklearn-color-unfitted-level-3);\n",
       "  color: var(--sklearn-color-background);\n",
       "  text-decoration: none;\n",
       "}\n",
       "\n",
       "#sk-container-id-1 a.estimator_doc_link.fitted:hover {\n",
       "  /* fitted */\n",
       "  background-color: var(--sklearn-color-fitted-level-3);\n",
       "}\n",
       "</style><div id=\"sk-container-id-1\" class=\"sk-top-container\"><div class=\"sk-text-repr-fallback\"><pre>RandomForestRegressor(n_jobs=-1)</pre><b>In a Jupyter environment, please rerun this cell to show the HTML representation or trust the notebook. <br />On GitHub, the HTML representation is unable to render, please try loading this page with nbviewer.org.</b></div><div class=\"sk-container\" hidden><div class=\"sk-item\"><div class=\"sk-estimator fitted sk-toggleable\"><input class=\"sk-toggleable__control sk-hidden--visually\" id=\"sk-estimator-id-1\" type=\"checkbox\" checked><label for=\"sk-estimator-id-1\" class=\"sk-toggleable__label fitted sk-toggleable__label-arrow\"><div><div>RandomForestRegressor</div></div><div><a class=\"sk-estimator-doc-link fitted\" rel=\"noreferrer\" target=\"_blank\" href=\"https://scikit-learn.org/1.6/modules/generated/sklearn.ensemble.RandomForestRegressor.html\">?<span>Documentation for RandomForestRegressor</span></a><span class=\"sk-estimator-doc-link fitted\">i<span>Fitted</span></span></div></label><div class=\"sk-toggleable__content fitted\"><pre>RandomForestRegressor(n_jobs=-1)</pre></div> </div></div></div></div>"
      ],
      "text/plain": [
       "RandomForestRegressor(n_jobs=-1)"
      ]
     },
     "execution_count": 19,
     "metadata": {},
     "output_type": "execute_result"
    }
   ],
   "source": [
    "model.fit(X_train, y_train)"
   ]
  },
  {
   "cell_type": "code",
   "execution_count": 20,
   "id": "dc38f306",
   "metadata": {},
   "outputs": [
    {
     "name": "stdout",
     "output_type": "stream",
     "text": [
      "RMSE: 27.73\n"
     ]
    }
   ],
   "source": [
    "y_pred  = model.predict(X_val)\n",
    "rmse = root_mean_squared_error(y_val, y_pred)\n",
    "print(f'RMSE: {rmse:.2f}')"
   ]
  },
  {
   "cell_type": "code",
   "execution_count": 21,
   "id": "1a84be55",
   "metadata": {},
   "outputs": [
    {
     "data": {
      "text/plain": [
       "count    150150.000000\n",
       "mean         51.674206\n",
       "std          60.207904\n",
       "min           1.000000\n",
       "25%          20.000000\n",
       "50%          35.000000\n",
       "75%          62.000000\n",
       "max        2876.000000\n",
       "Name: units_sold, dtype: float64"
      ]
     },
     "execution_count": 21,
     "metadata": {},
     "output_type": "execute_result"
    }
   ],
   "source": [
    "df.units_sold.describe()"
   ]
  },
  {
   "cell_type": "code",
   "execution_count": 22,
   "id": "5e96de71",
   "metadata": {},
   "outputs": [
    {
     "data": {
      "text/plain": [
       "<Axes: >"
      ]
     },
     "execution_count": 22,
     "metadata": {},
     "output_type": "execute_result"
    },
    {
     "data": {
      "image/png": "[encoded data removed]",
      "text/plain": [
       "<Figure size 640x480 with 1 Axes>"
      ]
     },
     "metadata": {},
     "output_type": "display_data"
    }
   ],
   "source": [
    "df.units_sold.hist(bins=50, edgecolor='black')\n",
    "# thee is a outlier in the units_sold column"
   ]
  },
  {
   "cell_type": "code",
   "execution_count": 23,
   "id": "7bdb1be8",
   "metadata": {},
   "outputs": [
    {
     "data": {
      "text/plain": [
       "<Axes: xlabel='units_sold'>"
      ]
     },
     "execution_count": 23,
     "metadata": {},
     "output_type": "execute_result"
    },
    {
     "data": {
      "image/png": "[encoded data removed]",
      "text/plain": [
       "<Figure size 1000x600 with 1 Axes>"
      ]
     },
     "metadata": {},
     "output_type": "display_data"
    }
   ],
   "source": [
    "plt.figure(figsize=(10,6))\n",
    "sns.boxplot(x=df['units_sold'])"
   ]
  },
  {
   "cell_type": "code",
   "execution_count": 24,
   "id": "9bdf0a31",
   "metadata": {},
   "outputs": [
    {
     "data": {
      "text/plain": [
       "[<matplotlib.lines.Line2D at 0x25012e86fd0>]"
      ]
     },
     "execution_count": 24,
     "metadata": {},
     "output_type": "execute_result"
    },
    {
     "data": {
      "image/png": "[encoded data removed]",
      "text/plain": [
       "<Figure size 640x480 with 1 Axes>"
      ]
     },
     "metadata": {},
     "output_type": "display_data"
    }
   ],
   "source": [
    "plt.scatter(y_pred, y_val)\n",
    "plt.plot(np.linspace(y_pred.min(), y_pred.max()),np.linspace(y_val.min(), y_val.max()), color='red', linestyle='--')"
   ]
  },
  {
   "cell_type": "code",
   "execution_count": 25,
   "id": "dca27088",
   "metadata": {},
   "outputs": [
    {
     "data": {
      "text/plain": [
       "array([[<Axes: title={'center': 'record_ID'}>,\n",
       "        <Axes: title={'center': 'store_id'}>,\n",
       "        <Axes: title={'center': 'sku_id'}>],\n",
       "       [<Axes: title={'center': 'total_price'}>,\n",
       "        <Axes: title={'center': 'base_price'}>,\n",
       "        <Axes: title={'center': 'is_featured_sku'}>],\n",
       "       [<Axes: title={'center': 'is_display_sku'}>,\n",
       "        <Axes: title={'center': 'units_sold'}>,\n",
       "        <Axes: title={'center': 'day'}>],\n",
       "       [<Axes: title={'center': 'month'}>,\n",
       "        <Axes: title={'center': 'year'}>, <Axes: >]], dtype=object)"
      ]
     },
     "execution_count": 25,
     "metadata": {},
     "output_type": "execute_result"
    },
    {
     "data": {
      "text/plain": [
       "<Figure size 1500x800 with 0 Axes>"
      ]
     },
     "metadata": {},
     "output_type": "display_data"
    },
    {
     "data": {
      "image/png": "[encoded data removed]",
      "text/plain": [
       "<Figure size 640x480 with 12 Axes>"
      ]
     },
     "metadata": {},
     "output_type": "display_data"
    }
   ],
   "source": [
    "plt.figure(figsize=(15, 8))\n",
    "df.hist(bins=20, edgecolor='black')"
   ]
  },
  {
   "cell_type": "code",
   "execution_count": 26,
   "id": "8a379634",
   "metadata": {},
   "outputs": [],
   "source": [
    "# we know that there are some outliers in the units_sold column, so we will remove them\n",
    "# and also remove the record_ID\n",
    "# also check sku_id, is_display_sku and maybe do a one-hot encoding "
   ]
  },
  {
   "cell_type": "markdown",
   "id": "9800f127",
   "metadata": {},
   "source": [
    "# 4. Preprocesing"
   ]
  },
  {
   "cell_type": "code",
   "execution_count": 27,
   "id": "7ae28102",
   "metadata": {},
   "outputs": [],
   "source": [
    "df = df.drop( columns= ['record_ID'])"
   ]
  },
  {
   "cell_type": "code",
   "execution_count": 28,
   "id": "b3dbe01c",
   "metadata": {},
   "outputs": [
    {
     "data": {
      "text/html": [
       "<div>\n",
       "<style scoped>\n",
       "    .dataframe tbody tr th:only-of-type {\n",
       "        vertical-align: middle;\n",
       "    }\n",
       "\n",
       "    .dataframe tbody tr th {\n",
       "        vertical-align: top;\n",
       "    }\n",
       "\n",
       "    .dataframe thead th {\n",
       "        text-align: right;\n",
       "    }\n",
       "</style>\n",
       "<table border=\"1\" class=\"dataframe\">\n",
       "  <thead>\n",
       "    <tr style=\"text-align: right;\">\n",
       "      <th></th>\n",
       "      <th>Column_name</th>\n",
       "      <th>Total records</th>\n",
       "      <th>Missing Values</th>\n",
       "      <th>Data type</th>\n",
       "      <th>Unique values</th>\n",
       "    </tr>\n",
       "  </thead>\n",
       "  <tbody>\n",
       "    <tr>\n",
       "      <th>6</th>\n",
       "      <td>units_sold</td>\n",
       "      <td>150150</td>\n",
       "      <td>0</td>\n",
       "      <td>int64</td>\n",
       "      <td>708</td>\n",
       "    </tr>\n",
       "    <tr>\n",
       "      <th>2</th>\n",
       "      <td>total_price</td>\n",
       "      <td>150150</td>\n",
       "      <td>0</td>\n",
       "      <td>float64</td>\n",
       "      <td>646</td>\n",
       "    </tr>\n",
       "    <tr>\n",
       "      <th>3</th>\n",
       "      <td>base_price</td>\n",
       "      <td>150150</td>\n",
       "      <td>0</td>\n",
       "      <td>float64</td>\n",
       "      <td>572</td>\n",
       "    </tr>\n",
       "    <tr>\n",
       "      <th>0</th>\n",
       "      <td>store_id</td>\n",
       "      <td>150150</td>\n",
       "      <td>0</td>\n",
       "      <td>int64</td>\n",
       "      <td>76</td>\n",
       "    </tr>\n",
       "    <tr>\n",
       "      <th>7</th>\n",
       "      <td>day</td>\n",
       "      <td>150150</td>\n",
       "      <td>0</td>\n",
       "      <td>int64</td>\n",
       "      <td>31</td>\n",
       "    </tr>\n",
       "    <tr>\n",
       "      <th>1</th>\n",
       "      <td>sku_id</td>\n",
       "      <td>150150</td>\n",
       "      <td>0</td>\n",
       "      <td>int64</td>\n",
       "      <td>28</td>\n",
       "    </tr>\n",
       "    <tr>\n",
       "      <th>8</th>\n",
       "      <td>month</td>\n",
       "      <td>150150</td>\n",
       "      <td>0</td>\n",
       "      <td>int64</td>\n",
       "      <td>12</td>\n",
       "    </tr>\n",
       "    <tr>\n",
       "      <th>9</th>\n",
       "      <td>year</td>\n",
       "      <td>150150</td>\n",
       "      <td>0</td>\n",
       "      <td>int64</td>\n",
       "      <td>3</td>\n",
       "    </tr>\n",
       "    <tr>\n",
       "      <th>5</th>\n",
       "      <td>is_display_sku</td>\n",
       "      <td>150150</td>\n",
       "      <td>0</td>\n",
       "      <td>int64</td>\n",
       "      <td>2</td>\n",
       "    </tr>\n",
       "    <tr>\n",
       "      <th>4</th>\n",
       "      <td>is_featured_sku</td>\n",
       "      <td>150150</td>\n",
       "      <td>0</td>\n",
       "      <td>int64</td>\n",
       "      <td>2</td>\n",
       "    </tr>\n",
       "  </tbody>\n",
       "</table>\n",
       "</div>"
      ],
      "text/plain": [
       "       Column_name  Total records  Missing Values Data type  Unique values\n",
       "6       units_sold         150150               0     int64            708\n",
       "2      total_price         150150               0   float64            646\n",
       "3       base_price         150150               0   float64            572\n",
       "0         store_id         150150               0     int64             76\n",
       "7              day         150150               0     int64             31\n",
       "1           sku_id         150150               0     int64             28\n",
       "8            month         150150               0     int64             12\n",
       "9             year         150150               0     int64              3\n",
       "5   is_display_sku         150150               0     int64              2\n",
       "4  is_featured_sku         150150               0     int64              2"
      ]
     },
     "execution_count": 28,
     "metadata": {},
     "output_type": "execute_result"
    }
   ],
   "source": [
    "dataframe_info(df).sort_values(by = 'Unique values', ascending=False)\n",
    "# store_id 76 unique values and sku_id 28 unique values--> one hot encode"
   ]
  },
  {
   "cell_type": "code",
   "execution_count": 29,
   "id": "a761eb08",
   "metadata": {},
   "outputs": [],
   "source": [
    "df = df[df['units_sold'] < df.units_sold.quantile(0.99)]"
   ]
  },
  {
   "cell_type": "code",
   "execution_count": 30,
   "id": "20964697",
   "metadata": {},
   "outputs": [
    {
     "data": {
      "text/plain": [
       "<Axes: >"
      ]
     },
     "execution_count": 30,
     "metadata": {},
     "output_type": "execute_result"
    },
    {
     "data": {
      "image/png": "[encoded data removed]",
      "text/plain": [
       "<Figure size 640x480 with 1 Axes>"
      ]
     },
     "metadata": {},
     "output_type": "display_data"
    }
   ],
   "source": [
    "df.units_sold.hist()"
   ]
  },
  {
   "cell_type": "code",
   "execution_count": 31,
   "id": "dde58a60",
   "metadata": {},
   "outputs": [
    {
     "data": {
      "text/html": [
       "<div>\n",
       "<style scoped>\n",
       "    .dataframe tbody tr th:only-of-type {\n",
       "        vertical-align: middle;\n",
       "    }\n",
       "\n",
       "    .dataframe tbody tr th {\n",
       "        vertical-align: top;\n",
       "    }\n",
       "\n",
       "    .dataframe thead th {\n",
       "        text-align: right;\n",
       "    }\n",
       "</style>\n",
       "<table border=\"1\" class=\"dataframe\">\n",
       "  <thead>\n",
       "    <tr style=\"text-align: right;\">\n",
       "      <th></th>\n",
       "      <th>total_price</th>\n",
       "      <th>base_price</th>\n",
       "      <th>is_featured_sku</th>\n",
       "      <th>is_display_sku</th>\n",
       "      <th>units_sold</th>\n",
       "      <th>day</th>\n",
       "      <th>month</th>\n",
       "      <th>year</th>\n",
       "      <th>store_id_8058</th>\n",
       "      <th>store_id_8063</th>\n",
       "      <th>...</th>\n",
       "      <th>sku_id_320485</th>\n",
       "      <th>sku_id_327492</th>\n",
       "      <th>sku_id_378934</th>\n",
       "      <th>sku_id_398721</th>\n",
       "      <th>sku_id_545621</th>\n",
       "      <th>sku_id_546789</th>\n",
       "      <th>sku_id_547934</th>\n",
       "      <th>sku_id_600934</th>\n",
       "      <th>sku_id_673209</th>\n",
       "      <th>sku_id_679023</th>\n",
       "    </tr>\n",
       "  </thead>\n",
       "  <tbody>\n",
       "    <tr>\n",
       "      <th>0</th>\n",
       "      <td>99.0375</td>\n",
       "      <td>111.8625</td>\n",
       "      <td>0</td>\n",
       "      <td>0</td>\n",
       "      <td>20</td>\n",
       "      <td>17</td>\n",
       "      <td>1</td>\n",
       "      <td>11</td>\n",
       "      <td>0</td>\n",
       "      <td>0</td>\n",
       "      <td>...</td>\n",
       "      <td>0</td>\n",
       "      <td>0</td>\n",
       "      <td>0</td>\n",
       "      <td>0</td>\n",
       "      <td>0</td>\n",
       "      <td>0</td>\n",
       "      <td>0</td>\n",
       "      <td>0</td>\n",
       "      <td>0</td>\n",
       "      <td>0</td>\n",
       "    </tr>\n",
       "    <tr>\n",
       "      <th>1</th>\n",
       "      <td>99.0375</td>\n",
       "      <td>99.0375</td>\n",
       "      <td>0</td>\n",
       "      <td>0</td>\n",
       "      <td>28</td>\n",
       "      <td>17</td>\n",
       "      <td>1</td>\n",
       "      <td>11</td>\n",
       "      <td>0</td>\n",
       "      <td>0</td>\n",
       "      <td>...</td>\n",
       "      <td>0</td>\n",
       "      <td>0</td>\n",
       "      <td>0</td>\n",
       "      <td>0</td>\n",
       "      <td>0</td>\n",
       "      <td>0</td>\n",
       "      <td>0</td>\n",
       "      <td>0</td>\n",
       "      <td>0</td>\n",
       "      <td>0</td>\n",
       "    </tr>\n",
       "    <tr>\n",
       "      <th>2</th>\n",
       "      <td>133.9500</td>\n",
       "      <td>133.9500</td>\n",
       "      <td>0</td>\n",
       "      <td>0</td>\n",
       "      <td>19</td>\n",
       "      <td>17</td>\n",
       "      <td>1</td>\n",
       "      <td>11</td>\n",
       "      <td>0</td>\n",
       "      <td>0</td>\n",
       "      <td>...</td>\n",
       "      <td>0</td>\n",
       "      <td>0</td>\n",
       "      <td>0</td>\n",
       "      <td>0</td>\n",
       "      <td>0</td>\n",
       "      <td>0</td>\n",
       "      <td>0</td>\n",
       "      <td>0</td>\n",
       "      <td>0</td>\n",
       "      <td>0</td>\n",
       "    </tr>\n",
       "    <tr>\n",
       "      <th>3</th>\n",
       "      <td>133.9500</td>\n",
       "      <td>133.9500</td>\n",
       "      <td>0</td>\n",
       "      <td>0</td>\n",
       "      <td>44</td>\n",
       "      <td>17</td>\n",
       "      <td>1</td>\n",
       "      <td>11</td>\n",
       "      <td>0</td>\n",
       "      <td>0</td>\n",
       "      <td>...</td>\n",
       "      <td>0</td>\n",
       "      <td>0</td>\n",
       "      <td>0</td>\n",
       "      <td>0</td>\n",
       "      <td>0</td>\n",
       "      <td>0</td>\n",
       "      <td>0</td>\n",
       "      <td>0</td>\n",
       "      <td>0</td>\n",
       "      <td>0</td>\n",
       "    </tr>\n",
       "    <tr>\n",
       "      <th>4</th>\n",
       "      <td>141.0750</td>\n",
       "      <td>141.0750</td>\n",
       "      <td>0</td>\n",
       "      <td>0</td>\n",
       "      <td>52</td>\n",
       "      <td>17</td>\n",
       "      <td>1</td>\n",
       "      <td>11</td>\n",
       "      <td>0</td>\n",
       "      <td>0</td>\n",
       "      <td>...</td>\n",
       "      <td>0</td>\n",
       "      <td>0</td>\n",
       "      <td>0</td>\n",
       "      <td>0</td>\n",
       "      <td>0</td>\n",
       "      <td>0</td>\n",
       "      <td>0</td>\n",
       "      <td>0</td>\n",
       "      <td>0</td>\n",
       "      <td>0</td>\n",
       "    </tr>\n",
       "    <tr>\n",
       "      <th>...</th>\n",
       "      <td>...</td>\n",
       "      <td>...</td>\n",
       "      <td>...</td>\n",
       "      <td>...</td>\n",
       "      <td>...</td>\n",
       "      <td>...</td>\n",
       "      <td>...</td>\n",
       "      <td>...</td>\n",
       "      <td>...</td>\n",
       "      <td>...</td>\n",
       "      <td>...</td>\n",
       "      <td>...</td>\n",
       "      <td>...</td>\n",
       "      <td>...</td>\n",
       "      <td>...</td>\n",
       "      <td>...</td>\n",
       "      <td>...</td>\n",
       "      <td>...</td>\n",
       "      <td>...</td>\n",
       "      <td>...</td>\n",
       "      <td>...</td>\n",
       "    </tr>\n",
       "    <tr>\n",
       "      <th>150145</th>\n",
       "      <td>235.8375</td>\n",
       "      <td>235.8375</td>\n",
       "      <td>0</td>\n",
       "      <td>0</td>\n",
       "      <td>38</td>\n",
       "      <td>9</td>\n",
       "      <td>7</td>\n",
       "      <td>13</td>\n",
       "      <td>0</td>\n",
       "      <td>0</td>\n",
       "      <td>...</td>\n",
       "      <td>0</td>\n",
       "      <td>0</td>\n",
       "      <td>0</td>\n",
       "      <td>0</td>\n",
       "      <td>0</td>\n",
       "      <td>0</td>\n",
       "      <td>0</td>\n",
       "      <td>0</td>\n",
       "      <td>0</td>\n",
       "      <td>0</td>\n",
       "    </tr>\n",
       "    <tr>\n",
       "      <th>150146</th>\n",
       "      <td>235.8375</td>\n",
       "      <td>235.8375</td>\n",
       "      <td>0</td>\n",
       "      <td>0</td>\n",
       "      <td>30</td>\n",
       "      <td>9</td>\n",
       "      <td>7</td>\n",
       "      <td>13</td>\n",
       "      <td>0</td>\n",
       "      <td>0</td>\n",
       "      <td>...</td>\n",
       "      <td>0</td>\n",
       "      <td>0</td>\n",
       "      <td>0</td>\n",
       "      <td>0</td>\n",
       "      <td>0</td>\n",
       "      <td>0</td>\n",
       "      <td>0</td>\n",
       "      <td>0</td>\n",
       "      <td>0</td>\n",
       "      <td>0</td>\n",
       "    </tr>\n",
       "    <tr>\n",
       "      <th>150147</th>\n",
       "      <td>357.6750</td>\n",
       "      <td>483.7875</td>\n",
       "      <td>1</td>\n",
       "      <td>1</td>\n",
       "      <td>31</td>\n",
       "      <td>9</td>\n",
       "      <td>7</td>\n",
       "      <td>13</td>\n",
       "      <td>0</td>\n",
       "      <td>0</td>\n",
       "      <td>...</td>\n",
       "      <td>0</td>\n",
       "      <td>0</td>\n",
       "      <td>0</td>\n",
       "      <td>0</td>\n",
       "      <td>0</td>\n",
       "      <td>0</td>\n",
       "      <td>0</td>\n",
       "      <td>0</td>\n",
       "      <td>0</td>\n",
       "      <td>0</td>\n",
       "    </tr>\n",
       "    <tr>\n",
       "      <th>150148</th>\n",
       "      <td>141.7875</td>\n",
       "      <td>191.6625</td>\n",
       "      <td>0</td>\n",
       "      <td>1</td>\n",
       "      <td>12</td>\n",
       "      <td>9</td>\n",
       "      <td>7</td>\n",
       "      <td>13</td>\n",
       "      <td>0</td>\n",
       "      <td>0</td>\n",
       "      <td>...</td>\n",
       "      <td>0</td>\n",
       "      <td>0</td>\n",
       "      <td>0</td>\n",
       "      <td>0</td>\n",
       "      <td>0</td>\n",
       "      <td>0</td>\n",
       "      <td>1</td>\n",
       "      <td>0</td>\n",
       "      <td>0</td>\n",
       "      <td>0</td>\n",
       "    </tr>\n",
       "    <tr>\n",
       "      <th>150149</th>\n",
       "      <td>234.4125</td>\n",
       "      <td>234.4125</td>\n",
       "      <td>0</td>\n",
       "      <td>0</td>\n",
       "      <td>15</td>\n",
       "      <td>9</td>\n",
       "      <td>7</td>\n",
       "      <td>13</td>\n",
       "      <td>0</td>\n",
       "      <td>0</td>\n",
       "      <td>...</td>\n",
       "      <td>0</td>\n",
       "      <td>0</td>\n",
       "      <td>0</td>\n",
       "      <td>0</td>\n",
       "      <td>0</td>\n",
       "      <td>0</td>\n",
       "      <td>0</td>\n",
       "      <td>0</td>\n",
       "      <td>0</td>\n",
       "      <td>1</td>\n",
       "    </tr>\n",
       "  </tbody>\n",
       "</table>\n",
       "<p>148636 rows × 110 columns</p>\n",
       "</div>"
      ],
      "text/plain": [
       "        total_price  base_price  is_featured_sku  is_display_sku  units_sold  \\\n",
       "0           99.0375    111.8625                0               0          20   \n",
       "1           99.0375     99.0375                0               0          28   \n",
       "2          133.9500    133.9500                0               0          19   \n",
       "3          133.9500    133.9500                0               0          44   \n",
       "4          141.0750    141.0750                0               0          52   \n",
       "...             ...         ...              ...             ...         ...   \n",
       "150145     235.8375    235.8375                0               0          38   \n",
       "150146     235.8375    235.8375                0               0          30   \n",
       "150147     357.6750    483.7875                1               1          31   \n",
       "150148     141.7875    191.6625                0               1          12   \n",
       "150149     234.4125    234.4125                0               0          15   \n",
       "\n",
       "        day  month  year  store_id_8058  store_id_8063  ...  sku_id_320485  \\\n",
       "0        17      1    11              0              0  ...              0   \n",
       "1        17      1    11              0              0  ...              0   \n",
       "2        17      1    11              0              0  ...              0   \n",
       "3        17      1    11              0              0  ...              0   \n",
       "4        17      1    11              0              0  ...              0   \n",
       "...     ...    ...   ...            ...            ...  ...            ...   \n",
       "150145    9      7    13              0              0  ...              0   \n",
       "150146    9      7    13              0              0  ...              0   \n",
       "150147    9      7    13              0              0  ...              0   \n",
       "150148    9      7    13              0              0  ...              0   \n",
       "150149    9      7    13              0              0  ...              0   \n",
       "\n",
       "        sku_id_327492  sku_id_378934  sku_id_398721  sku_id_545621  \\\n",
       "0                   0              0              0              0   \n",
       "1                   0              0              0              0   \n",
       "2                   0              0              0              0   \n",
       "3                   0              0              0              0   \n",
       "4                   0              0              0              0   \n",
       "...               ...            ...            ...            ...   \n",
       "150145              0              0              0              0   \n",
       "150146              0              0              0              0   \n",
       "150147              0              0              0              0   \n",
       "150148              0              0              0              0   \n",
       "150149              0              0              0              0   \n",
       "\n",
       "        sku_id_546789  sku_id_547934  sku_id_600934  sku_id_673209  \\\n",
       "0                   0              0              0              0   \n",
       "1                   0              0              0              0   \n",
       "2                   0              0              0              0   \n",
       "3                   0              0              0              0   \n",
       "4                   0              0              0              0   \n",
       "...               ...            ...            ...            ...   \n",
       "150145              0              0              0              0   \n",
       "150146              0              0              0              0   \n",
       "150147              0              0              0              0   \n",
       "150148              0              1              0              0   \n",
       "150149              0              0              0              0   \n",
       "\n",
       "        sku_id_679023  \n",
       "0                   0  \n",
       "1                   0  \n",
       "2                   0  \n",
       "3                   0  \n",
       "4                   0  \n",
       "...               ...  \n",
       "150145              0  \n",
       "150146              0  \n",
       "150147              0  \n",
       "150148              0  \n",
       "150149              1  \n",
       "\n",
       "[148636 rows x 110 columns]"
      ]
     },
     "execution_count": 31,
     "metadata": {},
     "output_type": "execute_result"
    }
   ],
   "source": [
    "pd.get_dummies(df,columns=['store_id','sku_id'],drop_first=True,dtype='int')\n",
    "# it is ok becasue we have store_id 76 unique values and sku_id 28 unique values--> one hot encode"
   ]
  },
  {
   "cell_type": "markdown",
   "id": "3279d341",
   "metadata": {},
   "source": [
    "# 5. Train Model 2"
   ]
  },
  {
   "cell_type": "code",
   "execution_count": 32,
   "id": "67c04c2d",
   "metadata": {},
   "outputs": [],
   "source": [
    "X,y = df.drop(columns=['units_sold']), df['units_sold']"
   ]
  },
  {
   "cell_type": "code",
   "execution_count": 33,
   "id": "69c909d7",
   "metadata": {},
   "outputs": [],
   "source": [
    "X_train,X_test,y_train,y_test = train_test_split(X,y,test_size=0.2,random_state=42)\n",
    "X_train, X_val, y_train, y_val = train_test_split(X_train, y_train, test_size=0.2, random_state=42)"
   ]
  },
  {
   "cell_type": "code",
   "execution_count": 34,
   "id": "38b4a7df",
   "metadata": {},
   "outputs": [
    {
     "data": {
      "text/html": [
       "<style>#sk-container-id-2 {\n",
       "  /* Definition of color scheme common for light and dark mode */\n",
       "  --sklearn-color-text: #000;\n",
       "  --sklearn-color-text-muted: #666;\n",
       "  --sklearn-color-line: gray;\n",
       "  /* Definition of color scheme for unfitted estimators */\n",
       "  --sklearn-color-unfitted-level-0: #fff5e6;\n",
       "  --sklearn-color-unfitted-level-1: #f6e4d2;\n",
       "  --sklearn-color-unfitted-level-2: #ffe0b3;\n",
       "  --sklearn-color-unfitted-level-3: chocolate;\n",
       "  /* Definition of color scheme for fitted estimators */\n",
       "  --sklearn-color-fitted-level-0: #f0f8ff;\n",
       "  --sklearn-color-fitted-level-1: #d4ebff;\n",
       "  --sklearn-color-fitted-level-2: #b3dbfd;\n",
       "  --sklearn-color-fitted-level-3: cornflowerblue;\n",
       "\n",
       "  /* Specific color for light theme */\n",
       "  --sklearn-color-text-on-default-background: var(--sg-text-color, var(--theme-code-foreground, var(--jp-content-font-color1, black)));\n",
       "  --sklearn-color-background: var(--sg-background-color, var(--theme-background, var(--jp-layout-color0, white)));\n",
       "  --sklearn-color-border-box: var(--sg-text-color, var(--theme-code-foreground, var(--jp-content-font-color1, black)));\n",
       "  --sklearn-color-icon: #696969;\n",
       "\n",
       "  @media (prefers-color-scheme: dark) {\n",
       "    /* Redefinition of color scheme for dark theme */\n",
       "    --sklearn-color-text-on-default-background: var(--sg-text-color, var(--theme-code-foreground, var(--jp-content-font-color1, white)));\n",
       "    --sklearn-color-background: var(--sg-background-color, var(--theme-background, var(--jp-layout-color0, #111)));\n",
       "    --sklearn-color-border-box: var(--sg-text-color, var(--theme-code-foreground, var(--jp-content-font-color1, white)));\n",
       "    --sklearn-color-icon: #878787;\n",
       "  }\n",
       "}\n",
       "\n",
       "#sk-container-id-2 {\n",
       "  color: var(--sklearn-color-text);\n",
       "}\n",
       "\n",
       "#sk-container-id-2 pre {\n",
       "  padding: 0;\n",
       "}\n",
       "\n",
       "#sk-container-id-2 input.sk-hidden--visually {\n",
       "  border: 0;\n",
       "  clip: rect(1px 1px 1px 1px);\n",
       "  clip: rect(1px, 1px, 1px, 1px);\n",
       "  height: 1px;\n",
       "  margin: -1px;\n",
       "  overflow: hidden;\n",
       "  padding: 0;\n",
       "  position: absolute;\n",
       "  width: 1px;\n",
       "}\n",
       "\n",
       "#sk-container-id-2 div.sk-dashed-wrapped {\n",
       "  border: 1px dashed var(--sklearn-color-line);\n",
       "  margin: 0 0.4em 0.5em 0.4em;\n",
       "  box-sizing: border-box;\n",
       "  padding-bottom: 0.4em;\n",
       "  background-color: var(--sklearn-color-background);\n",
       "}\n",
       "\n",
       "#sk-container-id-2 div.sk-container {\n",
       "  /* jupyter's `normalize.less` sets `[hidden] { display: none; }`\n",
       "     but bootstrap.min.css set `[hidden] { display: none !important; }`\n",
       "     so we also need the `!important` here to be able to override the\n",
       "     default hidden behavior on the sphinx rendered scikit-learn.org.\n",
       "     See: https://github.com/scikit-learn/scikit-learn/issues/21755 */\n",
       "  display: inline-block !important;\n",
       "  position: relative;\n",
       "}\n",
       "\n",
       "#sk-container-id-2 div.sk-text-repr-fallback {\n",
       "  display: none;\n",
       "}\n",
       "\n",
       "div.sk-parallel-item,\n",
       "div.sk-serial,\n",
       "div.sk-item {\n",
       "  /* draw centered vertical line to link estimators */\n",
       "  background-image: linear-gradient(var(--sklearn-color-text-on-default-background), var(--sklearn-color-text-on-default-background));\n",
       "  background-size: 2px 100%;\n",
       "  background-repeat: no-repeat;\n",
       "  background-position: center center;\n",
       "}\n",
       "\n",
       "/* Parallel-specific style estimator block */\n",
       "\n",
       "#sk-container-id-2 div.sk-parallel-item::after {\n",
       "  content: \"\";\n",
       "  width: 100%;\n",
       "  border-bottom: 2px solid var(--sklearn-color-text-on-default-background);\n",
       "  flex-grow: 1;\n",
       "}\n",
       "\n",
       "#sk-container-id-2 div.sk-parallel {\n",
       "  display: flex;\n",
       "  align-items: stretch;\n",
       "  justify-content: center;\n",
       "  background-color: var(--sklearn-color-background);\n",
       "  position: relative;\n",
       "}\n",
       "\n",
       "#sk-container-id-2 div.sk-parallel-item {\n",
       "  display: flex;\n",
       "  flex-direction: column;\n",
       "}\n",
       "\n",
       "#sk-container-id-2 div.sk-parallel-item:first-child::after {\n",
       "  align-self: flex-end;\n",
       "  width: 50%;\n",
       "}\n",
       "\n",
       "#sk-container-id-2 div.sk-parallel-item:last-child::after {\n",
       "  align-self: flex-start;\n",
       "  width: 50%;\n",
       "}\n",
       "\n",
       "#sk-container-id-2 div.sk-parallel-item:only-child::after {\n",
       "  width: 0;\n",
       "}\n",
       "\n",
       "/* Serial-specific style estimator block */\n",
       "\n",
       "#sk-container-id-2 div.sk-serial {\n",
       "  display: flex;\n",
       "  flex-direction: column;\n",
       "  align-items: center;\n",
       "  background-color: var(--sklearn-color-background);\n",
       "  padding-right: 1em;\n",
       "  padding-left: 1em;\n",
       "}\n",
       "\n",
       "\n",
       "/* Toggleable style: style used for estimator/Pipeline/ColumnTransformer box that is\n",
       "clickable and can be expanded/collapsed.\n",
       "- Pipeline and ColumnTransformer use this feature and define the default style\n",
       "- Estimators will overwrite some part of the style using the `sk-estimator` class\n",
       "*/\n",
       "\n",
       "/* Pipeline and ColumnTransformer style (default) */\n",
       "\n",
       "#sk-container-id-2 div.sk-toggleable {\n",
       "  /* Default theme specific background. It is overwritten whether we have a\n",
       "  specific estimator or a Pipeline/ColumnTransformer */\n",
       "  background-color: var(--sklearn-color-background);\n",
       "}\n",
       "\n",
       "/* Toggleable label */\n",
       "#sk-container-id-2 label.sk-toggleable__label {\n",
       "  cursor: pointer;\n",
       "  display: flex;\n",
       "  width: 100%;\n",
       "  margin-bottom: 0;\n",
       "  padding: 0.5em;\n",
       "  box-sizing: border-box;\n",
       "  text-align: center;\n",
       "  align-items: start;\n",
       "  justify-content: space-between;\n",
       "  gap: 0.5em;\n",
       "}\n",
       "\n",
       "#sk-container-id-2 label.sk-toggleable__label .caption {\n",
       "  font-size: 0.6rem;\n",
       "  font-weight: lighter;\n",
       "  color: var(--sklearn-color-text-muted);\n",
       "}\n",
       "\n",
       "#sk-container-id-2 label.sk-toggleable__label-arrow:before {\n",
       "  /* Arrow on the left of the label */\n",
       "  content: \"▸\";\n",
       "  float: left;\n",
       "  margin-right: 0.25em;\n",
       "  color: var(--sklearn-color-icon);\n",
       "}\n",
       "\n",
       "#sk-container-id-2 label.sk-toggleable__label-arrow:hover:before {\n",
       "  color: var(--sklearn-color-text);\n",
       "}\n",
       "\n",
       "/* Toggleable content - dropdown */\n",
       "\n",
       "#sk-container-id-2 div.sk-toggleable__content {\n",
       "  max-height: 0;\n",
       "  max-width: 0;\n",
       "  overflow: hidden;\n",
       "  text-align: left;\n",
       "  /* unfitted */\n",
       "  background-color: var(--sklearn-color-unfitted-level-0);\n",
       "}\n",
       "\n",
       "#sk-container-id-2 div.sk-toggleable__content.fitted {\n",
       "  /* fitted */\n",
       "  background-color: var(--sklearn-color-fitted-level-0);\n",
       "}\n",
       "\n",
       "#sk-container-id-2 div.sk-toggleable__content pre {\n",
       "  margin: 0.2em;\n",
       "  border-radius: 0.25em;\n",
       "  color: var(--sklearn-color-text);\n",
       "  /* unfitted */\n",
       "  background-color: var(--sklearn-color-unfitted-level-0);\n",
       "}\n",
       "\n",
       "#sk-container-id-2 div.sk-toggleable__content.fitted pre {\n",
       "  /* unfitted */\n",
       "  background-color: var(--sklearn-color-fitted-level-0);\n",
       "}\n",
       "\n",
       "#sk-container-id-2 input.sk-toggleable__control:checked~div.sk-toggleable__content {\n",
       "  /* Expand drop-down */\n",
       "  max-height: 200px;\n",
       "  max-width: 100%;\n",
       "  overflow: auto;\n",
       "}\n",
       "\n",
       "#sk-container-id-2 input.sk-toggleable__control:checked~label.sk-toggleable__label-arrow:before {\n",
       "  content: \"▾\";\n",
       "}\n",
       "\n",
       "/* Pipeline/ColumnTransformer-specific style */\n",
       "\n",
       "#sk-container-id-2 div.sk-label input.sk-toggleable__control:checked~label.sk-toggleable__label {\n",
       "  color: var(--sklearn-color-text);\n",
       "  background-color: var(--sklearn-color-unfitted-level-2);\n",
       "}\n",
       "\n",
       "#sk-container-id-2 div.sk-label.fitted input.sk-toggleable__control:checked~label.sk-toggleable__label {\n",
       "  background-color: var(--sklearn-color-fitted-level-2);\n",
       "}\n",
       "\n",
       "/* Estimator-specific style */\n",
       "\n",
       "/* Colorize estimator box */\n",
       "#sk-container-id-2 div.sk-estimator input.sk-toggleable__control:checked~label.sk-toggleable__label {\n",
       "  /* unfitted */\n",
       "  background-color: var(--sklearn-color-unfitted-level-2);\n",
       "}\n",
       "\n",
       "#sk-container-id-2 div.sk-estimator.fitted input.sk-toggleable__control:checked~label.sk-toggleable__label {\n",
       "  /* fitted */\n",
       "  background-color: var(--sklearn-color-fitted-level-2);\n",
       "}\n",
       "\n",
       "#sk-container-id-2 div.sk-label label.sk-toggleable__label,\n",
       "#sk-container-id-2 div.sk-label label {\n",
       "  /* The background is the default theme color */\n",
       "  color: var(--sklearn-color-text-on-default-background);\n",
       "}\n",
       "\n",
       "/* On hover, darken the color of the background */\n",
       "#sk-container-id-2 div.sk-label:hover label.sk-toggleable__label {\n",
       "  color: var(--sklearn-color-text);\n",
       "  background-color: var(--sklearn-color-unfitted-level-2);\n",
       "}\n",
       "\n",
       "/* Label box, darken color on hover, fitted */\n",
       "#sk-container-id-2 div.sk-label.fitted:hover label.sk-toggleable__label.fitted {\n",
       "  color: var(--sklearn-color-text);\n",
       "  background-color: var(--sklearn-color-fitted-level-2);\n",
       "}\n",
       "\n",
       "/* Estimator label */\n",
       "\n",
       "#sk-container-id-2 div.sk-label label {\n",
       "  font-family: monospace;\n",
       "  font-weight: bold;\n",
       "  display: inline-block;\n",
       "  line-height: 1.2em;\n",
       "}\n",
       "\n",
       "#sk-container-id-2 div.sk-label-container {\n",
       "  text-align: center;\n",
       "}\n",
       "\n",
       "/* Estimator-specific */\n",
       "#sk-container-id-2 div.sk-estimator {\n",
       "  font-family: monospace;\n",
       "  border: 1px dotted var(--sklearn-color-border-box);\n",
       "  border-radius: 0.25em;\n",
       "  box-sizing: border-box;\n",
       "  margin-bottom: 0.5em;\n",
       "  /* unfitted */\n",
       "  background-color: var(--sklearn-color-unfitted-level-0);\n",
       "}\n",
       "\n",
       "#sk-container-id-2 div.sk-estimator.fitted {\n",
       "  /* fitted */\n",
       "  background-color: var(--sklearn-color-fitted-level-0);\n",
       "}\n",
       "\n",
       "/* on hover */\n",
       "#sk-container-id-2 div.sk-estimator:hover {\n",
       "  /* unfitted */\n",
       "  background-color: var(--sklearn-color-unfitted-level-2);\n",
       "}\n",
       "\n",
       "#sk-container-id-2 div.sk-estimator.fitted:hover {\n",
       "  /* fitted */\n",
       "  background-color: var(--sklearn-color-fitted-level-2);\n",
       "}\n",
       "\n",
       "/* Specification for estimator info (e.g. \"i\" and \"?\") */\n",
       "\n",
       "/* Common style for \"i\" and \"?\" */\n",
       "\n",
       ".sk-estimator-doc-link,\n",
       "a:link.sk-estimator-doc-link,\n",
       "a:visited.sk-estimator-doc-link {\n",
       "  float: right;\n",
       "  font-size: smaller;\n",
       "  line-height: 1em;\n",
       "  font-family: monospace;\n",
       "  background-color: var(--sklearn-color-background);\n",
       "  border-radius: 1em;\n",
       "  height: 1em;\n",
       "  width: 1em;\n",
       "  text-decoration: none !important;\n",
       "  margin-left: 0.5em;\n",
       "  text-align: center;\n",
       "  /* unfitted */\n",
       "  border: var(--sklearn-color-unfitted-level-1) 1pt solid;\n",
       "  color: var(--sklearn-color-unfitted-level-1);\n",
       "}\n",
       "\n",
       ".sk-estimator-doc-link.fitted,\n",
       "a:link.sk-estimator-doc-link.fitted,\n",
       "a:visited.sk-estimator-doc-link.fitted {\n",
       "  /* fitted */\n",
       "  border: var(--sklearn-color-fitted-level-1) 1pt solid;\n",
       "  color: var(--sklearn-color-fitted-level-1);\n",
       "}\n",
       "\n",
       "/* On hover */\n",
       "div.sk-estimator:hover .sk-estimator-doc-link:hover,\n",
       ".sk-estimator-doc-link:hover,\n",
       "div.sk-label-container:hover .sk-estimator-doc-link:hover,\n",
       ".sk-estimator-doc-link:hover {\n",
       "  /* unfitted */\n",
       "  background-color: var(--sklearn-color-unfitted-level-3);\n",
       "  color: var(--sklearn-color-background);\n",
       "  text-decoration: none;\n",
       "}\n",
       "\n",
       "div.sk-estimator.fitted:hover .sk-estimator-doc-link.fitted:hover,\n",
       ".sk-estimator-doc-link.fitted:hover,\n",
       "div.sk-label-container:hover .sk-estimator-doc-link.fitted:hover,\n",
       ".sk-estimator-doc-link.fitted:hover {\n",
       "  /* fitted */\n",
       "  background-color: var(--sklearn-color-fitted-level-3);\n",
       "  color: var(--sklearn-color-background);\n",
       "  text-decoration: none;\n",
       "}\n",
       "\n",
       "/* Span, style for the box shown on hovering the info icon */\n",
       ".sk-estimator-doc-link span {\n",
       "  display: none;\n",
       "  z-index: 9999;\n",
       "  position: relative;\n",
       "  font-weight: normal;\n",
       "  right: .2ex;\n",
       "  padding: .5ex;\n",
       "  margin: .5ex;\n",
       "  width: min-content;\n",
       "  min-width: 20ex;\n",
       "  max-width: 50ex;\n",
       "  color: var(--sklearn-color-text);\n",
       "  box-shadow: 2pt 2pt 4pt #999;\n",
       "  /* unfitted */\n",
       "  background: var(--sklearn-color-unfitted-level-0);\n",
       "  border: .5pt solid var(--sklearn-color-unfitted-level-3);\n",
       "}\n",
       "\n",
       ".sk-estimator-doc-link.fitted span {\n",
       "  /* fitted */\n",
       "  background: var(--sklearn-color-fitted-level-0);\n",
       "  border: var(--sklearn-color-fitted-level-3);\n",
       "}\n",
       "\n",
       ".sk-estimator-doc-link:hover span {\n",
       "  display: block;\n",
       "}\n",
       "\n",
       "/* \"?\"-specific style due to the `<a>` HTML tag */\n",
       "\n",
       "#sk-container-id-2 a.estimator_doc_link {\n",
       "  float: right;\n",
       "  font-size: 1rem;\n",
       "  line-height: 1em;\n",
       "  font-family: monospace;\n",
       "  background-color: var(--sklearn-color-background);\n",
       "  border-radius: 1rem;\n",
       "  height: 1rem;\n",
       "  width: 1rem;\n",
       "  text-decoration: none;\n",
       "  /* unfitted */\n",
       "  color: var(--sklearn-color-unfitted-level-1);\n",
       "  border: var(--sklearn-color-unfitted-level-1) 1pt solid;\n",
       "}\n",
       "\n",
       "#sk-container-id-2 a.estimator_doc_link.fitted {\n",
       "  /* fitted */\n",
       "  border: var(--sklearn-color-fitted-level-1) 1pt solid;\n",
       "  color: var(--sklearn-color-fitted-level-1);\n",
       "}\n",
       "\n",
       "/* On hover */\n",
       "#sk-container-id-2 a.estimator_doc_link:hover {\n",
       "  /* unfitted */\n",
       "  background-color: var(--sklearn-color-unfitted-level-3);\n",
       "  color: var(--sklearn-color-background);\n",
       "  text-decoration: none;\n",
       "}\n",
       "\n",
       "#sk-container-id-2 a.estimator_doc_link.fitted:hover {\n",
       "  /* fitted */\n",
       "  background-color: var(--sklearn-color-fitted-level-3);\n",
       "}\n",
       "</style><div id=\"sk-container-id-2\" class=\"sk-top-container\"><div class=\"sk-text-repr-fallback\"><pre>RandomForestRegressor(n_jobs=-1)</pre><b>In a Jupyter environment, please rerun this cell to show the HTML representation or trust the notebook. <br />On GitHub, the HTML representation is unable to render, please try loading this page with nbviewer.org.</b></div><div class=\"sk-container\" hidden><div class=\"sk-item\"><div class=\"sk-estimator fitted sk-toggleable\"><input class=\"sk-toggleable__control sk-hidden--visually\" id=\"sk-estimator-id-2\" type=\"checkbox\" checked><label for=\"sk-estimator-id-2\" class=\"sk-toggleable__label fitted sk-toggleable__label-arrow\"><div><div>RandomForestRegressor</div></div><div><a class=\"sk-estimator-doc-link fitted\" rel=\"noreferrer\" target=\"_blank\" href=\"https://scikit-learn.org/1.6/modules/generated/sklearn.ensemble.RandomForestRegressor.html\">?<span>Documentation for RandomForestRegressor</span></a><span class=\"sk-estimator-doc-link fitted\">i<span>Fitted</span></span></div></label><div class=\"sk-toggleable__content fitted\"><pre>RandomForestRegressor(n_jobs=-1)</pre></div> </div></div></div></div>"
      ],
      "text/plain": [
       "RandomForestRegressor(n_jobs=-1)"
      ]
     },
     "execution_count": 34,
     "metadata": {},
     "output_type": "execute_result"
    }
   ],
   "source": [
    "model2 = RandomForestRegressor(n_jobs=-1)\n",
    "model2.fit(X_train,y_train)"
   ]
  },
  {
   "cell_type": "code",
   "execution_count": 35,
   "id": "f1d61be1",
   "metadata": {},
   "outputs": [
    {
     "data": {
      "text/plain": [
       "19.565185170050746"
      ]
     },
     "execution_count": 35,
     "metadata": {},
     "output_type": "execute_result"
    }
   ],
   "source": [
    "y_preds2 = model2.predict(X_val)\n",
    "rmse2 = root_mean_squared_error(y_val, y_preds2)\n",
    "rmse2"
   ]
  },
  {
   "cell_type": "code",
   "execution_count": 42,
   "id": "f3cf8371",
   "metadata": {},
   "outputs": [
    {
     "data": {
      "text/plain": [
       "[<matplotlib.lines.Line2D at 0x2501ed6b890>]"
      ]
     },
     "execution_count": 42,
     "metadata": {},
     "output_type": "execute_result"
    },
    {
     "data": {
      "image/png": "[encoded data removed]",
      "text/plain": [
       "<Figure size 640x480 with 1 Axes>"
      ]
     },
     "metadata": {},
     "output_type": "display_data"
    }
   ],
   "source": [
    "plt.scatter(y_preds2, y_val)\n",
    "plt.plot(np.linspace(y_preds2.min(), y_preds2.max()),np.linspace(y_val.min(), y_val.max()), color='red', linestyle='--')"
   ]
  },
  {
   "cell_type": "code",
   "execution_count": 36,
   "id": "d9334c70",
   "metadata": {},
   "outputs": [
    {
     "data": {
      "image/png": "[encoded data removed]",
      "text/plain": [
       "<Figure size 1000x600 with 1 Axes>"
      ]
     },
     "metadata": {},
     "output_type": "display_data"
    }
   ],
   "source": [
    "importances = model2.feature_importances_\n",
    "importances_df = pd.DataFrame({'Feature': X_train.columns, 'Importance': importances})\n",
    "plt.figure(figsize=(10, 6))\n",
    "importances_df = importances_df.sort_values(by='Importance', ascending=False)\n",
    "sns.barplot(x='Importance', y='Feature', data=importances_df.head(10))\n",
    "\n",
    "# data labels\n",
    "for index, value in enumerate(importances_df['Importance'].head(10)):\n",
    "    plt.text(value, index, f'{value*100:.1f}%')\n",
    "\n",
    "plt.title(f'Top 10 Important Features from total of {len(importances_df)}')\n",
    "plt.show()"
   ]
  },
  {
   "cell_type": "markdown",
   "id": "aa1bdf8c",
   "metadata": {},
   "source": [
    "# 6. Optuna Hyperparameter tunning"
   ]
  },
  {
   "cell_type": "code",
   "execution_count": 37,
   "id": "c632d14b",
   "metadata": {},
   "outputs": [],
   "source": [
    "import optuna"
   ]
  },
  {
   "cell_type": "code",
   "execution_count": null,
   "id": "99532b1f",
   "metadata": {},
   "outputs": [],
   "source": [
    "def objective(trial):\n",
    "    paramters = {\n",
    "        'n_estimators': trial.suggest_int('n_estimators', 100, 601, step=50),\n",
    "        'max_depth': trial.suggest_int('max_depth', 10, 61, step=5),\n",
    "        'min_samples_split': trial.suggest_int('min_samples_split', 2, 21, step=2),\n",
    "        'min_samples_leaf': trial.suggest_int('min_samples_leaf', 1, 21, step=2),\n",
    "        'max_features': trial.suggest_categorical('max_features', [None,'sqrt', 'log2'])\n",
    "    }\n",
    "\n",
    "    model = RandomForestRegressor(**paramters,n_jobs= -1, random_state=42)\n",
    "    model.fit(X_train, y_train)\n",
    "    y_pred = model.predict(X_val)\n",
    "    rmse = root_mean_squared_error(y_val, y_pred)\n",
    "    return rmse"
   ]
  },
  {
   "cell_type": "code",
   "execution_count": 49,
   "id": "6e8ecfa4",
   "metadata": {},
   "outputs": [
    {
     "name": "stderr",
     "output_type": "stream",
     "text": [
      "[I 2025-05-26 14:06:24,482] A new study created in memory with name: no-name-4962f8f6-c73b-4eda-8610-6ce9cec7748f\n",
      "C:\\Users\\ondra\\AppData\\Roaming\\Python\\Python313\\site-packages\\optuna\\distributions.py:699: UserWarning:\n",
      "\n",
      "The distribution is specified by [100, 601] and step=50, but the range is not divisible by `step`. It will be replaced by [100, 600].\n",
      "\n",
      "C:\\Users\\ondra\\AppData\\Roaming\\Python\\Python313\\site-packages\\optuna\\distributions.py:699: UserWarning:\n",
      "\n",
      "The distribution is specified by [10, 61] and step=5, but the range is not divisible by `step`. It will be replaced by [10, 60].\n",
      "\n",
      "C:\\Users\\ondra\\AppData\\Roaming\\Python\\Python313\\site-packages\\optuna\\distributions.py:699: UserWarning:\n",
      "\n",
      "The distribution is specified by [2, 21] and step=2, but the range is not divisible by `step`. It will be replaced by [2, 20].\n",
      "\n",
      "C:\\Users\\ondra\\AppData\\Roaming\\Python\\Python313\\site-packages\\optuna\\distributions.py:699: UserWarning:\n",
      "\n",
      "The distribution is specified by [100, 601] and step=50, but the range is not divisible by `step`. It will be replaced by [100, 600].\n",
      "\n",
      "C:\\Users\\ondra\\AppData\\Roaming\\Python\\Python313\\site-packages\\optuna\\distributions.py:699: UserWarning:\n",
      "\n",
      "The distribution is specified by [10, 61] and step=5, but the range is not divisible by `step`. It will be replaced by [10, 60].\n",
      "\n",
      "C:\\Users\\ondra\\AppData\\Roaming\\Python\\Python313\\site-packages\\optuna\\distributions.py:699: UserWarning:\n",
      "\n",
      "The distribution is specified by [2, 21] and step=2, but the range is not divisible by `step`. It will be replaced by [2, 20].\n",
      "\n",
      "C:\\Users\\ondra\\AppData\\Roaming\\Python\\Python313\\site-packages\\optuna\\distributions.py:699: UserWarning:\n",
      "\n",
      "The distribution is specified by [100, 601] and step=50, but the range is not divisible by `step`. It will be replaced by [100, 600].\n",
      "\n",
      "C:\\Users\\ondra\\AppData\\Roaming\\Python\\Python313\\site-packages\\optuna\\distributions.py:699: UserWarning:\n",
      "\n",
      "The distribution is specified by [10, 61] and step=5, but the range is not divisible by `step`. It will be replaced by [10, 60].\n",
      "\n",
      "C:\\Users\\ondra\\AppData\\Roaming\\Python\\Python313\\site-packages\\optuna\\distributions.py:699: UserWarning:\n",
      "\n",
      "The distribution is specified by [2, 21] and step=2, but the range is not divisible by `step`. It will be replaced by [2, 20].\n",
      "\n",
      "C:\\Users\\ondra\\AppData\\Roaming\\Python\\Python313\\site-packages\\optuna\\distributions.py:699: UserWarning:\n",
      "\n",
      "The distribution is specified by [100, 601] and step=50, but the range is not divisible by `step`. It will be replaced by [100, 600].\n",
      "\n",
      "C:\\Users\\ondra\\AppData\\Roaming\\Python\\Python313\\site-packages\\optuna\\distributions.py:699: UserWarning:\n",
      "\n",
      "The distribution is specified by [10, 61] and step=5, but the range is not divisible by `step`. It will be replaced by [10, 60].\n",
      "\n",
      "C:\\Users\\ondra\\AppData\\Roaming\\Python\\Python313\\site-packages\\optuna\\distributions.py:699: UserWarning:\n",
      "\n",
      "The distribution is specified by [2, 21] and step=2, but the range is not divisible by `step`. It will be replaced by [2, 20].\n",
      "\n",
      "C:\\Users\\ondra\\AppData\\Roaming\\Python\\Python313\\site-packages\\optuna\\distributions.py:699: UserWarning:\n",
      "\n",
      "The distribution is specified by [100, 601] and step=50, but the range is not divisible by `step`. It will be replaced by [100, 600].\n",
      "\n",
      "C:\\Users\\ondra\\AppData\\Roaming\\Python\\Python313\\site-packages\\optuna\\distributions.py:699: UserWarning:\n",
      "\n",
      "The distribution is specified by [10, 61] and step=5, but the range is not divisible by `step`. It will be replaced by [10, 60].\n",
      "\n",
      "C:\\Users\\ondra\\AppData\\Roaming\\Python\\Python313\\site-packages\\optuna\\distributions.py:699: UserWarning:\n",
      "\n",
      "The distribution is specified by [2, 21] and step=2, but the range is not divisible by `step`. It will be replaced by [2, 20].\n",
      "\n",
      "C:\\Users\\ondra\\AppData\\Roaming\\Python\\Python313\\site-packages\\optuna\\distributions.py:699: UserWarning:\n",
      "\n",
      "The distribution is specified by [100, 601] and step=50, but the range is not divisible by `step`. It will be replaced by [100, 600].\n",
      "\n",
      "C:\\Users\\ondra\\AppData\\Roaming\\Python\\Python313\\site-packages\\optuna\\distributions.py:699: UserWarning:\n",
      "\n",
      "The distribution is specified by [10, 61] and step=5, but the range is not divisible by `step`. It will be replaced by [10, 60].\n",
      "\n",
      "C:\\Users\\ondra\\AppData\\Roaming\\Python\\Python313\\site-packages\\optuna\\distributions.py:699: UserWarning:\n",
      "\n",
      "The distribution is specified by [2, 21] and step=2, but the range is not divisible by `step`. It will be replaced by [2, 20].\n",
      "\n",
      "C:\\Users\\ondra\\AppData\\Roaming\\Python\\Python313\\site-packages\\optuna\\distributions.py:699: UserWarning:\n",
      "\n",
      "The distribution is specified by [100, 601] and step=50, but the range is not divisible by `step`. It will be replaced by [100, 600].\n",
      "\n",
      "C:\\Users\\ondra\\AppData\\Roaming\\Python\\Python313\\site-packages\\optuna\\distributions.py:699: UserWarning:\n",
      "\n",
      "The distribution is specified by [10, 61] and step=5, but the range is not divisible by `step`. It will be replaced by [10, 60].\n",
      "\n",
      "C:\\Users\\ondra\\AppData\\Roaming\\Python\\Python313\\site-packages\\optuna\\distributions.py:699: UserWarning:\n",
      "\n",
      "The distribution is specified by [2, 21] and step=2, but the range is not divisible by `step`. It will be replaced by [2, 20].\n",
      "\n",
      "C:\\Users\\ondra\\AppData\\Roaming\\Python\\Python313\\site-packages\\optuna\\distributions.py:699: UserWarning:\n",
      "\n",
      "The distribution is specified by [100, 601] and step=50, but the range is not divisible by `step`. It will be replaced by [100, 600].\n",
      "\n",
      "C:\\Users\\ondra\\AppData\\Roaming\\Python\\Python313\\site-packages\\optuna\\distributions.py:699: UserWarning:\n",
      "\n",
      "The distribution is specified by [10, 61] and step=5, but the range is not divisible by `step`. It will be replaced by [10, 60].\n",
      "\n",
      "C:\\Users\\ondra\\AppData\\Roaming\\Python\\Python313\\site-packages\\optuna\\distributions.py:699: UserWarning:\n",
      "\n",
      "The distribution is specified by [2, 21] and step=2, but the range is not divisible by `step`. It will be replaced by [2, 20].\n",
      "\n",
      "[I 2025-05-26 14:06:53,649] Trial 3 finished with value: 25.666668231430553 and parameters: {'n_estimators': 100, 'max_depth': 15, 'min_samples_split': 10, 'min_samples_leaf': 15, 'max_features': 'log2'}. Best is trial 3 with value: 25.666668231430553.\n",
      "C:\\Users\\ondra\\AppData\\Roaming\\Python\\Python313\\site-packages\\optuna\\distributions.py:699: UserWarning:\n",
      "\n",
      "The distribution is specified by [100, 601] and step=50, but the range is not divisible by `step`. It will be replaced by [100, 600].\n",
      "\n",
      "C:\\Users\\ondra\\AppData\\Roaming\\Python\\Python313\\site-packages\\optuna\\distributions.py:699: UserWarning:\n",
      "\n",
      "The distribution is specified by [10, 61] and step=5, but the range is not divisible by `step`. It will be replaced by [10, 60].\n",
      "\n",
      "C:\\Users\\ondra\\AppData\\Roaming\\Python\\Python313\\site-packages\\optuna\\distributions.py:699: UserWarning:\n",
      "\n",
      "The distribution is specified by [2, 21] and step=2, but the range is not divisible by `step`. It will be replaced by [2, 20].\n",
      "\n",
      "[I 2025-05-26 14:07:44,197] Trial 2 finished with value: 28.316205532608826 and parameters: {'n_estimators': 400, 'max_depth': 10, 'min_samples_split': 14, 'min_samples_leaf': 17, 'max_features': 'log2'}. Best is trial 3 with value: 25.666668231430553.\n",
      "C:\\Users\\ondra\\AppData\\Roaming\\Python\\Python313\\site-packages\\optuna\\distributions.py:699: UserWarning:\n",
      "\n",
      "The distribution is specified by [100, 601] and step=50, but the range is not divisible by `step`. It will be replaced by [100, 600].\n",
      "\n",
      "C:\\Users\\ondra\\AppData\\Roaming\\Python\\Python313\\site-packages\\optuna\\distributions.py:699: UserWarning:\n",
      "\n",
      "The distribution is specified by [10, 61] and step=5, but the range is not divisible by `step`. It will be replaced by [10, 60].\n",
      "\n",
      "C:\\Users\\ondra\\AppData\\Roaming\\Python\\Python313\\site-packages\\optuna\\distributions.py:699: UserWarning:\n",
      "\n",
      "The distribution is specified by [2, 21] and step=2, but the range is not divisible by `step`. It will be replaced by [2, 20].\n",
      "\n",
      "[I 2025-05-26 14:08:22,664] Trial 7 finished with value: 24.455163282644346 and parameters: {'n_estimators': 400, 'max_depth': 35, 'min_samples_split': 6, 'min_samples_leaf': 13, 'max_features': 'sqrt'}. Best is trial 7 with value: 24.455163282644346.\n",
      "C:\\Users\\ondra\\AppData\\Roaming\\Python\\Python313\\site-packages\\optuna\\distributions.py:699: UserWarning:\n",
      "\n",
      "The distribution is specified by [100, 601] and step=50, but the range is not divisible by `step`. It will be replaced by [100, 600].\n",
      "\n",
      "C:\\Users\\ondra\\AppData\\Roaming\\Python\\Python313\\site-packages\\optuna\\distributions.py:699: UserWarning:\n",
      "\n",
      "The distribution is specified by [10, 61] and step=5, but the range is not divisible by `step`. It will be replaced by [10, 60].\n",
      "\n",
      "C:\\Users\\ondra\\AppData\\Roaming\\Python\\Python313\\site-packages\\optuna\\distributions.py:699: UserWarning:\n",
      "\n",
      "The distribution is specified by [2, 21] and step=2, but the range is not divisible by `step`. It will be replaced by [2, 20].\n",
      "\n",
      "[I 2025-05-26 14:08:51,423] Trial 8 finished with value: 23.479804248466152 and parameters: {'n_estimators': 300, 'max_depth': 45, 'min_samples_split': 2, 'min_samples_leaf': 7, 'max_features': 'sqrt'}. Best is trial 8 with value: 23.479804248466152.\n",
      "C:\\Users\\ondra\\AppData\\Roaming\\Python\\Python313\\site-packages\\optuna\\distributions.py:699: UserWarning:\n",
      "\n",
      "The distribution is specified by [100, 601] and step=50, but the range is not divisible by `step`. It will be replaced by [100, 600].\n",
      "\n",
      "C:\\Users\\ondra\\AppData\\Roaming\\Python\\Python313\\site-packages\\optuna\\distributions.py:699: UserWarning:\n",
      "\n",
      "The distribution is specified by [10, 61] and step=5, but the range is not divisible by `step`. It will be replaced by [10, 60].\n",
      "\n",
      "C:\\Users\\ondra\\AppData\\Roaming\\Python\\Python313\\site-packages\\optuna\\distributions.py:699: UserWarning:\n",
      "\n",
      "The distribution is specified by [2, 21] and step=2, but the range is not divisible by `step`. It will be replaced by [2, 20].\n",
      "\n",
      "[I 2025-05-26 14:09:01,097] Trial 6 finished with value: 24.44564378307 and parameters: {'n_estimators': 450, 'max_depth': 45, 'min_samples_split': 14, 'min_samples_leaf': 13, 'max_features': 'log2'}. Best is trial 8 with value: 23.479804248466152.\n",
      "C:\\Users\\ondra\\AppData\\Roaming\\Python\\Python313\\site-packages\\optuna\\distributions.py:699: UserWarning:\n",
      "\n",
      "The distribution is specified by [100, 601] and step=50, but the range is not divisible by `step`. It will be replaced by [100, 600].\n",
      "\n",
      "C:\\Users\\ondra\\AppData\\Roaming\\Python\\Python313\\site-packages\\optuna\\distributions.py:699: UserWarning:\n",
      "\n",
      "The distribution is specified by [10, 61] and step=5, but the range is not divisible by `step`. It will be replaced by [10, 60].\n",
      "\n",
      "C:\\Users\\ondra\\AppData\\Roaming\\Python\\Python313\\site-packages\\optuna\\distributions.py:699: UserWarning:\n",
      "\n",
      "The distribution is specified by [2, 21] and step=2, but the range is not divisible by `step`. It will be replaced by [2, 20].\n",
      "\n",
      "[I 2025-05-26 14:09:09,093] Trial 4 finished with value: 23.826291606703244 and parameters: {'n_estimators': 450, 'max_depth': 45, 'min_samples_split': 16, 'min_samples_leaf': 9, 'max_features': 'sqrt'}. Best is trial 8 with value: 23.479804248466152.\n",
      "C:\\Users\\ondra\\AppData\\Roaming\\Python\\Python313\\site-packages\\optuna\\distributions.py:699: UserWarning:\n",
      "\n",
      "The distribution is specified by [100, 601] and step=50, but the range is not divisible by `step`. It will be replaced by [100, 600].\n",
      "\n",
      "C:\\Users\\ondra\\AppData\\Roaming\\Python\\Python313\\site-packages\\optuna\\distributions.py:699: UserWarning:\n",
      "\n",
      "The distribution is specified by [10, 61] and step=5, but the range is not divisible by `step`. It will be replaced by [10, 60].\n",
      "\n",
      "C:\\Users\\ondra\\AppData\\Roaming\\Python\\Python313\\site-packages\\optuna\\distributions.py:699: UserWarning:\n",
      "\n",
      "The distribution is specified by [2, 21] and step=2, but the range is not divisible by `step`. It will be replaced by [2, 20].\n",
      "\n",
      "[I 2025-05-26 14:09:28,951] Trial 0 finished with value: 21.413862450560583 and parameters: {'n_estimators': 300, 'max_depth': 35, 'min_samples_split': 8, 'min_samples_leaf': 13, 'max_features': None}. Best is trial 0 with value: 21.413862450560583.\n",
      "C:\\Users\\ondra\\AppData\\Roaming\\Python\\Python313\\site-packages\\optuna\\distributions.py:699: UserWarning:\n",
      "\n",
      "The distribution is specified by [100, 601] and step=50, but the range is not divisible by `step`. It will be replaced by [100, 600].\n",
      "\n",
      "C:\\Users\\ondra\\AppData\\Roaming\\Python\\Python313\\site-packages\\optuna\\distributions.py:699: UserWarning:\n",
      "\n",
      "The distribution is specified by [10, 61] and step=5, but the range is not divisible by `step`. It will be replaced by [10, 60].\n",
      "\n",
      "C:\\Users\\ondra\\AppData\\Roaming\\Python\\Python313\\site-packages\\optuna\\distributions.py:699: UserWarning:\n",
      "\n",
      "The distribution is specified by [2, 21] and step=2, but the range is not divisible by `step`. It will be replaced by [2, 20].\n",
      "\n",
      "[I 2025-05-26 14:09:49,020] Trial 5 finished with value: 22.861747987143637 and parameters: {'n_estimators': 600, 'max_depth': 55, 'min_samples_split': 16, 'min_samples_leaf': 3, 'max_features': 'sqrt'}. Best is trial 0 with value: 21.413862450560583.\n",
      "C:\\Users\\ondra\\AppData\\Roaming\\Python\\Python313\\site-packages\\optuna\\distributions.py:699: UserWarning:\n",
      "\n",
      "The distribution is specified by [100, 601] and step=50, but the range is not divisible by `step`. It will be replaced by [100, 600].\n",
      "\n",
      "C:\\Users\\ondra\\AppData\\Roaming\\Python\\Python313\\site-packages\\optuna\\distributions.py:699: UserWarning:\n",
      "\n",
      "The distribution is specified by [10, 61] and step=5, but the range is not divisible by `step`. It will be replaced by [10, 60].\n",
      "\n",
      "C:\\Users\\ondra\\AppData\\Roaming\\Python\\Python313\\site-packages\\optuna\\distributions.py:699: UserWarning:\n",
      "\n",
      "The distribution is specified by [2, 21] and step=2, but the range is not divisible by `step`. It will be replaced by [2, 20].\n",
      "\n",
      "[I 2025-05-26 14:09:54,636] Trial 10 finished with value: 23.503511475981036 and parameters: {'n_estimators': 200, 'max_depth': 55, 'min_samples_split': 14, 'min_samples_leaf': 7, 'max_features': 'log2'}. Best is trial 0 with value: 21.413862450560583.\n",
      "C:\\Users\\ondra\\AppData\\Roaming\\Python\\Python313\\site-packages\\optuna\\distributions.py:699: UserWarning:\n",
      "\n",
      "The distribution is specified by [100, 601] and step=50, but the range is not divisible by `step`. It will be replaced by [100, 600].\n",
      "\n",
      "C:\\Users\\ondra\\AppData\\Roaming\\Python\\Python313\\site-packages\\optuna\\distributions.py:699: UserWarning:\n",
      "\n",
      "The distribution is specified by [10, 61] and step=5, but the range is not divisible by `step`. It will be replaced by [10, 60].\n",
      "\n",
      "C:\\Users\\ondra\\AppData\\Roaming\\Python\\Python313\\site-packages\\optuna\\distributions.py:699: UserWarning:\n",
      "\n",
      "The distribution is specified by [2, 21] and step=2, but the range is not divisible by `step`. It will be replaced by [2, 20].\n",
      "\n",
      "[I 2025-05-26 14:10:27,668] Trial 1 finished with value: 22.401158756685636 and parameters: {'n_estimators': 600, 'max_depth': 35, 'min_samples_split': 6, 'min_samples_leaf': 3, 'max_features': 'log2'}. Best is trial 0 with value: 21.413862450560583.\n",
      "C:\\Users\\ondra\\AppData\\Roaming\\Python\\Python313\\site-packages\\optuna\\distributions.py:699: UserWarning:\n",
      "\n",
      "The distribution is specified by [100, 601] and step=50, but the range is not divisible by `step`. It will be replaced by [100, 600].\n",
      "\n",
      "C:\\Users\\ondra\\AppData\\Roaming\\Python\\Python313\\site-packages\\optuna\\distributions.py:699: UserWarning:\n",
      "\n",
      "The distribution is specified by [10, 61] and step=5, but the range is not divisible by `step`. It will be replaced by [10, 60].\n",
      "\n",
      "C:\\Users\\ondra\\AppData\\Roaming\\Python\\Python313\\site-packages\\optuna\\distributions.py:699: UserWarning:\n",
      "\n",
      "The distribution is specified by [2, 21] and step=2, but the range is not divisible by `step`. It will be replaced by [2, 20].\n",
      "\n",
      "[I 2025-05-26 14:11:32,194] Trial 12 finished with value: 28.401909293553416 and parameters: {'n_estimators': 500, 'max_depth': 10, 'min_samples_split': 6, 'min_samples_leaf': 21, 'max_features': 'sqrt'}. Best is trial 0 with value: 21.413862450560583.\n",
      "C:\\Users\\ondra\\AppData\\Roaming\\Python\\Python313\\site-packages\\optuna\\distributions.py:699: UserWarning:\n",
      "\n",
      "The distribution is specified by [100, 601] and step=50, but the range is not divisible by `step`. It will be replaced by [100, 600].\n",
      "\n",
      "C:\\Users\\ondra\\AppData\\Roaming\\Python\\Python313\\site-packages\\optuna\\distributions.py:699: UserWarning:\n",
      "\n",
      "The distribution is specified by [10, 61] and step=5, but the range is not divisible by `step`. It will be replaced by [10, 60].\n",
      "\n",
      "C:\\Users\\ondra\\AppData\\Roaming\\Python\\Python313\\site-packages\\optuna\\distributions.py:699: UserWarning:\n",
      "\n",
      "The distribution is specified by [2, 21] and step=2, but the range is not divisible by `step`. It will be replaced by [2, 20].\n",
      "\n",
      "[I 2025-05-26 14:11:39,274] Trial 15 finished with value: 28.360102931740343 and parameters: {'n_estimators': 350, 'max_depth': 10, 'min_samples_split': 4, 'min_samples_leaf': 15, 'max_features': 'sqrt'}. Best is trial 0 with value: 21.413862450560583.\n",
      "C:\\Users\\ondra\\AppData\\Roaming\\Python\\Python313\\site-packages\\optuna\\distributions.py:699: UserWarning:\n",
      "\n",
      "The distribution is specified by [100, 601] and step=50, but the range is not divisible by `step`. It will be replaced by [100, 600].\n",
      "\n",
      "C:\\Users\\ondra\\AppData\\Roaming\\Python\\Python313\\site-packages\\optuna\\distributions.py:699: UserWarning:\n",
      "\n",
      "The distribution is specified by [10, 61] and step=5, but the range is not divisible by `step`. It will be replaced by [10, 60].\n",
      "\n",
      "C:\\Users\\ondra\\AppData\\Roaming\\Python\\Python313\\site-packages\\optuna\\distributions.py:699: UserWarning:\n",
      "\n",
      "The distribution is specified by [2, 21] and step=2, but the range is not divisible by `step`. It will be replaced by [2, 20].\n",
      "\n",
      "[I 2025-05-26 14:11:50,922] Trial 9 finished with value: 22.617285822632248 and parameters: {'n_estimators': 550, 'max_depth': 35, 'min_samples_split': 12, 'min_samples_leaf': 3, 'max_features': 'log2'}. Best is trial 0 with value: 21.413862450560583.\n",
      "C:\\Users\\ondra\\AppData\\Roaming\\Python\\Python313\\site-packages\\optuna\\distributions.py:699: UserWarning:\n",
      "\n",
      "The distribution is specified by [100, 601] and step=50, but the range is not divisible by `step`. It will be replaced by [100, 600].\n",
      "\n",
      "C:\\Users\\ondra\\AppData\\Roaming\\Python\\Python313\\site-packages\\optuna\\distributions.py:699: UserWarning:\n",
      "\n",
      "The distribution is specified by [10, 61] and step=5, but the range is not divisible by `step`. It will be replaced by [10, 60].\n",
      "\n",
      "C:\\Users\\ondra\\AppData\\Roaming\\Python\\Python313\\site-packages\\optuna\\distributions.py:699: UserWarning:\n",
      "\n",
      "The distribution is specified by [2, 21] and step=2, but the range is not divisible by `step`. It will be replaced by [2, 20].\n",
      "\n",
      "[I 2025-05-26 14:11:54,236] Trial 16 finished with value: 25.185824494981894 and parameters: {'n_estimators': 300, 'max_depth': 15, 'min_samples_split': 20, 'min_samples_leaf': 9, 'max_features': 'sqrt'}. Best is trial 0 with value: 21.413862450560583.\n",
      "C:\\Users\\ondra\\AppData\\Roaming\\Python\\Python313\\site-packages\\optuna\\distributions.py:699: UserWarning:\n",
      "\n",
      "The distribution is specified by [100, 601] and step=50, but the range is not divisible by `step`. It will be replaced by [100, 600].\n",
      "\n",
      "C:\\Users\\ondra\\AppData\\Roaming\\Python\\Python313\\site-packages\\optuna\\distributions.py:699: UserWarning:\n",
      "\n",
      "The distribution is specified by [10, 61] and step=5, but the range is not divisible by `step`. It will be replaced by [10, 60].\n",
      "\n",
      "C:\\Users\\ondra\\AppData\\Roaming\\Python\\Python313\\site-packages\\optuna\\distributions.py:699: UserWarning:\n",
      "\n",
      "The distribution is specified by [2, 21] and step=2, but the range is not divisible by `step`. It will be replaced by [2, 20].\n",
      "\n",
      "[I 2025-05-26 14:11:56,482] Trial 14 finished with value: 28.200338696521893 and parameters: {'n_estimators': 500, 'max_depth': 10, 'min_samples_split': 10, 'min_samples_leaf': 9, 'max_features': 'sqrt'}. Best is trial 0 with value: 21.413862450560583.\n",
      "C:\\Users\\ondra\\AppData\\Roaming\\Python\\Python313\\site-packages\\optuna\\distributions.py:699: UserWarning:\n",
      "\n",
      "The distribution is specified by [100, 601] and step=50, but the range is not divisible by `step`. It will be replaced by [100, 600].\n",
      "\n",
      "C:\\Users\\ondra\\AppData\\Roaming\\Python\\Python313\\site-packages\\optuna\\distributions.py:699: UserWarning:\n",
      "\n",
      "The distribution is specified by [10, 61] and step=5, but the range is not divisible by `step`. It will be replaced by [10, 60].\n",
      "\n",
      "C:\\Users\\ondra\\AppData\\Roaming\\Python\\Python313\\site-packages\\optuna\\distributions.py:699: UserWarning:\n",
      "\n",
      "The distribution is specified by [2, 21] and step=2, but the range is not divisible by `step`. It will be replaced by [2, 20].\n",
      "\n",
      "[I 2025-05-26 14:12:06,731] Trial 11 finished with value: 24.54564523884517 and parameters: {'n_estimators': 500, 'max_depth': 20, 'min_samples_split': 2, 'min_samples_leaf': 13, 'max_features': 'sqrt'}. Best is trial 0 with value: 21.413862450560583.\n",
      "C:\\Users\\ondra\\AppData\\Roaming\\Python\\Python313\\site-packages\\optuna\\distributions.py:699: UserWarning:\n",
      "\n",
      "The distribution is specified by [100, 601] and step=50, but the range is not divisible by `step`. It will be replaced by [100, 600].\n",
      "\n",
      "C:\\Users\\ondra\\AppData\\Roaming\\Python\\Python313\\site-packages\\optuna\\distributions.py:699: UserWarning:\n",
      "\n",
      "The distribution is specified by [10, 61] and step=5, but the range is not divisible by `step`. It will be replaced by [10, 60].\n",
      "\n",
      "C:\\Users\\ondra\\AppData\\Roaming\\Python\\Python313\\site-packages\\optuna\\distributions.py:699: UserWarning:\n",
      "\n",
      "The distribution is specified by [2, 21] and step=2, but the range is not divisible by `step`. It will be replaced by [2, 20].\n",
      "\n",
      "[I 2025-05-26 14:13:43,618] Trial 17 finished with value: 22.350547682802233 and parameters: {'n_estimators': 250, 'max_depth': 25, 'min_samples_split': 8, 'min_samples_leaf': 21, 'max_features': None}. Best is trial 0 with value: 21.413862450560583.\n",
      "C:\\Users\\ondra\\AppData\\Roaming\\Python\\Python313\\site-packages\\optuna\\distributions.py:699: UserWarning:\n",
      "\n",
      "The distribution is specified by [100, 601] and step=50, but the range is not divisible by `step`. It will be replaced by [100, 600].\n",
      "\n",
      "C:\\Users\\ondra\\AppData\\Roaming\\Python\\Python313\\site-packages\\optuna\\distributions.py:699: UserWarning:\n",
      "\n",
      "The distribution is specified by [10, 61] and step=5, but the range is not divisible by `step`. It will be replaced by [10, 60].\n",
      "\n",
      "C:\\Users\\ondra\\AppData\\Roaming\\Python\\Python313\\site-packages\\optuna\\distributions.py:699: UserWarning:\n",
      "\n",
      "The distribution is specified by [2, 21] and step=2, but the range is not divisible by `step`. It will be replaced by [2, 20].\n",
      "\n",
      "[I 2025-05-26 14:14:25,347] Trial 13 finished with value: 27.40015102438397 and parameters: {'n_estimators': 600, 'max_depth': 10, 'min_samples_split': 12, 'min_samples_leaf': 3, 'max_features': None}. Best is trial 0 with value: 21.413862450560583.\n",
      "C:\\Users\\ondra\\AppData\\Roaming\\Python\\Python313\\site-packages\\optuna\\distributions.py:699: UserWarning:\n",
      "\n",
      "The distribution is specified by [100, 601] and step=50, but the range is not divisible by `step`. It will be replaced by [100, 600].\n",
      "\n",
      "C:\\Users\\ondra\\AppData\\Roaming\\Python\\Python313\\site-packages\\optuna\\distributions.py:699: UserWarning:\n",
      "\n",
      "The distribution is specified by [10, 61] and step=5, but the range is not divisible by `step`. It will be replaced by [10, 60].\n",
      "\n",
      "C:\\Users\\ondra\\AppData\\Roaming\\Python\\Python313\\site-packages\\optuna\\distributions.py:699: UserWarning:\n",
      "\n",
      "The distribution is specified by [2, 21] and step=2, but the range is not divisible by `step`. It will be replaced by [2, 20].\n",
      "\n",
      "[I 2025-05-26 14:15:31,036] Trial 21 finished with value: 19.565758811307482 and parameters: {'n_estimators': 200, 'max_depth': 25, 'min_samples_split': 8, 'min_samples_leaf': 1, 'max_features': None}. Best is trial 21 with value: 19.565758811307482.\n",
      "C:\\Users\\ondra\\AppData\\Roaming\\Python\\Python313\\site-packages\\optuna\\distributions.py:699: UserWarning:\n",
      "\n",
      "The distribution is specified by [100, 601] and step=50, but the range is not divisible by `step`. It will be replaced by [100, 600].\n",
      "\n",
      "C:\\Users\\ondra\\AppData\\Roaming\\Python\\Python313\\site-packages\\optuna\\distributions.py:699: UserWarning:\n",
      "\n",
      "The distribution is specified by [10, 61] and step=5, but the range is not divisible by `step`. It will be replaced by [10, 60].\n",
      "\n",
      "C:\\Users\\ondra\\AppData\\Roaming\\Python\\Python313\\site-packages\\optuna\\distributions.py:699: UserWarning:\n",
      "\n",
      "The distribution is specified by [2, 21] and step=2, but the range is not divisible by `step`. It will be replaced by [2, 20].\n",
      "\n",
      "[I 2025-05-26 14:15:39,108] Trial 22 finished with value: 19.565758811307482 and parameters: {'n_estimators': 200, 'max_depth': 25, 'min_samples_split': 8, 'min_samples_leaf': 1, 'max_features': None}. Best is trial 21 with value: 19.565758811307482.\n",
      "C:\\Users\\ondra\\AppData\\Roaming\\Python\\Python313\\site-packages\\optuna\\distributions.py:699: UserWarning:\n",
      "\n",
      "The distribution is specified by [100, 601] and step=50, but the range is not divisible by `step`. It will be replaced by [100, 600].\n",
      "\n",
      "C:\\Users\\ondra\\AppData\\Roaming\\Python\\Python313\\site-packages\\optuna\\distributions.py:699: UserWarning:\n",
      "\n",
      "The distribution is specified by [10, 61] and step=5, but the range is not divisible by `step`. It will be replaced by [10, 60].\n",
      "\n",
      "C:\\Users\\ondra\\AppData\\Roaming\\Python\\Python313\\site-packages\\optuna\\distributions.py:699: UserWarning:\n",
      "\n",
      "The distribution is specified by [2, 21] and step=2, but the range is not divisible by `step`. It will be replaced by [2, 20].\n",
      "\n",
      "[I 2025-05-26 14:15:51,377] Trial 23 finished with value: 19.565758811307482 and parameters: {'n_estimators': 200, 'max_depth': 25, 'min_samples_split': 8, 'min_samples_leaf': 1, 'max_features': None}. Best is trial 21 with value: 19.565758811307482.\n",
      "C:\\Users\\ondra\\AppData\\Roaming\\Python\\Python313\\site-packages\\optuna\\distributions.py:699: UserWarning:\n",
      "\n",
      "The distribution is specified by [100, 601] and step=50, but the range is not divisible by `step`. It will be replaced by [100, 600].\n",
      "\n",
      "C:\\Users\\ondra\\AppData\\Roaming\\Python\\Python313\\site-packages\\optuna\\distributions.py:699: UserWarning:\n",
      "\n",
      "The distribution is specified by [10, 61] and step=5, but the range is not divisible by `step`. It will be replaced by [10, 60].\n",
      "\n",
      "C:\\Users\\ondra\\AppData\\Roaming\\Python\\Python313\\site-packages\\optuna\\distributions.py:699: UserWarning:\n",
      "\n",
      "The distribution is specified by [2, 21] and step=2, but the range is not divisible by `step`. It will be replaced by [2, 20].\n",
      "\n",
      "[I 2025-05-26 14:16:14,162] Trial 20 finished with value: 19.57251314077671 and parameters: {'n_estimators': 250, 'max_depth': 25, 'min_samples_split': 8, 'min_samples_leaf': 1, 'max_features': None}. Best is trial 21 with value: 19.565758811307482.\n",
      "C:\\Users\\ondra\\AppData\\Roaming\\Python\\Python313\\site-packages\\optuna\\distributions.py:699: UserWarning:\n",
      "\n",
      "The distribution is specified by [100, 601] and step=50, but the range is not divisible by `step`. It will be replaced by [100, 600].\n",
      "\n",
      "C:\\Users\\ondra\\AppData\\Roaming\\Python\\Python313\\site-packages\\optuna\\distributions.py:699: UserWarning:\n",
      "\n",
      "The distribution is specified by [10, 61] and step=5, but the range is not divisible by `step`. It will be replaced by [10, 60].\n",
      "\n",
      "C:\\Users\\ondra\\AppData\\Roaming\\Python\\Python313\\site-packages\\optuna\\distributions.py:699: UserWarning:\n",
      "\n",
      "The distribution is specified by [2, 21] and step=2, but the range is not divisible by `step`. It will be replaced by [2, 20].\n",
      "\n",
      "[I 2025-05-26 14:16:19,700] Trial 24 finished with value: 22.348286674245365 and parameters: {'n_estimators': 200, 'max_depth': 25, 'min_samples_split': 8, 'min_samples_leaf': 21, 'max_features': None}. Best is trial 21 with value: 19.565758811307482.\n",
      "C:\\Users\\ondra\\AppData\\Roaming\\Python\\Python313\\site-packages\\optuna\\distributions.py:699: UserWarning:\n",
      "\n",
      "The distribution is specified by [100, 601] and step=50, but the range is not divisible by `step`. It will be replaced by [100, 600].\n",
      "\n",
      "C:\\Users\\ondra\\AppData\\Roaming\\Python\\Python313\\site-packages\\optuna\\distributions.py:699: UserWarning:\n",
      "\n",
      "The distribution is specified by [10, 61] and step=5, but the range is not divisible by `step`. It will be replaced by [10, 60].\n",
      "\n",
      "C:\\Users\\ondra\\AppData\\Roaming\\Python\\Python313\\site-packages\\optuna\\distributions.py:699: UserWarning:\n",
      "\n",
      "The distribution is specified by [2, 21] and step=2, but the range is not divisible by `step`. It will be replaced by [2, 20].\n",
      "\n",
      "[I 2025-05-26 14:16:27,416] Trial 18 finished with value: 19.563336027523903 and parameters: {'n_estimators': 300, 'max_depth': 25, 'min_samples_split': 8, 'min_samples_leaf': 1, 'max_features': None}. Best is trial 18 with value: 19.563336027523903.\n",
      "C:\\Users\\ondra\\AppData\\Roaming\\Python\\Python313\\site-packages\\optuna\\distributions.py:699: UserWarning:\n",
      "\n",
      "The distribution is specified by [100, 601] and step=50, but the range is not divisible by `step`. It will be replaced by [100, 600].\n",
      "\n",
      "C:\\Users\\ondra\\AppData\\Roaming\\Python\\Python313\\site-packages\\optuna\\distributions.py:699: UserWarning:\n",
      "\n",
      "The distribution is specified by [10, 61] and step=5, but the range is not divisible by `step`. It will be replaced by [10, 60].\n",
      "\n",
      "C:\\Users\\ondra\\AppData\\Roaming\\Python\\Python313\\site-packages\\optuna\\distributions.py:699: UserWarning:\n",
      "\n",
      "The distribution is specified by [2, 21] and step=2, but the range is not divisible by `step`. It will be replaced by [2, 20].\n",
      "\n",
      "[I 2025-05-26 14:17:07,870] Trial 25 finished with value: 22.348286674245365 and parameters: {'n_estimators': 200, 'max_depth': 25, 'min_samples_split': 8, 'min_samples_leaf': 21, 'max_features': None}. Best is trial 18 with value: 19.563336027523903.\n",
      "C:\\Users\\ondra\\AppData\\Roaming\\Python\\Python313\\site-packages\\optuna\\distributions.py:699: UserWarning:\n",
      "\n",
      "The distribution is specified by [100, 601] and step=50, but the range is not divisible by `step`. It will be replaced by [100, 600].\n",
      "\n",
      "C:\\Users\\ondra\\AppData\\Roaming\\Python\\Python313\\site-packages\\optuna\\distributions.py:699: UserWarning:\n",
      "\n",
      "The distribution is specified by [10, 61] and step=5, but the range is not divisible by `step`. It will be replaced by [10, 60].\n",
      "\n",
      "C:\\Users\\ondra\\AppData\\Roaming\\Python\\Python313\\site-packages\\optuna\\distributions.py:699: UserWarning:\n",
      "\n",
      "The distribution is specified by [2, 21] and step=2, but the range is not divisible by `step`. It will be replaced by [2, 20].\n",
      "\n",
      "[I 2025-05-26 14:17:17,800] Trial 27 finished with value: 19.63789428625886 and parameters: {'n_estimators': 100, 'max_depth': 25, 'min_samples_split': 8, 'min_samples_leaf': 1, 'max_features': None}. Best is trial 18 with value: 19.563336027523903.\n",
      "C:\\Users\\ondra\\AppData\\Roaming\\Python\\Python313\\site-packages\\optuna\\distributions.py:699: UserWarning:\n",
      "\n",
      "The distribution is specified by [100, 601] and step=50, but the range is not divisible by `step`. It will be replaced by [100, 600].\n",
      "\n",
      "C:\\Users\\ondra\\AppData\\Roaming\\Python\\Python313\\site-packages\\optuna\\distributions.py:699: UserWarning:\n",
      "\n",
      "The distribution is specified by [10, 61] and step=5, but the range is not divisible by `step`. It will be replaced by [10, 60].\n",
      "\n",
      "C:\\Users\\ondra\\AppData\\Roaming\\Python\\Python313\\site-packages\\optuna\\distributions.py:699: UserWarning:\n",
      "\n",
      "The distribution is specified by [2, 21] and step=2, but the range is not divisible by `step`. It will be replaced by [2, 20].\n",
      "\n",
      "[I 2025-05-26 14:18:02,689] Trial 26 finished with value: 19.58785546679587 and parameters: {'n_estimators': 150, 'max_depth': 25, 'min_samples_split': 8, 'min_samples_leaf': 1, 'max_features': None}. Best is trial 18 with value: 19.563336027523903.\n",
      "C:\\Users\\ondra\\AppData\\Roaming\\Python\\Python313\\site-packages\\optuna\\distributions.py:699: UserWarning:\n",
      "\n",
      "The distribution is specified by [100, 601] and step=50, but the range is not divisible by `step`. It will be replaced by [100, 600].\n",
      "\n",
      "[I 2025-05-26 14:18:03,747] Trial 31 finished with value: 20.098928627020133 and parameters: {'n_estimators': 100, 'max_depth': 30, 'min_samples_split': 4, 'min_samples_leaf': 5, 'max_features': None}. Best is trial 18 with value: 19.563336027523903.\n",
      "C:\\Users\\ondra\\AppData\\Roaming\\Python\\Python313\\site-packages\\optuna\\distributions.py:699: UserWarning:\n",
      "\n",
      "The distribution is specified by [10, 61] and step=5, but the range is not divisible by `step`. It will be replaced by [10, 60].\n",
      "\n",
      "[I 2025-05-26 14:18:03,749] Trial 29 finished with value: 19.562886773853016 and parameters: {'n_estimators': 100, 'max_depth': 25, 'min_samples_split': 4, 'min_samples_leaf': 1, 'max_features': None}. Best is trial 29 with value: 19.562886773853016.\n",
      "C:\\Users\\ondra\\AppData\\Roaming\\Python\\Python313\\site-packages\\optuna\\distributions.py:699: UserWarning:\n",
      "\n",
      "The distribution is specified by [100, 601] and step=50, but the range is not divisible by `step`. It will be replaced by [100, 600].\n",
      "\n",
      "C:\\Users\\ondra\\AppData\\Roaming\\Python\\Python313\\site-packages\\optuna\\distributions.py:699: UserWarning:\n",
      "\n",
      "The distribution is specified by [2, 21] and step=2, but the range is not divisible by `step`. It will be replaced by [2, 20].\n",
      "\n",
      "C:\\Users\\ondra\\AppData\\Roaming\\Python\\Python313\\site-packages\\optuna\\distributions.py:699: UserWarning:\n",
      "\n",
      "The distribution is specified by [100, 601] and step=50, but the range is not divisible by `step`. It will be replaced by [100, 600].\n",
      "\n",
      "C:\\Users\\ondra\\AppData\\Roaming\\Python\\Python313\\site-packages\\optuna\\distributions.py:699: UserWarning:\n",
      "\n",
      "The distribution is specified by [10, 61] and step=5, but the range is not divisible by `step`. It will be replaced by [10, 60].\n",
      "\n",
      "C:\\Users\\ondra\\AppData\\Roaming\\Python\\Python313\\site-packages\\optuna\\distributions.py:699: UserWarning:\n",
      "\n",
      "The distribution is specified by [2, 21] and step=2, but the range is not divisible by `step`. It will be replaced by [2, 20].\n",
      "\n",
      "[I 2025-05-26 14:18:09,716] Trial 30 finished with value: 19.544614046467952 and parameters: {'n_estimators': 100, 'max_depth': 30, 'min_samples_split': 4, 'min_samples_leaf': 1, 'max_features': None}. Best is trial 30 with value: 19.544614046467952.\n",
      "C:\\Users\\ondra\\AppData\\Roaming\\Python\\Python313\\site-packages\\optuna\\distributions.py:699: UserWarning:\n",
      "\n",
      "The distribution is specified by [100, 601] and step=50, but the range is not divisible by `step`. It will be replaced by [100, 600].\n",
      "\n",
      "C:\\Users\\ondra\\AppData\\Roaming\\Python\\Python313\\site-packages\\optuna\\distributions.py:699: UserWarning:\n",
      "\n",
      "The distribution is specified by [10, 61] and step=5, but the range is not divisible by `step`. It will be replaced by [10, 60].\n",
      "\n",
      "C:\\Users\\ondra\\AppData\\Roaming\\Python\\Python313\\site-packages\\optuna\\distributions.py:699: UserWarning:\n",
      "\n",
      "The distribution is specified by [2, 21] and step=2, but the range is not divisible by `step`. It will be replaced by [2, 20].\n",
      "\n",
      "[I 2025-05-26 14:18:13,278] Trial 28 finished with value: 19.58785546679587 and parameters: {'n_estimators': 150, 'max_depth': 25, 'min_samples_split': 8, 'min_samples_leaf': 1, 'max_features': None}. Best is trial 30 with value: 19.544614046467952.\n",
      "C:\\Users\\ondra\\AppData\\Roaming\\Python\\Python313\\site-packages\\optuna\\distributions.py:699: UserWarning:\n",
      "\n",
      "The distribution is specified by [100, 601] and step=50, but the range is not divisible by `step`. It will be replaced by [100, 600].\n",
      "\n",
      "C:\\Users\\ondra\\AppData\\Roaming\\Python\\Python313\\site-packages\\optuna\\distributions.py:699: UserWarning:\n",
      "\n",
      "The distribution is specified by [10, 61] and step=5, but the range is not divisible by `step`. It will be replaced by [10, 60].\n",
      "\n",
      "C:\\Users\\ondra\\AppData\\Roaming\\Python\\Python313\\site-packages\\optuna\\distributions.py:699: UserWarning:\n",
      "\n",
      "The distribution is specified by [2, 21] and step=2, but the range is not divisible by `step`. It will be replaced by [2, 20].\n",
      "\n",
      "[I 2025-05-26 14:18:29,580] Trial 32 finished with value: 20.098928627020133 and parameters: {'n_estimators': 100, 'max_depth': 30, 'min_samples_split': 4, 'min_samples_leaf': 5, 'max_features': None}. Best is trial 30 with value: 19.544614046467952.\n",
      "C:\\Users\\ondra\\AppData\\Roaming\\Python\\Python313\\site-packages\\optuna\\distributions.py:699: UserWarning:\n",
      "\n",
      "The distribution is specified by [100, 601] and step=50, but the range is not divisible by `step`. It will be replaced by [100, 600].\n",
      "\n",
      "C:\\Users\\ondra\\AppData\\Roaming\\Python\\Python313\\site-packages\\optuna\\distributions.py:699: UserWarning:\n",
      "\n",
      "The distribution is specified by [10, 61] and step=5, but the range is not divisible by `step`. It will be replaced by [10, 60].\n",
      "\n",
      "C:\\Users\\ondra\\AppData\\Roaming\\Python\\Python313\\site-packages\\optuna\\distributions.py:699: UserWarning:\n",
      "\n",
      "The distribution is specified by [2, 21] and step=2, but the range is not divisible by `step`. It will be replaced by [2, 20].\n",
      "\n",
      "[I 2025-05-26 14:19:32,068] Trial 33 finished with value: 20.057101077625667 and parameters: {'n_estimators': 150, 'max_depth': 30, 'min_samples_split': 4, 'min_samples_leaf': 5, 'max_features': None}. Best is trial 30 with value: 19.544614046467952.\n",
      "C:\\Users\\ondra\\AppData\\Roaming\\Python\\Python313\\site-packages\\optuna\\distributions.py:699: UserWarning:\n",
      "\n",
      "The distribution is specified by [100, 601] and step=50, but the range is not divisible by `step`. It will be replaced by [100, 600].\n",
      "\n",
      "C:\\Users\\ondra\\AppData\\Roaming\\Python\\Python313\\site-packages\\optuna\\distributions.py:699: UserWarning:\n",
      "\n",
      "The distribution is specified by [10, 61] and step=5, but the range is not divisible by `step`. It will be replaced by [10, 60].\n",
      "\n",
      "C:\\Users\\ondra\\AppData\\Roaming\\Python\\Python313\\site-packages\\optuna\\distributions.py:699: UserWarning:\n",
      "\n",
      "The distribution is specified by [2, 21] and step=2, but the range is not divisible by `step`. It will be replaced by [2, 20].\n",
      "\n",
      "[I 2025-05-26 14:20:27,924] Trial 34 finished with value: 20.057101077625667 and parameters: {'n_estimators': 150, 'max_depth': 30, 'min_samples_split': 10, 'min_samples_leaf': 5, 'max_features': None}. Best is trial 30 with value: 19.544614046467952.\n",
      "C:\\Users\\ondra\\AppData\\Roaming\\Python\\Python313\\site-packages\\optuna\\distributions.py:699: UserWarning:\n",
      "\n",
      "The distribution is specified by [100, 601] and step=50, but the range is not divisible by `step`. It will be replaced by [100, 600].\n",
      "\n",
      "C:\\Users\\ondra\\AppData\\Roaming\\Python\\Python313\\site-packages\\optuna\\distributions.py:699: UserWarning:\n",
      "\n",
      "The distribution is specified by [10, 61] and step=5, but the range is not divisible by `step`. It will be replaced by [10, 60].\n",
      "\n",
      "C:\\Users\\ondra\\AppData\\Roaming\\Python\\Python313\\site-packages\\optuna\\distributions.py:699: UserWarning:\n",
      "\n",
      "The distribution is specified by [2, 21] and step=2, but the range is not divisible by `step`. It will be replaced by [2, 20].\n",
      "\n",
      "[I 2025-05-26 14:20:32,962] Trial 35 finished with value: 20.057101077625667 and parameters: {'n_estimators': 150, 'max_depth': 30, 'min_samples_split': 4, 'min_samples_leaf': 5, 'max_features': None}. Best is trial 30 with value: 19.544614046467952.\n",
      "C:\\Users\\ondra\\AppData\\Roaming\\Python\\Python313\\site-packages\\optuna\\distributions.py:699: UserWarning:\n",
      "\n",
      "The distribution is specified by [100, 601] and step=50, but the range is not divisible by `step`. It will be replaced by [100, 600].\n",
      "\n",
      "C:\\Users\\ondra\\AppData\\Roaming\\Python\\Python313\\site-packages\\optuna\\distributions.py:699: UserWarning:\n",
      "\n",
      "The distribution is specified by [10, 61] and step=5, but the range is not divisible by `step`. It will be replaced by [10, 60].\n",
      "\n",
      "C:\\Users\\ondra\\AppData\\Roaming\\Python\\Python313\\site-packages\\optuna\\distributions.py:699: UserWarning:\n",
      "\n",
      "The distribution is specified by [2, 21] and step=2, but the range is not divisible by `step`. It will be replaced by [2, 20].\n",
      "\n",
      "[I 2025-05-26 14:20:41,584] Trial 37 finished with value: 20.056269730477386 and parameters: {'n_estimators': 150, 'max_depth': 40, 'min_samples_split': 4, 'min_samples_leaf': 5, 'max_features': None}. Best is trial 30 with value: 19.544614046467952.\n",
      "[I 2025-05-26 14:20:41,586] Trial 36 finished with value: 20.057101077625667 and parameters: {'n_estimators': 150, 'max_depth': 30, 'min_samples_split': 4, 'min_samples_leaf': 5, 'max_features': None}. Best is trial 30 with value: 19.544614046467952.\n",
      "C:\\Users\\ondra\\AppData\\Roaming\\Python\\Python313\\site-packages\\optuna\\distributions.py:699: UserWarning:\n",
      "\n",
      "The distribution is specified by [100, 601] and step=50, but the range is not divisible by `step`. It will be replaced by [100, 600].\n",
      "\n",
      "C:\\Users\\ondra\\AppData\\Roaming\\Python\\Python313\\site-packages\\optuna\\distributions.py:699: UserWarning:\n",
      "\n",
      "The distribution is specified by [10, 61] and step=5, but the range is not divisible by `step`. It will be replaced by [10, 60].\n",
      "\n",
      "C:\\Users\\ondra\\AppData\\Roaming\\Python\\Python313\\site-packages\\optuna\\distributions.py:699: UserWarning:\n",
      "\n",
      "The distribution is specified by [2, 21] and step=2, but the range is not divisible by `step`. It will be replaced by [2, 20].\n",
      "\n",
      "C:\\Users\\ondra\\AppData\\Roaming\\Python\\Python313\\site-packages\\optuna\\distributions.py:699: UserWarning:\n",
      "\n",
      "The distribution is specified by [2, 21] and step=2, but the range is not divisible by `step`. It will be replaced by [2, 20].\n",
      "\n",
      "[I 2025-05-26 14:20:46,794] Trial 38 finished with value: 20.057101077625667 and parameters: {'n_estimators': 150, 'max_depth': 30, 'min_samples_split': 4, 'min_samples_leaf': 5, 'max_features': None}. Best is trial 30 with value: 19.544614046467952.\n",
      "C:\\Users\\ondra\\AppData\\Roaming\\Python\\Python313\\site-packages\\optuna\\distributions.py:699: UserWarning:\n",
      "\n",
      "The distribution is specified by [100, 601] and step=50, but the range is not divisible by `step`. It will be replaced by [100, 600].\n",
      "\n",
      "C:\\Users\\ondra\\AppData\\Roaming\\Python\\Python313\\site-packages\\optuna\\distributions.py:699: UserWarning:\n",
      "\n",
      "The distribution is specified by [10, 61] and step=5, but the range is not divisible by `step`. It will be replaced by [10, 60].\n",
      "\n",
      "C:\\Users\\ondra\\AppData\\Roaming\\Python\\Python313\\site-packages\\optuna\\distributions.py:699: UserWarning:\n",
      "\n",
      "The distribution is specified by [2, 21] and step=2, but the range is not divisible by `step`. It will be replaced by [2, 20].\n",
      "\n",
      "[I 2025-05-26 14:20:57,556] Trial 39 finished with value: 20.056269730477386 and parameters: {'n_estimators': 150, 'max_depth': 40, 'min_samples_split': 4, 'min_samples_leaf': 5, 'max_features': None}. Best is trial 30 with value: 19.544614046467952.\n",
      "C:\\Users\\ondra\\AppData\\Roaming\\Python\\Python313\\site-packages\\optuna\\distributions.py:699: UserWarning:\n",
      "\n",
      "The distribution is specified by [100, 601] and step=50, but the range is not divisible by `step`. It will be replaced by [100, 600].\n",
      "\n",
      "C:\\Users\\ondra\\AppData\\Roaming\\Python\\Python313\\site-packages\\optuna\\distributions.py:699: UserWarning:\n",
      "\n",
      "The distribution is specified by [10, 61] and step=5, but the range is not divisible by `step`. It will be replaced by [10, 60].\n",
      "\n",
      "C:\\Users\\ondra\\AppData\\Roaming\\Python\\Python313\\site-packages\\optuna\\distributions.py:699: UserWarning:\n",
      "\n",
      "The distribution is specified by [2, 21] and step=2, but the range is not divisible by `step`. It will be replaced by [2, 20].\n",
      "\n",
      "[I 2025-05-26 14:21:20,422] Trial 19 finished with value: 19.610795934201686 and parameters: {'n_estimators': 600, 'max_depth': 30, 'min_samples_split': 10, 'min_samples_leaf': 1, 'max_features': None}. Best is trial 30 with value: 19.544614046467952.\n",
      "C:\\Users\\ondra\\AppData\\Roaming\\Python\\Python313\\site-packages\\optuna\\distributions.py:699: UserWarning:\n",
      "\n",
      "The distribution is specified by [100, 601] and step=50, but the range is not divisible by `step`. It will be replaced by [100, 600].\n",
      "\n",
      "C:\\Users\\ondra\\AppData\\Roaming\\Python\\Python313\\site-packages\\optuna\\distributions.py:699: UserWarning:\n",
      "\n",
      "The distribution is specified by [10, 61] and step=5, but the range is not divisible by `step`. It will be replaced by [10, 60].\n",
      "\n",
      "C:\\Users\\ondra\\AppData\\Roaming\\Python\\Python313\\site-packages\\optuna\\distributions.py:699: UserWarning:\n",
      "\n",
      "The distribution is specified by [2, 21] and step=2, but the range is not divisible by `step`. It will be replaced by [2, 20].\n",
      "\n",
      "[I 2025-05-26 14:22:06,852] Trial 40 finished with value: 19.682592545047285 and parameters: {'n_estimators': 150, 'max_depth': 40, 'min_samples_split': 6, 'min_samples_leaf': 3, 'max_features': None}. Best is trial 30 with value: 19.544614046467952.\n",
      "C:\\Users\\ondra\\AppData\\Roaming\\Python\\Python313\\site-packages\\optuna\\distributions.py:699: UserWarning:\n",
      "\n",
      "The distribution is specified by [100, 601] and step=50, but the range is not divisible by `step`. It will be replaced by [100, 600].\n",
      "\n",
      "C:\\Users\\ondra\\AppData\\Roaming\\Python\\Python313\\site-packages\\optuna\\distributions.py:699: UserWarning:\n",
      "\n",
      "The distribution is specified by [10, 61] and step=5, but the range is not divisible by `step`. It will be replaced by [10, 60].\n",
      "\n",
      "C:\\Users\\ondra\\AppData\\Roaming\\Python\\Python313\\site-packages\\optuna\\distributions.py:699: UserWarning:\n",
      "\n",
      "The distribution is specified by [2, 21] and step=2, but the range is not divisible by `step`. It will be replaced by [2, 20].\n",
      "\n",
      "[I 2025-05-26 14:22:29,928] Trial 45 finished with value: 22.82668724805331 and parameters: {'n_estimators': 250, 'max_depth': 20, 'min_samples_split': 6, 'min_samples_leaf': 3, 'max_features': 'log2'}. Best is trial 30 with value: 19.544614046467952.\n",
      "C:\\Users\\ondra\\AppData\\Roaming\\Python\\Python313\\site-packages\\optuna\\distributions.py:699: UserWarning:\n",
      "\n",
      "The distribution is specified by [100, 601] and step=50, but the range is not divisible by `step`. It will be replaced by [100, 600].\n",
      "\n",
      "C:\\Users\\ondra\\AppData\\Roaming\\Python\\Python313\\site-packages\\optuna\\distributions.py:699: UserWarning:\n",
      "\n",
      "The distribution is specified by [10, 61] and step=5, but the range is not divisible by `step`. It will be replaced by [10, 60].\n",
      "\n",
      "C:\\Users\\ondra\\AppData\\Roaming\\Python\\Python313\\site-packages\\optuna\\distributions.py:699: UserWarning:\n",
      "\n",
      "The distribution is specified by [2, 21] and step=2, but the range is not divisible by `step`. It will be replaced by [2, 20].\n",
      "\n",
      "[I 2025-05-26 14:22:41,103] Trial 46 finished with value: 22.82668724805331 and parameters: {'n_estimators': 250, 'max_depth': 20, 'min_samples_split': 6, 'min_samples_leaf': 3, 'max_features': 'log2'}. Best is trial 30 with value: 19.544614046467952.\n",
      "[I 2025-05-26 14:22:57,402] Trial 47 finished with value: 22.82668724805331 and parameters: {'n_estimators': 250, 'max_depth': 20, 'min_samples_split': 6, 'min_samples_leaf': 3, 'max_features': 'log2'}. Best is trial 30 with value: 19.544614046467952.\n",
      "[I 2025-05-26 14:23:31,682] Trial 48 finished with value: 22.82668724805331 and parameters: {'n_estimators': 250, 'max_depth': 20, 'min_samples_split': 6, 'min_samples_leaf': 3, 'max_features': 'log2'}. Best is trial 30 with value: 19.544614046467952.\n",
      "[I 2025-05-26 14:23:37,306] Trial 42 finished with value: 20.04192958789266 and parameters: {'n_estimators': 250, 'max_depth': 20, 'min_samples_split': 6, 'min_samples_leaf': 3, 'max_features': None}. Best is trial 30 with value: 19.544614046467952.\n",
      "[I 2025-05-26 14:23:40,840] Trial 41 finished with value: 19.673357579537534 and parameters: {'n_estimators': 250, 'max_depth': 40, 'min_samples_split': 6, 'min_samples_leaf': 3, 'max_features': None}. Best is trial 30 with value: 19.544614046467952.\n",
      "[I 2025-05-26 14:23:41,548] Trial 43 finished with value: 20.04192958789266 and parameters: {'n_estimators': 250, 'max_depth': 20, 'min_samples_split': 6, 'min_samples_leaf': 3, 'max_features': None}. Best is trial 30 with value: 19.544614046467952.\n",
      "[I 2025-05-26 14:23:42,489] Trial 44 finished with value: 20.04192958789266 and parameters: {'n_estimators': 250, 'max_depth': 20, 'min_samples_split': 6, 'min_samples_leaf': 3, 'max_features': None}. Best is trial 30 with value: 19.544614046467952.\n",
      "[I 2025-05-26 14:24:04,237] Trial 49 finished with value: 20.020624578227267 and parameters: {'n_estimators': 350, 'max_depth': 20, 'min_samples_split': 2, 'min_samples_leaf': 3, 'max_features': None}. Best is trial 30 with value: 19.544614046467952.\n"
     ]
    }
   ],
   "source": [
    "study = optuna.create_study(direction='minimize')\n",
    "study.optimize(objective,n_trials=50, n_jobs=-1)"
   ]
  },
  {
   "cell_type": "code",
   "execution_count": 50,
   "id": "b0e7c759",
   "metadata": {},
   "outputs": [
    {
     "name": "stdout",
     "output_type": "stream",
     "text": [
      "{'n_estimators': 100, 'max_depth': 30, 'min_samples_split': 4, 'min_samples_leaf': 1, 'max_features': None}\n",
      "19.544614046467952\n"
     ]
    }
   ],
   "source": [
    "print(study.best_params)\n",
    "print(study.best_value)"
   ]
  },
  {
   "cell_type": "code",
   "execution_count": 51,
   "id": "36f2819a",
   "metadata": {},
   "outputs": [
    {
     "data": {
      "application/vnd.plotly.v1+json": {
       "config": {
        "plotlyServerURL": "https://plot.ly"
       },
       "data": [
        {
         "mode": "markers",
         "name": "Objective Value",
         "type": "scatter",
         "x": [
          0,
          1,
          2,
          3,
          4,
          5,
          6,
          7,
          8,
          9,
          10,
          11,
          12,
          13,
          14,
          15,
          16,
          17,
          18,
          19,
          20,
          21,
          22,
          23,
          24,
          25,
          26,
          27,
          28,
          29,
          30,
          31,
          32,
          33,
          34,
          35,
          36,
          37,
          38,
          39,
          40,
          41,
          42,
          43,
          44,
          45,
          46,
          47,
          48,
          49
         ],
         "y": [
          21.413862450560583,
          22.401158756685636,
          28.316205532608826,
          25.666668231430553,
          23.826291606703244,
          22.861747987143637,
          24.44564378307,
          24.455163282644346,
          23.479804248466152,
          22.617285822632248,
          23.503511475981036,
          24.54564523884517,
          28.401909293553416,
          27.40015102438397,
          28.200338696521893,
          28.360102931740343,
          25.185824494981894,
          22.350547682802233,
          19.563336027523903,
          19.610795934201686,
          19.57251314077671,
          19.565758811307482,
          19.565758811307482,
          19.565758811307482,
          22.348286674245365,
          22.348286674245365,
          19.58785546679587,
          19.63789428625886,
          19.58785546679587,
          19.562886773853016,
          19.544614046467952,
          20.098928627020133,
          20.098928627020133,
          20.057101077625667,
          20.057101077625667,
          20.057101077625667,
          20.057101077625667,
          20.056269730477386,
          20.057101077625667,
          20.056269730477386,
          19.682592545047285,
          19.673357579537534,
          20.04192958789266,
          20.04192958789266,
          20.04192958789266,
          22.82668724805331,
          22.82668724805331,
          22.82668724805331,
          22.82668724805331,
          20.020624578227267
         ]
        },
        {
         "mode": "lines",
         "name": "Best Value",
         "type": "scatter",
         "x": [
          0,
          1,
          2,
          3,
          4,
          5,
          6,
          7,
          8,
          9,
          10,
          11,
          12,
          13,
          14,
          15,
          16,
          17,
          18,
          19,
          20,
          21,
          22,
          23,
          24,
          25,
          26,
          27,
          28,
          29,
          30,
          31,
          32,
          33,
          34,
          35,
          36,
          37,
          38,
          39,
          40,
          41,
          42,
          43,
          44,
          45,
          46,
          47,
          48,
          49
         ],
         "y": [
          21.413862450560583,
          21.413862450560583,
          21.413862450560583,
          21.413862450560583,
          21.413862450560583,
          21.413862450560583,
          21.413862450560583,
          21.413862450560583,
          21.413862450560583,
          21.413862450560583,
          21.413862450560583,
          21.413862450560583,
          21.413862450560583,
          21.413862450560583,
          21.413862450560583,
          21.413862450560583,
          21.413862450560583,
          21.413862450560583,
          19.563336027523903,
          19.563336027523903,
          19.563336027523903,
          19.563336027523903,
          19.563336027523903,
          19.563336027523903,
          19.563336027523903,
          19.563336027523903,
          19.563336027523903,
          19.563336027523903,
          19.563336027523903,
          19.562886773853016,
          19.544614046467952,
          19.544614046467952,
          19.544614046467952,
          19.544614046467952,
          19.544614046467952,
          19.544614046467952,
          19.544614046467952,
          19.544614046467952,
          19.544614046467952,
          19.544614046467952,
          19.544614046467952,
          19.544614046467952,
          19.544614046467952,
          19.544614046467952,
          19.544614046467952,
          19.544614046467952,
          19.544614046467952,
          19.544614046467952,
          19.544614046467952,
          19.544614046467952
         ]
        },
        {
         "marker": {
          "color": "#cccccc"
         },
         "mode": "markers",
         "name": "Infeasible Trial",
         "showlegend": false,
         "type": "scatter",
         "x": [],
         "y": []
        }
       ],
       "layout": {
        "template": {
         "data": {
          "bar": [
           {
            "error_x": {
             "color": "#2a3f5f"
            },
            "error_y": {
             "color": "#2a3f5f"
            },
            "marker": {
             "line": {
              "color": "#E5ECF6",
              "width": 0.5
             },
             "pattern": {
              "fillmode": "overlay",
              "size": 10,
              "solidity": 0.2
             }
            },
            "type": "bar"
           }
          ],
          "barpolar": [
           {
            "marker": {
             "line": {
              "color": "#E5ECF6",
              "width": 0.5
             },
             "pattern": {
              "fillmode": "overlay",
              "size": 10,
              "solidity": 0.2
             }
            },
            "type": "barpolar"
           }
          ],
          "carpet": [
           {
            "aaxis": {
             "endlinecolor": "#2a3f5f",
             "gridcolor": "white",
             "linecolor": "white",
             "minorgridcolor": "white",
             "startlinecolor": "#2a3f5f"
            },
            "baxis": {
             "endlinecolor": "#2a3f5f",
             "gridcolor": "white",
             "linecolor": "white",
             "minorgridcolor": "white",
             "startlinecolor": "#2a3f5f"
            },
            "type": "carpet"
           }
          ],
          "choropleth": [
           {
            "colorbar": {
             "outlinewidth": 0,
             "ticks": ""
            },
            "type": "choropleth"
           }
          ],
          "contour": [
           {
            "colorbar": {
             "outlinewidth": 0,
             "ticks": ""
            },
            "colorscale": [
             [
              0,
              "#0d0887"
             ],
             [
              0.1111111111111111,
              "#46039f"
             ],
             [
              0.2222222222222222,
              "#7201a8"
             ],
             [
              0.3333333333333333,
              "#9c179e"
             ],
             [
              0.4444444444444444,
              "#bd3786"
             ],
             [
              0.5555555555555556,
              "#d8576b"
             ],
             [
              0.6666666666666666,
              "#ed7953"
             ],
             [
              0.7777777777777778,
              "#fb9f3a"
             ],
             [
              0.8888888888888888,
              "#fdca26"
             ],
             [
              1,
              "#f0f921"
             ]
            ],
            "type": "contour"
           }
          ],
          "contourcarpet": [
           {
            "colorbar": {
             "outlinewidth": 0,
             "ticks": ""
            },
            "type": "contourcarpet"
           }
          ],
          "heatmap": [
           {
            "colorbar": {
             "outlinewidth": 0,
             "ticks": ""
            },
            "colorscale": [
             [
              0,
              "#0d0887"
             ],
             [
              0.1111111111111111,
              "#46039f"
             ],
             [
              0.2222222222222222,
              "#7201a8"
             ],
             [
              0.3333333333333333,
              "#9c179e"
             ],
             [
              0.4444444444444444,
              "#bd3786"
             ],
             [
              0.5555555555555556,
              "#d8576b"
             ],
             [
              0.6666666666666666,
              "#ed7953"
             ],
             [
              0.7777777777777778,
              "#fb9f3a"
             ],
             [
              0.8888888888888888,
              "#fdca26"
             ],
             [
              1,
              "#f0f921"
             ]
            ],
            "type": "heatmap"
           }
          ],
          "histogram": [
           {
            "marker": {
             "pattern": {
              "fillmode": "overlay",
              "size": 10,
              "solidity": 0.2
             }
            },
            "type": "histogram"
           }
          ],
          "histogram2d": [
           {
            "colorbar": {
             "outlinewidth": 0,
             "ticks": ""
            },
            "colorscale": [
             [
              0,
              "#0d0887"
             ],
             [
              0.1111111111111111,
              "#46039f"
             ],
             [
              0.2222222222222222,
              "#7201a8"
             ],
             [
              0.3333333333333333,
              "#9c179e"
             ],
             [
              0.4444444444444444,
              "#bd3786"
             ],
             [
              0.5555555555555556,
              "#d8576b"
             ],
             [
              0.6666666666666666,
              "#ed7953"
             ],
             [
              0.7777777777777778,
              "#fb9f3a"
             ],
             [
              0.8888888888888888,
              "#fdca26"
             ],
             [
              1,
              "#f0f921"
             ]
            ],
            "type": "histogram2d"
           }
          ],
          "histogram2dcontour": [
           {
            "colorbar": {
             "outlinewidth": 0,
             "ticks": ""
            },
            "colorscale": [
             [
              0,
              "#0d0887"
             ],
             [
              0.1111111111111111,
              "#46039f"
             ],
             [
              0.2222222222222222,
              "#7201a8"
             ],
             [
              0.3333333333333333,
              "#9c179e"
             ],
             [
              0.4444444444444444,
              "#bd3786"
             ],
             [
              0.5555555555555556,
              "#d8576b"
             ],
             [
              0.6666666666666666,
              "#ed7953"
             ],
             [
              0.7777777777777778,
              "#fb9f3a"
             ],
             [
              0.8888888888888888,
              "#fdca26"
             ],
             [
              1,
              "#f0f921"
             ]
            ],
            "type": "histogram2dcontour"
           }
          ],
          "mesh3d": [
           {
            "colorbar": {
             "outlinewidth": 0,
             "ticks": ""
            },
            "type": "mesh3d"
           }
          ],
          "parcoords": [
           {
            "line": {
             "colorbar": {
              "outlinewidth": 0,
              "ticks": ""
             }
            },
            "type": "parcoords"
           }
          ],
          "pie": [
           {
            "automargin": true,
            "type": "pie"
           }
          ],
          "scatter": [
           {
            "fillpattern": {
             "fillmode": "overlay",
             "size": 10,
             "solidity": 0.2
            },
            "type": "scatter"
           }
          ],
          "scatter3d": [
           {
            "line": {
             "colorbar": {
              "outlinewidth": 0,
              "ticks": ""
             }
            },
            "marker": {
             "colorbar": {
              "outlinewidth": 0,
              "ticks": ""
             }
            },
            "type": "scatter3d"
           }
          ],
          "scattercarpet": [
           {
            "marker": {
             "colorbar": {
              "outlinewidth": 0,
              "ticks": ""
             }
            },
            "type": "scattercarpet"
           }
          ],
          "scattergeo": [
           {
            "marker": {
             "colorbar": {
              "outlinewidth": 0,
              "ticks": ""
             }
            },
            "type": "scattergeo"
           }
          ],
          "scattergl": [
           {
            "marker": {
             "colorbar": {
              "outlinewidth": 0,
              "ticks": ""
             }
            },
            "type": "scattergl"
           }
          ],
          "scattermap": [
           {
            "marker": {
             "colorbar": {
              "outlinewidth": 0,
              "ticks": ""
             }
            },
            "type": "scattermap"
           }
          ],
          "scattermapbox": [
           {
            "marker": {
             "colorbar": {
              "outlinewidth": 0,
              "ticks": ""
             }
            },
            "type": "scattermapbox"
           }
          ],
          "scatterpolar": [
           {
            "marker": {
             "colorbar": {
              "outlinewidth": 0,
              "ticks": ""
             }
            },
            "type": "scatterpolar"
           }
          ],
          "scatterpolargl": [
           {
            "marker": {
             "colorbar": {
              "outlinewidth": 0,
              "ticks": ""
             }
            },
            "type": "scatterpolargl"
           }
          ],
          "scatterternary": [
           {
            "marker": {
             "colorbar": {
              "outlinewidth": 0,
              "ticks": ""
             }
            },
            "type": "scatterternary"
           }
          ],
          "surface": [
           {
            "colorbar": {
             "outlinewidth": 0,
             "ticks": ""
            },
            "colorscale": [
             [
              0,
              "#0d0887"
             ],
             [
              0.1111111111111111,
              "#46039f"
             ],
             [
              0.2222222222222222,
              "#7201a8"
             ],
             [
              0.3333333333333333,
              "#9c179e"
             ],
             [
              0.4444444444444444,
              "#bd3786"
             ],
             [
              0.5555555555555556,
              "#d8576b"
             ],
             [
              0.6666666666666666,
              "#ed7953"
             ],
             [
              0.7777777777777778,
              "#fb9f3a"
             ],
             [
              0.8888888888888888,
              "#fdca26"
             ],
             [
              1,
              "#f0f921"
             ]
            ],
            "type": "surface"
           }
          ],
          "table": [
           {
            "cells": {
             "fill": {
              "color": "#EBF0F8"
             },
             "line": {
              "color": "white"
             }
            },
            "header": {
             "fill": {
              "color": "#C8D4E3"
             },
             "line": {
              "color": "white"
             }
            },
            "type": "table"
           }
          ]
         },
         "layout": {
          "annotationdefaults": {
           "arrowcolor": "#2a3f5f",
           "arrowhead": 0,
           "arrowwidth": 1
          },
          "autotypenumbers": "strict",
          "coloraxis": {
           "colorbar": {
            "outlinewidth": 0,
            "ticks": ""
           }
          },
          "colorscale": {
           "diverging": [
            [
             0,
             "#8e0152"
            ],
            [
             0.1,
             "#c51b7d"
            ],
            [
             0.2,
             "#de77ae"
            ],
            [
             0.3,
             "#f1b6da"
            ],
            [
             0.4,
             "#fde0ef"
            ],
            [
             0.5,
             "#f7f7f7"
            ],
            [
             0.6,
             "#e6f5d0"
            ],
            [
             0.7,
             "#b8e186"
            ],
            [
             0.8,
             "#7fbc41"
            ],
            [
             0.9,
             "#4d9221"
            ],
            [
             1,
             "#276419"
            ]
           ],
           "sequential": [
            [
             0,
             "#0d0887"
            ],
            [
             0.1111111111111111,
             "#46039f"
            ],
            [
             0.2222222222222222,
             "#7201a8"
            ],
            [
             0.3333333333333333,
             "#9c179e"
            ],
            [
             0.4444444444444444,
             "#bd3786"
            ],
            [
             0.5555555555555556,
             "#d8576b"
            ],
            [
             0.6666666666666666,
             "#ed7953"
            ],
            [
             0.7777777777777778,
             "#fb9f3a"
            ],
            [
             0.8888888888888888,
             "#fdca26"
            ],
            [
             1,
             "#f0f921"
            ]
           ],
           "sequentialminus": [
            [
             0,
             "#0d0887"
            ],
            [
             0.1111111111111111,
             "#46039f"
            ],
            [
             0.2222222222222222,
             "#7201a8"
            ],
            [
             0.3333333333333333,
             "#9c179e"
            ],
            [
             0.4444444444444444,
             "#bd3786"
            ],
            [
             0.5555555555555556,
             "#d8576b"
            ],
            [
             0.6666666666666666,
             "#ed7953"
            ],
            [
             0.7777777777777778,
             "#fb9f3a"
            ],
            [
             0.8888888888888888,
             "#fdca26"
            ],
            [
             1,
             "#f0f921"
            ]
           ]
          },
          "colorway": [
           "#636efa",
           "#EF553B",
           "#00cc96",
           "#ab63fa",
           "#FFA15A",
           "#19d3f3",
           "#FF6692",
           "#B6E880",
           "#FF97FF",
           "#FECB52"
          ],
          "font": {
           "color": "#2a3f5f"
          },
          "geo": {
           "bgcolor": "white",
           "lakecolor": "white",
           "landcolor": "#E5ECF6",
           "showlakes": true,
           "showland": true,
           "subunitcolor": "white"
          },
          "hoverlabel": {
           "align": "left"
          },
          "hovermode": "closest",
          "mapbox": {
           "style": "light"
          },
          "paper_bgcolor": "white",
          "plot_bgcolor": "#E5ECF6",
          "polar": {
           "angularaxis": {
            "gridcolor": "white",
            "linecolor": "white",
            "ticks": ""
           },
           "bgcolor": "#E5ECF6",
           "radialaxis": {
            "gridcolor": "white",
            "linecolor": "white",
            "ticks": ""
           }
          },
          "scene": {
           "xaxis": {
            "backgroundcolor": "#E5ECF6",
            "gridcolor": "white",
            "gridwidth": 2,
            "linecolor": "white",
            "showbackground": true,
            "ticks": "",
            "zerolinecolor": "white"
           },
           "yaxis": {
            "backgroundcolor": "#E5ECF6",
            "gridcolor": "white",
            "gridwidth": 2,
            "linecolor": "white",
            "showbackground": true,
            "ticks": "",
            "zerolinecolor": "white"
           },
           "zaxis": {
            "backgroundcolor": "#E5ECF6",
            "gridcolor": "white",
            "gridwidth": 2,
            "linecolor": "white",
            "showbackground": true,
            "ticks": "",
            "zerolinecolor": "white"
           }
          },
          "shapedefaults": {
           "line": {
            "color": "#2a3f5f"
           }
          },
          "ternary": {
           "aaxis": {
            "gridcolor": "white",
            "linecolor": "white",
            "ticks": ""
           },
           "baxis": {
            "gridcolor": "white",
            "linecolor": "white",
            "ticks": ""
           },
           "bgcolor": "#E5ECF6",
           "caxis": {
            "gridcolor": "white",
            "linecolor": "white",
            "ticks": ""
           }
          },
          "title": {
           "x": 0.05
          },
          "xaxis": {
           "automargin": true,
           "gridcolor": "white",
           "linecolor": "white",
           "ticks": "",
           "title": {
            "standoff": 15
           },
           "zerolinecolor": "white",
           "zerolinewidth": 2
          },
          "yaxis": {
           "automargin": true,
           "gridcolor": "white",
           "linecolor": "white",
           "ticks": "",
           "title": {
            "standoff": 15
           },
           "zerolinecolor": "white",
           "zerolinewidth": 2
          }
         }
        },
        "title": {
         "text": "Optimization History Plot"
        },
        "xaxis": {
         "title": {
          "text": "Trial"
         }
        },
        "yaxis": {
         "title": {
          "text": "Objective Value"
         }
        }
       }
      }
     },
     "metadata": {},
     "output_type": "display_data"
    }
   ],
   "source": [
    "optuna.visualization.plot_optimization_history(study)"
   ]
  },
  {
   "cell_type": "code",
   "execution_count": 52,
   "id": "05b46c75",
   "metadata": {},
   "outputs": [
    {
     "data": {
      "application/vnd.plotly.v1+json": {
       "config": {
        "plotlyServerURL": "https://plot.ly"
       },
       "data": [
        {
         "dimensions": [
          {
           "label": "Objective Value",
           "range": [
            19.544614046467952,
            28.401909293553416
           ],
           "values": [
            21.413862450560583,
            22.401158756685636,
            28.316205532608826,
            25.666668231430553,
            23.826291606703244,
            22.861747987143637,
            24.44564378307,
            24.455163282644346,
            23.479804248466152,
            22.617285822632248,
            23.503511475981036,
            24.54564523884517,
            28.401909293553416,
            27.40015102438397,
            28.200338696521893,
            28.360102931740343,
            25.185824494981894,
            22.350547682802233,
            19.563336027523903,
            19.610795934201686,
            19.57251314077671,
            19.565758811307482,
            19.565758811307482,
            19.565758811307482,
            22.348286674245365,
            22.348286674245365,
            19.58785546679587,
            19.63789428625886,
            19.58785546679587,
            19.562886773853016,
            19.544614046467952,
            20.098928627020133,
            20.098928627020133,
            20.057101077625667,
            20.057101077625667,
            20.057101077625667,
            20.057101077625667,
            20.056269730477386,
            20.057101077625667,
            20.056269730477386,
            19.682592545047285,
            19.673357579537534,
            20.04192958789266,
            20.04192958789266,
            20.04192958789266,
            22.82668724805331,
            22.82668724805331,
            22.82668724805331,
            22.82668724805331,
            20.020624578227267
           ]
          },
          {
           "label": "max_depth",
           "range": [
            10,
            55
           ],
           "values": [
            35,
            35,
            10,
            15,
            45,
            55,
            45,
            35,
            45,
            35,
            55,
            20,
            10,
            10,
            10,
            10,
            15,
            25,
            25,
            30,
            25,
            25,
            25,
            25,
            25,
            25,
            25,
            25,
            25,
            25,
            30,
            30,
            30,
            30,
            30,
            30,
            30,
            40,
            30,
            40,
            40,
            40,
            20,
            20,
            20,
            20,
            20,
            20,
            20,
            20
           ]
          },
          {
           "label": "max_features",
           "range": [
            0,
            2
           ],
           "ticktext": [
            "None",
            "log2",
            "sqrt"
           ],
           "tickvals": [
            0,
            1,
            2
           ],
           "values": [
            0,
            1,
            1,
            1,
            2,
            2,
            1,
            2,
            2,
            1,
            1,
            2,
            2,
            0,
            2,
            2,
            2,
            0,
            0,
            0,
            0,
            0,
            0,
            0,
            0,
            0,
            0,
            0,
            0,
            0,
            0,
            0,
            0,
            0,
            0,
            0,
            0,
            0,
            0,
            0,
            0,
            0,
            0,
            0,
            0,
            1,
            1,
            1,
            1,
            0
           ]
          },
          {
           "label": "min_samples_leaf",
           "range": [
            1,
            21
           ],
           "values": [
            13,
            3,
            17,
            15,
            9,
            3,
            13,
            13,
            7,
            3,
            7,
            13,
            21,
            3,
            9,
            15,
            9,
            21,
            1,
            1,
            1,
            1,
            1,
            1,
            21,
            21,
            1,
            1,
            1,
            1,
            1,
            5,
            5,
            5,
            5,
            5,
            5,
            5,
            5,
            5,
            3,
            3,
            3,
            3,
            3,
            3,
            3,
            3,
            3,
            3
           ]
          },
          {
           "label": "min_samples_split",
           "range": [
            2,
            20
           ],
           "values": [
            8,
            6,
            14,
            10,
            16,
            16,
            14,
            6,
            2,
            12,
            14,
            2,
            6,
            12,
            10,
            4,
            20,
            8,
            8,
            10,
            8,
            8,
            8,
            8,
            8,
            8,
            8,
            8,
            8,
            4,
            4,
            4,
            4,
            4,
            10,
            4,
            4,
            4,
            4,
            4,
            6,
            6,
            6,
            6,
            6,
            6,
            6,
            6,
            6,
            2
           ]
          },
          {
           "label": "n_estimators",
           "range": [
            100,
            600
           ],
           "values": [
            300,
            600,
            400,
            100,
            450,
            600,
            450,
            400,
            300,
            550,
            200,
            500,
            500,
            600,
            500,
            350,
            300,
            250,
            300,
            600,
            250,
            200,
            200,
            200,
            200,
            200,
            150,
            100,
            150,
            100,
            100,
            100,
            100,
            150,
            150,
            150,
            150,
            150,
            150,
            150,
            150,
            250,
            250,
            250,
            250,
            250,
            250,
            250,
            250,
            350
           ]
          }
         ],
         "labelangle": 30,
         "labelside": "bottom",
         "line": {
          "color": [
           21.413862450560583,
           22.401158756685636,
           28.316205532608826,
           25.666668231430553,
           23.826291606703244,
           22.861747987143637,
           24.44564378307,
           24.455163282644346,
           23.479804248466152,
           22.617285822632248,
           23.503511475981036,
           24.54564523884517,
           28.401909293553416,
           27.40015102438397,
           28.200338696521893,
           28.360102931740343,
           25.185824494981894,
           22.350547682802233,
           19.563336027523903,
           19.610795934201686,
           19.57251314077671,
           19.565758811307482,
           19.565758811307482,
           19.565758811307482,
           22.348286674245365,
           22.348286674245365,
           19.58785546679587,
           19.63789428625886,
           19.58785546679587,
           19.562886773853016,
           19.544614046467952,
           20.098928627020133,
           20.098928627020133,
           20.057101077625667,
           20.057101077625667,
           20.057101077625667,
           20.057101077625667,
           20.056269730477386,
           20.057101077625667,
           20.056269730477386,
           19.682592545047285,
           19.673357579537534,
           20.04192958789266,
           20.04192958789266,
           20.04192958789266,
           22.82668724805331,
           22.82668724805331,
           22.82668724805331,
           22.82668724805331,
           20.020624578227267
          ],
          "colorbar": {
           "title": {
            "text": "Objective Value"
           }
          },
          "colorscale": [
           [
            0,
            "rgb(247,251,255)"
           ],
           [
            0.125,
            "rgb(222,235,247)"
           ],
           [
            0.25,
            "rgb(198,219,239)"
           ],
           [
            0.375,
            "rgb(158,202,225)"
           ],
           [
            0.5,
            "rgb(107,174,214)"
           ],
           [
            0.625,
            "rgb(66,146,198)"
           ],
           [
            0.75,
            "rgb(33,113,181)"
           ],
           [
            0.875,
            "rgb(8,81,156)"
           ],
           [
            1,
            "rgb(8,48,107)"
           ]
          ],
          "reversescale": true,
          "showscale": true
         },
         "type": "parcoords"
        }
       ],
       "layout": {
        "template": {
         "data": {
          "bar": [
           {
            "error_x": {
             "color": "#2a3f5f"
            },
            "error_y": {
             "color": "#2a3f5f"
            },
            "marker": {
             "line": {
              "color": "#E5ECF6",
              "width": 0.5
             },
             "pattern": {
              "fillmode": "overlay",
              "size": 10,
              "solidity": 0.2
             }
            },
            "type": "bar"
           }
          ],
          "barpolar": [
           {
            "marker": {
             "line": {
              "color": "#E5ECF6",
              "width": 0.5
             },
             "pattern": {
              "fillmode": "overlay",
              "size": 10,
              "solidity": 0.2
             }
            },
            "type": "barpolar"
           }
          ],
          "carpet": [
           {
            "aaxis": {
             "endlinecolor": "#2a3f5f",
             "gridcolor": "white",
             "linecolor": "white",
             "minorgridcolor": "white",
             "startlinecolor": "#2a3f5f"
            },
            "baxis": {
             "endlinecolor": "#2a3f5f",
             "gridcolor": "white",
             "linecolor": "white",
             "minorgridcolor": "white",
             "startlinecolor": "#2a3f5f"
            },
            "type": "carpet"
           }
          ],
          "choropleth": [
           {
            "colorbar": {
             "outlinewidth": 0,
             "ticks": ""
            },
            "type": "choropleth"
           }
          ],
          "contour": [
           {
            "colorbar": {
             "outlinewidth": 0,
             "ticks": ""
            },
            "colorscale": [
             [
              0,
              "#0d0887"
             ],
             [
              0.1111111111111111,
              "#46039f"
             ],
             [
              0.2222222222222222,
              "#7201a8"
             ],
             [
              0.3333333333333333,
              "#9c179e"
             ],
             [
              0.4444444444444444,
              "#bd3786"
             ],
             [
              0.5555555555555556,
              "#d8576b"
             ],
             [
              0.6666666666666666,
              "#ed7953"
             ],
             [
              0.7777777777777778,
              "#fb9f3a"
             ],
             [
              0.8888888888888888,
              "#fdca26"
             ],
             [
              1,
              "#f0f921"
             ]
            ],
            "type": "contour"
           }
          ],
          "contourcarpet": [
           {
            "colorbar": {
             "outlinewidth": 0,
             "ticks": ""
            },
            "type": "contourcarpet"
           }
          ],
          "heatmap": [
           {
            "colorbar": {
             "outlinewidth": 0,
             "ticks": ""
            },
            "colorscale": [
             [
              0,
              "#0d0887"
             ],
             [
              0.1111111111111111,
              "#46039f"
             ],
             [
              0.2222222222222222,
              "#7201a8"
             ],
             [
              0.3333333333333333,
              "#9c179e"
             ],
             [
              0.4444444444444444,
              "#bd3786"
             ],
             [
              0.5555555555555556,
              "#d8576b"
             ],
             [
              0.6666666666666666,
              "#ed7953"
             ],
             [
              0.7777777777777778,
              "#fb9f3a"
             ],
             [
              0.8888888888888888,
              "#fdca26"
             ],
             [
              1,
              "#f0f921"
             ]
            ],
            "type": "heatmap"
           }
          ],
          "histogram": [
           {
            "marker": {
             "pattern": {
              "fillmode": "overlay",
              "size": 10,
              "solidity": 0.2
             }
            },
            "type": "histogram"
           }
          ],
          "histogram2d": [
           {
            "colorbar": {
             "outlinewidth": 0,
             "ticks": ""
            },
            "colorscale": [
             [
              0,
              "#0d0887"
             ],
             [
              0.1111111111111111,
              "#46039f"
             ],
             [
              0.2222222222222222,
              "#7201a8"
             ],
             [
              0.3333333333333333,
              "#9c179e"
             ],
             [
              0.4444444444444444,
              "#bd3786"
             ],
             [
              0.5555555555555556,
              "#d8576b"
             ],
             [
              0.6666666666666666,
              "#ed7953"
             ],
             [
              0.7777777777777778,
              "#fb9f3a"
             ],
             [
              0.8888888888888888,
              "#fdca26"
             ],
             [
              1,
              "#f0f921"
             ]
            ],
            "type": "histogram2d"
           }
          ],
          "histogram2dcontour": [
           {
            "colorbar": {
             "outlinewidth": 0,
             "ticks": ""
            },
            "colorscale": [
             [
              0,
              "#0d0887"
             ],
             [
              0.1111111111111111,
              "#46039f"
             ],
             [
              0.2222222222222222,
              "#7201a8"
             ],
             [
              0.3333333333333333,
              "#9c179e"
             ],
             [
              0.4444444444444444,
              "#bd3786"
             ],
             [
              0.5555555555555556,
              "#d8576b"
             ],
             [
              0.6666666666666666,
              "#ed7953"
             ],
             [
              0.7777777777777778,
              "#fb9f3a"
             ],
             [
              0.8888888888888888,
              "#fdca26"
             ],
             [
              1,
              "#f0f921"
             ]
            ],
            "type": "histogram2dcontour"
           }
          ],
          "mesh3d": [
           {
            "colorbar": {
             "outlinewidth": 0,
             "ticks": ""
            },
            "type": "mesh3d"
           }
          ],
          "parcoords": [
           {
            "line": {
             "colorbar": {
              "outlinewidth": 0,
              "ticks": ""
             }
            },
            "type": "parcoords"
           }
          ],
          "pie": [
           {
            "automargin": true,
            "type": "pie"
           }
          ],
          "scatter": [
           {
            "fillpattern": {
             "fillmode": "overlay",
             "size": 10,
             "solidity": 0.2
            },
            "type": "scatter"
           }
          ],
          "scatter3d": [
           {
            "line": {
             "colorbar": {
              "outlinewidth": 0,
              "ticks": ""
             }
            },
            "marker": {
             "colorbar": {
              "outlinewidth": 0,
              "ticks": ""
             }
            },
            "type": "scatter3d"
           }
          ],
          "scattercarpet": [
           {
            "marker": {
             "colorbar": {
              "outlinewidth": 0,
              "ticks": ""
             }
            },
            "type": "scattercarpet"
           }
          ],
          "scattergeo": [
           {
            "marker": {
             "colorbar": {
              "outlinewidth": 0,
              "ticks": ""
             }
            },
            "type": "scattergeo"
           }
          ],
          "scattergl": [
           {
            "marker": {
             "colorbar": {
              "outlinewidth": 0,
              "ticks": ""
             }
            },
            "type": "scattergl"
           }
          ],
          "scattermap": [
           {
            "marker": {
             "colorbar": {
              "outlinewidth": 0,
              "ticks": ""
             }
            },
            "type": "scattermap"
           }
          ],
          "scattermapbox": [
           {
            "marker": {
             "colorbar": {
              "outlinewidth": 0,
              "ticks": ""
             }
            },
            "type": "scattermapbox"
           }
          ],
          "scatterpolar": [
           {
            "marker": {
             "colorbar": {
              "outlinewidth": 0,
              "ticks": ""
             }
            },
            "type": "scatterpolar"
           }
          ],
          "scatterpolargl": [
           {
            "marker": {
             "colorbar": {
              "outlinewidth": 0,
              "ticks": ""
             }
            },
            "type": "scatterpolargl"
           }
          ],
          "scatterternary": [
           {
            "marker": {
             "colorbar": {
              "outlinewidth": 0,
              "ticks": ""
             }
            },
            "type": "scatterternary"
           }
          ],
          "surface": [
           {
            "colorbar": {
             "outlinewidth": 0,
             "ticks": ""
            },
            "colorscale": [
             [
              0,
              "#0d0887"
             ],
             [
              0.1111111111111111,
              "#46039f"
             ],
             [
              0.2222222222222222,
              "#7201a8"
             ],
             [
              0.3333333333333333,
              "#9c179e"
             ],
             [
              0.4444444444444444,
              "#bd3786"
             ],
             [
              0.5555555555555556,
              "#d8576b"
             ],
             [
              0.6666666666666666,
              "#ed7953"
             ],
             [
              0.7777777777777778,
              "#fb9f3a"
             ],
             [
              0.8888888888888888,
              "#fdca26"
             ],
             [
              1,
              "#f0f921"
             ]
            ],
            "type": "surface"
           }
          ],
          "table": [
           {
            "cells": {
             "fill": {
              "color": "#EBF0F8"
             },
             "line": {
              "color": "white"
             }
            },
            "header": {
             "fill": {
              "color": "#C8D4E3"
             },
             "line": {
              "color": "white"
             }
            },
            "type": "table"
           }
          ]
         },
         "layout": {
          "annotationdefaults": {
           "arrowcolor": "#2a3f5f",
           "arrowhead": 0,
           "arrowwidth": 1
          },
          "autotypenumbers": "strict",
          "coloraxis": {
           "colorbar": {
            "outlinewidth": 0,
            "ticks": ""
           }
          },
          "colorscale": {
           "diverging": [
            [
             0,
             "#8e0152"
            ],
            [
             0.1,
             "#c51b7d"
            ],
            [
             0.2,
             "#de77ae"
            ],
            [
             0.3,
             "#f1b6da"
            ],
            [
             0.4,
             "#fde0ef"
            ],
            [
             0.5,
             "#f7f7f7"
            ],
            [
             0.6,
             "#e6f5d0"
            ],
            [
             0.7,
             "#b8e186"
            ],
            [
             0.8,
             "#7fbc41"
            ],
            [
             0.9,
             "#4d9221"
            ],
            [
             1,
             "#276419"
            ]
           ],
           "sequential": [
            [
             0,
             "#0d0887"
            ],
            [
             0.1111111111111111,
             "#46039f"
            ],
            [
             0.2222222222222222,
             "#7201a8"
            ],
            [
             0.3333333333333333,
             "#9c179e"
            ],
            [
             0.4444444444444444,
             "#bd3786"
            ],
            [
             0.5555555555555556,
             "#d8576b"
            ],
            [
             0.6666666666666666,
             "#ed7953"
            ],
            [
             0.7777777777777778,
             "#fb9f3a"
            ],
            [
             0.8888888888888888,
             "#fdca26"
            ],
            [
             1,
             "#f0f921"
            ]
           ],
           "sequentialminus": [
            [
             0,
             "#0d0887"
            ],
            [
             0.1111111111111111,
             "#46039f"
            ],
            [
             0.2222222222222222,
             "#7201a8"
            ],
            [
             0.3333333333333333,
             "#9c179e"
            ],
            [
             0.4444444444444444,
             "#bd3786"
            ],
            [
             0.5555555555555556,
             "#d8576b"
            ],
            [
             0.6666666666666666,
             "#ed7953"
            ],
            [
             0.7777777777777778,
             "#fb9f3a"
            ],
            [
             0.8888888888888888,
             "#fdca26"
            ],
            [
             1,
             "#f0f921"
            ]
           ]
          },
          "colorway": [
           "#636efa",
           "#EF553B",
           "#00cc96",
           "#ab63fa",
           "#FFA15A",
           "#19d3f3",
           "#FF6692",
           "#B6E880",
           "#FF97FF",
           "#FECB52"
          ],
          "font": {
           "color": "#2a3f5f"
          },
          "geo": {
           "bgcolor": "white",
           "lakecolor": "white",
           "landcolor": "#E5ECF6",
           "showlakes": true,
           "showland": true,
           "subunitcolor": "white"
          },
          "hoverlabel": {
           "align": "left"
          },
          "hovermode": "closest",
          "mapbox": {
           "style": "light"
          },
          "paper_bgcolor": "white",
          "plot_bgcolor": "#E5ECF6",
          "polar": {
           "angularaxis": {
            "gridcolor": "white",
            "linecolor": "white",
            "ticks": ""
           },
           "bgcolor": "#E5ECF6",
           "radialaxis": {
            "gridcolor": "white",
            "linecolor": "white",
            "ticks": ""
           }
          },
          "scene": {
           "xaxis": {
            "backgroundcolor": "#E5ECF6",
            "gridcolor": "white",
            "gridwidth": 2,
            "linecolor": "white",
            "showbackground": true,
            "ticks": "",
            "zerolinecolor": "white"
           },
           "yaxis": {
            "backgroundcolor": "#E5ECF6",
            "gridcolor": "white",
            "gridwidth": 2,
            "linecolor": "white",
            "showbackground": true,
            "ticks": "",
            "zerolinecolor": "white"
           },
           "zaxis": {
            "backgroundcolor": "#E5ECF6",
            "gridcolor": "white",
            "gridwidth": 2,
            "linecolor": "white",
            "showbackground": true,
            "ticks": "",
            "zerolinecolor": "white"
           }
          },
          "shapedefaults": {
           "line": {
            "color": "#2a3f5f"
           }
          },
          "ternary": {
           "aaxis": {
            "gridcolor": "white",
            "linecolor": "white",
            "ticks": ""
           },
           "baxis": {
            "gridcolor": "white",
            "linecolor": "white",
            "ticks": ""
           },
           "bgcolor": "#E5ECF6",
           "caxis": {
            "gridcolor": "white",
            "linecolor": "white",
            "ticks": ""
           }
          },
          "title": {
           "x": 0.05
          },
          "xaxis": {
           "automargin": true,
           "gridcolor": "white",
           "linecolor": "white",
           "ticks": "",
           "title": {
            "standoff": 15
           },
           "zerolinecolor": "white",
           "zerolinewidth": 2
          },
          "yaxis": {
           "automargin": true,
           "gridcolor": "white",
           "linecolor": "white",
           "ticks": "",
           "title": {
            "standoff": 15
           },
           "zerolinecolor": "white",
           "zerolinewidth": 2
          }
         }
        },
        "title": {
         "text": "Parallel Coordinate Plot"
        }
       }
      }
     },
     "metadata": {},
     "output_type": "display_data"
    }
   ],
   "source": [
    "optuna.visualization.plot_parallel_coordinate(study)"
   ]
  },
  {
   "cell_type": "code",
   "execution_count": 54,
   "id": "5e7731a7",
   "metadata": {},
   "outputs": [],
   "source": [
    "def objective2(trial):\n",
    "    paramters = {\n",
    "        'n_estimators': trial.suggest_int('n_estimators', 50, 301, step=50),\n",
    "        'max_depth': trial.suggest_int('max_depth', 10, 61, step=5),\n",
    "        'min_samples_split': trial.suggest_int('min_samples_split', 2, 21, step=2),\n",
    "        'min_samples_leaf': trial.suggest_int('min_samples_leaf', 1, 21, step=2),\n",
    "        'max_features': trial.suggest_categorical('max_features', [None,'sqrt', 'log2'])\n",
    "    }\n",
    "\n",
    "    model = RandomForestRegressor(**paramters,n_jobs= -1, random_state=42)\n",
    "    model.fit(X_train, y_train)\n",
    "    y_pred = model.predict(X_val)\n",
    "    rmse = root_mean_squared_error(y_val, y_pred)\n",
    "    return rmse"
   ]
  },
  {
   "cell_type": "code",
   "execution_count": 55,
   "id": "529048f9",
   "metadata": {},
   "outputs": [
    {
     "name": "stderr",
     "output_type": "stream",
     "text": [
      "[I 2025-05-26 14:28:17,237] A new study created in memory with name: no-name-a98d6179-6e68-4804-843b-2934050bb3e3\n",
      "C:\\Users\\ondra\\AppData\\Roaming\\Python\\Python313\\site-packages\\optuna\\distributions.py:699: UserWarning:\n",
      "\n",
      "The distribution is specified by [50, 301] and step=50, but the range is not divisible by `step`. It will be replaced by [50, 300].\n",
      "\n",
      "C:\\Users\\ondra\\AppData\\Roaming\\Python\\Python313\\site-packages\\optuna\\distributions.py:699: UserWarning:\n",
      "\n",
      "The distribution is specified by [10, 61] and step=5, but the range is not divisible by `step`. It will be replaced by [10, 60].\n",
      "\n",
      "C:\\Users\\ondra\\AppData\\Roaming\\Python\\Python313\\site-packages\\optuna\\distributions.py:699: UserWarning:\n",
      "\n",
      "The distribution is specified by [2, 21] and step=2, but the range is not divisible by `step`. It will be replaced by [2, 20].\n",
      "\n",
      "C:\\Users\\ondra\\AppData\\Roaming\\Python\\Python313\\site-packages\\optuna\\distributions.py:699: UserWarning:\n",
      "\n",
      "The distribution is specified by [50, 301] and step=50, but the range is not divisible by `step`. It will be replaced by [50, 300].\n",
      "\n",
      "C:\\Users\\ondra\\AppData\\Roaming\\Python\\Python313\\site-packages\\optuna\\distributions.py:699: UserWarning:\n",
      "\n",
      "The distribution is specified by [10, 61] and step=5, but the range is not divisible by `step`. It will be replaced by [10, 60].\n",
      "\n",
      "C:\\Users\\ondra\\AppData\\Roaming\\Python\\Python313\\site-packages\\optuna\\distributions.py:699: UserWarning:\n",
      "\n",
      "The distribution is specified by [2, 21] and step=2, but the range is not divisible by `step`. It will be replaced by [2, 20].\n",
      "\n",
      "C:\\Users\\ondra\\AppData\\Roaming\\Python\\Python313\\site-packages\\optuna\\distributions.py:699: UserWarning:\n",
      "\n",
      "The distribution is specified by [50, 301] and step=50, but the range is not divisible by `step`. It will be replaced by [50, 300].\n",
      "\n",
      "C:\\Users\\ondra\\AppData\\Roaming\\Python\\Python313\\site-packages\\optuna\\distributions.py:699: UserWarning:\n",
      "\n",
      "The distribution is specified by [10, 61] and step=5, but the range is not divisible by `step`. It will be replaced by [10, 60].\n",
      "\n",
      "C:\\Users\\ondra\\AppData\\Roaming\\Python\\Python313\\site-packages\\optuna\\distributions.py:699: UserWarning:\n",
      "\n",
      "The distribution is specified by [2, 21] and step=2, but the range is not divisible by `step`. It will be replaced by [2, 20].\n",
      "\n",
      "C:\\Users\\ondra\\AppData\\Roaming\\Python\\Python313\\site-packages\\optuna\\distributions.py:699: UserWarning:\n",
      "\n",
      "The distribution is specified by [50, 301] and step=50, but the range is not divisible by `step`. It will be replaced by [50, 300].\n",
      "\n",
      "C:\\Users\\ondra\\AppData\\Roaming\\Python\\Python313\\site-packages\\optuna\\distributions.py:699: UserWarning:\n",
      "\n",
      "The distribution is specified by [10, 61] and step=5, but the range is not divisible by `step`. It will be replaced by [10, 60].\n",
      "\n",
      "C:\\Users\\ondra\\AppData\\Roaming\\Python\\Python313\\site-packages\\optuna\\distributions.py:699: UserWarning:\n",
      "\n",
      "The distribution is specified by [2, 21] and step=2, but the range is not divisible by `step`. It will be replaced by [2, 20].\n",
      "\n",
      "C:\\Users\\ondra\\AppData\\Roaming\\Python\\Python313\\site-packages\\optuna\\distributions.py:699: UserWarning:\n",
      "\n",
      "The distribution is specified by [50, 301] and step=50, but the range is not divisible by `step`. It will be replaced by [50, 300].\n",
      "\n",
      "C:\\Users\\ondra\\AppData\\Roaming\\Python\\Python313\\site-packages\\optuna\\distributions.py:699: UserWarning:\n",
      "\n",
      "The distribution is specified by [10, 61] and step=5, but the range is not divisible by `step`. It will be replaced by [10, 60].\n",
      "\n",
      "C:\\Users\\ondra\\AppData\\Roaming\\Python\\Python313\\site-packages\\optuna\\distributions.py:699: UserWarning:\n",
      "\n",
      "The distribution is specified by [2, 21] and step=2, but the range is not divisible by `step`. It will be replaced by [2, 20].\n",
      "\n",
      "C:\\Users\\ondra\\AppData\\Roaming\\Python\\Python313\\site-packages\\optuna\\distributions.py:699: UserWarning:\n",
      "\n",
      "The distribution is specified by [50, 301] and step=50, but the range is not divisible by `step`. It will be replaced by [50, 300].\n",
      "\n",
      "C:\\Users\\ondra\\AppData\\Roaming\\Python\\Python313\\site-packages\\optuna\\distributions.py:699: UserWarning:\n",
      "\n",
      "The distribution is specified by [10, 61] and step=5, but the range is not divisible by `step`. It will be replaced by [10, 60].\n",
      "\n",
      "C:\\Users\\ondra\\AppData\\Roaming\\Python\\Python313\\site-packages\\optuna\\distributions.py:699: UserWarning:\n",
      "\n",
      "The distribution is specified by [2, 21] and step=2, but the range is not divisible by `step`. It will be replaced by [2, 20].\n",
      "\n",
      "C:\\Users\\ondra\\AppData\\Roaming\\Python\\Python313\\site-packages\\optuna\\distributions.py:699: UserWarning:\n",
      "\n",
      "The distribution is specified by [50, 301] and step=50, but the range is not divisible by `step`. It will be replaced by [50, 300].\n",
      "\n",
      "C:\\Users\\ondra\\AppData\\Roaming\\Python\\Python313\\site-packages\\optuna\\distributions.py:699: UserWarning:\n",
      "\n",
      "The distribution is specified by [10, 61] and step=5, but the range is not divisible by `step`. It will be replaced by [10, 60].\n",
      "\n",
      "C:\\Users\\ondra\\AppData\\Roaming\\Python\\Python313\\site-packages\\optuna\\distributions.py:699: UserWarning:\n",
      "\n",
      "The distribution is specified by [2, 21] and step=2, but the range is not divisible by `step`. It will be replaced by [2, 20].\n",
      "\n",
      "C:\\Users\\ondra\\AppData\\Roaming\\Python\\Python313\\site-packages\\optuna\\distributions.py:699: UserWarning:\n",
      "\n",
      "The distribution is specified by [50, 301] and step=50, but the range is not divisible by `step`. It will be replaced by [50, 300].\n",
      "\n",
      "C:\\Users\\ondra\\AppData\\Roaming\\Python\\Python313\\site-packages\\optuna\\distributions.py:699: UserWarning:\n",
      "\n",
      "The distribution is specified by [10, 61] and step=5, but the range is not divisible by `step`. It will be replaced by [10, 60].\n",
      "\n",
      "C:\\Users\\ondra\\AppData\\Roaming\\Python\\Python313\\site-packages\\optuna\\distributions.py:699: UserWarning:\n",
      "\n",
      "The distribution is specified by [2, 21] and step=2, but the range is not divisible by `step`. It will be replaced by [2, 20].\n",
      "\n",
      "[I 2025-05-26 14:28:35,951] Trial 7 finished with value: 24.82649245945606 and parameters: {'n_estimators': 50, 'max_depth': 25, 'min_samples_split': 20, 'min_samples_leaf': 15, 'max_features': 'log2'}. Best is trial 7 with value: 24.82649245945606.\n",
      "C:\\Users\\ondra\\AppData\\Roaming\\Python\\Python313\\site-packages\\optuna\\distributions.py:699: UserWarning:\n",
      "\n",
      "The distribution is specified by [50, 301] and step=50, but the range is not divisible by `step`. It will be replaced by [50, 300].\n",
      "\n",
      "C:\\Users\\ondra\\AppData\\Roaming\\Python\\Python313\\site-packages\\optuna\\distributions.py:699: UserWarning:\n",
      "\n",
      "The distribution is specified by [10, 61] and step=5, but the range is not divisible by `step`. It will be replaced by [10, 60].\n",
      "\n",
      "C:\\Users\\ondra\\AppData\\Roaming\\Python\\Python313\\site-packages\\optuna\\distributions.py:699: UserWarning:\n",
      "\n",
      "The distribution is specified by [2, 21] and step=2, but the range is not divisible by `step`. It will be replaced by [2, 20].\n",
      "\n",
      "[I 2025-05-26 14:28:44,146] Trial 2 finished with value: 25.0978089884838 and parameters: {'n_estimators': 100, 'max_depth': 60, 'min_samples_split': 10, 'min_samples_leaf': 19, 'max_features': 'sqrt'}. Best is trial 7 with value: 24.82649245945606.\n",
      "C:\\Users\\ondra\\AppData\\Roaming\\Python\\Python313\\site-packages\\optuna\\distributions.py:699: UserWarning:\n",
      "\n",
      "The distribution is specified by [50, 301] and step=50, but the range is not divisible by `step`. It will be replaced by [50, 300].\n",
      "\n",
      "C:\\Users\\ondra\\AppData\\Roaming\\Python\\Python313\\site-packages\\optuna\\distributions.py:699: UserWarning:\n",
      "\n",
      "The distribution is specified by [10, 61] and step=5, but the range is not divisible by `step`. It will be replaced by [10, 60].\n",
      "\n",
      "C:\\Users\\ondra\\AppData\\Roaming\\Python\\Python313\\site-packages\\optuna\\distributions.py:699: UserWarning:\n",
      "\n",
      "The distribution is specified by [2, 21] and step=2, but the range is not divisible by `step`. It will be replaced by [2, 20].\n",
      "\n",
      "[I 2025-05-26 14:28:53,733] Trial 0 finished with value: 25.383420048658998 and parameters: {'n_estimators': 150, 'max_depth': 40, 'min_samples_split': 14, 'min_samples_leaf': 21, 'max_features': 'sqrt'}. Best is trial 7 with value: 24.82649245945606.\n",
      "C:\\Users\\ondra\\AppData\\Roaming\\Python\\Python313\\site-packages\\optuna\\distributions.py:699: UserWarning:\n",
      "\n",
      "The distribution is specified by [50, 301] and step=50, but the range is not divisible by `step`. It will be replaced by [50, 300].\n",
      "\n",
      "C:\\Users\\ondra\\AppData\\Roaming\\Python\\Python313\\site-packages\\optuna\\distributions.py:699: UserWarning:\n",
      "\n",
      "The distribution is specified by [10, 61] and step=5, but the range is not divisible by `step`. It will be replaced by [10, 60].\n",
      "\n",
      "C:\\Users\\ondra\\AppData\\Roaming\\Python\\Python313\\site-packages\\optuna\\distributions.py:699: UserWarning:\n",
      "\n",
      "The distribution is specified by [2, 21] and step=2, but the range is not divisible by `step`. It will be replaced by [2, 20].\n",
      "\n",
      "[I 2025-05-26 14:28:55,495] Trial 1 finished with value: 19.797383063005018 and parameters: {'n_estimators': 50, 'max_depth': 55, 'min_samples_split': 12, 'min_samples_leaf': 1, 'max_features': None}. Best is trial 1 with value: 19.797383063005018.\n",
      "C:\\Users\\ondra\\AppData\\Roaming\\Python\\Python313\\site-packages\\optuna\\distributions.py:699: UserWarning:\n",
      "\n",
      "The distribution is specified by [50, 301] and step=50, but the range is not divisible by `step`. It will be replaced by [50, 300].\n",
      "\n",
      "C:\\Users\\ondra\\AppData\\Roaming\\Python\\Python313\\site-packages\\optuna\\distributions.py:699: UserWarning:\n",
      "\n",
      "The distribution is specified by [10, 61] and step=5, but the range is not divisible by `step`. It will be replaced by [10, 60].\n",
      "\n",
      "C:\\Users\\ondra\\AppData\\Roaming\\Python\\Python313\\site-packages\\optuna\\distributions.py:699: UserWarning:\n",
      "\n",
      "The distribution is specified by [2, 21] and step=2, but the range is not divisible by `step`. It will be replaced by [2, 20].\n",
      "\n",
      "[I 2025-05-26 14:29:03,736] Trial 9 finished with value: 22.657718424723043 and parameters: {'n_estimators': 50, 'max_depth': 45, 'min_samples_split': 12, 'min_samples_leaf': 3, 'max_features': 'log2'}. Best is trial 1 with value: 19.797383063005018.\n",
      "C:\\Users\\ondra\\AppData\\Roaming\\Python\\Python313\\site-packages\\optuna\\distributions.py:699: UserWarning:\n",
      "\n",
      "The distribution is specified by [50, 301] and step=50, but the range is not divisible by `step`. It will be replaced by [50, 300].\n",
      "\n",
      "C:\\Users\\ondra\\AppData\\Roaming\\Python\\Python313\\site-packages\\optuna\\distributions.py:699: UserWarning:\n",
      "\n",
      "The distribution is specified by [10, 61] and step=5, but the range is not divisible by `step`. It will be replaced by [10, 60].\n",
      "\n",
      "C:\\Users\\ondra\\AppData\\Roaming\\Python\\Python313\\site-packages\\optuna\\distributions.py:699: UserWarning:\n",
      "\n",
      "The distribution is specified by [2, 21] and step=2, but the range is not divisible by `step`. It will be replaced by [2, 20].\n",
      "\n",
      "[I 2025-05-26 14:29:04,518] Trial 8 finished with value: 24.47454308194243 and parameters: {'n_estimators': 100, 'max_depth': 30, 'min_samples_split': 2, 'min_samples_leaf': 13, 'max_features': 'sqrt'}. Best is trial 1 with value: 19.797383063005018.\n",
      "C:\\Users\\ondra\\AppData\\Roaming\\Python\\Python313\\site-packages\\optuna\\distributions.py:699: UserWarning:\n",
      "\n",
      "The distribution is specified by [50, 301] and step=50, but the range is not divisible by `step`. It will be replaced by [50, 300].\n",
      "\n",
      "C:\\Users\\ondra\\AppData\\Roaming\\Python\\Python313\\site-packages\\optuna\\distributions.py:699: UserWarning:\n",
      "\n",
      "The distribution is specified by [10, 61] and step=5, but the range is not divisible by `step`. It will be replaced by [10, 60].\n",
      "\n",
      "C:\\Users\\ondra\\AppData\\Roaming\\Python\\Python313\\site-packages\\optuna\\distributions.py:699: UserWarning:\n",
      "\n",
      "The distribution is specified by [2, 21] and step=2, but the range is not divisible by `step`. It will be replaced by [2, 20].\n",
      "\n",
      "[I 2025-05-26 14:29:09,198] Trial 5 finished with value: 25.37388300525723 and parameters: {'n_estimators': 250, 'max_depth': 55, 'min_samples_split': 18, 'min_samples_leaf': 21, 'max_features': 'sqrt'}. Best is trial 1 with value: 19.797383063005018.\n",
      "C:\\Users\\ondra\\AppData\\Roaming\\Python\\Python313\\site-packages\\optuna\\distributions.py:699: UserWarning:\n",
      "\n",
      "The distribution is specified by [50, 301] and step=50, but the range is not divisible by `step`. It will be replaced by [50, 300].\n",
      "\n",
      "C:\\Users\\ondra\\AppData\\Roaming\\Python\\Python313\\site-packages\\optuna\\distributions.py:699: UserWarning:\n",
      "\n",
      "The distribution is specified by [10, 61] and step=5, but the range is not divisible by `step`. It will be replaced by [10, 60].\n",
      "\n",
      "C:\\Users\\ondra\\AppData\\Roaming\\Python\\Python313\\site-packages\\optuna\\distributions.py:699: UserWarning:\n",
      "\n",
      "The distribution is specified by [2, 21] and step=2, but the range is not divisible by `step`. It will be replaced by [2, 20].\n",
      "\n",
      "[I 2025-05-26 14:29:13,103] Trial 3 finished with value: 21.99830489313171 and parameters: {'n_estimators': 200, 'max_depth': 45, 'min_samples_split': 8, 'min_samples_leaf': 1, 'max_features': 'log2'}. Best is trial 1 with value: 19.797383063005018.\n",
      "C:\\Users\\ondra\\AppData\\Roaming\\Python\\Python313\\site-packages\\optuna\\distributions.py:699: UserWarning:\n",
      "\n",
      "The distribution is specified by [50, 301] and step=50, but the range is not divisible by `step`. It will be replaced by [50, 300].\n",
      "\n",
      "C:\\Users\\ondra\\AppData\\Roaming\\Python\\Python313\\site-packages\\optuna\\distributions.py:699: UserWarning:\n",
      "\n",
      "The distribution is specified by [10, 61] and step=5, but the range is not divisible by `step`. It will be replaced by [10, 60].\n",
      "\n",
      "C:\\Users\\ondra\\AppData\\Roaming\\Python\\Python313\\site-packages\\optuna\\distributions.py:699: UserWarning:\n",
      "\n",
      "The distribution is specified by [2, 21] and step=2, but the range is not divisible by `step`. It will be replaced by [2, 20].\n",
      "\n",
      "[I 2025-05-26 14:29:28,354] Trial 4 finished with value: 22.355428732083922 and parameters: {'n_estimators': 150, 'max_depth': 55, 'min_samples_split': 12, 'min_samples_leaf': 21, 'max_features': None}. Best is trial 1 with value: 19.797383063005018.\n",
      "C:\\Users\\ondra\\AppData\\Roaming\\Python\\Python313\\site-packages\\optuna\\distributions.py:699: UserWarning:\n",
      "\n",
      "The distribution is specified by [50, 301] and step=50, but the range is not divisible by `step`. It will be replaced by [50, 300].\n",
      "\n",
      "C:\\Users\\ondra\\AppData\\Roaming\\Python\\Python313\\site-packages\\optuna\\distributions.py:699: UserWarning:\n",
      "\n",
      "The distribution is specified by [10, 61] and step=5, but the range is not divisible by `step`. It will be replaced by [10, 60].\n",
      "\n",
      "C:\\Users\\ondra\\AppData\\Roaming\\Python\\Python313\\site-packages\\optuna\\distributions.py:699: UserWarning:\n",
      "\n",
      "The distribution is specified by [2, 21] and step=2, but the range is not divisible by `step`. It will be replaced by [2, 20].\n",
      "\n",
      "[I 2025-05-26 14:29:49,119] Trial 10 finished with value: 25.207316239560374 and parameters: {'n_estimators': 200, 'max_depth': 20, 'min_samples_split': 20, 'min_samples_leaf': 19, 'max_features': 'log2'}. Best is trial 1 with value: 19.797383063005018.\n",
      "C:\\Users\\ondra\\AppData\\Roaming\\Python\\Python313\\site-packages\\optuna\\distributions.py:699: UserWarning:\n",
      "\n",
      "The distribution is specified by [50, 301] and step=50, but the range is not divisible by `step`. It will be replaced by [50, 300].\n",
      "\n",
      "C:\\Users\\ondra\\AppData\\Roaming\\Python\\Python313\\site-packages\\optuna\\distributions.py:699: UserWarning:\n",
      "\n",
      "The distribution is specified by [10, 61] and step=5, but the range is not divisible by `step`. It will be replaced by [10, 60].\n",
      "\n",
      "C:\\Users\\ondra\\AppData\\Roaming\\Python\\Python313\\site-packages\\optuna\\distributions.py:699: UserWarning:\n",
      "\n",
      "The distribution is specified by [2, 21] and step=2, but the range is not divisible by `step`. It will be replaced by [2, 20].\n",
      "\n",
      "[I 2025-05-26 14:30:09,554] Trial 15 finished with value: 24.530497573968923 and parameters: {'n_estimators': 150, 'max_depth': 20, 'min_samples_split': 6, 'min_samples_leaf': 13, 'max_features': 'log2'}. Best is trial 1 with value: 19.797383063005018.\n",
      "C:\\Users\\ondra\\AppData\\Roaming\\Python\\Python313\\site-packages\\optuna\\distributions.py:699: UserWarning:\n",
      "\n",
      "The distribution is specified by [50, 301] and step=50, but the range is not divisible by `step`. It will be replaced by [50, 300].\n",
      "\n",
      "C:\\Users\\ondra\\AppData\\Roaming\\Python\\Python313\\site-packages\\optuna\\distributions.py:699: UserWarning:\n",
      "\n",
      "The distribution is specified by [10, 61] and step=5, but the range is not divisible by `step`. It will be replaced by [10, 60].\n",
      "\n",
      "C:\\Users\\ondra\\AppData\\Roaming\\Python\\Python313\\site-packages\\optuna\\distributions.py:699: UserWarning:\n",
      "\n",
      "The distribution is specified by [2, 21] and step=2, but the range is not divisible by `step`. It will be replaced by [2, 20].\n",
      "\n",
      "[I 2025-05-26 14:30:40,986] Trial 13 finished with value: 24.974697878960324 and parameters: {'n_estimators': 300, 'max_depth': 55, 'min_samples_split': 8, 'min_samples_leaf': 17, 'max_features': 'log2'}. Best is trial 1 with value: 19.797383063005018.\n",
      "C:\\Users\\ondra\\AppData\\Roaming\\Python\\Python313\\site-packages\\optuna\\distributions.py:699: UserWarning:\n",
      "\n",
      "The distribution is specified by [50, 301] and step=50, but the range is not divisible by `step`. It will be replaced by [50, 300].\n",
      "\n",
      "C:\\Users\\ondra\\AppData\\Roaming\\Python\\Python313\\site-packages\\optuna\\distributions.py:699: UserWarning:\n",
      "\n",
      "The distribution is specified by [10, 61] and step=5, but the range is not divisible by `step`. It will be replaced by [10, 60].\n",
      "\n",
      "C:\\Users\\ondra\\AppData\\Roaming\\Python\\Python313\\site-packages\\optuna\\distributions.py:699: UserWarning:\n",
      "\n",
      "The distribution is specified by [2, 21] and step=2, but the range is not divisible by `step`. It will be replaced by [2, 20].\n",
      "\n",
      "[I 2025-05-26 14:30:44,333] Trial 6 finished with value: 23.297613921165865 and parameters: {'n_estimators': 300, 'max_depth': 15, 'min_samples_split': 6, 'min_samples_leaf': 17, 'max_features': None}. Best is trial 1 with value: 19.797383063005018.\n",
      "C:\\Users\\ondra\\AppData\\Roaming\\Python\\Python313\\site-packages\\optuna\\distributions.py:699: UserWarning:\n",
      "\n",
      "The distribution is specified by [50, 301] and step=50, but the range is not divisible by `step`. It will be replaced by [50, 300].\n",
      "\n",
      "C:\\Users\\ondra\\AppData\\Roaming\\Python\\Python313\\site-packages\\optuna\\distributions.py:699: UserWarning:\n",
      "\n",
      "The distribution is specified by [10, 61] and step=5, but the range is not divisible by `step`. It will be replaced by [10, 60].\n",
      "\n",
      "C:\\Users\\ondra\\AppData\\Roaming\\Python\\Python313\\site-packages\\optuna\\distributions.py:699: UserWarning:\n",
      "\n",
      "The distribution is specified by [2, 21] and step=2, but the range is not divisible by `step`. It will be replaced by [2, 20].\n",
      "\n",
      "[I 2025-05-26 14:30:46,783] Trial 14 finished with value: 22.41360245914022 and parameters: {'n_estimators': 150, 'max_depth': 15, 'min_samples_split': 16, 'min_samples_leaf': 3, 'max_features': None}. Best is trial 1 with value: 19.797383063005018.\n",
      "C:\\Users\\ondra\\AppData\\Roaming\\Python\\Python313\\site-packages\\optuna\\distributions.py:699: UserWarning:\n",
      "\n",
      "The distribution is specified by [50, 301] and step=50, but the range is not divisible by `step`. It will be replaced by [50, 300].\n",
      "\n",
      "C:\\Users\\ondra\\AppData\\Roaming\\Python\\Python313\\site-packages\\optuna\\distributions.py:699: UserWarning:\n",
      "\n",
      "The distribution is specified by [10, 61] and step=5, but the range is not divisible by `step`. It will be replaced by [10, 60].\n",
      "\n",
      "C:\\Users\\ondra\\AppData\\Roaming\\Python\\Python313\\site-packages\\optuna\\distributions.py:699: UserWarning:\n",
      "\n",
      "The distribution is specified by [2, 21] and step=2, but the range is not divisible by `step`. It will be replaced by [2, 20].\n",
      "\n",
      "[I 2025-05-26 14:30:50,878] Trial 11 finished with value: 19.55357104950641 and parameters: {'n_estimators': 150, 'max_depth': 35, 'min_samples_split': 8, 'min_samples_leaf': 1, 'max_features': None}. Best is trial 11 with value: 19.55357104950641.\n",
      "C:\\Users\\ondra\\AppData\\Roaming\\Python\\Python313\\site-packages\\optuna\\distributions.py:699: UserWarning:\n",
      "\n",
      "The distribution is specified by [50, 301] and step=50, but the range is not divisible by `step`. It will be replaced by [50, 300].\n",
      "\n",
      "C:\\Users\\ondra\\AppData\\Roaming\\Python\\Python313\\site-packages\\optuna\\distributions.py:699: UserWarning:\n",
      "\n",
      "The distribution is specified by [10, 61] and step=5, but the range is not divisible by `step`. It will be replaced by [10, 60].\n",
      "\n",
      "C:\\Users\\ondra\\AppData\\Roaming\\Python\\Python313\\site-packages\\optuna\\distributions.py:699: UserWarning:\n",
      "\n",
      "The distribution is specified by [2, 21] and step=2, but the range is not divisible by `step`. It will be replaced by [2, 20].\n",
      "\n",
      "[I 2025-05-26 14:31:16,412] Trial 16 finished with value: 23.04034463912975 and parameters: {'n_estimators': 300, 'max_depth': 50, 'min_samples_split': 10, 'min_samples_leaf': 5, 'max_features': 'log2'}. Best is trial 11 with value: 19.55357104950641.\n",
      "C:\\Users\\ondra\\AppData\\Roaming\\Python\\Python313\\site-packages\\optuna\\distributions.py:699: UserWarning:\n",
      "\n",
      "The distribution is specified by [50, 301] and step=50, but the range is not divisible by `step`. It will be replaced by [50, 300].\n",
      "\n",
      "C:\\Users\\ondra\\AppData\\Roaming\\Python\\Python313\\site-packages\\optuna\\distributions.py:699: UserWarning:\n",
      "\n",
      "The distribution is specified by [10, 61] and step=5, but the range is not divisible by `step`. It will be replaced by [10, 60].\n",
      "\n",
      "C:\\Users\\ondra\\AppData\\Roaming\\Python\\Python313\\site-packages\\optuna\\distributions.py:699: UserWarning:\n",
      "\n",
      "The distribution is specified by [2, 21] and step=2, but the range is not divisible by `step`. It will be replaced by [2, 20].\n",
      "\n",
      "[I 2025-05-26 14:31:20,522] Trial 12 finished with value: 23.200270884231895 and parameters: {'n_estimators': 250, 'max_depth': 15, 'min_samples_split': 12, 'min_samples_leaf': 15, 'max_features': None}. Best is trial 11 with value: 19.55357104950641.\n",
      "C:\\Users\\ondra\\AppData\\Roaming\\Python\\Python313\\site-packages\\optuna\\distributions.py:699: UserWarning:\n",
      "\n",
      "The distribution is specified by [50, 301] and step=50, but the range is not divisible by `step`. It will be replaced by [50, 300].\n",
      "\n",
      "C:\\Users\\ondra\\AppData\\Roaming\\Python\\Python313\\site-packages\\optuna\\distributions.py:699: UserWarning:\n",
      "\n",
      "The distribution is specified by [10, 61] and step=5, but the range is not divisible by `step`. It will be replaced by [10, 60].\n",
      "\n",
      "C:\\Users\\ondra\\AppData\\Roaming\\Python\\Python313\\site-packages\\optuna\\distributions.py:699: UserWarning:\n",
      "\n",
      "The distribution is specified by [2, 21] and step=2, but the range is not divisible by `step`. It will be replaced by [2, 20].\n",
      "\n",
      "[I 2025-05-26 14:32:16,558] Trial 22 finished with value: 20.455675094660503 and parameters: {'n_estimators': 100, 'max_depth': 35, 'min_samples_split': 2, 'min_samples_leaf': 7, 'max_features': None}. Best is trial 11 with value: 19.55357104950641.\n",
      "C:\\Users\\ondra\\AppData\\Roaming\\Python\\Python313\\site-packages\\optuna\\distributions.py:699: UserWarning:\n",
      "\n",
      "The distribution is specified by [50, 301] and step=50, but the range is not divisible by `step`. It will be replaced by [50, 300].\n",
      "\n",
      "C:\\Users\\ondra\\AppData\\Roaming\\Python\\Python313\\site-packages\\optuna\\distributions.py:699: UserWarning:\n",
      "\n",
      "The distribution is specified by [10, 61] and step=5, but the range is not divisible by `step`. It will be replaced by [10, 60].\n",
      "\n",
      "C:\\Users\\ondra\\AppData\\Roaming\\Python\\Python313\\site-packages\\optuna\\distributions.py:699: UserWarning:\n",
      "\n",
      "The distribution is specified by [2, 21] and step=2, but the range is not divisible by `step`. It will be replaced by [2, 20].\n",
      "\n",
      "[I 2025-05-26 14:32:20,227] Trial 17 finished with value: 27.452603063642552 and parameters: {'n_estimators': 300, 'max_depth': 10, 'min_samples_split': 6, 'min_samples_leaf': 7, 'max_features': None}. Best is trial 11 with value: 19.55357104950641.\n",
      "C:\\Users\\ondra\\AppData\\Roaming\\Python\\Python313\\site-packages\\optuna\\distributions.py:699: UserWarning:\n",
      "\n",
      "The distribution is specified by [50, 301] and step=50, but the range is not divisible by `step`. It will be replaced by [50, 300].\n",
      "\n",
      "C:\\Users\\ondra\\AppData\\Roaming\\Python\\Python313\\site-packages\\optuna\\distributions.py:699: UserWarning:\n",
      "\n",
      "The distribution is specified by [10, 61] and step=5, but the range is not divisible by `step`. It will be replaced by [10, 60].\n",
      "\n",
      "C:\\Users\\ondra\\AppData\\Roaming\\Python\\Python313\\site-packages\\optuna\\distributions.py:699: UserWarning:\n",
      "\n",
      "The distribution is specified by [2, 21] and step=2, but the range is not divisible by `step`. It will be replaced by [2, 20].\n",
      "\n",
      "[I 2025-05-26 14:32:46,452] Trial 23 finished with value: 20.455675094660503 and parameters: {'n_estimators': 100, 'max_depth': 35, 'min_samples_split': 2, 'min_samples_leaf': 7, 'max_features': None}. Best is trial 11 with value: 19.55357104950641.\n",
      "C:\\Users\\ondra\\AppData\\Roaming\\Python\\Python313\\site-packages\\optuna\\distributions.py:699: UserWarning:\n",
      "\n",
      "The distribution is specified by [50, 301] and step=50, but the range is not divisible by `step`. It will be replaced by [50, 300].\n",
      "\n",
      "C:\\Users\\ondra\\AppData\\Roaming\\Python\\Python313\\site-packages\\optuna\\distributions.py:699: UserWarning:\n",
      "\n",
      "The distribution is specified by [10, 61] and step=5, but the range is not divisible by `step`. It will be replaced by [10, 60].\n",
      "\n",
      "C:\\Users\\ondra\\AppData\\Roaming\\Python\\Python313\\site-packages\\optuna\\distributions.py:699: UserWarning:\n",
      "\n",
      "The distribution is specified by [2, 21] and step=2, but the range is not divisible by `step`. It will be replaced by [2, 20].\n",
      "\n",
      "[I 2025-05-26 14:32:49,175] Trial 24 finished with value: 20.455675094660503 and parameters: {'n_estimators': 100, 'max_depth': 35, 'min_samples_split': 2, 'min_samples_leaf': 7, 'max_features': None}. Best is trial 11 with value: 19.55357104950641.\n",
      "C:\\Users\\ondra\\AppData\\Roaming\\Python\\Python313\\site-packages\\optuna\\distributions.py:699: UserWarning:\n",
      "\n",
      "The distribution is specified by [50, 301] and step=50, but the range is not divisible by `step`. It will be replaced by [50, 300].\n",
      "\n",
      "C:\\Users\\ondra\\AppData\\Roaming\\Python\\Python313\\site-packages\\optuna\\distributions.py:699: UserWarning:\n",
      "\n",
      "The distribution is specified by [10, 61] and step=5, but the range is not divisible by `step`. It will be replaced by [10, 60].\n",
      "\n",
      "C:\\Users\\ondra\\AppData\\Roaming\\Python\\Python313\\site-packages\\optuna\\distributions.py:699: UserWarning:\n",
      "\n",
      "The distribution is specified by [2, 21] and step=2, but the range is not divisible by `step`. It will be replaced by [2, 20].\n",
      "\n",
      "[I 2025-05-26 14:33:04,186] Trial 25 finished with value: 20.90715761473219 and parameters: {'n_estimators': 50, 'max_depth': 35, 'min_samples_split': 6, 'min_samples_leaf': 9, 'max_features': None}. Best is trial 11 with value: 19.55357104950641.\n",
      "C:\\Users\\ondra\\AppData\\Roaming\\Python\\Python313\\site-packages\\optuna\\distributions.py:699: UserWarning:\n",
      "\n",
      "The distribution is specified by [50, 301] and step=50, but the range is not divisible by `step`. It will be replaced by [50, 300].\n",
      "\n",
      "C:\\Users\\ondra\\AppData\\Roaming\\Python\\Python313\\site-packages\\optuna\\distributions.py:699: UserWarning:\n",
      "\n",
      "The distribution is specified by [10, 61] and step=5, but the range is not divisible by `step`. It will be replaced by [10, 60].\n",
      "\n",
      "C:\\Users\\ondra\\AppData\\Roaming\\Python\\Python313\\site-packages\\optuna\\distributions.py:699: UserWarning:\n",
      "\n",
      "The distribution is specified by [2, 21] and step=2, but the range is not divisible by `step`. It will be replaced by [2, 20].\n",
      "\n",
      "[I 2025-05-26 14:33:11,031] Trial 26 finished with value: 20.90715761473219 and parameters: {'n_estimators': 50, 'max_depth': 35, 'min_samples_split': 16, 'min_samples_leaf': 9, 'max_features': None}. Best is trial 11 with value: 19.55357104950641.\n",
      "C:\\Users\\ondra\\AppData\\Roaming\\Python\\Python313\\site-packages\\optuna\\distributions.py:699: UserWarning:\n",
      "\n",
      "The distribution is specified by [50, 301] and step=50, but the range is not divisible by `step`. It will be replaced by [50, 300].\n",
      "\n",
      "C:\\Users\\ondra\\AppData\\Roaming\\Python\\Python313\\site-packages\\optuna\\distributions.py:699: UserWarning:\n",
      "\n",
      "The distribution is specified by [10, 61] and step=5, but the range is not divisible by `step`. It will be replaced by [10, 60].\n",
      "\n",
      "C:\\Users\\ondra\\AppData\\Roaming\\Python\\Python313\\site-packages\\optuna\\distributions.py:699: UserWarning:\n",
      "\n",
      "The distribution is specified by [2, 21] and step=2, but the range is not divisible by `step`. It will be replaced by [2, 20].\n",
      "\n",
      "[I 2025-05-26 14:33:35,513] Trial 20 finished with value: 19.882363340803124 and parameters: {'n_estimators': 200, 'max_depth': 45, 'min_samples_split': 16, 'min_samples_leaf': 1, 'max_features': None}. Best is trial 11 with value: 19.55357104950641.\n",
      "C:\\Users\\ondra\\AppData\\Roaming\\Python\\Python313\\site-packages\\optuna\\distributions.py:699: UserWarning:\n",
      "\n",
      "The distribution is specified by [50, 301] and step=50, but the range is not divisible by `step`. It will be replaced by [50, 300].\n",
      "\n",
      "C:\\Users\\ondra\\AppData\\Roaming\\Python\\Python313\\site-packages\\optuna\\distributions.py:699: UserWarning:\n",
      "\n",
      "The distribution is specified by [10, 61] and step=5, but the range is not divisible by `step`. It will be replaced by [10, 60].\n",
      "\n",
      "C:\\Users\\ondra\\AppData\\Roaming\\Python\\Python313\\site-packages\\optuna\\distributions.py:699: UserWarning:\n",
      "\n",
      "The distribution is specified by [2, 21] and step=2, but the range is not divisible by `step`. It will be replaced by [2, 20].\n",
      "\n",
      "[I 2025-05-26 14:33:45,241] Trial 21 finished with value: 20.392202061449378 and parameters: {'n_estimators': 200, 'max_depth': 45, 'min_samples_split': 2, 'min_samples_leaf': 7, 'max_features': None}. Best is trial 11 with value: 19.55357104950641.\n",
      "C:\\Users\\ondra\\AppData\\Roaming\\Python\\Python313\\site-packages\\optuna\\distributions.py:699: UserWarning:\n",
      "\n",
      "The distribution is specified by [50, 301] and step=50, but the range is not divisible by `step`. It will be replaced by [50, 300].\n",
      "\n",
      "C:\\Users\\ondra\\AppData\\Roaming\\Python\\Python313\\site-packages\\optuna\\distributions.py:699: UserWarning:\n",
      "\n",
      "The distribution is specified by [10, 61] and step=5, but the range is not divisible by `step`. It will be replaced by [10, 60].\n",
      "\n",
      "C:\\Users\\ondra\\AppData\\Roaming\\Python\\Python313\\site-packages\\optuna\\distributions.py:699: UserWarning:\n",
      "\n",
      "The distribution is specified by [2, 21] and step=2, but the range is not divisible by `step`. It will be replaced by [2, 20].\n",
      "\n",
      "[I 2025-05-26 14:33:47,451] Trial 27 finished with value: 19.960400465934026 and parameters: {'n_estimators': 50, 'max_depth': 40, 'min_samples_split': 16, 'min_samples_leaf': 1, 'max_features': None}. Best is trial 11 with value: 19.55357104950641.\n",
      "C:\\Users\\ondra\\AppData\\Roaming\\Python\\Python313\\site-packages\\optuna\\distributions.py:699: UserWarning:\n",
      "\n",
      "The distribution is specified by [50, 301] and step=50, but the range is not divisible by `step`. It will be replaced by [50, 300].\n",
      "\n",
      "C:\\Users\\ondra\\AppData\\Roaming\\Python\\Python313\\site-packages\\optuna\\distributions.py:699: UserWarning:\n",
      "\n",
      "The distribution is specified by [10, 61] and step=5, but the range is not divisible by `step`. It will be replaced by [10, 60].\n",
      "\n",
      "C:\\Users\\ondra\\AppData\\Roaming\\Python\\Python313\\site-packages\\optuna\\distributions.py:699: UserWarning:\n",
      "\n",
      "The distribution is specified by [2, 21] and step=2, but the range is not divisible by `step`. It will be replaced by [2, 20].\n",
      "\n",
      "[I 2025-05-26 14:34:03,331] Trial 28 finished with value: 19.59342216941533 and parameters: {'n_estimators': 50, 'max_depth': 35, 'min_samples_split': 4, 'min_samples_leaf': 1, 'max_features': None}. Best is trial 11 with value: 19.55357104950641.\n",
      "C:\\Users\\ondra\\AppData\\Roaming\\Python\\Python313\\site-packages\\optuna\\distributions.py:699: UserWarning:\n",
      "\n",
      "The distribution is specified by [50, 301] and step=50, but the range is not divisible by `step`. It will be replaced by [50, 300].\n",
      "\n",
      "C:\\Users\\ondra\\AppData\\Roaming\\Python\\Python313\\site-packages\\optuna\\distributions.py:699: UserWarning:\n",
      "\n",
      "The distribution is specified by [10, 61] and step=5, but the range is not divisible by `step`. It will be replaced by [10, 60].\n",
      "\n",
      "C:\\Users\\ondra\\AppData\\Roaming\\Python\\Python313\\site-packages\\optuna\\distributions.py:699: UserWarning:\n",
      "\n",
      "The distribution is specified by [2, 21] and step=2, but the range is not divisible by `step`. It will be replaced by [2, 20].\n",
      "\n",
      "[I 2025-05-26 14:34:23,391] Trial 29 finished with value: 19.620844074564637 and parameters: {'n_estimators': 50, 'max_depth': 30, 'min_samples_split': 4, 'min_samples_leaf': 1, 'max_features': None}. Best is trial 11 with value: 19.55357104950641.\n",
      "C:\\Users\\ondra\\AppData\\Roaming\\Python\\Python313\\site-packages\\optuna\\distributions.py:699: UserWarning:\n",
      "\n",
      "The distribution is specified by [50, 301] and step=50, but the range is not divisible by `step`. It will be replaced by [50, 300].\n",
      "\n",
      "C:\\Users\\ondra\\AppData\\Roaming\\Python\\Python313\\site-packages\\optuna\\distributions.py:699: UserWarning:\n",
      "\n",
      "The distribution is specified by [10, 61] and step=5, but the range is not divisible by `step`. It will be replaced by [10, 60].\n",
      "\n",
      "C:\\Users\\ondra\\AppData\\Roaming\\Python\\Python313\\site-packages\\optuna\\distributions.py:699: UserWarning:\n",
      "\n",
      "The distribution is specified by [2, 21] and step=2, but the range is not divisible by `step`. It will be replaced by [2, 20].\n",
      "\n",
      "[I 2025-05-26 14:34:44,371] Trial 18 finished with value: 19.53576888419875 and parameters: {'n_estimators': 300, 'max_depth': 45, 'min_samples_split': 8, 'min_samples_leaf': 1, 'max_features': None}. Best is trial 18 with value: 19.53576888419875.\n",
      "C:\\Users\\ondra\\AppData\\Roaming\\Python\\Python313\\site-packages\\optuna\\distributions.py:699: UserWarning:\n",
      "\n",
      "The distribution is specified by [50, 301] and step=50, but the range is not divisible by `step`. It will be replaced by [50, 300].\n",
      "\n",
      "C:\\Users\\ondra\\AppData\\Roaming\\Python\\Python313\\site-packages\\optuna\\distributions.py:699: UserWarning:\n",
      "\n",
      "The distribution is specified by [10, 61] and step=5, but the range is not divisible by `step`. It will be replaced by [10, 60].\n",
      "\n",
      "C:\\Users\\ondra\\AppData\\Roaming\\Python\\Python313\\site-packages\\optuna\\distributions.py:699: UserWarning:\n",
      "\n",
      "The distribution is specified by [2, 21] and step=2, but the range is not divisible by `step`. It will be replaced by [2, 20].\n",
      "\n",
      "[I 2025-05-26 14:34:53,164] Trial 19 finished with value: 19.466951708236678 and parameters: {'n_estimators': 250, 'max_depth': 45, 'min_samples_split': 4, 'min_samples_leaf': 1, 'max_features': None}. Best is trial 19 with value: 19.466951708236678.\n",
      "C:\\Users\\ondra\\AppData\\Roaming\\Python\\Python313\\site-packages\\optuna\\distributions.py:699: UserWarning:\n",
      "\n",
      "The distribution is specified by [50, 301] and step=50, but the range is not divisible by `step`. It will be replaced by [50, 300].\n",
      "\n",
      "[I 2025-05-26 14:34:53,459] Trial 34 finished with value: 19.765717296354758 and parameters: {'n_estimators': 50, 'max_depth': 30, 'min_samples_split': 4, 'min_samples_leaf': 3, 'max_features': None}. Best is trial 19 with value: 19.466951708236678.\n",
      "C:\\Users\\ondra\\AppData\\Roaming\\Python\\Python313\\site-packages\\optuna\\distributions.py:699: UserWarning:\n",
      "\n",
      "The distribution is specified by [50, 301] and step=50, but the range is not divisible by `step`. It will be replaced by [50, 300].\n",
      "\n",
      "C:\\Users\\ondra\\AppData\\Roaming\\Python\\Python313\\site-packages\\optuna\\distributions.py:699: UserWarning:\n",
      "\n",
      "The distribution is specified by [10, 61] and step=5, but the range is not divisible by `step`. It will be replaced by [10, 60].\n",
      "\n",
      "C:\\Users\\ondra\\AppData\\Roaming\\Python\\Python313\\site-packages\\optuna\\distributions.py:699: UserWarning:\n",
      "\n",
      "The distribution is specified by [2, 21] and step=2, but the range is not divisible by `step`. It will be replaced by [2, 20].\n",
      "\n",
      "C:\\Users\\ondra\\AppData\\Roaming\\Python\\Python313\\site-packages\\optuna\\distributions.py:699: UserWarning:\n",
      "\n",
      "The distribution is specified by [2, 21] and step=2, but the range is not divisible by `step`. It will be replaced by [2, 20].\n",
      "\n",
      "[I 2025-05-26 14:35:03,531] Trial 30 finished with value: 19.538841893007962 and parameters: {'n_estimators': 100, 'max_depth': 45, 'min_samples_split': 4, 'min_samples_leaf': 1, 'max_features': None}. Best is trial 19 with value: 19.466951708236678.\n",
      "C:\\Users\\ondra\\AppData\\Roaming\\Python\\Python313\\site-packages\\optuna\\distributions.py:699: UserWarning:\n",
      "\n",
      "The distribution is specified by [50, 301] and step=50, but the range is not divisible by `step`. It will be replaced by [50, 300].\n",
      "\n",
      "C:\\Users\\ondra\\AppData\\Roaming\\Python\\Python313\\site-packages\\optuna\\distributions.py:699: UserWarning:\n",
      "\n",
      "The distribution is specified by [10, 61] and step=5, but the range is not divisible by `step`. It will be replaced by [10, 60].\n",
      "\n",
      "C:\\Users\\ondra\\AppData\\Roaming\\Python\\Python313\\site-packages\\optuna\\distributions.py:699: UserWarning:\n",
      "\n",
      "The distribution is specified by [2, 21] and step=2, but the range is not divisible by `step`. It will be replaced by [2, 20].\n",
      "\n",
      "[I 2025-05-26 14:35:54,269] Trial 35 finished with value: 19.74661299677048 and parameters: {'n_estimators': 100, 'max_depth': 25, 'min_samples_split': 4, 'min_samples_leaf': 3, 'max_features': None}. Best is trial 19 with value: 19.466951708236678.\n",
      "C:\\Users\\ondra\\AppData\\Roaming\\Python\\Python313\\site-packages\\optuna\\distributions.py:699: UserWarning:\n",
      "\n",
      "The distribution is specified by [50, 301] and step=50, but the range is not divisible by `step`. It will be replaced by [50, 300].\n",
      "\n",
      "C:\\Users\\ondra\\AppData\\Roaming\\Python\\Python313\\site-packages\\optuna\\distributions.py:699: UserWarning:\n",
      "\n",
      "The distribution is specified by [10, 61] and step=5, but the range is not divisible by `step`. It will be replaced by [10, 60].\n",
      "\n",
      "C:\\Users\\ondra\\AppData\\Roaming\\Python\\Python313\\site-packages\\optuna\\distributions.py:699: UserWarning:\n",
      "\n",
      "The distribution is specified by [2, 21] and step=2, but the range is not divisible by `step`. It will be replaced by [2, 20].\n",
      "\n",
      "[I 2025-05-26 14:36:26,883] Trial 36 finished with value: 22.50435788535029 and parameters: {'n_estimators': 250, 'max_depth': 40, 'min_samples_split': 8, 'min_samples_leaf': 3, 'max_features': 'sqrt'}. Best is trial 19 with value: 19.466951708236678.\n",
      "C:\\Users\\ondra\\AppData\\Roaming\\Python\\Python313\\site-packages\\optuna\\distributions.py:699: UserWarning:\n",
      "\n",
      "The distribution is specified by [50, 301] and step=50, but the range is not divisible by `step`. It will be replaced by [50, 300].\n",
      "\n",
      "C:\\Users\\ondra\\AppData\\Roaming\\Python\\Python313\\site-packages\\optuna\\distributions.py:699: UserWarning:\n",
      "\n",
      "The distribution is specified by [10, 61] and step=5, but the range is not divisible by `step`. It will be replaced by [10, 60].\n",
      "\n",
      "C:\\Users\\ondra\\AppData\\Roaming\\Python\\Python313\\site-packages\\optuna\\distributions.py:699: UserWarning:\n",
      "\n",
      "The distribution is specified by [2, 21] and step=2, but the range is not divisible by `step`. It will be replaced by [2, 20].\n",
      "\n",
      "[I 2025-05-26 14:36:29,497] Trial 31 finished with value: 19.789519267033345 and parameters: {'n_estimators': 200, 'max_depth': 45, 'min_samples_split': 14, 'min_samples_leaf': 1, 'max_features': None}. Best is trial 19 with value: 19.466951708236678.\n",
      "C:\\Users\\ondra\\AppData\\Roaming\\Python\\Python313\\site-packages\\optuna\\distributions.py:699: UserWarning:\n",
      "\n",
      "The distribution is specified by [50, 301] and step=50, but the range is not divisible by `step`. It will be replaced by [50, 300].\n",
      "\n",
      "C:\\Users\\ondra\\AppData\\Roaming\\Python\\Python313\\site-packages\\optuna\\distributions.py:699: UserWarning:\n",
      "\n",
      "The distribution is specified by [10, 61] and step=5, but the range is not divisible by `step`. It will be replaced by [10, 60].\n",
      "\n",
      "C:\\Users\\ondra\\AppData\\Roaming\\Python\\Python313\\site-packages\\optuna\\distributions.py:699: UserWarning:\n",
      "\n",
      "The distribution is specified by [2, 21] and step=2, but the range is not divisible by `step`. It will be replaced by [2, 20].\n",
      "\n",
      "[I 2025-05-26 14:36:41,493] Trial 37 finished with value: 22.39520998321266 and parameters: {'n_estimators': 250, 'max_depth': 40, 'min_samples_split': 4, 'min_samples_leaf': 3, 'max_features': 'sqrt'}. Best is trial 19 with value: 19.466951708236678.\n",
      "C:\\Users\\ondra\\AppData\\Roaming\\Python\\Python313\\site-packages\\optuna\\distributions.py:699: UserWarning:\n",
      "\n",
      "The distribution is specified by [50, 301] and step=50, but the range is not divisible by `step`. It will be replaced by [50, 300].\n",
      "\n",
      "C:\\Users\\ondra\\AppData\\Roaming\\Python\\Python313\\site-packages\\optuna\\distributions.py:699: UserWarning:\n",
      "\n",
      "The distribution is specified by [10, 61] and step=5, but the range is not divisible by `step`. It will be replaced by [10, 60].\n",
      "\n",
      "[I 2025-05-26 14:36:43,267] Trial 39 finished with value: 23.058083250063866 and parameters: {'n_estimators': 250, 'max_depth': 40, 'min_samples_split': 8, 'min_samples_leaf': 5, 'max_features': 'sqrt'}. Best is trial 19 with value: 19.466951708236678.\n",
      "C:\\Users\\ondra\\AppData\\Roaming\\Python\\Python313\\site-packages\\optuna\\distributions.py:699: UserWarning:\n",
      "\n",
      "The distribution is specified by [50, 301] and step=50, but the range is not divisible by `step`. It will be replaced by [50, 300].\n",
      "\n",
      "C:\\Users\\ondra\\AppData\\Roaming\\Python\\Python313\\site-packages\\optuna\\distributions.py:699: UserWarning:\n",
      "\n",
      "The distribution is specified by [2, 21] and step=2, but the range is not divisible by `step`. It will be replaced by [2, 20].\n",
      "\n",
      "C:\\Users\\ondra\\AppData\\Roaming\\Python\\Python313\\site-packages\\optuna\\distributions.py:699: UserWarning:\n",
      "\n",
      "The distribution is specified by [10, 61] and step=5, but the range is not divisible by `step`. It will be replaced by [10, 60].\n",
      "\n",
      "C:\\Users\\ondra\\AppData\\Roaming\\Python\\Python313\\site-packages\\optuna\\distributions.py:699: UserWarning:\n",
      "\n",
      "The distribution is specified by [2, 21] and step=2, but the range is not divisible by `step`. It will be replaced by [2, 20].\n",
      "\n",
      "[I 2025-05-26 14:36:58,665] Trial 33 finished with value: 19.923535467072085 and parameters: {'n_estimators': 250, 'max_depth': 60, 'min_samples_split': 14, 'min_samples_leaf': 3, 'max_features': None}. Best is trial 19 with value: 19.466951708236678.\n",
      "C:\\Users\\ondra\\AppData\\Roaming\\Python\\Python313\\site-packages\\optuna\\distributions.py:699: UserWarning:\n",
      "\n",
      "The distribution is specified by [50, 301] and step=50, but the range is not divisible by `step`. It will be replaced by [50, 300].\n",
      "\n",
      "C:\\Users\\ondra\\AppData\\Roaming\\Python\\Python313\\site-packages\\optuna\\distributions.py:699: UserWarning:\n",
      "\n",
      "The distribution is specified by [10, 61] and step=5, but the range is not divisible by `step`. It will be replaced by [10, 60].\n",
      "\n",
      "C:\\Users\\ondra\\AppData\\Roaming\\Python\\Python313\\site-packages\\optuna\\distributions.py:699: UserWarning:\n",
      "\n",
      "The distribution is specified by [2, 21] and step=2, but the range is not divisible by `step`. It will be replaced by [2, 20].\n",
      "\n",
      "[I 2025-05-26 14:37:14,255] Trial 32 finished with value: 19.796487248379478 and parameters: {'n_estimators': 250, 'max_depth': 50, 'min_samples_split': 14, 'min_samples_leaf': 1, 'max_features': None}. Best is trial 19 with value: 19.466951708236678.\n",
      "C:\\Users\\ondra\\AppData\\Roaming\\Python\\Python313\\site-packages\\optuna\\distributions.py:699: UserWarning:\n",
      "\n",
      "The distribution is specified by [50, 301] and step=50, but the range is not divisible by `step`. It will be replaced by [50, 300].\n",
      "\n",
      "C:\\Users\\ondra\\AppData\\Roaming\\Python\\Python313\\site-packages\\optuna\\distributions.py:699: UserWarning:\n",
      "\n",
      "The distribution is specified by [10, 61] and step=5, but the range is not divisible by `step`. It will be replaced by [10, 60].\n",
      "\n",
      "C:\\Users\\ondra\\AppData\\Roaming\\Python\\Python313\\site-packages\\optuna\\distributions.py:699: UserWarning:\n",
      "\n",
      "The distribution is specified by [2, 21] and step=2, but the range is not divisible by `step`. It will be replaced by [2, 20].\n",
      "\n",
      "[I 2025-05-26 14:37:32,820] Trial 40 finished with value: 23.058083250063866 and parameters: {'n_estimators': 250, 'max_depth': 40, 'min_samples_split': 8, 'min_samples_leaf': 5, 'max_features': 'sqrt'}. Best is trial 19 with value: 19.466951708236678.\n",
      "C:\\Users\\ondra\\AppData\\Roaming\\Python\\Python313\\site-packages\\optuna\\distributions.py:699: UserWarning:\n",
      "\n",
      "The distribution is specified by [50, 301] and step=50, but the range is not divisible by `step`. It will be replaced by [50, 300].\n",
      "\n",
      "C:\\Users\\ondra\\AppData\\Roaming\\Python\\Python313\\site-packages\\optuna\\distributions.py:699: UserWarning:\n",
      "\n",
      "The distribution is specified by [10, 61] and step=5, but the range is not divisible by `step`. It will be replaced by [10, 60].\n",
      "\n",
      "C:\\Users\\ondra\\AppData\\Roaming\\Python\\Python313\\site-packages\\optuna\\distributions.py:699: UserWarning:\n",
      "\n",
      "The distribution is specified by [2, 21] and step=2, but the range is not divisible by `step`. It will be replaced by [2, 20].\n",
      "\n",
      "[I 2025-05-26 14:38:26,478] Trial 42 finished with value: 23.058083250063866 and parameters: {'n_estimators': 250, 'max_depth': 50, 'min_samples_split': 10, 'min_samples_leaf': 5, 'max_features': 'sqrt'}. Best is trial 19 with value: 19.466951708236678.\n",
      "C:\\Users\\ondra\\AppData\\Roaming\\Python\\Python313\\site-packages\\optuna\\distributions.py:699: UserWarning:\n",
      "\n",
      "The distribution is specified by [50, 301] and step=50, but the range is not divisible by `step`. It will be replaced by [50, 300].\n",
      "\n",
      "C:\\Users\\ondra\\AppData\\Roaming\\Python\\Python313\\site-packages\\optuna\\distributions.py:699: UserWarning:\n",
      "\n",
      "The distribution is specified by [10, 61] and step=5, but the range is not divisible by `step`. It will be replaced by [10, 60].\n",
      "\n",
      "C:\\Users\\ondra\\AppData\\Roaming\\Python\\Python313\\site-packages\\optuna\\distributions.py:699: UserWarning:\n",
      "\n",
      "The distribution is specified by [2, 21] and step=2, but the range is not divisible by `step`. It will be replaced by [2, 20].\n",
      "\n",
      "[I 2025-05-26 14:38:54,254] Trial 38 finished with value: 19.70634690113775 and parameters: {'n_estimators': 250, 'max_depth': 40, 'min_samples_split': 8, 'min_samples_leaf': 3, 'max_features': None}. Best is trial 19 with value: 19.466951708236678.\n",
      "C:\\Users\\ondra\\AppData\\Roaming\\Python\\Python313\\site-packages\\optuna\\distributions.py:699: UserWarning:\n",
      "\n",
      "The distribution is specified by [50, 301] and step=50, but the range is not divisible by `step`. It will be replaced by [50, 300].\n",
      "\n",
      "C:\\Users\\ondra\\AppData\\Roaming\\Python\\Python313\\site-packages\\optuna\\distributions.py:699: UserWarning:\n",
      "\n",
      "The distribution is specified by [10, 61] and step=5, but the range is not divisible by `step`. It will be replaced by [10, 60].\n",
      "\n",
      "C:\\Users\\ondra\\AppData\\Roaming\\Python\\Python313\\site-packages\\optuna\\distributions.py:699: UserWarning:\n",
      "\n",
      "The distribution is specified by [2, 21] and step=2, but the range is not divisible by `step`. It will be replaced by [2, 20].\n",
      "\n",
      "[I 2025-05-26 14:39:26,507] Trial 43 finished with value: 20.056269730477386 and parameters: {'n_estimators': 150, 'max_depth': 50, 'min_samples_split': 10, 'min_samples_leaf': 5, 'max_features': None}. Best is trial 19 with value: 19.466951708236678.\n",
      "[I 2025-05-26 14:39:38,903] Trial 44 finished with value: 20.056269730477386 and parameters: {'n_estimators': 150, 'max_depth': 50, 'min_samples_split': 10, 'min_samples_leaf': 5, 'max_features': None}. Best is trial 19 with value: 19.466951708236678.\n",
      "[I 2025-05-26 14:39:47,566] Trial 45 finished with value: 20.056269730477386 and parameters: {'n_estimators': 150, 'max_depth': 50, 'min_samples_split': 10, 'min_samples_leaf': 5, 'max_features': None}. Best is trial 19 with value: 19.466951708236678.\n",
      "[I 2025-05-26 14:39:52,430] Trial 46 finished with value: 20.056269730477386 and parameters: {'n_estimators': 150, 'max_depth': 50, 'min_samples_split': 10, 'min_samples_leaf': 5, 'max_features': None}. Best is trial 19 with value: 19.466951708236678.\n",
      "[I 2025-05-26 14:40:02,999] Trial 47 finished with value: 20.056269730477386 and parameters: {'n_estimators': 150, 'max_depth': 50, 'min_samples_split': 10, 'min_samples_leaf': 5, 'max_features': None}. Best is trial 19 with value: 19.466951708236678.\n",
      "[I 2025-05-26 14:40:15,925] Trial 41 finished with value: 20.036051355018817 and parameters: {'n_estimators': 250, 'max_depth': 50, 'min_samples_split': 10, 'min_samples_leaf': 5, 'max_features': None}. Best is trial 19 with value: 19.466951708236678.\n",
      "[I 2025-05-26 14:40:31,255] Trial 48 finished with value: 19.506851353356534 and parameters: {'n_estimators': 150, 'max_depth': 50, 'min_samples_split': 6, 'min_samples_leaf': 1, 'max_features': None}. Best is trial 19 with value: 19.466951708236678.\n",
      "[I 2025-05-26 14:40:32,956] Trial 49 finished with value: 19.506851353356534 and parameters: {'n_estimators': 150, 'max_depth': 50, 'min_samples_split': 6, 'min_samples_leaf': 1, 'max_features': None}. Best is trial 19 with value: 19.466951708236678.\n"
     ]
    }
   ],
   "source": [
    "study2 = optuna.create_study(direction='minimize')\n",
    "study2.optimize(objective2,n_trials=50, n_jobs=-1)"
   ]
  },
  {
   "cell_type": "code",
   "execution_count": 56,
   "id": "7c3797f1",
   "metadata": {},
   "outputs": [
    {
     "name": "stdout",
     "output_type": "stream",
     "text": [
      "{'n_estimators': 250, 'max_depth': 45, 'min_samples_split': 4, 'min_samples_leaf': 1, 'max_features': None}\n",
      "19.466951708236678\n"
     ]
    }
   ],
   "source": [
    "print(study2.best_params)\n",
    "print(study2.best_value)"
   ]
  },
  {
   "cell_type": "markdown",
   "id": "7d35f3c2",
   "metadata": {},
   "source": [
    "# 7. Final Model\n"
   ]
  },
  {
   "cell_type": "code",
   "execution_count": 58,
   "id": "98d8a167",
   "metadata": {},
   "outputs": [],
   "source": [
    "X = pd.concat([X_train,X_val])\n",
    "y = pd.concat([y_train,y_val])"
   ]
  },
  {
   "cell_type": "code",
   "execution_count": 59,
   "id": "9b695685",
   "metadata": {},
   "outputs": [],
   "source": [
    "final_model = RandomForestRegressor(**study2.best_params, n_jobs = -1, random_state = 42)"
   ]
  },
  {
   "cell_type": "code",
   "execution_count": 60,
   "metadata": {},
   "outputs": [
    {
     "data": {
      "text/html": [
       "<style>#sk-container-id-3 {\n",
       "  /* Definition of color scheme common for light and dark mode */\n",
       "  --sklearn-color-text: #000;\n",
       "  --sklearn-color-text-muted: #666;\n",
       "  --sklearn-color-line: gray;\n",
       "  /* Definition of color scheme for unfitted estimators */\n",
       "  --sklearn-color-unfitted-level-0: #fff5e6;\n",
       "  --sklearn-color-unfitted-level-1: #f6e4d2;\n",
       "  --sklearn-color-unfitted-level-2: #ffe0b3;\n",
       "  --sklearn-color-unfitted-level-3: chocolate;\n",
       "  /* Definition of color scheme for fitted estimators */\n",
       "  --sklearn-color-fitted-level-0: #f0f8ff;\n",
       "  --sklearn-color-fitted-level-1: #d4ebff;\n",
       "  --sklearn-color-fitted-level-2: #b3dbfd;\n",
       "  --sklearn-color-fitted-level-3: cornflowerblue;\n",
       "\n",
       "  /* Specific color for light theme */\n",
       "  --sklearn-color-text-on-default-background: var(--sg-text-color, var(--theme-code-foreground, var(--jp-content-font-color1, black)));\n",
       "  --sklearn-color-background: var(--sg-background-color, var(--theme-background, var(--jp-layout-color0, white)));\n",
       "  --sklearn-color-border-box: var(--sg-text-color, var(--theme-code-foreground, var(--jp-content-font-color1, black)));\n",
       "  --sklearn-color-icon: #696969;\n",
       "\n",
       "  @media (prefers-color-scheme: dark) {\n",
       "    /* Redefinition of color scheme for dark theme */\n",
       "    --sklearn-color-text-on-default-background: var(--sg-text-color, var(--theme-code-foreground, var(--jp-content-font-color1, white)));\n",
       "    --sklearn-color-background: var(--sg-background-color, var(--theme-background, var(--jp-layout-color0, #111)));\n",
       "    --sklearn-color-border-box: var(--sg-text-color, var(--theme-code-foreground, var(--jp-content-font-color1, white)));\n",
       "    --sklearn-color-icon: #878787;\n",
       "  }\n",
       "}\n",
       "\n",
       "#sk-container-id-3 {\n",
       "  color: var(--sklearn-color-text);\n",
       "}\n",
       "\n",
       "#sk-container-id-3 pre {\n",
       "  padding: 0;\n",
       "}\n",
       "\n",
       "#sk-container-id-3 input.sk-hidden--visually {\n",
       "  border: 0;\n",
       "  clip: rect(1px 1px 1px 1px);\n",
       "  clip: rect(1px, 1px, 1px, 1px);\n",
       "  height: 1px;\n",
       "  margin: -1px;\n",
       "  overflow: hidden;\n",
       "  padding: 0;\n",
       "  position: absolute;\n",
       "  width: 1px;\n",
       "}\n",
       "\n",
       "#sk-container-id-3 div.sk-dashed-wrapped {\n",
       "  border: 1px dashed var(--sklearn-color-line);\n",
       "  margin: 0 0.4em 0.5em 0.4em;\n",
       "  box-sizing: border-box;\n",
       "  padding-bottom: 0.4em;\n",
       "  background-color: var(--sklearn-color-background);\n",
       "}\n",
       "\n",
       "#sk-container-id-3 div.sk-container {\n",
       "  /* jupyter's `normalize.less` sets `[hidden] { display: none; }`\n",
       "     but bootstrap.min.css set `[hidden] { display: none !important; }`\n",
       "     so we also need the `!important` here to be able to override the\n",
       "     default hidden behavior on the sphinx rendered scikit-learn.org.\n",
       "     See: https://github.com/scikit-learn/scikit-learn/issues/21755 */\n",
       "  display: inline-block !important;\n",
       "  position: relative;\n",
       "}\n",
       "\n",
       "#sk-container-id-3 div.sk-text-repr-fallback {\n",
       "  display: none;\n",
       "}\n",
       "\n",
       "div.sk-parallel-item,\n",
       "div.sk-serial,\n",
       "div.sk-item {\n",
       "  /* draw centered vertical line to link estimators */\n",
       "  background-image: linear-gradient(var(--sklearn-color-text-on-default-background), var(--sklearn-color-text-on-default-background));\n",
       "  background-size: 2px 100%;\n",
       "  background-repeat: no-repeat;\n",
       "  background-position: center center;\n",
       "}\n",
       "\n",
       "/* Parallel-specific style estimator block */\n",
       "\n",
       "#sk-container-id-3 div.sk-parallel-item::after {\n",
       "  content: \"\";\n",
       "  width: 100%;\n",
       "  border-bottom: 2px solid var(--sklearn-color-text-on-default-background);\n",
       "  flex-grow: 1;\n",
       "}\n",
       "\n",
       "#sk-container-id-3 div.sk-parallel {\n",
       "  display: flex;\n",
       "  align-items: stretch;\n",
       "  justify-content: center;\n",
       "  background-color: var(--sklearn-color-background);\n",
       "  position: relative;\n",
       "}\n",
       "\n",
       "#sk-container-id-3 div.sk-parallel-item {\n",
       "  display: flex;\n",
       "  flex-direction: column;\n",
       "}\n",
       "\n",
       "#sk-container-id-3 div.sk-parallel-item:first-child::after {\n",
       "  align-self: flex-end;\n",
       "  width: 50%;\n",
       "}\n",
       "\n",
       "#sk-container-id-3 div.sk-parallel-item:last-child::after {\n",
       "  align-self: flex-start;\n",
       "  width: 50%;\n",
       "}\n",
       "\n",
       "#sk-container-id-3 div.sk-parallel-item:only-child::after {\n",
       "  width: 0;\n",
       "}\n",
       "\n",
       "/* Serial-specific style estimator block */\n",
       "\n",
       "#sk-container-id-3 div.sk-serial {\n",
       "  display: flex;\n",
       "  flex-direction: column;\n",
       "  align-items: center;\n",
       "  background-color: var(--sklearn-color-background);\n",
       "  padding-right: 1em;\n",
       "  padding-left: 1em;\n",
       "}\n",
       "\n",
       "\n",
       "/* Toggleable style: style used for estimator/Pipeline/ColumnTransformer box that is\n",
       "clickable and can be expanded/collapsed.\n",
       "- Pipeline and ColumnTransformer use this feature and define the default style\n",
       "- Estimators will overwrite some part of the style using the `sk-estimator` class\n",
       "*/\n",
       "\n",
       "/* Pipeline and ColumnTransformer style (default) */\n",
       "\n",
       "#sk-container-id-3 div.sk-toggleable {\n",
       "  /* Default theme specific background. It is overwritten whether we have a\n",
       "  specific estimator or a Pipeline/ColumnTransformer */\n",
       "  background-color: var(--sklearn-color-background);\n",
       "}\n",
       "\n",
       "/* Toggleable label */\n",
       "#sk-container-id-3 label.sk-toggleable__label {\n",
       "  cursor: pointer;\n",
       "  display: flex;\n",
       "  width: 100%;\n",
       "  margin-bottom: 0;\n",
       "  padding: 0.5em;\n",
       "  box-sizing: border-box;\n",
       "  text-align: center;\n",
       "  align-items: start;\n",
       "  justify-content: space-between;\n",
       "  gap: 0.5em;\n",
       "}\n",
       "\n",
       "#sk-container-id-3 label.sk-toggleable__label .caption {\n",
       "  font-size: 0.6rem;\n",
       "  font-weight: lighter;\n",
       "  color: var(--sklearn-color-text-muted);\n",
       "}\n",
       "\n",
       "#sk-container-id-3 label.sk-toggleable__label-arrow:before {\n",
       "  /* Arrow on the left of the label */\n",
       "  content: \"▸\";\n",
       "  float: left;\n",
       "  margin-right: 0.25em;\n",
       "  color: var(--sklearn-color-icon);\n",
       "}\n",
       "\n",
       "#sk-container-id-3 label.sk-toggleable__label-arrow:hover:before {\n",
       "  color: var(--sklearn-color-text);\n",
       "}\n",
       "\n",
       "/* Toggleable content - dropdown */\n",
       "\n",
       "#sk-container-id-3 div.sk-toggleable__content {\n",
       "  max-height: 0;\n",
       "  max-width: 0;\n",
       "  overflow: hidden;\n",
       "  text-align: left;\n",
       "  /* unfitted */\n",
       "  background-color: var(--sklearn-color-unfitted-level-0);\n",
       "}\n",
       "\n",
       "#sk-container-id-3 div.sk-toggleable__content.fitted {\n",
       "  /* fitted */\n",
       "  background-color: var(--sklearn-color-fitted-level-0);\n",
       "}\n",
       "\n",
       "#sk-container-id-3 div.sk-toggleable__content pre {\n",
       "  margin: 0.2em;\n",
       "  border-radius: 0.25em;\n",
       "  color: var(--sklearn-color-text);\n",
       "  /* unfitted */\n",
       "  background-color: var(--sklearn-color-unfitted-level-0);\n",
       "}\n",
       "\n",
       "#sk-container-id-3 div.sk-toggleable__content.fitted pre {\n",
       "  /* unfitted */\n",
       "  background-color: var(--sklearn-color-fitted-level-0);\n",
       "}\n",
       "\n",
       "#sk-container-id-3 input.sk-toggleable__control:checked~div.sk-toggleable__content {\n",
       "  /* Expand drop-down */\n",
       "  max-height: 200px;\n",
       "  max-width: 100%;\n",
       "  overflow: auto;\n",
       "}\n",
       "\n",
       "#sk-container-id-3 input.sk-toggleable__control:checked~label.sk-toggleable__label-arrow:before {\n",
       "  content: \"▾\";\n",
       "}\n",
       "\n",
       "/* Pipeline/ColumnTransformer-specific style */\n",
       "\n",
       "#sk-container-id-3 div.sk-label input.sk-toggleable__control:checked~label.sk-toggleable__label {\n",
       "  color: var(--sklearn-color-text);\n",
       "  background-color: var(--sklearn-color-unfitted-level-2);\n",
       "}\n",
       "\n",
       "#sk-container-id-3 div.sk-label.fitted input.sk-toggleable__control:checked~label.sk-toggleable__label {\n",
       "  background-color: var(--sklearn-color-fitted-level-2);\n",
       "}\n",
       "\n",
       "/* Estimator-specific style */\n",
       "\n",
       "/* Colorize estimator box */\n",
       "#sk-container-id-3 div.sk-estimator input.sk-toggleable__control:checked~label.sk-toggleable__label {\n",
       "  /* unfitted */\n",
       "  background-color: var(--sklearn-color-unfitted-level-2);\n",
       "}\n",
       "\n",
       "#sk-container-id-3 div.sk-estimator.fitted input.sk-toggleable__control:checked~label.sk-toggleable__label {\n",
       "  /* fitted */\n",
       "  background-color: var(--sklearn-color-fitted-level-2);\n",
       "}\n",
       "\n",
       "#sk-container-id-3 div.sk-label label.sk-toggleable__label,\n",
       "#sk-container-id-3 div.sk-label label {\n",
       "  /* The background is the default theme color */\n",
       "  color: var(--sklearn-color-text-on-default-background);\n",
       "}\n",
       "\n",
       "/* On hover, darken the color of the background */\n",
       "#sk-container-id-3 div.sk-label:hover label.sk-toggleable__label {\n",
       "  color: var(--sklearn-color-text);\n",
       "  background-color: var(--sklearn-color-unfitted-level-2);\n",
       "}\n",
       "\n",
       "/* Label box, darken color on hover, fitted */\n",
       "#sk-container-id-3 div.sk-label.fitted:hover label.sk-toggleable__label.fitted {\n",
       "  color: var(--sklearn-color-text);\n",
       "  background-color: var(--sklearn-color-fitted-level-2);\n",
       "}\n",
       "\n",
       "/* Estimator label */\n",
       "\n",
       "#sk-container-id-3 div.sk-label label {\n",
       "  font-family: monospace;\n",
       "  font-weight: bold;\n",
       "  display: inline-block;\n",
       "  line-height: 1.2em;\n",
       "}\n",
       "\n",
       "#sk-container-id-3 div.sk-label-container {\n",
       "  text-align: center;\n",
       "}\n",
       "\n",
       "/* Estimator-specific */\n",
       "#sk-container-id-3 div.sk-estimator {\n",
       "  font-family: monospace;\n",
       "  border: 1px dotted var(--sklearn-color-border-box);\n",
       "  border-radius: 0.25em;\n",
       "  box-sizing: border-box;\n",
       "  margin-bottom: 0.5em;\n",
       "  /* unfitted */\n",
       "  background-color: var(--sklearn-color-unfitted-level-0);\n",
       "}\n",
       "\n",
       "#sk-container-id-3 div.sk-estimator.fitted {\n",
       "  /* fitted */\n",
       "  background-color: var(--sklearn-color-fitted-level-0);\n",
       "}\n",
       "\n",
       "/* on hover */\n",
       "#sk-container-id-3 div.sk-estimator:hover {\n",
       "  /* unfitted */\n",
       "  background-color: var(--sklearn-color-unfitted-level-2);\n",
       "}\n",
       "\n",
       "#sk-container-id-3 div.sk-estimator.fitted:hover {\n",
       "  /* fitted */\n",
       "  background-color: var(--sklearn-color-fitted-level-2);\n",
       "}\n",
       "\n",
       "/* Specification for estimator info (e.g. \"i\" and \"?\") */\n",
       "\n",
       "/* Common style for \"i\" and \"?\" */\n",
       "\n",
       ".sk-estimator-doc-link,\n",
       "a:link.sk-estimator-doc-link,\n",
       "a:visited.sk-estimator-doc-link {\n",
       "  float: right;\n",
       "  font-size: smaller;\n",
       "  line-height: 1em;\n",
       "  font-family: monospace;\n",
       "  background-color: var(--sklearn-color-background);\n",
       "  border-radius: 1em;\n",
       "  height: 1em;\n",
       "  width: 1em;\n",
       "  text-decoration: none !important;\n",
       "  margin-left: 0.5em;\n",
       "  text-align: center;\n",
       "  /* unfitted */\n",
       "  border: var(--sklearn-color-unfitted-level-1) 1pt solid;\n",
       "  color: var(--sklearn-color-unfitted-level-1);\n",
       "}\n",
       "\n",
       ".sk-estimator-doc-link.fitted,\n",
       "a:link.sk-estimator-doc-link.fitted,\n",
       "a:visited.sk-estimator-doc-link.fitted {\n",
       "  /* fitted */\n",
       "  border: var(--sklearn-color-fitted-level-1) 1pt solid;\n",
       "  color: var(--sklearn-color-fitted-level-1);\n",
       "}\n",
       "\n",
       "/* On hover */\n",
       "div.sk-estimator:hover .sk-estimator-doc-link:hover,\n",
       ".sk-estimator-doc-link:hover,\n",
       "div.sk-label-container:hover .sk-estimator-doc-link:hover,\n",
       ".sk-estimator-doc-link:hover {\n",
       "  /* unfitted */\n",
       "  background-color: var(--sklearn-color-unfitted-level-3);\n",
       "  color: var(--sklearn-color-background);\n",
       "  text-decoration: none;\n",
       "}\n",
       "\n",
       "div.sk-estimator.fitted:hover .sk-estimator-doc-link.fitted:hover,\n",
       ".sk-estimator-doc-link.fitted:hover,\n",
       "div.sk-label-container:hover .sk-estimator-doc-link.fitted:hover,\n",
       ".sk-estimator-doc-link.fitted:hover {\n",
       "  /* fitted */\n",
       "  background-color: var(--sklearn-color-fitted-level-3);\n",
       "  color: var(--sklearn-color-background);\n",
       "  text-decoration: none;\n",
       "}\n",
       "\n",
       "/* Span, style for the box shown on hovering the info icon */\n",
       ".sk-estimator-doc-link span {\n",
       "  display: none;\n",
       "  z-index: 9999;\n",
       "  position: relative;\n",
       "  font-weight: normal;\n",
       "  right: .2ex;\n",
       "  padding: .5ex;\n",
       "  margin: .5ex;\n",
       "  width: min-content;\n",
       "  min-width: 20ex;\n",
       "  max-width: 50ex;\n",
       "  color: var(--sklearn-color-text);\n",
       "  box-shadow: 2pt 2pt 4pt #999;\n",
       "  /* unfitted */\n",
       "  background: var(--sklearn-color-unfitted-level-0);\n",
       "  border: .5pt solid var(--sklearn-color-unfitted-level-3);\n",
       "}\n",
       "\n",
       ".sk-estimator-doc-link.fitted span {\n",
       "  /* fitted */\n",
       "  background: var(--sklearn-color-fitted-level-0);\n",
       "  border: var(--sklearn-color-fitted-level-3);\n",
       "}\n",
       "\n",
       ".sk-estimator-doc-link:hover span {\n",
       "  display: block;\n",
       "}\n",
       "\n",
       "/* \"?\"-specific style due to the `<a>` HTML tag */\n",
       "\n",
       "#sk-container-id-3 a.estimator_doc_link {\n",
       "  float: right;\n",
       "  font-size: 1rem;\n",
       "  line-height: 1em;\n",
       "  font-family: monospace;\n",
       "  background-color: var(--sklearn-color-background);\n",
       "  border-radius: 1rem;\n",
       "  height: 1rem;\n",
       "  width: 1rem;\n",
       "  text-decoration: none;\n",
       "  /* unfitted */\n",
       "  color: var(--sklearn-color-unfitted-level-1);\n",
       "  border: var(--sklearn-color-unfitted-level-1) 1pt solid;\n",
       "}\n",
       "\n",
       "#sk-container-id-3 a.estimator_doc_link.fitted {\n",
       "  /* fitted */\n",
       "  border: var(--sklearn-color-fitted-level-1) 1pt solid;\n",
       "  color: var(--sklearn-color-fitted-level-1);\n",
       "}\n",
       "\n",
       "/* On hover */\n",
       "#sk-container-id-3 a.estimator_doc_link:hover {\n",
       "  /* unfitted */\n",
       "  background-color: var(--sklearn-color-unfitted-level-3);\n",
       "  color: var(--sklearn-color-background);\n",
       "  text-decoration: none;\n",
       "}\n",
       "\n",
       "#sk-container-id-3 a.estimator_doc_link.fitted:hover {\n",
       "  /* fitted */\n",
       "  background-color: var(--sklearn-color-fitted-level-3);\n",
       "}\n",
       "</style><div id=\"sk-container-id-3\" class=\"sk-top-container\"><div class=\"sk-text-repr-fallback\"><pre>RandomForestRegressor(max_depth=45, max_features=None, min_samples_split=4,\n",
       "                      n_estimators=250, n_jobs=-1, random_state=42)</pre><b>In a Jupyter environment, please rerun this cell to show the HTML representation or trust the notebook. <br />On GitHub, the HTML representation is unable to render, please try loading this page with nbviewer.org.</b></div><div class=\"sk-container\" hidden><div class=\"sk-item\"><div class=\"sk-estimator fitted sk-toggleable\"><input class=\"sk-toggleable__control sk-hidden--visually\" id=\"sk-estimator-id-3\" type=\"checkbox\" checked><label for=\"sk-estimator-id-3\" class=\"sk-toggleable__label fitted sk-toggleable__label-arrow\"><div><div>RandomForestRegressor</div></div><div><a class=\"sk-estimator-doc-link fitted\" rel=\"noreferrer\" target=\"_blank\" href=\"https://scikit-learn.org/1.6/modules/generated/sklearn.ensemble.RandomForestRegressor.html\">?<span>Documentation for RandomForestRegressor</span></a><span class=\"sk-estimator-doc-link fitted\">i<span>Fitted</span></span></div></label><div class=\"sk-toggleable__content fitted\"><pre>RandomForestRegressor(max_depth=45, max_features=None, min_samples_split=4,\n",
       "                      n_estimators=250, n_jobs=-1, random_state=42)</pre></div> </div></div></div></div>"
      ],
      "text/plain": [
       "RandomForestRegressor(max_depth=45, max_features=None, min_samples_split=4,\n",
       "                      n_estimators=250, n_jobs=-1, random_state=42)"
      ]
     },
     "execution_count": 60,
     "metadata": {},
     "output_type": "execute_result"
    }
   ],
   "source": [
    "final_model.fit(X,y)"
   ]
  },
  {
   "cell_type": "code",
   "execution_count": 62,
   "id": "d3b744ae",
   "metadata": {},
   "outputs": [],
   "source": [
    "y_final_preds = final_model.predict(X_test)"
   ]
  },
  {
   "cell_type": "code",
   "execution_count": 63,
   "id": "98a9035a",
   "metadata": {},
   "outputs": [
    {
     "name": "stdout",
     "output_type": "stream",
     "text": [
      "Final RMSE:  18.645300\n"
     ]
    }
   ],
   "source": [
    "rmse = root_mean_squared_error(y_test, y_final_preds)\n",
    "print(f'Final RMSE: {rmse: 2f}')"
   ]
  },
  {
   "cell_type": "code",
   "execution_count": 65,
   "id": "d0b7603d",
   "metadata": {},
   "outputs": [
    {
     "data": {
      "text/plain": [
       "[<matplotlib.lines.Line2D at 0x250da206d50>]"
      ]
     },
     "execution_count": 65,
     "metadata": {},
     "output_type": "execute_result"
    },
    {
     "data": {
      "image/png": "[encoded data removed]",
      "text/plain": [
       "<Figure size 640x480 with 1 Axes>"
      ]
     },
     "metadata": {},
     "output_type": "display_data"
    }
   ],
   "source": [
    "plt.scatter(y_final_preds, y_test)\n",
    "plt.plot(np.linspace(y_final_preds.min(), y_final_preds.max()),np.linspace(y_test.min(), y_test.max()), color='red', linestyle='--')"
   ]
  },
  {
   "cell_type": "code",
   "execution_count": 66,
   "id": "170f4bc5",
   "metadata": {},
   "outputs": [],
   "source": [
    "importances = final_model.feature_importances_\n",
    "df_importances = pd.DataFrame(\n",
    "    {'Feature': X_test.columns,\n",
    "     'Importances': importances}\n",
    ")\n",
    "df_importances = df_importances.sort_values( by = 'Importances', ascending= False)"
   ]
  },
  {
   "cell_type": "code",
   "execution_count": 67,
   "id": "9ea41373",
   "metadata": {},
   "outputs": [
    {
     "data": {
      "image/png": "[encoded data removed]",
      "text/plain": [
       "<Figure size 1000x600 with 1 Axes>"
      ]
     },
     "metadata": {},
     "output_type": "display_data"
    }
   ],
   "source": [
    "plt.figure(figsize=(10,6))\n",
    "plt.bar(df_importances['Feature'], df_importances['Importances'])\n",
    "plt.xticks(rotation=90)\n",
    "plt.title('Feature Importances')\n",
    "plt.bar_label(plt.gca().containers[0], fmt='%.2f')\n",
    "plt.show()"
   ]
  },
  {
   "cell_type": "code",
   "execution_count": null,
   "id": "816d2788",
   "metadata": {},
   "outputs": [],
   "source": []
  }
 ],
 "metadata": {
  "kernelspec": {
   "display_name": "Python 3",
   "language": "python",
   "name": "python3"
  },
  "language_info": {
   "codemirror_mode": {
    "name": "ipython",
    "version": 3
   },
   "file_extension": ".py",
   "mimetype": "text/x-python",
   "name": "python",
   "nbconvert_exporter": "python",
   "pygments_lexer": "ipython3",
   "version": "3.13.2"
  }
 },
 "nbformat": 4,
 "nbformat_minor": 5
}
